{
 "cells": [
  {
   "cell_type": "markdown",
   "id": "ad4c4d59",
   "metadata": {},
   "source": [
    "### Análise exploratória de dados\n",
    "\n",
    "Nesse notebook geramos as estatísticas descritivas antes da modelagem."
   ]
  },
  {
   "cell_type": "code",
   "execution_count": 1,
   "id": "396df7b5",
   "metadata": {},
   "outputs": [],
   "source": [
    "from utils.load_csv import load_csv\n",
    "from utils.save_graph import save_graph\n",
    "import pandas as pd\n",
    "import matplotlib.pyplot as plt\n",
    "import seaborn as sns\n",
    "\n",
    "sns.set_theme()"
   ]
  },
  {
   "cell_type": "code",
   "execution_count": 2,
   "id": "1a0efe97",
   "metadata": {},
   "outputs": [],
   "source": [
    "df = load_csv('dados_limpos.csv')"
   ]
  },
  {
   "cell_type": "code",
   "execution_count": 3,
   "id": "f36ff481",
   "metadata": {},
   "outputs": [
    {
     "data": {
      "text/html": [
       "<div>\n",
       "<style scoped>\n",
       "    .dataframe tbody tr th:only-of-type {\n",
       "        vertical-align: middle;\n",
       "    }\n",
       "\n",
       "    .dataframe tbody tr th {\n",
       "        vertical-align: top;\n",
       "    }\n",
       "\n",
       "    .dataframe thead th {\n",
       "        text-align: right;\n",
       "    }\n",
       "</style>\n",
       "<table border=\"1\" class=\"dataframe\">\n",
       "  <thead>\n",
       "    <tr style=\"text-align: right;\">\n",
       "      <th></th>\n",
       "      <th>ano_censo</th>\n",
       "      <th>sigla_uf</th>\n",
       "      <th>nome_municipio</th>\n",
       "      <th>codigo_municipio</th>\n",
       "      <th>codigo_escola</th>\n",
       "      <th>nome_escola</th>\n",
       "      <th>qtd_turmas_ed_basica</th>\n",
       "      <th>qtd_matr_ed_basica</th>\n",
       "      <th>qtd_matr_medio</th>\n",
       "      <th>qtd_matr_fundamental</th>\n",
       "      <th>...</th>\n",
       "      <th>primeiro_ano_integral_medio</th>\n",
       "      <th>ultimo_ano_integral_medio</th>\n",
       "      <th>anos_integral_medio</th>\n",
       "      <th>ofertou_integral_de_forma_continua</th>\n",
       "      <th>prop_matriculas_medio_integral</th>\n",
       "      <th>cem_por_cento_medio_integral</th>\n",
       "      <th>ofertou_integral_ate_2018</th>\n",
       "      <th>tratamento</th>\n",
       "      <th>qtd_anos_ofertou_integral_medio</th>\n",
       "      <th>qtd_anos_continuos_ofertou_integral_medio</th>\n",
       "    </tr>\n",
       "  </thead>\n",
       "  <tbody>\n",
       "    <tr>\n",
       "      <th>0</th>\n",
       "      <td>2011</td>\n",
       "      <td>SP</td>\n",
       "      <td>adamantina</td>\n",
       "      <td>3500105</td>\n",
       "      <td>35030806</td>\n",
       "      <td>helen keller</td>\n",
       "      <td>25</td>\n",
       "      <td>830</td>\n",
       "      <td>447</td>\n",
       "      <td>303</td>\n",
       "      <td>...</td>\n",
       "      <td>NaN</td>\n",
       "      <td>NaN</td>\n",
       "      <td>NaN</td>\n",
       "      <td>False</td>\n",
       "      <td>0.0</td>\n",
       "      <td>False</td>\n",
       "      <td>False</td>\n",
       "      <td>False</td>\n",
       "      <td>0</td>\n",
       "      <td>0</td>\n",
       "    </tr>\n",
       "    <tr>\n",
       "      <th>1</th>\n",
       "      <td>2011</td>\n",
       "      <td>SP</td>\n",
       "      <td>adamantina</td>\n",
       "      <td>3500105</td>\n",
       "      <td>35031045</td>\n",
       "      <td>durvalino grion prof</td>\n",
       "      <td>22</td>\n",
       "      <td>771</td>\n",
       "      <td>275</td>\n",
       "      <td>496</td>\n",
       "      <td>...</td>\n",
       "      <td>NaN</td>\n",
       "      <td>NaN</td>\n",
       "      <td>NaN</td>\n",
       "      <td>False</td>\n",
       "      <td>0.0</td>\n",
       "      <td>False</td>\n",
       "      <td>False</td>\n",
       "      <td>False</td>\n",
       "      <td>0</td>\n",
       "      <td>0</td>\n",
       "    </tr>\n",
       "    <tr>\n",
       "      <th>2</th>\n",
       "      <td>2011</td>\n",
       "      <td>SP</td>\n",
       "      <td>adolfo</td>\n",
       "      <td>3500204</td>\n",
       "      <td>35027352</td>\n",
       "      <td>odila bovolenta de mendonca profa</td>\n",
       "      <td>6</td>\n",
       "      <td>156</td>\n",
       "      <td>156</td>\n",
       "      <td>0</td>\n",
       "      <td>...</td>\n",
       "      <td>NaN</td>\n",
       "      <td>NaN</td>\n",
       "      <td>NaN</td>\n",
       "      <td>False</td>\n",
       "      <td>0.0</td>\n",
       "      <td>False</td>\n",
       "      <td>False</td>\n",
       "      <td>False</td>\n",
       "      <td>0</td>\n",
       "      <td>0</td>\n",
       "    </tr>\n",
       "    <tr>\n",
       "      <th>3</th>\n",
       "      <td>2011</td>\n",
       "      <td>SP</td>\n",
       "      <td>aguai</td>\n",
       "      <td>3500303</td>\n",
       "      <td>35020527</td>\n",
       "      <td>geraldo lourenco padre</td>\n",
       "      <td>33</td>\n",
       "      <td>1106</td>\n",
       "      <td>508</td>\n",
       "      <td>598</td>\n",
       "      <td>...</td>\n",
       "      <td>2016.0</td>\n",
       "      <td>2017.0</td>\n",
       "      <td>2016,2017</td>\n",
       "      <td>True</td>\n",
       "      <td>0.0</td>\n",
       "      <td>False</td>\n",
       "      <td>True</td>\n",
       "      <td>False</td>\n",
       "      <td>2</td>\n",
       "      <td>2</td>\n",
       "    </tr>\n",
       "    <tr>\n",
       "      <th>4</th>\n",
       "      <td>2011</td>\n",
       "      <td>SP</td>\n",
       "      <td>aguai</td>\n",
       "      <td>3500303</td>\n",
       "      <td>35020722</td>\n",
       "      <td>egle luporini costa profa</td>\n",
       "      <td>18</td>\n",
       "      <td>641</td>\n",
       "      <td>365</td>\n",
       "      <td>276</td>\n",
       "      <td>...</td>\n",
       "      <td>NaN</td>\n",
       "      <td>NaN</td>\n",
       "      <td>NaN</td>\n",
       "      <td>False</td>\n",
       "      <td>0.0</td>\n",
       "      <td>False</td>\n",
       "      <td>False</td>\n",
       "      <td>False</td>\n",
       "      <td>0</td>\n",
       "      <td>0</td>\n",
       "    </tr>\n",
       "  </tbody>\n",
       "</table>\n",
       "<p>5 rows × 38 columns</p>\n",
       "</div>"
      ],
      "text/plain": [
       "   ano_censo sigla_uf nome_municipio  codigo_municipio  codigo_escola  \\\n",
       "0       2011       SP     adamantina           3500105       35030806   \n",
       "1       2011       SP     adamantina           3500105       35031045   \n",
       "2       2011       SP         adolfo           3500204       35027352   \n",
       "3       2011       SP          aguai           3500303       35020527   \n",
       "4       2011       SP          aguai           3500303       35020722   \n",
       "\n",
       "                         nome_escola  qtd_turmas_ed_basica  \\\n",
       "0                       helen keller                    25   \n",
       "1               durvalino grion prof                    22   \n",
       "2  odila bovolenta de mendonca profa                     6   \n",
       "3             geraldo lourenco padre                    33   \n",
       "4          egle luporini costa profa                    18   \n",
       "\n",
       "   qtd_matr_ed_basica  qtd_matr_medio  qtd_matr_fundamental  ...  \\\n",
       "0                 830             447                   303  ...   \n",
       "1                 771             275                   496  ...   \n",
       "2                 156             156                     0  ...   \n",
       "3                1106             508                   598  ...   \n",
       "4                 641             365                   276  ...   \n",
       "\n",
       "   primeiro_ano_integral_medio  ultimo_ano_integral_medio  \\\n",
       "0                          NaN                        NaN   \n",
       "1                          NaN                        NaN   \n",
       "2                          NaN                        NaN   \n",
       "3                       2016.0                     2017.0   \n",
       "4                          NaN                        NaN   \n",
       "\n",
       "   anos_integral_medio  ofertou_integral_de_forma_continua  \\\n",
       "0                  NaN                               False   \n",
       "1                  NaN                               False   \n",
       "2                  NaN                               False   \n",
       "3            2016,2017                                True   \n",
       "4                  NaN                               False   \n",
       "\n",
       "   prop_matriculas_medio_integral  cem_por_cento_medio_integral  \\\n",
       "0                             0.0                         False   \n",
       "1                             0.0                         False   \n",
       "2                             0.0                         False   \n",
       "3                             0.0                         False   \n",
       "4                             0.0                         False   \n",
       "\n",
       "   ofertou_integral_ate_2018  tratamento  qtd_anos_ofertou_integral_medio  \\\n",
       "0                      False       False                                0   \n",
       "1                      False       False                                0   \n",
       "2                      False       False                                0   \n",
       "3                       True       False                                2   \n",
       "4                      False       False                                0   \n",
       "\n",
       "   qtd_anos_continuos_ofertou_integral_medio  \n",
       "0                                          0  \n",
       "1                                          0  \n",
       "2                                          0  \n",
       "3                                          2  \n",
       "4                                          0  \n",
       "\n",
       "[5 rows x 38 columns]"
      ]
     },
     "execution_count": 3,
     "metadata": {},
     "output_type": "execute_result"
    }
   ],
   "source": [
    "df.head()"
   ]
  },
  {
   "cell_type": "markdown",
   "id": "152df24d",
   "metadata": {},
   "source": [
    "Agrupando se é PEI (tratamento), apenas integral ou se não possui integral"
   ]
  },
  {
   "cell_type": "code",
   "execution_count": 4,
   "id": "65e8db9a",
   "metadata": {},
   "outputs": [],
   "source": [
    "df['integral_geral_nao_tratamento'] = df['possui_integral'] & ~df['tratamento']"
   ]
  },
  {
   "cell_type": "code",
   "execution_count": 5,
   "id": "fb9f0825",
   "metadata": {},
   "outputs": [],
   "source": [
    "df['integral_medio_nao_tratamento'] = df['possui_integral_medio'] & ~df['tratamento']"
   ]
  },
  {
   "cell_type": "code",
   "execution_count": 6,
   "id": "35ec2bbe",
   "metadata": {},
   "outputs": [],
   "source": [
    "def definir_grupo(row):\n",
    "\n",
    "    if row['tratamento']:\n",
    "        return 'PEI'\n",
    "    elif row['integral_geral_nao_tratamento']:\n",
    "        return 'Integral mas não PEI'\n",
    "    \n",
    "    return 'Sem integral'"
   ]
  },
  {
   "cell_type": "code",
   "execution_count": 7,
   "id": "ced85614",
   "metadata": {},
   "outputs": [],
   "source": [
    "df['grupo'] = df.apply(\n",
    "    definir_grupo, axis =1 \n",
    ")"
   ]
  },
  {
   "cell_type": "code",
   "execution_count": 8,
   "id": "c283724d",
   "metadata": {},
   "outputs": [
    {
     "data": {
      "text/plain": [
       "Index(['ano_censo', 'sigla_uf', 'nome_municipio', 'codigo_municipio',\n",
       "       'codigo_escola', 'nome_escola', 'qtd_turmas_ed_basica',\n",
       "       'qtd_matr_ed_basica', 'qtd_matr_medio', 'qtd_matr_fundamental',\n",
       "       'qtd_matr_ed_basica_nao_declarada', 'qtd_matr_ed_basica_branca',\n",
       "       'qtd_matr_ed_basica_preta', 'qtd_matr_ed_basica_parda',\n",
       "       'qtd_matr_ed_basica_amarela', 'qtd_matr_ed_basica_indigena',\n",
       "       'qtd_matriculas_fundamental_integral',\n",
       "       'qtd_matriculas_fundamental_anos_iniciais_integral',\n",
       "       'qtd_matriculas_fundamental_anos_finais_integral',\n",
       "       'qtd_matriculas_medio_integral', 'coordenadas', 'is_PEI', '_merge',\n",
       "       'total_matriculas_basica_integral', 'possui_integral',\n",
       "       'total_matriculas_fundamental_integral', 'possui_integral_medio',\n",
       "       'is_PEI_and_possui_medio_integral', 'primeiro_ano_integral_medio',\n",
       "       'ultimo_ano_integral_medio', 'anos_integral_medio',\n",
       "       'ofertou_integral_de_forma_continua', 'prop_matriculas_medio_integral',\n",
       "       'cem_por_cento_medio_integral', 'ofertou_integral_ate_2018',\n",
       "       'tratamento', 'qtd_anos_ofertou_integral_medio',\n",
       "       'qtd_anos_continuos_ofertou_integral_medio',\n",
       "       'integral_geral_nao_tratamento', 'integral_medio_nao_tratamento',\n",
       "       'grupo'],\n",
       "      dtype='object')"
      ]
     },
     "execution_count": 8,
     "metadata": {},
     "output_type": "execute_result"
    }
   ],
   "source": [
    "df.columns"
   ]
  },
  {
   "cell_type": "code",
   "execution_count": 9,
   "id": "57bf258d",
   "metadata": {},
   "outputs": [],
   "source": [
    "df['qtd_matriculas_ppi_basica'] = df[['qtd_matr_ed_basica_preta', 'qtd_matr_ed_basica_parda','qtd_matr_ed_basica_indigena']].sum(axis=1)"
   ]
  },
  {
   "cell_type": "code",
   "execution_count": 10,
   "id": "39cd26d0",
   "metadata": {},
   "outputs": [],
   "source": [
    "df['proporcao_matriculas_ppi_basica'] = df['qtd_matriculas_ppi_basica'] / df['qtd_matr_ed_basica']"
   ]
  },
  {
   "cell_type": "code",
   "execution_count": 11,
   "id": "6b8dcc43",
   "metadata": {},
   "outputs": [
    {
     "data": {
      "text/plain": [
       "np.float64(0.0)"
      ]
     },
     "execution_count": 11,
     "metadata": {},
     "output_type": "execute_result"
    }
   ],
   "source": [
    "df['proporcao_matriculas_ppi_basica'].min()"
   ]
  },
  {
   "cell_type": "code",
   "execution_count": 12,
   "id": "b4cea774",
   "metadata": {},
   "outputs": [
    {
     "data": {
      "text/plain": [
       "np.int64(3)"
      ]
     },
     "execution_count": 12,
     "metadata": {},
     "output_type": "execute_result"
    }
   ],
   "source": [
    "(df['proporcao_matriculas_ppi_basica']==0).sum()"
   ]
  },
  {
   "cell_type": "code",
   "execution_count": 13,
   "id": "989c9a4c",
   "metadata": {},
   "outputs": [
    {
     "data": {
      "text/plain": [
       "np.float64(1.0)"
      ]
     },
     "execution_count": 13,
     "metadata": {},
     "output_type": "execute_result"
    }
   ],
   "source": [
    "df['proporcao_matriculas_ppi_basica'].max()"
   ]
  },
  {
   "cell_type": "code",
   "execution_count": 14,
   "id": "faf7a1e2",
   "metadata": {},
   "outputs": [
    {
     "data": {
      "text/plain": [
       "grupo\n",
       "Integral mas não PEI     6882\n",
       "PEI                       772\n",
       "Sem integral            21903\n",
       "dtype: int64"
      ]
     },
     "execution_count": 14,
     "metadata": {},
     "output_type": "execute_result"
    }
   ],
   "source": [
    "df.groupby('grupo').size()"
   ]
  },
  {
   "cell_type": "code",
   "execution_count": 15,
   "id": "afd75639",
   "metadata": {},
   "outputs": [],
   "source": [
    "prop_ppi_por_grupo_ano = df.groupby(['grupo', 'ano_censo'])[['proporcao_matriculas_ppi_basica']].mean().reset_index()"
   ]
  },
  {
   "cell_type": "code",
   "execution_count": 16,
   "id": "20df9d39",
   "metadata": {},
   "outputs": [
    {
     "data": {
      "text/html": [
       "<div>\n",
       "<style scoped>\n",
       "    .dataframe tbody tr th:only-of-type {\n",
       "        vertical-align: middle;\n",
       "    }\n",
       "\n",
       "    .dataframe tbody tr th {\n",
       "        vertical-align: top;\n",
       "    }\n",
       "\n",
       "    .dataframe thead th {\n",
       "        text-align: right;\n",
       "    }\n",
       "</style>\n",
       "<table border=\"1\" class=\"dataframe\">\n",
       "  <thead>\n",
       "    <tr style=\"text-align: right;\">\n",
       "      <th></th>\n",
       "      <th>grupo</th>\n",
       "      <th>ano_censo</th>\n",
       "      <th>proporcao_matriculas_ppi_basica</th>\n",
       "    </tr>\n",
       "  </thead>\n",
       "  <tbody>\n",
       "    <tr>\n",
       "      <th>0</th>\n",
       "      <td>Integral mas não PEI</td>\n",
       "      <td>2011</td>\n",
       "      <td>0.264636</td>\n",
       "    </tr>\n",
       "    <tr>\n",
       "      <th>1</th>\n",
       "      <td>Integral mas não PEI</td>\n",
       "      <td>2012</td>\n",
       "      <td>0.282144</td>\n",
       "    </tr>\n",
       "    <tr>\n",
       "      <th>2</th>\n",
       "      <td>Integral mas não PEI</td>\n",
       "      <td>2013</td>\n",
       "      <td>0.283046</td>\n",
       "    </tr>\n",
       "    <tr>\n",
       "      <th>3</th>\n",
       "      <td>Integral mas não PEI</td>\n",
       "      <td>2014</td>\n",
       "      <td>0.271181</td>\n",
       "    </tr>\n",
       "    <tr>\n",
       "      <th>4</th>\n",
       "      <td>Integral mas não PEI</td>\n",
       "      <td>2015</td>\n",
       "      <td>0.279722</td>\n",
       "    </tr>\n",
       "    <tr>\n",
       "      <th>5</th>\n",
       "      <td>Integral mas não PEI</td>\n",
       "      <td>2016</td>\n",
       "      <td>0.276989</td>\n",
       "    </tr>\n",
       "    <tr>\n",
       "      <th>6</th>\n",
       "      <td>Integral mas não PEI</td>\n",
       "      <td>2017</td>\n",
       "      <td>0.274528</td>\n",
       "    </tr>\n",
       "    <tr>\n",
       "      <th>7</th>\n",
       "      <td>Integral mas não PEI</td>\n",
       "      <td>2018</td>\n",
       "      <td>0.265991</td>\n",
       "    </tr>\n",
       "    <tr>\n",
       "      <th>8</th>\n",
       "      <td>PEI</td>\n",
       "      <td>2012</td>\n",
       "      <td>0.230471</td>\n",
       "    </tr>\n",
       "    <tr>\n",
       "      <th>9</th>\n",
       "      <td>PEI</td>\n",
       "      <td>2013</td>\n",
       "      <td>0.245974</td>\n",
       "    </tr>\n",
       "    <tr>\n",
       "      <th>10</th>\n",
       "      <td>PEI</td>\n",
       "      <td>2014</td>\n",
       "      <td>0.235927</td>\n",
       "    </tr>\n",
       "    <tr>\n",
       "      <th>11</th>\n",
       "      <td>PEI</td>\n",
       "      <td>2015</td>\n",
       "      <td>0.243545</td>\n",
       "    </tr>\n",
       "    <tr>\n",
       "      <th>12</th>\n",
       "      <td>PEI</td>\n",
       "      <td>2016</td>\n",
       "      <td>0.237230</td>\n",
       "    </tr>\n",
       "    <tr>\n",
       "      <th>13</th>\n",
       "      <td>PEI</td>\n",
       "      <td>2017</td>\n",
       "      <td>0.236943</td>\n",
       "    </tr>\n",
       "    <tr>\n",
       "      <th>14</th>\n",
       "      <td>PEI</td>\n",
       "      <td>2018</td>\n",
       "      <td>0.250069</td>\n",
       "    </tr>\n",
       "    <tr>\n",
       "      <th>15</th>\n",
       "      <td>Sem integral</td>\n",
       "      <td>2011</td>\n",
       "      <td>0.263318</td>\n",
       "    </tr>\n",
       "    <tr>\n",
       "      <th>16</th>\n",
       "      <td>Sem integral</td>\n",
       "      <td>2012</td>\n",
       "      <td>0.267955</td>\n",
       "    </tr>\n",
       "    <tr>\n",
       "      <th>17</th>\n",
       "      <td>Sem integral</td>\n",
       "      <td>2013</td>\n",
       "      <td>0.273191</td>\n",
       "    </tr>\n",
       "    <tr>\n",
       "      <th>18</th>\n",
       "      <td>Sem integral</td>\n",
       "      <td>2014</td>\n",
       "      <td>0.282778</td>\n",
       "    </tr>\n",
       "    <tr>\n",
       "      <th>19</th>\n",
       "      <td>Sem integral</td>\n",
       "      <td>2015</td>\n",
       "      <td>0.285673</td>\n",
       "    </tr>\n",
       "    <tr>\n",
       "      <th>20</th>\n",
       "      <td>Sem integral</td>\n",
       "      <td>2016</td>\n",
       "      <td>0.289650</td>\n",
       "    </tr>\n",
       "    <tr>\n",
       "      <th>21</th>\n",
       "      <td>Sem integral</td>\n",
       "      <td>2017</td>\n",
       "      <td>0.293082</td>\n",
       "    </tr>\n",
       "    <tr>\n",
       "      <th>22</th>\n",
       "      <td>Sem integral</td>\n",
       "      <td>2018</td>\n",
       "      <td>0.294116</td>\n",
       "    </tr>\n",
       "  </tbody>\n",
       "</table>\n",
       "</div>"
      ],
      "text/plain": [
       "                   grupo  ano_censo  proporcao_matriculas_ppi_basica\n",
       "0   Integral mas não PEI       2011                         0.264636\n",
       "1   Integral mas não PEI       2012                         0.282144\n",
       "2   Integral mas não PEI       2013                         0.283046\n",
       "3   Integral mas não PEI       2014                         0.271181\n",
       "4   Integral mas não PEI       2015                         0.279722\n",
       "5   Integral mas não PEI       2016                         0.276989\n",
       "6   Integral mas não PEI       2017                         0.274528\n",
       "7   Integral mas não PEI       2018                         0.265991\n",
       "8                    PEI       2012                         0.230471\n",
       "9                    PEI       2013                         0.245974\n",
       "10                   PEI       2014                         0.235927\n",
       "11                   PEI       2015                         0.243545\n",
       "12                   PEI       2016                         0.237230\n",
       "13                   PEI       2017                         0.236943\n",
       "14                   PEI       2018                         0.250069\n",
       "15          Sem integral       2011                         0.263318\n",
       "16          Sem integral       2012                         0.267955\n",
       "17          Sem integral       2013                         0.273191\n",
       "18          Sem integral       2014                         0.282778\n",
       "19          Sem integral       2015                         0.285673\n",
       "20          Sem integral       2016                         0.289650\n",
       "21          Sem integral       2017                         0.293082\n",
       "22          Sem integral       2018                         0.294116"
      ]
     },
     "execution_count": 16,
     "metadata": {},
     "output_type": "execute_result"
    }
   ],
   "source": [
    "prop_ppi_por_grupo_ano"
   ]
  },
  {
   "cell_type": "code",
   "execution_count": 17,
   "id": "61bdf4a5",
   "metadata": {},
   "outputs": [
    {
     "data": {
      "image/png": "[encoded data removed]",
      "text/plain": [
       "<Figure size 640x480 with 1 Axes>"
      ]
     },
     "metadata": {},
     "output_type": "display_data"
    }
   ],
   "source": [
    "fig, ax = plt.subplots()\n",
    "\n",
    "for nome_grupo, grupo_df in prop_ppi_por_grupo_ano.groupby('grupo'):\n",
    "    grupo_df.plot.line(\n",
    "        x='ano_censo',\n",
    "        y='proporcao_matriculas_ppi_basica',\n",
    "        ax=ax,\n",
    "        label=nome_grupo\n",
    "    )\n",
    "\n",
    "ax.set_title('Proporção média de matrículas de estudantes PPI na educação básica por grupo')\n",
    "ax.set_xlabel('Ano do Censo Escolar')\n",
    "ax.set_ylabel('Prop. média de matrículas PPI')\n",
    "plt.legend(title='Grupo')\n",
    "plt.tight_layout()\n",
    "plt.show()\n",
    "\n",
    "save_graph(\n",
    "    fig,\n",
    "    'proporcao_matriculas_ppi_por_grupo_ano.png',\n",
    ")"
   ]
  },
  {
   "cell_type": "markdown",
   "id": "e9c58a3a",
   "metadata": {},
   "source": [
    "### vamos fazer o mesmo gráfico mas considerando apenas as escolas que ofertam 100% ensino médio"
   ]
  },
  {
   "cell_type": "code",
   "execution_count": 18,
   "id": "73a53a4e",
   "metadata": {},
   "outputs": [
    {
     "data": {
      "text/plain": [
       "Index(['ano_censo', 'sigla_uf', 'nome_municipio', 'codigo_municipio',\n",
       "       'codigo_escola', 'nome_escola', 'qtd_turmas_ed_basica',\n",
       "       'qtd_matr_ed_basica', 'qtd_matr_medio', 'qtd_matr_fundamental',\n",
       "       'qtd_matr_ed_basica_nao_declarada', 'qtd_matr_ed_basica_branca',\n",
       "       'qtd_matr_ed_basica_preta', 'qtd_matr_ed_basica_parda',\n",
       "       'qtd_matr_ed_basica_amarela', 'qtd_matr_ed_basica_indigena',\n",
       "       'qtd_matriculas_fundamental_integral',\n",
       "       'qtd_matriculas_fundamental_anos_iniciais_integral',\n",
       "       'qtd_matriculas_fundamental_anos_finais_integral',\n",
       "       'qtd_matriculas_medio_integral', 'coordenadas', 'is_PEI', '_merge',\n",
       "       'total_matriculas_basica_integral', 'possui_integral',\n",
       "       'total_matriculas_fundamental_integral', 'possui_integral_medio',\n",
       "       'is_PEI_and_possui_medio_integral', 'primeiro_ano_integral_medio',\n",
       "       'ultimo_ano_integral_medio', 'anos_integral_medio',\n",
       "       'ofertou_integral_de_forma_continua', 'prop_matriculas_medio_integral',\n",
       "       'cem_por_cento_medio_integral', 'ofertou_integral_ate_2018',\n",
       "       'tratamento', 'qtd_anos_ofertou_integral_medio',\n",
       "       'qtd_anos_continuos_ofertou_integral_medio',\n",
       "       'integral_geral_nao_tratamento', 'integral_medio_nao_tratamento',\n",
       "       'grupo', 'qtd_matriculas_ppi_basica',\n",
       "       'proporcao_matriculas_ppi_basica'],\n",
       "      dtype='object')"
      ]
     },
     "execution_count": 18,
     "metadata": {},
     "output_type": "execute_result"
    }
   ],
   "source": [
    "df.columns"
   ]
  },
  {
   "cell_type": "code",
   "execution_count": 19,
   "id": "1ad7d854",
   "metadata": {},
   "outputs": [],
   "source": [
    "df['apenas_ensino_medio'] = df['qtd_matr_medio'] == df['qtd_matr_ed_basica']"
   ]
  },
  {
   "cell_type": "code",
   "execution_count": 20,
   "id": "4b76936c",
   "metadata": {},
   "outputs": [
    {
     "data": {
      "text/plain": [
       "np.True_"
      ]
     },
     "execution_count": 20,
     "metadata": {},
     "output_type": "execute_result"
    }
   ],
   "source": [
    "df['apenas_ensino_medio'].any()"
   ]
  },
  {
   "cell_type": "code",
   "execution_count": 21,
   "id": "f599d47d",
   "metadata": {},
   "outputs": [
    {
     "data": {
      "text/plain": [
       "np.int64(1814)"
      ]
     },
     "execution_count": 21,
     "metadata": {},
     "output_type": "execute_result"
    }
   ],
   "source": [
    "df['apenas_ensino_medio'].sum()"
   ]
  },
  {
   "cell_type": "code",
   "execution_count": 22,
   "id": "9081cb1e",
   "metadata": {},
   "outputs": [
    {
     "data": {
      "text/plain": [
       "grupo\n",
       "Integral mas não PEI     148\n",
       "PEI                      449\n",
       "Sem integral            1217\n",
       "dtype: int64"
      ]
     },
     "execution_count": 22,
     "metadata": {},
     "output_type": "execute_result"
    }
   ],
   "source": [
    "df[df['apenas_ensino_medio']].groupby('grupo').size()"
   ]
  },
  {
   "cell_type": "code",
   "execution_count": 23,
   "id": "d2f7e4ba",
   "metadata": {},
   "outputs": [],
   "source": [
    "df_em = df[df['apenas_ensino_medio']].copy()"
   ]
  },
  {
   "cell_type": "code",
   "execution_count": 24,
   "id": "f3a941d9",
   "metadata": {},
   "outputs": [],
   "source": [
    "prop_ppi_por_grupo_ano_apenas_em = df_em.groupby(['grupo', 'ano_censo'])[['proporcao_matriculas_ppi_basica']].mean().reset_index()"
   ]
  },
  {
   "cell_type": "code",
   "execution_count": 25,
   "id": "c5ed9c26",
   "metadata": {},
   "outputs": [
    {
     "data": {
      "image/png": "[encoded data removed]",
      "text/plain": [
       "<Figure size 640x480 with 1 Axes>"
      ]
     },
     "metadata": {},
     "output_type": "display_data"
    }
   ],
   "source": [
    "fig, ax = plt.subplots()\n",
    "\n",
    "for nome_grupo, grupo_df in prop_ppi_por_grupo_ano_apenas_em.groupby('grupo'):\n",
    "    grupo_df.plot.line(\n",
    "        x='ano_censo',\n",
    "        y='proporcao_matriculas_ppi_basica',\n",
    "        ax=ax,\n",
    "        label=nome_grupo\n",
    "    )\n",
    "\n",
    "ax.set_title('Prop. média de matrículas de estudantes PPI na educação básica por grupo - escolas apenas Ensino Médio')\n",
    "ax.set_xlabel('Ano do Censo Escolar')\n",
    "ax.set_ylabel('Prop. média de matrículas PPI')\n",
    "plt.legend(title='Grupo')\n",
    "plt.tight_layout()\n",
    "plt.show()\n",
    "\n",
    "save_graph(\n",
    "    fig,\n",
    "    'proporcao_matriculas_ppi_por_grupo_ano_apenas_em.png',\n",
    ")"
   ]
  },
  {
   "cell_type": "markdown",
   "id": "1584b356",
   "metadata": {},
   "source": [
    "Vamos trabalhar apenas com ensino médio"
   ]
  },
  {
   "cell_type": "code",
   "execution_count": 26,
   "id": "f8b4ed43",
   "metadata": {},
   "outputs": [],
   "source": [
    "df = df[df['apenas_ensino_medio']].reset_index(drop=True).copy()"
   ]
  },
  {
   "cell_type": "code",
   "execution_count": 27,
   "id": "12c996b7",
   "metadata": {},
   "outputs": [
    {
     "data": {
      "text/plain": [
       "grupo\n",
       "Sem integral            1217\n",
       "PEI                      449\n",
       "Integral mas não PEI     148\n",
       "Name: count, dtype: int64"
      ]
     },
     "execution_count": 27,
     "metadata": {},
     "output_type": "execute_result"
    }
   ],
   "source": [
    "df['grupo'].value_counts()"
   ]
  },
  {
   "cell_type": "code",
   "execution_count": 28,
   "id": "d08d4fec",
   "metadata": {},
   "outputs": [
    {
     "data": {
      "text/plain": [
       "grupo\n",
       "Sem integral            0.670893\n",
       "PEI                     0.247519\n",
       "Integral mas não PEI    0.081588\n",
       "Name: proportion, dtype: float64"
      ]
     },
     "execution_count": 28,
     "metadata": {},
     "output_type": "execute_result"
    }
   ],
   "source": [
    "df['grupo'].value_counts(normalize=True)"
   ]
  },
  {
   "cell_type": "code",
   "execution_count": 29,
   "id": "3f013aee",
   "metadata": {},
   "outputs": [],
   "source": [
    "def identificacao_anos_tratamento(df):\n",
    "\n",
    "    df['primeiro_ano_tratamento'] = None\n",
    "    df['ano_anterior_tratamento'] = None\n",
    "    df['ultimo_ano_tratamento'] = None\n",
    "    df_tratamento = df[df['tratamento']].copy()\n",
    "    escolas = df_tratamento['codigo_escola'].unique()\n",
    "    for escola in escolas:\n",
    "        df_escola_tratamento = df_tratamento[df_tratamento['codigo_escola'] == escola]\n",
    "        primeiro_ano = df_escola_tratamento['ano_censo'].min()\n",
    "        ultimo_ano = df_escola_tratamento['ano_censo'].max()\n",
    "        df_escola = df[df['codigo_escola'] == escola]\n",
    "        idx_escola = df_escola.index\n",
    "        df.loc[idx_escola, 'primeiro_ano_tratamento'] = primeiro_ano\n",
    "        ano_anterior = primeiro_ano - 1\n",
    "        df.loc[idx_escola, 'ano_anterior_ao_tratamento'] = ano_anterior\n",
    "        df.loc[idx_escola, 'ultimo_ano_tratamento'] = ultimo_ano\n",
    "\n",
    "    return df\n"
   ]
  },
  {
   "cell_type": "code",
   "execution_count": 30,
   "id": "e2073852",
   "metadata": {},
   "outputs": [],
   "source": [
    "df = identificacao_anos_tratamento(df)"
   ]
  },
  {
   "cell_type": "code",
   "execution_count": 31,
   "id": "2b7dc805",
   "metadata": {},
   "outputs": [
    {
     "data": {
      "text/plain": [
       "np.int64(2012)"
      ]
     },
     "execution_count": 31,
     "metadata": {},
     "output_type": "execute_result"
    }
   ],
   "source": [
    "df[df['tratamento']]['primeiro_ano_tratamento'].min()"
   ]
  },
  {
   "cell_type": "code",
   "execution_count": 32,
   "id": "bb0c6d6a",
   "metadata": {},
   "outputs": [
    {
     "data": {
      "text/plain": [
       "np.int64(2018)"
      ]
     },
     "execution_count": 32,
     "metadata": {},
     "output_type": "execute_result"
    }
   ],
   "source": [
    "df[df['tratamento']]['primeiro_ano_tratamento'].max()"
   ]
  },
  {
   "cell_type": "code",
   "execution_count": 33,
   "id": "7856e287",
   "metadata": {},
   "outputs": [
    {
     "data": {
      "text/plain": [
       "np.float64(2011.0)"
      ]
     },
     "execution_count": 33,
     "metadata": {},
     "output_type": "execute_result"
    }
   ],
   "source": [
    "df[df['tratamento']]['ano_anterior_ao_tratamento'].min()"
   ]
  },
  {
   "cell_type": "code",
   "execution_count": 34,
   "id": "757e2531",
   "metadata": {},
   "outputs": [
    {
     "data": {
      "text/plain": [
       "np.float64(2017.0)"
      ]
     },
     "execution_count": 34,
     "metadata": {},
     "output_type": "execute_result"
    }
   ],
   "source": [
    "df[df['tratamento']]['ano_anterior_ao_tratamento'].max()"
   ]
  },
  {
   "cell_type": "code",
   "execution_count": 35,
   "id": "e2bea814",
   "metadata": {},
   "outputs": [
    {
     "data": {
      "text/plain": [
       "np.True_"
      ]
     },
     "execution_count": 35,
     "metadata": {},
     "output_type": "execute_result"
    }
   ],
   "source": [
    "(df['ano_censo'] == df['ano_anterior_ao_tratamento']).any()"
   ]
  },
  {
   "cell_type": "code",
   "execution_count": 36,
   "id": "ba373fab",
   "metadata": {},
   "outputs": [],
   "source": [
    "def tratamento_com_ano_inicial(row):\n",
    "\n",
    "    if row['tratamento']:\n",
    "        return True\n",
    "    \n",
    "    if row['ano_censo'] == row['primeiro_ano_tratamento']:\n",
    "        return True\n",
    "    \n",
    "    if row['ano_censo'] == row['ano_anterior_ao_tratamento']:\n",
    "        return True\n",
    "    \n",
    "    return False"
   ]
  },
  {
   "cell_type": "code",
   "execution_count": 37,
   "id": "a8f80886",
   "metadata": {},
   "outputs": [],
   "source": [
    "df['tratamento_com_ano_inicial'] = df.apply(tratamento_com_ano_inicial, axis=1)"
   ]
  },
  {
   "cell_type": "code",
   "execution_count": 38,
   "id": "e705d203",
   "metadata": {},
   "outputs": [],
   "source": [
    "df_tratamento_com_ano_inicial = df[df['tratamento_com_ano_inicial']].copy()"
   ]
  },
  {
   "cell_type": "code",
   "execution_count": 39,
   "id": "cd7f3112",
   "metadata": {},
   "outputs": [
    {
     "data": {
      "text/plain": [
       "np.True_"
      ]
     },
     "execution_count": 39,
     "metadata": {},
     "output_type": "execute_result"
    }
   ],
   "source": [
    "(df_tratamento_com_ano_inicial['ano_censo'] == df_tratamento_com_ano_inicial['ano_anterior_ao_tratamento']).any()"
   ]
  },
  {
   "cell_type": "code",
   "execution_count": 40,
   "id": "3bd46dc9",
   "metadata": {},
   "outputs": [
    {
     "data": {
      "text/plain": [
       "array(['Sem integral', 'PEI', 'Integral mas não PEI'], dtype=object)"
      ]
     },
     "execution_count": 40,
     "metadata": {},
     "output_type": "execute_result"
    }
   ],
   "source": [
    "df_tratamento_com_ano_inicial['grupo'].unique()"
   ]
  },
  {
   "cell_type": "code",
   "execution_count": 41,
   "id": "c6ca3e46",
   "metadata": {},
   "outputs": [
    {
     "data": {
      "text/plain": [
       "grupo\n",
       "PEI                     449\n",
       "Sem integral             19\n",
       "Integral mas não PEI     15\n",
       "Name: count, dtype: int64"
      ]
     },
     "execution_count": 41,
     "metadata": {},
     "output_type": "execute_result"
    }
   ],
   "source": [
    "df_tratamento_com_ano_inicial['grupo'].value_counts()"
   ]
  },
  {
   "cell_type": "code",
   "execution_count": 42,
   "id": "fad1e683",
   "metadata": {},
   "outputs": [],
   "source": [
    "df_diferenca_na_proporcao_por_exposicao = []\n",
    "\n",
    "for escola in df_tratamento_com_ano_inicial['codigo_escola'].unique():\n",
    "    df_escola = df_tratamento_com_ano_inicial[df_tratamento_com_ano_inicial['codigo_escola'] == escola]\n",
    "    dados_escola = {\n",
    "\n",
    "    }\n",
    "    for i, row in df_escola.iterrows():\n",
    "        ano = row['ano_censo']\n",
    "        proporcao = row['proporcao_matriculas_ppi_basica']\n",
    "        \n",
    "        if row['ano_anterior_ao_tratamento'] == ano:\n",
    "            dados_escola['proporcao_inicial'] = proporcao\n",
    "            \n",
    "        else:\n",
    "            dados_escola[ano] = proporcao\n",
    "    df_diferenca_na_proporcao_por_exposicao.append(dados_escola)\n",
    "\n",
    "df_diff = pd.DataFrame(df_diferenca_na_proporcao_por_exposicao)\n"
   ]
  },
  {
   "cell_type": "code",
   "execution_count": 43,
   "id": "35a10066",
   "metadata": {},
   "outputs": [
    {
     "data": {
      "text/html": [
       "<div>\n",
       "<style scoped>\n",
       "    .dataframe tbody tr th:only-of-type {\n",
       "        vertical-align: middle;\n",
       "    }\n",
       "\n",
       "    .dataframe tbody tr th {\n",
       "        vertical-align: top;\n",
       "    }\n",
       "\n",
       "    .dataframe thead th {\n",
       "        text-align: right;\n",
       "    }\n",
       "</style>\n",
       "<table border=\"1\" class=\"dataframe\">\n",
       "  <thead>\n",
       "    <tr style=\"text-align: right;\">\n",
       "      <th></th>\n",
       "      <th>proporcao_inicial</th>\n",
       "      <th>2013</th>\n",
       "      <th>2014</th>\n",
       "      <th>2015</th>\n",
       "      <th>2016</th>\n",
       "      <th>2017</th>\n",
       "      <th>2018</th>\n",
       "      <th>2012</th>\n",
       "    </tr>\n",
       "  </thead>\n",
       "  <tbody>\n",
       "    <tr>\n",
       "      <th>0</th>\n",
       "      <td>0.208889</td>\n",
       "      <td>0.200000</td>\n",
       "      <td>0.201299</td>\n",
       "      <td>0.191011</td>\n",
       "      <td>0.176796</td>\n",
       "      <td>0.155556</td>\n",
       "      <td>0.132948</td>\n",
       "      <td>NaN</td>\n",
       "    </tr>\n",
       "    <tr>\n",
       "      <th>1</th>\n",
       "      <td>NaN</td>\n",
       "      <td>0.342629</td>\n",
       "      <td>0.300366</td>\n",
       "      <td>0.312500</td>\n",
       "      <td>0.278592</td>\n",
       "      <td>0.268371</td>\n",
       "      <td>0.230519</td>\n",
       "      <td>0.372222</td>\n",
       "    </tr>\n",
       "    <tr>\n",
       "      <th>2</th>\n",
       "      <td>NaN</td>\n",
       "      <td>0.143770</td>\n",
       "      <td>0.130194</td>\n",
       "      <td>0.140299</td>\n",
       "      <td>0.126344</td>\n",
       "      <td>0.133690</td>\n",
       "      <td>0.098930</td>\n",
       "      <td>0.146119</td>\n",
       "    </tr>\n",
       "    <tr>\n",
       "      <th>3</th>\n",
       "      <td>0.580762</td>\n",
       "      <td>0.420849</td>\n",
       "      <td>0.351613</td>\n",
       "      <td>0.303514</td>\n",
       "      <td>0.320955</td>\n",
       "      <td>0.314031</td>\n",
       "      <td>0.301518</td>\n",
       "      <td>NaN</td>\n",
       "    </tr>\n",
       "    <tr>\n",
       "      <th>4</th>\n",
       "      <td>NaN</td>\n",
       "      <td>0.234597</td>\n",
       "      <td>0.196796</td>\n",
       "      <td>0.200477</td>\n",
       "      <td>0.191874</td>\n",
       "      <td>0.212719</td>\n",
       "      <td>0.308219</td>\n",
       "      <td>0.220238</td>\n",
       "    </tr>\n",
       "    <tr>\n",
       "      <th>...</th>\n",
       "      <td>...</td>\n",
       "      <td>...</td>\n",
       "      <td>...</td>\n",
       "      <td>...</td>\n",
       "      <td>...</td>\n",
       "      <td>...</td>\n",
       "      <td>...</td>\n",
       "      <td>...</td>\n",
       "    </tr>\n",
       "    <tr>\n",
       "      <th>124</th>\n",
       "      <td>NaN</td>\n",
       "      <td>NaN</td>\n",
       "      <td>NaN</td>\n",
       "      <td>NaN</td>\n",
       "      <td>NaN</td>\n",
       "      <td>NaN</td>\n",
       "      <td>0.425743</td>\n",
       "      <td>NaN</td>\n",
       "    </tr>\n",
       "    <tr>\n",
       "      <th>125</th>\n",
       "      <td>NaN</td>\n",
       "      <td>NaN</td>\n",
       "      <td>NaN</td>\n",
       "      <td>NaN</td>\n",
       "      <td>NaN</td>\n",
       "      <td>NaN</td>\n",
       "      <td>0.413462</td>\n",
       "      <td>NaN</td>\n",
       "    </tr>\n",
       "    <tr>\n",
       "      <th>126</th>\n",
       "      <td>NaN</td>\n",
       "      <td>NaN</td>\n",
       "      <td>NaN</td>\n",
       "      <td>NaN</td>\n",
       "      <td>NaN</td>\n",
       "      <td>NaN</td>\n",
       "      <td>0.194444</td>\n",
       "      <td>NaN</td>\n",
       "    </tr>\n",
       "    <tr>\n",
       "      <th>127</th>\n",
       "      <td>NaN</td>\n",
       "      <td>NaN</td>\n",
       "      <td>NaN</td>\n",
       "      <td>NaN</td>\n",
       "      <td>NaN</td>\n",
       "      <td>NaN</td>\n",
       "      <td>0.294643</td>\n",
       "      <td>NaN</td>\n",
       "    </tr>\n",
       "    <tr>\n",
       "      <th>128</th>\n",
       "      <td>NaN</td>\n",
       "      <td>NaN</td>\n",
       "      <td>NaN</td>\n",
       "      <td>NaN</td>\n",
       "      <td>NaN</td>\n",
       "      <td>NaN</td>\n",
       "      <td>0.472441</td>\n",
       "      <td>NaN</td>\n",
       "    </tr>\n",
       "  </tbody>\n",
       "</table>\n",
       "<p>129 rows × 8 columns</p>\n",
       "</div>"
      ],
      "text/plain": [
       "     proporcao_inicial      2013      2014      2015      2016      2017  \\\n",
       "0             0.208889  0.200000  0.201299  0.191011  0.176796  0.155556   \n",
       "1                  NaN  0.342629  0.300366  0.312500  0.278592  0.268371   \n",
       "2                  NaN  0.143770  0.130194  0.140299  0.126344  0.133690   \n",
       "3             0.580762  0.420849  0.351613  0.303514  0.320955  0.314031   \n",
       "4                  NaN  0.234597  0.196796  0.200477  0.191874  0.212719   \n",
       "..                 ...       ...       ...       ...       ...       ...   \n",
       "124                NaN       NaN       NaN       NaN       NaN       NaN   \n",
       "125                NaN       NaN       NaN       NaN       NaN       NaN   \n",
       "126                NaN       NaN       NaN       NaN       NaN       NaN   \n",
       "127                NaN       NaN       NaN       NaN       NaN       NaN   \n",
       "128                NaN       NaN       NaN       NaN       NaN       NaN   \n",
       "\n",
       "         2018      2012  \n",
       "0    0.132948       NaN  \n",
       "1    0.230519  0.372222  \n",
       "2    0.098930  0.146119  \n",
       "3    0.301518       NaN  \n",
       "4    0.308219  0.220238  \n",
       "..        ...       ...  \n",
       "124  0.425743       NaN  \n",
       "125  0.413462       NaN  \n",
       "126  0.194444       NaN  \n",
       "127  0.294643       NaN  \n",
       "128  0.472441       NaN  \n",
       "\n",
       "[129 rows x 8 columns]"
      ]
     },
     "execution_count": 43,
     "metadata": {},
     "output_type": "execute_result"
    }
   ],
   "source": [
    "df_diff"
   ]
  },
  {
   "cell_type": "code",
   "execution_count": 44,
   "id": "8d4ebf81",
   "metadata": {},
   "outputs": [],
   "source": [
    "df_diff_inici = pd.DataFrame()\n",
    "for col in df_diff.columns:\n",
    "\n",
    "    if col != 'proporcao_inicial':\n",
    "        df_diff_inici[col] = df_diff[col] - df_diff['proporcao_inicial']"
   ]
  },
  {
   "cell_type": "code",
   "execution_count": 45,
   "id": "ca61d1b9",
   "metadata": {},
   "outputs": [
    {
     "data": {
      "text/html": [
       "<div>\n",
       "<style scoped>\n",
       "    .dataframe tbody tr th:only-of-type {\n",
       "        vertical-align: middle;\n",
       "    }\n",
       "\n",
       "    .dataframe tbody tr th {\n",
       "        vertical-align: top;\n",
       "    }\n",
       "\n",
       "    .dataframe thead th {\n",
       "        text-align: right;\n",
       "    }\n",
       "</style>\n",
       "<table border=\"1\" class=\"dataframe\">\n",
       "  <thead>\n",
       "    <tr style=\"text-align: right;\">\n",
       "      <th></th>\n",
       "      <th>2013</th>\n",
       "      <th>2014</th>\n",
       "      <th>2015</th>\n",
       "      <th>2016</th>\n",
       "      <th>2017</th>\n",
       "      <th>2018</th>\n",
       "      <th>2012</th>\n",
       "    </tr>\n",
       "  </thead>\n",
       "  <tbody>\n",
       "    <tr>\n",
       "      <th>0</th>\n",
       "      <td>-0.008889</td>\n",
       "      <td>-0.007590</td>\n",
       "      <td>-0.017878</td>\n",
       "      <td>-0.032093</td>\n",
       "      <td>-0.053333</td>\n",
       "      <td>-0.075941</td>\n",
       "      <td>NaN</td>\n",
       "    </tr>\n",
       "    <tr>\n",
       "      <th>1</th>\n",
       "      <td>NaN</td>\n",
       "      <td>NaN</td>\n",
       "      <td>NaN</td>\n",
       "      <td>NaN</td>\n",
       "      <td>NaN</td>\n",
       "      <td>NaN</td>\n",
       "      <td>NaN</td>\n",
       "    </tr>\n",
       "    <tr>\n",
       "      <th>2</th>\n",
       "      <td>NaN</td>\n",
       "      <td>NaN</td>\n",
       "      <td>NaN</td>\n",
       "      <td>NaN</td>\n",
       "      <td>NaN</td>\n",
       "      <td>NaN</td>\n",
       "      <td>NaN</td>\n",
       "    </tr>\n",
       "    <tr>\n",
       "      <th>3</th>\n",
       "      <td>-0.159913</td>\n",
       "      <td>-0.229149</td>\n",
       "      <td>-0.277248</td>\n",
       "      <td>-0.259807</td>\n",
       "      <td>-0.266731</td>\n",
       "      <td>-0.279244</td>\n",
       "      <td>NaN</td>\n",
       "    </tr>\n",
       "    <tr>\n",
       "      <th>4</th>\n",
       "      <td>NaN</td>\n",
       "      <td>NaN</td>\n",
       "      <td>NaN</td>\n",
       "      <td>NaN</td>\n",
       "      <td>NaN</td>\n",
       "      <td>NaN</td>\n",
       "      <td>NaN</td>\n",
       "    </tr>\n",
       "    <tr>\n",
       "      <th>...</th>\n",
       "      <td>...</td>\n",
       "      <td>...</td>\n",
       "      <td>...</td>\n",
       "      <td>...</td>\n",
       "      <td>...</td>\n",
       "      <td>...</td>\n",
       "      <td>...</td>\n",
       "    </tr>\n",
       "    <tr>\n",
       "      <th>124</th>\n",
       "      <td>NaN</td>\n",
       "      <td>NaN</td>\n",
       "      <td>NaN</td>\n",
       "      <td>NaN</td>\n",
       "      <td>NaN</td>\n",
       "      <td>NaN</td>\n",
       "      <td>NaN</td>\n",
       "    </tr>\n",
       "    <tr>\n",
       "      <th>125</th>\n",
       "      <td>NaN</td>\n",
       "      <td>NaN</td>\n",
       "      <td>NaN</td>\n",
       "      <td>NaN</td>\n",
       "      <td>NaN</td>\n",
       "      <td>NaN</td>\n",
       "      <td>NaN</td>\n",
       "    </tr>\n",
       "    <tr>\n",
       "      <th>126</th>\n",
       "      <td>NaN</td>\n",
       "      <td>NaN</td>\n",
       "      <td>NaN</td>\n",
       "      <td>NaN</td>\n",
       "      <td>NaN</td>\n",
       "      <td>NaN</td>\n",
       "      <td>NaN</td>\n",
       "    </tr>\n",
       "    <tr>\n",
       "      <th>127</th>\n",
       "      <td>NaN</td>\n",
       "      <td>NaN</td>\n",
       "      <td>NaN</td>\n",
       "      <td>NaN</td>\n",
       "      <td>NaN</td>\n",
       "      <td>NaN</td>\n",
       "      <td>NaN</td>\n",
       "    </tr>\n",
       "    <tr>\n",
       "      <th>128</th>\n",
       "      <td>NaN</td>\n",
       "      <td>NaN</td>\n",
       "      <td>NaN</td>\n",
       "      <td>NaN</td>\n",
       "      <td>NaN</td>\n",
       "      <td>NaN</td>\n",
       "      <td>NaN</td>\n",
       "    </tr>\n",
       "  </tbody>\n",
       "</table>\n",
       "<p>129 rows × 7 columns</p>\n",
       "</div>"
      ],
      "text/plain": [
       "         2013      2014      2015      2016      2017      2018  2012\n",
       "0   -0.008889 -0.007590 -0.017878 -0.032093 -0.053333 -0.075941   NaN\n",
       "1         NaN       NaN       NaN       NaN       NaN       NaN   NaN\n",
       "2         NaN       NaN       NaN       NaN       NaN       NaN   NaN\n",
       "3   -0.159913 -0.229149 -0.277248 -0.259807 -0.266731 -0.279244   NaN\n",
       "4         NaN       NaN       NaN       NaN       NaN       NaN   NaN\n",
       "..        ...       ...       ...       ...       ...       ...   ...\n",
       "124       NaN       NaN       NaN       NaN       NaN       NaN   NaN\n",
       "125       NaN       NaN       NaN       NaN       NaN       NaN   NaN\n",
       "126       NaN       NaN       NaN       NaN       NaN       NaN   NaN\n",
       "127       NaN       NaN       NaN       NaN       NaN       NaN   NaN\n",
       "128       NaN       NaN       NaN       NaN       NaN       NaN   NaN\n",
       "\n",
       "[129 rows x 7 columns]"
      ]
     },
     "execution_count": 45,
     "metadata": {},
     "output_type": "execute_result"
    }
   ],
   "source": [
    "df_diff_inici"
   ]
  },
  {
   "cell_type": "code",
   "execution_count": 46,
   "id": "9e64aa5e",
   "metadata": {},
   "outputs": [],
   "source": [
    "media_da_diferenca_em_relacao_a_proporcao_inicial = df_diff_inici.mean(skipna=True).reset_index().rename({'index' : 'ano', 0 : 'proporção_matriculas_ppi_basica_diff'}, axis=1)"
   ]
  },
  {
   "cell_type": "code",
   "execution_count": 47,
   "id": "53fc9282",
   "metadata": {},
   "outputs": [
    {
     "data": {
      "text/html": [
       "<div>\n",
       "<style scoped>\n",
       "    .dataframe tbody tr th:only-of-type {\n",
       "        vertical-align: middle;\n",
       "    }\n",
       "\n",
       "    .dataframe tbody tr th {\n",
       "        vertical-align: top;\n",
       "    }\n",
       "\n",
       "    .dataframe thead th {\n",
       "        text-align: right;\n",
       "    }\n",
       "</style>\n",
       "<table border=\"1\" class=\"dataframe\">\n",
       "  <thead>\n",
       "    <tr style=\"text-align: right;\">\n",
       "      <th></th>\n",
       "      <th>ano</th>\n",
       "      <th>proporção_matriculas_ppi_basica_diff</th>\n",
       "    </tr>\n",
       "  </thead>\n",
       "  <tbody>\n",
       "    <tr>\n",
       "      <th>0</th>\n",
       "      <td>2013</td>\n",
       "      <td>-0.012535</td>\n",
       "    </tr>\n",
       "    <tr>\n",
       "      <th>1</th>\n",
       "      <td>2014</td>\n",
       "      <td>-0.017880</td>\n",
       "    </tr>\n",
       "    <tr>\n",
       "      <th>2</th>\n",
       "      <td>2015</td>\n",
       "      <td>-0.022158</td>\n",
       "    </tr>\n",
       "    <tr>\n",
       "      <th>3</th>\n",
       "      <td>2016</td>\n",
       "      <td>-0.023699</td>\n",
       "    </tr>\n",
       "    <tr>\n",
       "      <th>4</th>\n",
       "      <td>2017</td>\n",
       "      <td>-0.027151</td>\n",
       "    </tr>\n",
       "    <tr>\n",
       "      <th>5</th>\n",
       "      <td>2018</td>\n",
       "      <td>-0.029159</td>\n",
       "    </tr>\n",
       "    <tr>\n",
       "      <th>6</th>\n",
       "      <td>2012</td>\n",
       "      <td>NaN</td>\n",
       "    </tr>\n",
       "  </tbody>\n",
       "</table>\n",
       "</div>"
      ],
      "text/plain": [
       "    ano  proporção_matriculas_ppi_basica_diff\n",
       "0  2013                             -0.012535\n",
       "1  2014                             -0.017880\n",
       "2  2015                             -0.022158\n",
       "3  2016                             -0.023699\n",
       "4  2017                             -0.027151\n",
       "5  2018                             -0.029159\n",
       "6  2012                                   NaN"
      ]
     },
     "execution_count": 47,
     "metadata": {},
     "output_type": "execute_result"
    }
   ],
   "source": [
    "media_da_diferenca_em_relacao_a_proporcao_inicial"
   ]
  },
  {
   "cell_type": "code",
   "execution_count": 48,
   "id": "2ca33e69",
   "metadata": {},
   "outputs": [
    {
     "data": {
      "image/png": "[encoded data removed]",
      "text/plain": [
       "<Figure size 640x480 with 1 Axes>"
      ]
     },
     "metadata": {},
     "output_type": "display_data"
    }
   ],
   "source": [
    "ax = media_da_diferenca_em_relacao_a_proporcao_inicial.plot.bar(\n",
    "    x='ano',\n",
    "    y='proporção_matriculas_ppi_basica_diff',\n",
    "    legend=False\n",
    ")\n",
    "ax.set_title('Diferença média na proporção de matrículas PPI em relação ao ano inicial')\n",
    "ax.set_xlabel('Ano')\n",
    "ax.set_ylabel('Média da diferença')\n",
    "plt.tight_layout()\n",
    "plt.show()\n",
    "\n",
    "fig = ax.get_figure()\n",
    "\n",
    "save_graph(fig, 'diferenca_media_na_prop_ppi_em_relacao_situacao_inicial.png')"
   ]
  },
  {
   "cell_type": "code",
   "execution_count": 49,
   "id": "3ef0d6b9",
   "metadata": {},
   "outputs": [
    {
     "data": {
      "text/plain": [
       "np.int64(2018)"
      ]
     },
     "execution_count": 49,
     "metadata": {},
     "output_type": "execute_result"
    }
   ],
   "source": [
    "df['ultimo_ano_tratamento'].max()"
   ]
  },
  {
   "cell_type": "code",
   "execution_count": 50,
   "id": "4c63b6d7",
   "metadata": {},
   "outputs": [
    {
     "data": {
      "text/plain": [
       "np.int64(2015)"
      ]
     },
     "execution_count": 50,
     "metadata": {},
     "output_type": "execute_result"
    }
   ],
   "source": [
    "df['ultimo_ano_tratamento'].min()"
   ]
  },
  {
   "cell_type": "code",
   "execution_count": 51,
   "id": "2c5e8cc0",
   "metadata": {},
   "outputs": [
    {
     "data": {
      "text/plain": [
       "ano_censo                                                               2014\n",
       "sigla_uf                                                                  SP\n",
       "nome_municipio                                                    araraquara\n",
       "codigo_municipio                                                     3503208\n",
       "codigo_escola                                                       35479342\n",
       "nome_escola                                                   jardim morumbi\n",
       "qtd_turmas_ed_basica                                                       6\n",
       "qtd_matr_ed_basica                                                       152\n",
       "qtd_matr_medio                                                           152\n",
       "qtd_matr_fundamental                                                       0\n",
       "qtd_matr_ed_basica_nao_declarada                                          29\n",
       "qtd_matr_ed_basica_branca                                                 94\n",
       "qtd_matr_ed_basica_preta                                                   6\n",
       "qtd_matr_ed_basica_parda                                                  21\n",
       "qtd_matr_ed_basica_amarela                                                 2\n",
       "qtd_matr_ed_basica_indigena                                                0\n",
       "qtd_matriculas_fundamental_integral                                        0\n",
       "qtd_matriculas_fundamental_anos_iniciais_integral                          0\n",
       "qtd_matriculas_fundamental_anos_finais_integral                            0\n",
       "qtd_matriculas_medio_integral                                            152\n",
       "coordenadas                                          ['-21.796', '-48.1924']\n",
       "is_PEI                                                                  True\n",
       "_merge                                                                  both\n",
       "total_matriculas_basica_integral                                         152\n",
       "possui_integral                                                         True\n",
       "total_matriculas_fundamental_integral                                      0\n",
       "possui_integral_medio                                                   True\n",
       "is_PEI_and_possui_medio_integral                                        True\n",
       "primeiro_ano_integral_medio                                           2014.0\n",
       "ultimo_ano_integral_medio                                             2017.0\n",
       "anos_integral_medio                                      2014,2015,2016,2017\n",
       "ofertou_integral_de_forma_continua                                      True\n",
       "prop_matriculas_medio_integral                                           1.0\n",
       "cem_por_cento_medio_integral                                            True\n",
       "ofertou_integral_ate_2018                                               True\n",
       "tratamento                                                              True\n",
       "qtd_anos_ofertou_integral_medio                                            4\n",
       "qtd_anos_continuos_ofertou_integral_medio                                  4\n",
       "integral_geral_nao_tratamento                                          False\n",
       "integral_medio_nao_tratamento                                          False\n",
       "grupo                                                                    PEI\n",
       "qtd_matriculas_ppi_basica                                                 27\n",
       "proporcao_matriculas_ppi_basica                                     0.177632\n",
       "apenas_ensino_medio                                                     True\n",
       "primeiro_ano_tratamento                                                 2014\n",
       "ano_anterior_tratamento                                                 None\n",
       "ultimo_ano_tratamento                                                   2015\n",
       "ano_anterior_ao_tratamento                                            2013.0\n",
       "tratamento_com_ano_inicial                                              True\n",
       "Name: 499, dtype: object"
      ]
     },
     "execution_count": 51,
     "metadata": {},
     "output_type": "execute_result"
    }
   ],
   "source": [
    "df.loc[df['ultimo_ano_tratamento'].argmin()]"
   ]
  },
  {
   "cell_type": "markdown",
   "id": "b91b5985",
   "metadata": {},
   "source": [
    "Pode acontecer do ultimo ano de tratmaento não ser 2018 nos casos em que a escola não ficou  mais ativa ou então deixou de ofertar ensino médio. Como é esse caso abaixo, que ela está apenas até 2015 nos dados do censo escolar."
   ]
  },
  {
   "cell_type": "code",
   "execution_count": 52,
   "id": "f258bc1e",
   "metadata": {},
   "outputs": [
    {
     "data": {
      "text/html": [
       "<div>\n",
       "<style scoped>\n",
       "    .dataframe tbody tr th:only-of-type {\n",
       "        vertical-align: middle;\n",
       "    }\n",
       "\n",
       "    .dataframe tbody tr th {\n",
       "        vertical-align: top;\n",
       "    }\n",
       "\n",
       "    .dataframe thead th {\n",
       "        text-align: right;\n",
       "    }\n",
       "</style>\n",
       "<table border=\"1\" class=\"dataframe\">\n",
       "  <thead>\n",
       "    <tr style=\"text-align: right;\">\n",
       "      <th></th>\n",
       "      <th>ano_censo</th>\n",
       "      <th>sigla_uf</th>\n",
       "      <th>nome_municipio</th>\n",
       "      <th>codigo_municipio</th>\n",
       "      <th>codigo_escola</th>\n",
       "      <th>nome_escola</th>\n",
       "      <th>qtd_turmas_ed_basica</th>\n",
       "      <th>qtd_matr_ed_basica</th>\n",
       "      <th>qtd_matr_medio</th>\n",
       "      <th>qtd_matr_fundamental</th>\n",
       "      <th>...</th>\n",
       "      <th>integral_medio_nao_tratamento</th>\n",
       "      <th>grupo</th>\n",
       "      <th>qtd_matriculas_ppi_basica</th>\n",
       "      <th>proporcao_matriculas_ppi_basica</th>\n",
       "      <th>apenas_ensino_medio</th>\n",
       "      <th>primeiro_ano_tratamento</th>\n",
       "      <th>ano_anterior_tratamento</th>\n",
       "      <th>ultimo_ano_tratamento</th>\n",
       "      <th>ano_anterior_ao_tratamento</th>\n",
       "      <th>tratamento_com_ano_inicial</th>\n",
       "    </tr>\n",
       "  </thead>\n",
       "  <tbody>\n",
       "  </tbody>\n",
       "</table>\n",
       "<p>0 rows × 49 columns</p>\n",
       "</div>"
      ],
      "text/plain": [
       "Empty DataFrame\n",
       "Columns: [ano_censo, sigla_uf, nome_municipio, codigo_municipio, codigo_escola, nome_escola, qtd_turmas_ed_basica, qtd_matr_ed_basica, qtd_matr_medio, qtd_matr_fundamental, qtd_matr_ed_basica_nao_declarada, qtd_matr_ed_basica_branca, qtd_matr_ed_basica_preta, qtd_matr_ed_basica_parda, qtd_matr_ed_basica_amarela, qtd_matr_ed_basica_indigena, qtd_matriculas_fundamental_integral, qtd_matriculas_fundamental_anos_iniciais_integral, qtd_matriculas_fundamental_anos_finais_integral, qtd_matriculas_medio_integral, coordenadas, is_PEI, _merge, total_matriculas_basica_integral, possui_integral, total_matriculas_fundamental_integral, possui_integral_medio, is_PEI_and_possui_medio_integral, primeiro_ano_integral_medio, ultimo_ano_integral_medio, anos_integral_medio, ofertou_integral_de_forma_continua, prop_matriculas_medio_integral, cem_por_cento_medio_integral, ofertou_integral_ate_2018, tratamento, qtd_anos_ofertou_integral_medio, qtd_anos_continuos_ofertou_integral_medio, integral_geral_nao_tratamento, integral_medio_nao_tratamento, grupo, qtd_matriculas_ppi_basica, proporcao_matriculas_ppi_basica, apenas_ensino_medio, primeiro_ano_tratamento, ano_anterior_tratamento, ultimo_ano_tratamento, ano_anterior_ao_tratamento, tratamento_com_ano_inicial]\n",
       "Index: []\n",
       "\n",
       "[0 rows x 49 columns]"
      ]
     },
     "execution_count": 52,
     "metadata": {},
     "output_type": "execute_result"
    }
   ],
   "source": [
    "df[df['codigo_escola'] ==35044180]"
   ]
  },
  {
   "cell_type": "code",
   "execution_count": 53,
   "id": "929ef65a",
   "metadata": {},
   "outputs": [],
   "source": [
    "df_relacao_anos_pei_diferenca_situacao_inicial = []\n",
    "\n",
    "for escola in df_tratamento_com_ano_inicial['codigo_escola'].unique():\n",
    "    df_escola = df_tratamento_com_ano_inicial[df_tratamento_com_ano_inicial['codigo_escola'] == escola]\n",
    "    dados_escola = {\n",
    "\n",
    "    }\n",
    "    for i, row in df_escola.iterrows():\n",
    "        ano = row['ano_censo']\n",
    "        proporcao = row['proporcao_matriculas_ppi_basica']\n",
    "        \n",
    "        if row['ano_anterior_ao_tratamento'] == ano:\n",
    "            dados_escola['proporcao_inicial'] = proporcao\n",
    "\n",
    "        if row['ano_censo'] == row['ultimo_ano_tratamento']:\n",
    "            dados_escola['proporcao_final'] = proporcao\n",
    "            \n",
    "        ultimo_ano = row['ultimo_ano_tratamento']\n",
    "        primeiro_ano = row['primeiro_ano_tratamento']\n",
    "        anos_tratamento = ultimo_ano - primeiro_ano + 1\n",
    "\n",
    "        dados_escola['anos_tratamento'] = anos_tratamento\n",
    "\n",
    "        \n",
    "\n",
    "    df_relacao_anos_pei_diferenca_situacao_inicial.append(dados_escola)\n",
    "\n",
    "df_relacao_anos_pei_diferenca_situacao_inicial = pd.DataFrame(df_relacao_anos_pei_diferenca_situacao_inicial)"
   ]
  },
  {
   "cell_type": "code",
   "execution_count": 54,
   "id": "e3ce2180",
   "metadata": {},
   "outputs": [
    {
     "data": {
      "text/html": [
       "<div>\n",
       "<style scoped>\n",
       "    .dataframe tbody tr th:only-of-type {\n",
       "        vertical-align: middle;\n",
       "    }\n",
       "\n",
       "    .dataframe tbody tr th {\n",
       "        vertical-align: top;\n",
       "    }\n",
       "\n",
       "    .dataframe thead th {\n",
       "        text-align: right;\n",
       "    }\n",
       "</style>\n",
       "<table border=\"1\" class=\"dataframe\">\n",
       "  <thead>\n",
       "    <tr style=\"text-align: right;\">\n",
       "      <th></th>\n",
       "      <th>proporcao_inicial</th>\n",
       "      <th>anos_tratamento</th>\n",
       "      <th>proporcao_final</th>\n",
       "    </tr>\n",
       "  </thead>\n",
       "  <tbody>\n",
       "    <tr>\n",
       "      <th>0</th>\n",
       "      <td>0.208889</td>\n",
       "      <td>6</td>\n",
       "      <td>0.132948</td>\n",
       "    </tr>\n",
       "    <tr>\n",
       "      <th>1</th>\n",
       "      <td>NaN</td>\n",
       "      <td>7</td>\n",
       "      <td>0.230519</td>\n",
       "    </tr>\n",
       "    <tr>\n",
       "      <th>2</th>\n",
       "      <td>NaN</td>\n",
       "      <td>7</td>\n",
       "      <td>0.098930</td>\n",
       "    </tr>\n",
       "    <tr>\n",
       "      <th>3</th>\n",
       "      <td>0.580762</td>\n",
       "      <td>6</td>\n",
       "      <td>0.301518</td>\n",
       "    </tr>\n",
       "    <tr>\n",
       "      <th>4</th>\n",
       "      <td>NaN</td>\n",
       "      <td>7</td>\n",
       "      <td>0.308219</td>\n",
       "    </tr>\n",
       "  </tbody>\n",
       "</table>\n",
       "</div>"
      ],
      "text/plain": [
       "   proporcao_inicial  anos_tratamento  proporcao_final\n",
       "0           0.208889                6         0.132948\n",
       "1                NaN                7         0.230519\n",
       "2                NaN                7         0.098930\n",
       "3           0.580762                6         0.301518\n",
       "4                NaN                7         0.308219"
      ]
     },
     "execution_count": 54,
     "metadata": {},
     "output_type": "execute_result"
    }
   ],
   "source": [
    "df_relacao_anos_pei_diferenca_situacao_inicial.head()"
   ]
  },
  {
   "cell_type": "code",
   "execution_count": 55,
   "id": "6c37a280",
   "metadata": {},
   "outputs": [
    {
     "data": {
      "text/plain": [
       "np.float64(-0.026429777694305615)"
      ]
     },
     "execution_count": 55,
     "metadata": {},
     "output_type": "execute_result"
    }
   ],
   "source": [
    "df_relacao_anos_pei_diferenca_situacao_inicial['diferenca_proporcao'] = df_relacao_anos_pei_diferenca_situacao_inicial['proporcao_final'] - df_relacao_anos_pei_diferenca_situacao_inicial['proporcao_inicial']\n",
    "df_relacao_anos_pei_diferenca_situacao_inicial['diferenca_proporcao'].mean()"
   ]
  },
  {
   "cell_type": "code",
   "execution_count": 56,
   "id": "721c98a2",
   "metadata": {},
   "outputs": [
    {
     "data": {
      "image/png": "[encoded data removed]",
      "text/plain": [
       "<Figure size 640x480 with 1 Axes>"
      ]
     },
     "metadata": {},
     "output_type": "display_data"
    }
   ],
   "source": [
    "ax = df_relacao_anos_pei_diferenca_situacao_inicial['diferenca_proporcao'].plot.hist()\n",
    "plt.title('Histograma da diferença na proporção de matrículas PPI (final - inicial)')\n",
    "plt.xlabel('Diferença na proporção')\n",
    "plt.ylabel('Frequência')\n",
    "plt.tight_layout()\n",
    "plt.show()\n",
    "\n",
    "fig = ax.get_figure()\n",
    "save_graph(fig, 'histograma_diferenca_proporcao_matriculas_ppi_final_inicial.png')"
   ]
  },
  {
   "cell_type": "code",
   "execution_count": 57,
   "id": "ce0d3aa2",
   "metadata": {},
   "outputs": [
    {
     "data": {
      "image/png": "[encoded data removed]",
      "text/plain": [
       "<Figure size 640x480 with 1 Axes>"
      ]
     },
     "metadata": {},
     "output_type": "display_data"
    }
   ],
   "source": [
    "ax = sns.regplot(\n",
    "    data=df_relacao_anos_pei_diferenca_situacao_inicial,\n",
    "    x='anos_tratamento',\n",
    "    y='diferenca_proporcao',\n",
    "    scatter=True,\n",
    "    line_kws={'color': 'red'}\n",
    ")\n",
    "ax.set_title('Diferença na proporção PEI (final - inicial) vs Anos de tratamento')\n",
    "ax.set_xlabel('Anos de tratamento')\n",
    "ax.set_ylabel('Diferença na proporção PEI (final - inicial)')\n",
    "plt.tight_layout()\n",
    "fig = ax.get_figure()\n",
    "save_graph(fig, 'scatter_diferenca_proporcao_vs_anos_tratamento_regressao.png')"
   ]
  },
  {
   "cell_type": "code",
   "execution_count": 58,
   "id": "1b3c72f0",
   "metadata": {},
   "outputs": [
    {
     "name": "stdout",
     "output_type": "stream",
     "text": [
      "                             OLS Regression Results                            \n",
      "===============================================================================\n",
      "Dep. Variable:     diferenca_proporcao   R-squared:                       0.064\n",
      "Model:                             OLS   Adj. R-squared:                  0.035\n",
      "Method:                  Least Squares   F-statistic:                     2.199\n",
      "Date:                 Sun, 15 Jun 2025   Prob (F-statistic):              0.148\n",
      "Time:                         19:49:33   Log-Likelihood:                 40.979\n",
      "No. Observations:                   34   AIC:                            -77.96\n",
      "Df Residuals:                       32   BIC:                            -74.91\n",
      "Df Model:                            1                                         \n",
      "Covariance Type:             nonrobust                                         \n",
      "===================================================================================\n",
      "                      coef    std err          t      P>|t|      [0.025      0.975]\n",
      "-----------------------------------------------------------------------------------\n",
      "const               0.0093      0.027      0.341      0.735      -0.046       0.065\n",
      "anos_tratamento    -0.0106      0.007     -1.483      0.148      -0.025       0.004\n",
      "==============================================================================\n",
      "Omnibus:                       11.207   Durbin-Watson:                   1.672\n",
      "Prob(Omnibus):                  0.004   Jarque-Bera (JB):               27.789\n",
      "Skew:                           0.312   Prob(JB):                     9.24e-07\n",
      "Kurtosis:                       7.385   Cond. No.                         8.60\n",
      "==============================================================================\n",
      "\n",
      "Notes:\n",
      "[1] Standard Errors assume that the covariance matrix of the errors is correctly specified.\n"
     ]
    }
   ],
   "source": [
    "import statsmodels.api as sm\n",
    "\n",
    "# Remove linhas com valores nulos nas colunas usadas\n",
    "df_reg = df_relacao_anos_pei_diferenca_situacao_inicial.dropna(subset=['diferenca_proporcao', 'anos_tratamento'])\n",
    "\n",
    "X = df_reg[['anos_tratamento']]\n",
    "X = sm.add_constant(X)\n",
    "y = df_reg['diferenca_proporcao']\n",
    "\n",
    "modelo = sm.OLS(y, X).fit()\n",
    "print(modelo.summary())"
   ]
  },
  {
   "cell_type": "code",
   "execution_count": 59,
   "id": "31c97ada",
   "metadata": {},
   "outputs": [
    {
     "data": {
      "text/plain": [
       "Index(['ano_censo', 'sigla_uf', 'nome_municipio', 'codigo_municipio',\n",
       "       'codigo_escola', 'nome_escola', 'qtd_turmas_ed_basica',\n",
       "       'qtd_matr_ed_basica', 'qtd_matr_medio', 'qtd_matr_fundamental',\n",
       "       'qtd_matr_ed_basica_nao_declarada', 'qtd_matr_ed_basica_branca',\n",
       "       'qtd_matr_ed_basica_preta', 'qtd_matr_ed_basica_parda',\n",
       "       'qtd_matr_ed_basica_amarela', 'qtd_matr_ed_basica_indigena',\n",
       "       'qtd_matriculas_fundamental_integral',\n",
       "       'qtd_matriculas_fundamental_anos_iniciais_integral',\n",
       "       'qtd_matriculas_fundamental_anos_finais_integral',\n",
       "       'qtd_matriculas_medio_integral', 'coordenadas', 'is_PEI', '_merge',\n",
       "       'total_matriculas_basica_integral', 'possui_integral',\n",
       "       'total_matriculas_fundamental_integral', 'possui_integral_medio',\n",
       "       'is_PEI_and_possui_medio_integral', 'primeiro_ano_integral_medio',\n",
       "       'ultimo_ano_integral_medio', 'anos_integral_medio',\n",
       "       'ofertou_integral_de_forma_continua', 'prop_matriculas_medio_integral',\n",
       "       'cem_por_cento_medio_integral', 'ofertou_integral_ate_2018',\n",
       "       'tratamento', 'qtd_anos_ofertou_integral_medio',\n",
       "       'qtd_anos_continuos_ofertou_integral_medio',\n",
       "       'integral_geral_nao_tratamento', 'integral_medio_nao_tratamento',\n",
       "       'grupo', 'qtd_matriculas_ppi_basica', 'proporcao_matriculas_ppi_basica',\n",
       "       'apenas_ensino_medio', 'primeiro_ano_tratamento',\n",
       "       'ano_anterior_tratamento', 'ultimo_ano_tratamento',\n",
       "       'ano_anterior_ao_tratamento', 'tratamento_com_ano_inicial'],\n",
       "      dtype='object')"
      ]
     },
     "execution_count": 59,
     "metadata": {},
     "output_type": "execute_result"
    }
   ],
   "source": [
    "df.columns"
   ]
  },
  {
   "cell_type": "code",
   "execution_count": 60,
   "id": "bbdad78f",
   "metadata": {},
   "outputs": [],
   "source": [
    "df_boxplots = []\n",
    "\n",
    "escolas = set(df['codigo_escola'].unique())\n",
    "\n",
    "escolas_tratamento = set(df[df['tratamento']]['codigo_escola'].unique())\n",
    "escolas_sem_tratamento = escolas - escolas_tratamento\n",
    "\n",
    "escolas_integral = set(df[df['possui_integral']]['codigo_escola'].unique())\n",
    "escolas_integral_sem_tratamento = escolas_integral - escolas_tratamento\n",
    "escolas_sem_tratamento_sem_integral = escolas_sem_tratamento - escolas_integral\n",
    "\n",
    "dados_final = []\n",
    "for escola in escolas:\n",
    "    \n",
    "    df_escola = df[df['codigo_escola'] == escola]\n",
    "\n",
    "    ano_inicial = df_escola['ano_censo'].min()\n",
    "    ano_final = df_escola['ano_censo'].max()\n",
    "\n",
    "    dados_escola = {\n",
    "        'codigo_escola': escola,\n",
    "        'ano_inicial': ano_inicial,\n",
    "        'ano_final': ano_final,\n",
    "        'grupo' : None\n",
    "    }\n",
    "\n",
    "    if escola in escolas_integral_sem_tratamento:\n",
    "        dados_escola['grupo'] = '2. Integral mas não PEI'\n",
    "\n",
    "    if escola in escolas_tratamento:\n",
    "        dados_escola['grupo'] = '3. PEI'\n",
    "\n",
    "    if escola in escolas_sem_tratamento_sem_integral:\n",
    "        dados_escola['grupo'] = '1. Sem integral'\n",
    "\n",
    "    for i, row in df_escola.iterrows():\n",
    "        \n",
    "        ano_row = row['ano_censo']\n",
    "        if ano_row == ano_inicial:\n",
    "            proporcao_inicial = row['proporcao_matriculas_ppi_basica']\n",
    "            dados_escola['proporcao_inicial'] = proporcao_inicial\n",
    "        elif ano_row == ano_final:\n",
    "            proporcao_final = row['proporcao_matriculas_ppi_basica']\n",
    "            dados_escola['proporcao_final'] = proporcao_final\n",
    "\n",
    "    dados_final.append(dados_escola)\n",
    "\n",
    "        "
   ]
  },
  {
   "cell_type": "code",
   "execution_count": 61,
   "id": "4051b40b",
   "metadata": {},
   "outputs": [],
   "source": [
    "df_final = pd.DataFrame(dados_final)"
   ]
  },
  {
   "cell_type": "code",
   "execution_count": 62,
   "id": "d18554f3",
   "metadata": {},
   "outputs": [
    {
     "data": {
      "text/html": [
       "<div>\n",
       "<style scoped>\n",
       "    .dataframe tbody tr th:only-of-type {\n",
       "        vertical-align: middle;\n",
       "    }\n",
       "\n",
       "    .dataframe tbody tr th {\n",
       "        vertical-align: top;\n",
       "    }\n",
       "\n",
       "    .dataframe thead th {\n",
       "        text-align: right;\n",
       "    }\n",
       "</style>\n",
       "<table border=\"1\" class=\"dataframe\">\n",
       "  <thead>\n",
       "    <tr style=\"text-align: right;\">\n",
       "      <th></th>\n",
       "      <th>codigo_escola</th>\n",
       "      <th>ano_inicial</th>\n",
       "      <th>ano_final</th>\n",
       "      <th>grupo</th>\n",
       "      <th>proporcao_inicial</th>\n",
       "      <th>proporcao_final</th>\n",
       "    </tr>\n",
       "  </thead>\n",
       "  <tbody>\n",
       "    <tr>\n",
       "      <th>0</th>\n",
       "      <td>35012609</td>\n",
       "      <td>2013</td>\n",
       "      <td>2018</td>\n",
       "      <td>1. Sem integral</td>\n",
       "      <td>0.047794</td>\n",
       "      <td>0.182674</td>\n",
       "    </tr>\n",
       "    <tr>\n",
       "      <th>1</th>\n",
       "      <td>35923977</td>\n",
       "      <td>2014</td>\n",
       "      <td>2018</td>\n",
       "      <td>2. Integral mas não PEI</td>\n",
       "      <td>0.335810</td>\n",
       "      <td>0.364205</td>\n",
       "    </tr>\n",
       "    <tr>\n",
       "      <th>2</th>\n",
       "      <td>35014667</td>\n",
       "      <td>2013</td>\n",
       "      <td>2018</td>\n",
       "      <td>1. Sem integral</td>\n",
       "      <td>0.186885</td>\n",
       "      <td>0.158273</td>\n",
       "    </tr>\n",
       "    <tr>\n",
       "      <th>3</th>\n",
       "      <td>35022861</td>\n",
       "      <td>2011</td>\n",
       "      <td>2018</td>\n",
       "      <td>2. Integral mas não PEI</td>\n",
       "      <td>0.328841</td>\n",
       "      <td>0.503597</td>\n",
       "    </tr>\n",
       "    <tr>\n",
       "      <th>4</th>\n",
       "      <td>35016718</td>\n",
       "      <td>2015</td>\n",
       "      <td>2018</td>\n",
       "      <td>1. Sem integral</td>\n",
       "      <td>0.147460</td>\n",
       "      <td>0.155556</td>\n",
       "    </tr>\n",
       "  </tbody>\n",
       "</table>\n",
       "</div>"
      ],
      "text/plain": [
       "   codigo_escola  ano_inicial  ano_final                    grupo  \\\n",
       "0       35012609         2013       2018          1. Sem integral   \n",
       "1       35923977         2014       2018  2. Integral mas não PEI   \n",
       "2       35014667         2013       2018          1. Sem integral   \n",
       "3       35022861         2011       2018  2. Integral mas não PEI   \n",
       "4       35016718         2015       2018          1. Sem integral   \n",
       "\n",
       "   proporcao_inicial  proporcao_final  \n",
       "0           0.047794         0.182674  \n",
       "1           0.335810         0.364205  \n",
       "2           0.186885         0.158273  \n",
       "3           0.328841         0.503597  \n",
       "4           0.147460         0.155556  "
      ]
     },
     "execution_count": 62,
     "metadata": {},
     "output_type": "execute_result"
    }
   ],
   "source": [
    "df_final.head()"
   ]
  },
  {
   "cell_type": "code",
   "execution_count": 63,
   "id": "1e3a4b1d",
   "metadata": {},
   "outputs": [
    {
     "data": {
      "text/plain": [
       "np.False_"
      ]
     },
     "execution_count": 63,
     "metadata": {},
     "output_type": "execute_result"
    }
   ],
   "source": [
    "df_final['codigo_escola'].duplicated().any()"
   ]
  },
  {
   "cell_type": "code",
   "execution_count": 64,
   "id": "0fd8f5b3",
   "metadata": {},
   "outputs": [
    {
     "data": {
      "text/plain": [
       "np.False_"
      ]
     },
     "execution_count": 64,
     "metadata": {},
     "output_type": "execute_result"
    }
   ],
   "source": [
    "df_final['grupo'].isnull().any()"
   ]
  },
  {
   "cell_type": "code",
   "execution_count": 65,
   "id": "43a5f620",
   "metadata": {},
   "outputs": [],
   "source": [
    "df_final['diff_proporcao'] = df_final['proporcao_final'] - df_final['proporcao_inicial']\n"
   ]
  },
  {
   "cell_type": "code",
   "execution_count": 66,
   "id": "b440cb87",
   "metadata": {},
   "outputs": [
    {
     "data": {
      "image/png": "[encoded data removed]",
      "text/plain": [
       "<Figure size 640x480 with 1 Axes>"
      ]
     },
     "metadata": {},
     "output_type": "display_data"
    }
   ],
   "source": [
    "ax = sns.boxplot(\n",
    "    data=df_final,\n",
    "    x='grupo',\n",
    "    y='diff_proporcao',\n",
    "    showfliers=False\n",
    ")\n",
    "\n",
    "# Calcula médias por grupo\n",
    "medias = df_final.groupby('grupo')['diff_proporcao'].mean()\n",
    "\n",
    "# Adiciona as médias ao gráfico\n",
    "for i, (grupo, media) in enumerate(medias.items()):\n",
    "    ax.scatter(i, media, color='red', zorder=5)  # ponto vermelho\n",
    "    ax.text(i, media, f'{media:.2f}', color='red', ha='center', va='bottom')  # texto\n",
    "\n",
    "plt.title('Distribuição da diferença na proporção de matrículas PPI (final - inicial) por grupo')\n",
    "plt.xlabel('Grupo')\n",
    "plt.ylabel('Diferença na proporção PPI (final - inicial)')\n",
    "plt.tight_layout()\n",
    "plt.show()\n",
    "\n",
    "fig = ax.get_figure()\n",
    "save_graph(fig, 'boxplot_diferenca_proporcao_matriculas_ppi_por_grupo.png')"
   ]
  },
  {
   "cell_type": "code",
   "execution_count": 67,
   "id": "66750539",
   "metadata": {},
   "outputs": [
    {
     "data": {
      "image/png": "[encoded data removed]",
      "text/plain": [
       "<Figure size 800x500 with 1 Axes>"
      ]
     },
     "metadata": {},
     "output_type": "display_data"
    }
   ],
   "source": [
    "plt.figure(figsize=(8, 5))\n",
    "ax = sns.histplot(data=df_final, x='diff_proporcao', hue='grupo', kde=False, element='step', stat='density')\n",
    "plt.title('Histograma: distriuição da diferença na proporção de matrículas PPI (final - inicial) por grupo')\n",
    "plt.xlabel('Diferença na proporção PPI (final - inicial)')\n",
    "plt.ylabel('Densidade')\n",
    "plt.tight_layout()\n",
    "plt.show()\n",
    "\n",
    "fig = ax.get_figure()\n",
    "\n",
    "save_graph(fig, 'histogram_diferenca.png')\n"
   ]
  },
  {
   "cell_type": "code",
   "execution_count": 68,
   "id": "39f6b4c0",
   "metadata": {},
   "outputs": [],
   "source": [
    "pei =  df_final[df_final['grupo'] == '3. PEI']\n",
    "pei = pei.dropna(subset=['diff_proporcao'])\n",
    "\n",
    "integral_nao_pei  = df_final[df_final['grupo'] == '2. Integral mas não PEI']\n",
    "integral_nao_pei = integral_nao_pei.dropna(subset=['diff_proporcao'])\n",
    "\n",
    "sem_integral = df_final[df_final['grupo'] == '1. Sem integral']\n",
    "sem_integral = sem_integral.dropna(subset=['diff_proporcao'])"
   ]
  },
  {
   "cell_type": "code",
   "execution_count": 69,
   "id": "7d4ad762",
   "metadata": {},
   "outputs": [
    {
     "name": "stdout",
     "output_type": "stream",
     "text": [
      "t = -4.3500, p = 0.0000\n"
     ]
    }
   ],
   "source": [
    "from scipy.stats import ttest_ind\n",
    "\n",
    "\n",
    "stat, pval = ttest_ind(pei['diff_proporcao'], integral_nao_pei['diff_proporcao'], equal_var=False)  # Welch’s t-test\n",
    "\n",
    "print(f\"t = {stat:.4f}, p = {pval:.4f}\")"
   ]
  },
  {
   "cell_type": "code",
   "execution_count": 70,
   "id": "b34e0e57",
   "metadata": {},
   "outputs": [
    {
     "name": "stdout",
     "output_type": "stream",
     "text": [
      "t = -2.9262, p = 0.0038\n"
     ]
    }
   ],
   "source": [
    "from scipy.stats import ttest_ind\n",
    "\n",
    "\n",
    "stat, pval = ttest_ind(pei['diff_proporcao'], sem_integral['diff_proporcao'], equal_var=False)  # Welch’s t-test\n",
    "\n",
    "print(f\"t = {stat:.4f}, p = {pval:.4f}\")"
   ]
  }
 ],
 "metadata": {
  "kernelspec": {
   "display_name": "venv",
   "language": "python",
   "name": "python3"
  },
  "language_info": {
   "codemirror_mode": {
    "name": "ipython",
    "version": 3
   },
   "file_extension": ".py",
   "mimetype": "text/x-python",
   "name": "python",
   "nbconvert_exporter": "python",
   "pygments_lexer": "ipython3",
   "version": "3.12.3"
  }
 },
 "nbformat": 4,
 "nbformat_minor": 5
}
