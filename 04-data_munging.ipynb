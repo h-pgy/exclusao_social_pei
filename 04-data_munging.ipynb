{
 "cells": [
  {
   "cell_type": "markdown",
   "id": "8e293f78",
   "metadata": {},
   "source": [
    "### Transformação dos dados\n",
    "\n",
    "Nesse notebook vamos transformar os dados para identificar o momento (ano) em que uma data escola entrou no PEI."
   ]
  },
  {
   "cell_type": "code",
   "execution_count": 1,
   "id": "c4c42851",
   "metadata": {},
   "outputs": [],
   "source": [
    "import pandas as pd\n",
    "\n",
    "from utils.load_csv import load_csv\n"
   ]
  },
  {
   "cell_type": "code",
   "execution_count": 2,
   "id": "468904aa",
   "metadata": {},
   "outputs": [],
   "source": [
    "df = load_csv('dados_merged.csv')"
   ]
  },
  {
   "cell_type": "code",
   "execution_count": 3,
   "id": "887333e2",
   "metadata": {},
   "outputs": [
    {
     "data": {
      "text/html": [
       "<div>\n",
       "<style scoped>\n",
       "    .dataframe tbody tr th:only-of-type {\n",
       "        vertical-align: middle;\n",
       "    }\n",
       "\n",
       "    .dataframe tbody tr th {\n",
       "        vertical-align: top;\n",
       "    }\n",
       "\n",
       "    .dataframe thead th {\n",
       "        text-align: right;\n",
       "    }\n",
       "</style>\n",
       "<table border=\"1\" class=\"dataframe\">\n",
       "  <thead>\n",
       "    <tr style=\"text-align: right;\">\n",
       "      <th></th>\n",
       "      <th>ano_censo</th>\n",
       "      <th>sigla_uf</th>\n",
       "      <th>nome_municipio</th>\n",
       "      <th>codigo_municipio</th>\n",
       "      <th>codigo_escola</th>\n",
       "      <th>nome_escola</th>\n",
       "      <th>qtd_turmas_ed_basica</th>\n",
       "      <th>qtd_matr_ed_basica</th>\n",
       "      <th>qtd_matr_medio</th>\n",
       "      <th>qtd_matr_fundamental</th>\n",
       "      <th>...</th>\n",
       "      <th>qtd_matriculas_infantil_integral</th>\n",
       "      <th>qtd_matriculas_infantil_creche_integral</th>\n",
       "      <th>qtd_matriculas_infantil_pre_escolar_integral</th>\n",
       "      <th>qtd_matriculas_fundamental_integral</th>\n",
       "      <th>qtd_matriculas_fundamental_anos_iniciais_integral</th>\n",
       "      <th>qtd_matriculas_fundamental_anos_finais_integral</th>\n",
       "      <th>qtd_matriculas_medio_integral</th>\n",
       "      <th>coordenadas</th>\n",
       "      <th>is_PEI</th>\n",
       "      <th>_merge</th>\n",
       "    </tr>\n",
       "  </thead>\n",
       "  <tbody>\n",
       "    <tr>\n",
       "      <th>0</th>\n",
       "      <td>2011</td>\n",
       "      <td>SP</td>\n",
       "      <td>adamantina</td>\n",
       "      <td>3500105</td>\n",
       "      <td>35030806</td>\n",
       "      <td>helen keller</td>\n",
       "      <td>25</td>\n",
       "      <td>830</td>\n",
       "      <td>447</td>\n",
       "      <td>303</td>\n",
       "      <td>...</td>\n",
       "      <td>0</td>\n",
       "      <td>0</td>\n",
       "      <td>0</td>\n",
       "      <td>303</td>\n",
       "      <td>0</td>\n",
       "      <td>303</td>\n",
       "      <td>0</td>\n",
       "      <td>['-21.693', '-51.0689']</td>\n",
       "      <td>True</td>\n",
       "      <td>both</td>\n",
       "    </tr>\n",
       "    <tr>\n",
       "      <th>1</th>\n",
       "      <td>2011</td>\n",
       "      <td>SP</td>\n",
       "      <td>adamantina</td>\n",
       "      <td>3500105</td>\n",
       "      <td>35031045</td>\n",
       "      <td>durvalino grion prof</td>\n",
       "      <td>22</td>\n",
       "      <td>771</td>\n",
       "      <td>275</td>\n",
       "      <td>496</td>\n",
       "      <td>...</td>\n",
       "      <td>0</td>\n",
       "      <td>0</td>\n",
       "      <td>0</td>\n",
       "      <td>0</td>\n",
       "      <td>0</td>\n",
       "      <td>0</td>\n",
       "      <td>0</td>\n",
       "      <td>['-21.6786', '-51.0769']</td>\n",
       "      <td>True</td>\n",
       "      <td>both</td>\n",
       "    </tr>\n",
       "    <tr>\n",
       "      <th>2</th>\n",
       "      <td>2011</td>\n",
       "      <td>SP</td>\n",
       "      <td>adamantina</td>\n",
       "      <td>3500105</td>\n",
       "      <td>35031112</td>\n",
       "      <td>fleurides cavallini menechino profa</td>\n",
       "      <td>32</td>\n",
       "      <td>1102</td>\n",
       "      <td>345</td>\n",
       "      <td>757</td>\n",
       "      <td>...</td>\n",
       "      <td>0</td>\n",
       "      <td>0</td>\n",
       "      <td>0</td>\n",
       "      <td>0</td>\n",
       "      <td>0</td>\n",
       "      <td>0</td>\n",
       "      <td>1</td>\n",
       "      <td>['-21.6928', '-51.0703']</td>\n",
       "      <td>True</td>\n",
       "      <td>both</td>\n",
       "    </tr>\n",
       "    <tr>\n",
       "      <th>3</th>\n",
       "      <td>2011</td>\n",
       "      <td>SP</td>\n",
       "      <td>adolfo</td>\n",
       "      <td>3500204</td>\n",
       "      <td>35027352</td>\n",
       "      <td>odila bovolenta de mendonca profa</td>\n",
       "      <td>6</td>\n",
       "      <td>156</td>\n",
       "      <td>156</td>\n",
       "      <td>0</td>\n",
       "      <td>...</td>\n",
       "      <td>0</td>\n",
       "      <td>0</td>\n",
       "      <td>0</td>\n",
       "      <td>0</td>\n",
       "      <td>0</td>\n",
       "      <td>0</td>\n",
       "      <td>0</td>\n",
       "      <td>NaN</td>\n",
       "      <td>False</td>\n",
       "      <td>left_only</td>\n",
       "    </tr>\n",
       "    <tr>\n",
       "      <th>4</th>\n",
       "      <td>2011</td>\n",
       "      <td>SP</td>\n",
       "      <td>aguai</td>\n",
       "      <td>3500303</td>\n",
       "      <td>35020527</td>\n",
       "      <td>geraldo lourenco padre</td>\n",
       "      <td>33</td>\n",
       "      <td>1106</td>\n",
       "      <td>508</td>\n",
       "      <td>598</td>\n",
       "      <td>...</td>\n",
       "      <td>0</td>\n",
       "      <td>0</td>\n",
       "      <td>0</td>\n",
       "      <td>0</td>\n",
       "      <td>0</td>\n",
       "      <td>0</td>\n",
       "      <td>0</td>\n",
       "      <td>NaN</td>\n",
       "      <td>False</td>\n",
       "      <td>left_only</td>\n",
       "    </tr>\n",
       "  </tbody>\n",
       "</table>\n",
       "<p>5 rows × 26 columns</p>\n",
       "</div>"
      ],
      "text/plain": [
       "   ano_censo sigla_uf nome_municipio  codigo_municipio  codigo_escola  \\\n",
       "0       2011       SP     adamantina           3500105       35030806   \n",
       "1       2011       SP     adamantina           3500105       35031045   \n",
       "2       2011       SP     adamantina           3500105       35031112   \n",
       "3       2011       SP         adolfo           3500204       35027352   \n",
       "4       2011       SP          aguai           3500303       35020527   \n",
       "\n",
       "                           nome_escola  qtd_turmas_ed_basica  \\\n",
       "0                         helen keller                    25   \n",
       "1                 durvalino grion prof                    22   \n",
       "2  fleurides cavallini menechino profa                    32   \n",
       "3    odila bovolenta de mendonca profa                     6   \n",
       "4               geraldo lourenco padre                    33   \n",
       "\n",
       "   qtd_matr_ed_basica  qtd_matr_medio  qtd_matr_fundamental  ...  \\\n",
       "0                 830             447                   303  ...   \n",
       "1                 771             275                   496  ...   \n",
       "2                1102             345                   757  ...   \n",
       "3                 156             156                     0  ...   \n",
       "4                1106             508                   598  ...   \n",
       "\n",
       "   qtd_matriculas_infantil_integral  qtd_matriculas_infantil_creche_integral  \\\n",
       "0                                 0                                        0   \n",
       "1                                 0                                        0   \n",
       "2                                 0                                        0   \n",
       "3                                 0                                        0   \n",
       "4                                 0                                        0   \n",
       "\n",
       "   qtd_matriculas_infantil_pre_escolar_integral  \\\n",
       "0                                             0   \n",
       "1                                             0   \n",
       "2                                             0   \n",
       "3                                             0   \n",
       "4                                             0   \n",
       "\n",
       "   qtd_matriculas_fundamental_integral  \\\n",
       "0                                  303   \n",
       "1                                    0   \n",
       "2                                    0   \n",
       "3                                    0   \n",
       "4                                    0   \n",
       "\n",
       "   qtd_matriculas_fundamental_anos_iniciais_integral  \\\n",
       "0                                                  0   \n",
       "1                                                  0   \n",
       "2                                                  0   \n",
       "3                                                  0   \n",
       "4                                                  0   \n",
       "\n",
       "   qtd_matriculas_fundamental_anos_finais_integral  \\\n",
       "0                                              303   \n",
       "1                                                0   \n",
       "2                                                0   \n",
       "3                                                0   \n",
       "4                                                0   \n",
       "\n",
       "   qtd_matriculas_medio_integral               coordenadas  is_PEI     _merge  \n",
       "0                              0   ['-21.693', '-51.0689']    True       both  \n",
       "1                              0  ['-21.6786', '-51.0769']    True       both  \n",
       "2                              1  ['-21.6928', '-51.0703']    True       both  \n",
       "3                              0                       NaN   False  left_only  \n",
       "4                              0                       NaN   False  left_only  \n",
       "\n",
       "[5 rows x 26 columns]"
      ]
     },
     "execution_count": 3,
     "metadata": {},
     "output_type": "execute_result"
    }
   ],
   "source": [
    "df.head()"
   ]
  },
  {
   "cell_type": "code",
   "execution_count": 4,
   "id": "add2f83f",
   "metadata": {},
   "outputs": [
    {
     "data": {
      "text/plain": [
       "Index(['ano_censo', 'sigla_uf', 'nome_municipio', 'codigo_municipio',\n",
       "       'codigo_escola', 'nome_escola', 'qtd_turmas_ed_basica',\n",
       "       'qtd_matr_ed_basica', 'qtd_matr_medio', 'qtd_matr_fundamental',\n",
       "       'qtd_matr_ed_basica_nao_declarada', 'qtd_matr_ed_basica_branca',\n",
       "       'qtd_matr_ed_basica_preta', 'qtd_matr_ed_basica_parda',\n",
       "       'qtd_matr_ed_basica_amarela', 'qtd_matr_ed_basica_indigena',\n",
       "       'qtd_matriculas_infantil_integral',\n",
       "       'qtd_matriculas_infantil_creche_integral',\n",
       "       'qtd_matriculas_infantil_pre_escolar_integral',\n",
       "       'qtd_matriculas_fundamental_integral',\n",
       "       'qtd_matriculas_fundamental_anos_iniciais_integral',\n",
       "       'qtd_matriculas_fundamental_anos_finais_integral',\n",
       "       'qtd_matriculas_medio_integral', 'coordenadas', 'is_PEI', '_merge'],\n",
       "      dtype='object')"
      ]
     },
     "execution_count": 4,
     "metadata": {},
     "output_type": "execute_result"
    }
   ],
   "source": [
    "df.columns"
   ]
  },
  {
   "cell_type": "markdown",
   "id": "8a0d3bd2",
   "metadata": {},
   "source": [
    "Checagem: todos os dados são do estado de São Paulo"
   ]
  },
  {
   "cell_type": "code",
   "execution_count": 5,
   "id": "d77e9774",
   "metadata": {},
   "outputs": [
    {
     "data": {
      "text/plain": [
       "array(['SP'], dtype=object)"
      ]
     },
     "execution_count": 5,
     "metadata": {},
     "output_type": "execute_result"
    }
   ],
   "source": [
    "df['sigla_uf'].unique()"
   ]
  },
  {
   "cell_type": "markdown",
   "id": "7fbc922f",
   "metadata": {},
   "source": [
    "Checagem: os anos são os do período de estudo"
   ]
  },
  {
   "cell_type": "code",
   "execution_count": 6,
   "id": "c900089f",
   "metadata": {},
   "outputs": [
    {
     "data": {
      "text/plain": [
       "array([2011, 2012, 2013, 2014, 2015, 2016, 2017, 2018])"
      ]
     },
     "execution_count": 6,
     "metadata": {},
     "output_type": "execute_result"
    }
   ],
   "source": [
    "df['ano_censo'].unique()"
   ]
  },
  {
   "cell_type": "code",
   "execution_count": 7,
   "id": "572d84bc",
   "metadata": {},
   "outputs": [
    {
     "data": {
      "text/plain": [
       "_merge\n",
       "left_only    15425\n",
       "both         14787\n",
       "Name: count, dtype: int64"
      ]
     },
     "execution_count": 7,
     "metadata": {},
     "output_type": "execute_result"
    }
   ],
   "source": [
    "df['_merge'].value_counts()"
   ]
  },
  {
   "cell_type": "markdown",
   "id": "52c97152",
   "metadata": {},
   "source": [
    "Checagem: a quantidade de escolas marcadas como PEI tem que ser igual ao merge que deu both"
   ]
  },
  {
   "cell_type": "code",
   "execution_count": 8,
   "id": "075aa5bf",
   "metadata": {},
   "outputs": [
    {
     "data": {
      "text/plain": [
       "np.True_"
      ]
     },
     "execution_count": 8,
     "metadata": {},
     "output_type": "execute_result"
    }
   ],
   "source": [
    "df['is_PEI'].sum() == (df['_merge']=='both').sum()"
   ]
  },
  {
   "cell_type": "code",
   "execution_count": 9,
   "id": "7b1cb020",
   "metadata": {},
   "outputs": [
    {
     "data": {
      "text/plain": [
       "['qtd_matriculas_infantil_integral',\n",
       " 'qtd_matriculas_infantil_creche_integral',\n",
       " 'qtd_matriculas_infantil_pre_escolar_integral',\n",
       " 'qtd_matriculas_fundamental_integral',\n",
       " 'qtd_matriculas_fundamental_anos_iniciais_integral',\n",
       " 'qtd_matriculas_fundamental_anos_finais_integral',\n",
       " 'qtd_matriculas_medio_integral']"
      ]
     },
     "execution_count": 9,
     "metadata": {},
     "output_type": "execute_result"
    }
   ],
   "source": [
    "matriculas_integral = [col for col in df.columns if col.endswith('_integral')]\n",
    "matriculas_integral"
   ]
  },
  {
   "cell_type": "code",
   "execution_count": 10,
   "id": "bae46a66",
   "metadata": {},
   "outputs": [
    {
     "data": {
      "text/plain": [
       "qtd_matriculas_infantil_integral                       0\n",
       "qtd_matriculas_infantil_creche_integral                0\n",
       "qtd_matriculas_infantil_pre_escolar_integral           0\n",
       "qtd_matriculas_fundamental_integral                  774\n",
       "qtd_matriculas_fundamental_anos_iniciais_integral    304\n",
       "qtd_matriculas_fundamental_anos_finais_integral      774\n",
       "qtd_matriculas_medio_integral                        598\n",
       "dtype: int64"
      ]
     },
     "execution_count": 10,
     "metadata": {},
     "output_type": "execute_result"
    }
   ],
   "source": [
    "df[matriculas_integral].max()"
   ]
  },
  {
   "cell_type": "markdown",
   "id": "36e3b56b",
   "metadata": {},
   "source": [
    "Como nennhuma escola tem infantil integral, vamos manter apenas as colunas para o médio e para o fundamental."
   ]
  },
  {
   "cell_type": "code",
   "execution_count": 11,
   "id": "ee491545",
   "metadata": {},
   "outputs": [],
   "source": [
    "df['total_matriculas_basica_integral'] = df[matriculas_integral].sum(axis=1)"
   ]
  },
  {
   "cell_type": "code",
   "execution_count": 12,
   "id": "af6ba16c",
   "metadata": {},
   "outputs": [],
   "source": [
    "df.drop(columns=[col for col in matriculas_integral if 'infantil' in col], inplace=True)"
   ]
  },
  {
   "cell_type": "code",
   "execution_count": 13,
   "id": "2480ef30",
   "metadata": {},
   "outputs": [],
   "source": [
    "df['possui_integral'] = df['total_matriculas_basica_integral'] > 0"
   ]
  },
  {
   "cell_type": "code",
   "execution_count": 14,
   "id": "c46b28d1",
   "metadata": {},
   "outputs": [
    {
     "data": {
      "text/plain": [
       "np.int64(7945)"
      ]
     },
     "execution_count": 14,
     "metadata": {},
     "output_type": "execute_result"
    }
   ],
   "source": [
    "df['possui_integral'].sum()"
   ]
  },
  {
   "cell_type": "code",
   "execution_count": 15,
   "id": "53a18d61",
   "metadata": {},
   "outputs": [],
   "source": [
    "df['total_matriculas_fundamental_integral'] = df[[col for col in matriculas_integral if 'fundamental' in col]].sum(axis=1)"
   ]
  },
  {
   "cell_type": "code",
   "execution_count": 16,
   "id": "9ec8abe2",
   "metadata": {},
   "outputs": [
    {
     "data": {
      "text/plain": [
       "Index(['ano_censo', 'sigla_uf', 'nome_municipio', 'codigo_municipio',\n",
       "       'codigo_escola', 'nome_escola', 'qtd_turmas_ed_basica',\n",
       "       'qtd_matr_ed_basica', 'qtd_matr_medio', 'qtd_matr_fundamental',\n",
       "       'qtd_matr_ed_basica_nao_declarada', 'qtd_matr_ed_basica_branca',\n",
       "       'qtd_matr_ed_basica_preta', 'qtd_matr_ed_basica_parda',\n",
       "       'qtd_matr_ed_basica_amarela', 'qtd_matr_ed_basica_indigena',\n",
       "       'qtd_matriculas_fundamental_integral',\n",
       "       'qtd_matriculas_fundamental_anos_iniciais_integral',\n",
       "       'qtd_matriculas_fundamental_anos_finais_integral',\n",
       "       'qtd_matriculas_medio_integral', 'coordenadas', 'is_PEI', '_merge',\n",
       "       'total_matriculas_basica_integral', 'possui_integral',\n",
       "       'total_matriculas_fundamental_integral'],\n",
       "      dtype='object')"
      ]
     },
     "execution_count": 16,
     "metadata": {},
     "output_type": "execute_result"
    }
   ],
   "source": [
    "df.columns"
   ]
  },
  {
   "cell_type": "code",
   "execution_count": 17,
   "id": "62368046",
   "metadata": {},
   "outputs": [
    {
     "data": {
      "text/plain": [
       "np.int64(14787)"
      ]
     },
     "execution_count": 17,
     "metadata": {},
     "output_type": "execute_result"
    }
   ],
   "source": [
    "df['is_PEI'].sum()"
   ]
  },
  {
   "cell_type": "markdown",
   "id": "f831bf8c",
   "metadata": {},
   "source": [
    "### Quantidade de escolas marcadas como PEI versus quantidade de escolas com matrículas no integral\n",
    "\n",
    "Como esperado, temos mais escolas marcadas como PEI do que escolas que possuem efetivamente matrículas no integral.\n",
    "\n",
    "Isso ocorre porque o nosso dado do PEI é de 2025. E o estudo tem como último ano 2018 (quando o PEI foi alterado). Dessa forma, temos escolas que entraram no integral posteriormente ao período de estudo e que não possuem matrículas no integral na base do censo até 2018. Então isso está como o esperado.\n",
    "\n",
    "\n"
   ]
  },
  {
   "cell_type": "code",
   "execution_count": 18,
   "id": "0719484b",
   "metadata": {},
   "outputs": [
    {
     "data": {
      "text/plain": [
       "np.int64(6842)"
      ]
     },
     "execution_count": 18,
     "metadata": {},
     "output_type": "execute_result"
    }
   ],
   "source": [
    "df['is_PEI'].sum() - df['possui_integral'].sum()"
   ]
  },
  {
   "cell_type": "markdown",
   "id": "186ca6b5",
   "metadata": {},
   "source": [
    "### Objeto do estudo: ensino médio\n",
    "\n",
    "No entanto, o objeto do nosso estudo é o ensino médio apenas (pois é mais fácil de comparar). Então vamos identificar agora apenas as escolas qeu tem ensino médio integral"
   ]
  },
  {
   "cell_type": "markdown",
   "id": "488d8019",
   "metadata": {},
   "source": [
    "Checando se todas as escolas ofertaram ensino medio"
   ]
  },
  {
   "cell_type": "code",
   "execution_count": 19,
   "id": "0a1c1a43",
   "metadata": {},
   "outputs": [
    {
     "data": {
      "text/plain": [
       "np.True_"
      ]
     },
     "execution_count": 19,
     "metadata": {},
     "output_type": "execute_result"
    }
   ],
   "source": [
    "(df['qtd_matr_medio']>0).all()"
   ]
  },
  {
   "cell_type": "code",
   "execution_count": 20,
   "id": "bd195e9e",
   "metadata": {},
   "outputs": [
    {
     "data": {
      "text/plain": [
       "np.int64(2245)"
      ]
     },
     "execution_count": 20,
     "metadata": {},
     "output_type": "execute_result"
    }
   ],
   "source": [
    "df['possui_integral_medio'] = df['qtd_matriculas_medio_integral']>0\n",
    "df['possui_integral_medio'].sum()"
   ]
  },
  {
   "cell_type": "markdown",
   "id": "dc081e11",
   "metadata": {},
   "source": [
    "26% das escolas possuem ensino médio integral"
   ]
  },
  {
   "cell_type": "code",
   "execution_count": 21,
   "id": "4a919a66",
   "metadata": {},
   "outputs": [
    {
     "data": {
      "text/plain": [
       "0.26198889449772844"
      ]
     },
     "execution_count": 21,
     "metadata": {},
     "output_type": "execute_result"
    }
   ],
   "source": [
    "\n",
    "df[df['possui_integral_medio']]['codigo_escola'].nunique()/df['codigo_escola'].nunique()\n"
   ]
  },
  {
   "cell_type": "code",
   "execution_count": 22,
   "id": "dc1136c4",
   "metadata": {},
   "outputs": [
    {
     "data": {
      "text/plain": [
       "np.int64(1493)"
      ]
     },
     "execution_count": 22,
     "metadata": {},
     "output_type": "execute_result"
    }
   ],
   "source": [
    "df['is_PEI_and_possui_medio_integral'] = df['is_PEI'] & df['possui_integral_medio']\n",
    "df['is_PEI_and_possui_medio_integral'].sum()"
   ]
  },
  {
   "cell_type": "markdown",
   "id": "5a9d093b",
   "metadata": {},
   "source": [
    "Existem 1357 escolas que estão marcadas como PEI mas que não possuem ensino médio integral.\n",
    "\n",
    "Novamente isso se deve ao fato das escolas terem entrado no PEI posteriormente."
   ]
  },
  {
   "cell_type": "code",
   "execution_count": 23,
   "id": "5c1c2af5",
   "metadata": {},
   "outputs": [
    {
     "data": {
      "text/plain": [
       "1357"
      ]
     },
     "execution_count": 23,
     "metadata": {},
     "output_type": "execute_result"
    }
   ],
   "source": [
    "len(set(df[df['is_PEI']]['codigo_escola'].unique()) - set(df[df['is_PEI_and_possui_medio_integral']]['codigo_escola'].unique()))"
   ]
  },
  {
   "cell_type": "markdown",
   "id": "8e3fff35",
   "metadata": {},
   "source": [
    "Existem 458 escolas que "
   ]
  },
  {
   "cell_type": "code",
   "execution_count": 24,
   "id": "141d10e1",
   "metadata": {},
   "outputs": [
    {
     "name": "stdout",
     "output_type": "stream",
     "text": [
      "QTD Escolas com integral sem PEI: 458\n"
     ]
    }
   ],
   "source": [
    "escolas_com_integral_sem_pei = set(df[df['possui_integral_medio']]['codigo_escola'].unique()) - set(df[df['is_PEI_and_possui_medio_integral']]['codigo_escola'].unique())\n",
    "print(f'QTD Escolas com integral sem PEI: {len(escolas_com_integral_sem_pei)}')"
   ]
  },
  {
   "cell_type": "code",
   "execution_count": 25,
   "id": "3056cd35",
   "metadata": {},
   "outputs": [
    {
     "data": {
      "text/plain": [
       "0.11559818273599193"
      ]
     },
     "execution_count": 25,
     "metadata": {},
     "output_type": "execute_result"
    }
   ],
   "source": [
    "len(escolas_com_integral_sem_pei)/df['codigo_escola'].nunique()"
   ]
  },
  {
   "cell_type": "code",
   "execution_count": 26,
   "id": "3ea35d48",
   "metadata": {},
   "outputs": [
    {
     "data": {
      "text/plain": [
       "0.2364481156427465"
      ]
     },
     "execution_count": 26,
     "metadata": {},
     "output_type": "execute_result"
    }
   ],
   "source": [
    "len(escolas_com_integral_sem_pei)/df[df['is_PEI']]['codigo_escola'].nunique()"
   ]
  },
  {
   "cell_type": "markdown",
   "id": "5eeb124d",
   "metadata": {},
   "source": [
    "Essas escolas representam 11% do total de escolas e 23% do total de escolas marcadas como PEI."
   ]
  },
  {
   "cell_type": "code",
   "execution_count": 27,
   "id": "873e52a0",
   "metadata": {},
   "outputs": [],
   "source": [
    "def anos_com_integral_no_medio(df):\n",
    "\n",
    "    escolas = df['codigo_escola'].unique()\n",
    "    df['primeiro_ano_integral_medio'] = None\n",
    "    df['ultimo_ano_integral_medio'] = None\n",
    "    df['anos_integral_medio'] = None\n",
    "    for escola in escolas:\n",
    "        ids_escola = df[df['codigo_escola'] == escola].index\n",
    "        df_escola = df[df['codigo_escola'] == escola]\n",
    "        df_escola_integral = df_escola[df_escola['possui_integral_medio']]\n",
    "        anos = df_escola_integral['ano_censo'].unique()\n",
    "        if anos.size>0:\n",
    "            primeiro_ano = anos.min()\n",
    "            ultimo_ano = anos.max()\n",
    "            df.loc[ids_escola, 'primeiro_ano_integral_medio'] = primeiro_ano\n",
    "            df.loc[ids_escola, 'ultimo_ano_integral_medio'] = ultimo_ano\n",
    "            df.loc[ids_escola, 'anos_integral_medio'] = ','.join([str(ano) for ano in anos])\n",
    "\n",
    "    return df\n",
    "\n",
    "\n",
    "        \n"
   ]
  },
  {
   "cell_type": "code",
   "execution_count": 28,
   "id": "1bbb305c",
   "metadata": {},
   "outputs": [
    {
     "data": {
      "text/plain": [
       "3644                    None\n",
       "25414    2015,2016,2017,2018\n",
       "17163                   None\n",
       "12015                   2012\n",
       "10585                   None\n",
       "Name: anos_integral_medio, dtype: object"
      ]
     },
     "execution_count": 28,
     "metadata": {},
     "output_type": "execute_result"
    }
   ],
   "source": [
    "df = anos_com_integral_no_medio(df)\n",
    "df['anos_integral_medio'].sample(5)"
   ]
  },
  {
   "cell_type": "code",
   "execution_count": 29,
   "id": "42707448",
   "metadata": {},
   "outputs": [
    {
     "data": {
      "text/plain": [
       "ano_censo                                                                          2013\n",
       "sigla_uf                                                                             SP\n",
       "nome_municipio                                                                sao paulo\n",
       "codigo_municipio                                                                3550308\n",
       "codigo_escola                                                                  35003669\n",
       "nome_escola                                                      alexandre von humboldt\n",
       "qtd_turmas_ed_basica                                                                 12\n",
       "qtd_matr_ed_basica                                                                  403\n",
       "qtd_matr_medio                                                                      403\n",
       "qtd_matr_fundamental                                                                  0\n",
       "qtd_matr_ed_basica_nao_declarada                                                    200\n",
       "qtd_matr_ed_basica_branca                                                           137\n",
       "qtd_matr_ed_basica_preta                                                              8\n",
       "qtd_matr_ed_basica_parda                                                             56\n",
       "qtd_matr_ed_basica_amarela                                                            1\n",
       "qtd_matr_ed_basica_indigena                                                           1\n",
       "qtd_matriculas_fundamental_integral                                                   0\n",
       "qtd_matriculas_fundamental_anos_iniciais_integral                                     0\n",
       "qtd_matriculas_fundamental_anos_finais_integral                                       0\n",
       "qtd_matriculas_medio_integral                                                       403\n",
       "coordenadas                                                    ['-23.5074', '-46.7115']\n",
       "is_PEI                                                                             True\n",
       "_merge                                                                             both\n",
       "total_matriculas_basica_integral                                                    403\n",
       "possui_integral                                                                    True\n",
       "total_matriculas_fundamental_integral                                                 0\n",
       "possui_integral_medio                                                              True\n",
       "is_PEI_and_possui_medio_integral                                                   True\n",
       "primeiro_ano_integral_medio                                                        2012\n",
       "ultimo_ano_integral_medio                                                          2018\n",
       "anos_integral_medio                                  2012,2013,2014,2015,2016,2017,2018\n",
       "Name: 10367, dtype: object"
      ]
     },
     "execution_count": 29,
     "metadata": {},
     "output_type": "execute_result"
    }
   ],
   "source": [
    "df.loc[10367]"
   ]
  },
  {
   "cell_type": "code",
   "execution_count": 30,
   "id": "0ce26e8a",
   "metadata": {},
   "outputs": [
    {
     "data": {
      "text/plain": [
       "np.int64(2018)"
      ]
     },
     "execution_count": 30,
     "metadata": {},
     "output_type": "execute_result"
    }
   ],
   "source": [
    "df['primeiro_ano_integral_medio'].max()"
   ]
  },
  {
   "cell_type": "code",
   "execution_count": 31,
   "id": "b5dae9d1",
   "metadata": {},
   "outputs": [
    {
     "data": {
      "text/plain": [
       "np.int64(2)"
      ]
     },
     "execution_count": 31,
     "metadata": {},
     "output_type": "execute_result"
    }
   ],
   "source": [
    "df['ultimo_ano_integral_medio'].argmin()"
   ]
  },
  {
   "cell_type": "code",
   "execution_count": 32,
   "id": "a4fee9c7",
   "metadata": {},
   "outputs": [
    {
     "data": {
      "text/plain": [
       "ano_censo                                                                           2011\n",
       "sigla_uf                                                                              SP\n",
       "nome_municipio                                                                adamantina\n",
       "codigo_municipio                                                                 3500105\n",
       "codigo_escola                                                                   35031112\n",
       "nome_escola                                          fleurides cavallini menechino profa\n",
       "qtd_turmas_ed_basica                                                                  32\n",
       "qtd_matr_ed_basica                                                                  1102\n",
       "qtd_matr_medio                                                                       345\n",
       "qtd_matr_fundamental                                                                 757\n",
       "qtd_matr_ed_basica_nao_declarada                                                      61\n",
       "qtd_matr_ed_basica_branca                                                            829\n",
       "qtd_matr_ed_basica_preta                                                               5\n",
       "qtd_matr_ed_basica_parda                                                             193\n",
       "qtd_matr_ed_basica_amarela                                                            11\n",
       "qtd_matr_ed_basica_indigena                                                            3\n",
       "qtd_matriculas_fundamental_integral                                                    0\n",
       "qtd_matriculas_fundamental_anos_iniciais_integral                                      0\n",
       "qtd_matriculas_fundamental_anos_finais_integral                                        0\n",
       "qtd_matriculas_medio_integral                                                          1\n",
       "coordenadas                                                     ['-21.6928', '-51.0703']\n",
       "is_PEI                                                                              True\n",
       "_merge                                                                              both\n",
       "total_matriculas_basica_integral                                                       1\n",
       "possui_integral                                                                     True\n",
       "total_matriculas_fundamental_integral                                                  0\n",
       "possui_integral_medio                                                               True\n",
       "is_PEI_and_possui_medio_integral                                                    True\n",
       "primeiro_ano_integral_medio                                                         2011\n",
       "ultimo_ano_integral_medio                                                           2011\n",
       "anos_integral_medio                                                                 2011\n",
       "Name: 2, dtype: object"
      ]
     },
     "execution_count": 32,
     "metadata": {},
     "output_type": "execute_result"
    }
   ],
   "source": [
    "df.loc[df['ultimo_ano_integral_medio'].argmin()]"
   ]
  },
  {
   "cell_type": "code",
   "execution_count": 33,
   "id": "69886444",
   "metadata": {},
   "outputs": [
    {
     "data": {
      "text/html": [
       "<div>\n",
       "<style scoped>\n",
       "    .dataframe tbody tr th:only-of-type {\n",
       "        vertical-align: middle;\n",
       "    }\n",
       "\n",
       "    .dataframe tbody tr th {\n",
       "        vertical-align: top;\n",
       "    }\n",
       "\n",
       "    .dataframe thead th {\n",
       "        text-align: right;\n",
       "    }\n",
       "</style>\n",
       "<table border=\"1\" class=\"dataframe\">\n",
       "  <thead>\n",
       "    <tr style=\"text-align: right;\">\n",
       "      <th></th>\n",
       "      <th>codigo_escola</th>\n",
       "      <th>nome_escola</th>\n",
       "      <th>ano_censo</th>\n",
       "      <th>anos_integral_medio</th>\n",
       "      <th>qtd_matriculas_medio_integral</th>\n",
       "      <th>possui_integral_medio</th>\n",
       "      <th>is_PEI</th>\n",
       "      <th>is_PEI_and_possui_medio_integral</th>\n",
       "    </tr>\n",
       "  </thead>\n",
       "  <tbody>\n",
       "    <tr>\n",
       "      <th>2</th>\n",
       "      <td>35031112</td>\n",
       "      <td>fleurides cavallini menechino profa</td>\n",
       "      <td>2011</td>\n",
       "      <td>2011</td>\n",
       "      <td>1</td>\n",
       "      <td>True</td>\n",
       "      <td>True</td>\n",
       "      <td>True</td>\n",
       "    </tr>\n",
       "    <tr>\n",
       "      <th>3661</th>\n",
       "      <td>35031112</td>\n",
       "      <td>fleurides cavallini menechino profa</td>\n",
       "      <td>2012</td>\n",
       "      <td>2011</td>\n",
       "      <td>0</td>\n",
       "      <td>False</td>\n",
       "      <td>True</td>\n",
       "      <td>False</td>\n",
       "    </tr>\n",
       "    <tr>\n",
       "      <th>7424</th>\n",
       "      <td>35031112</td>\n",
       "      <td>fleurides cavallini menechino profa</td>\n",
       "      <td>2013</td>\n",
       "      <td>2011</td>\n",
       "      <td>0</td>\n",
       "      <td>False</td>\n",
       "      <td>True</td>\n",
       "      <td>False</td>\n",
       "    </tr>\n",
       "    <tr>\n",
       "      <th>11190</th>\n",
       "      <td>35031112</td>\n",
       "      <td>fleurides cavallini menechino profa</td>\n",
       "      <td>2014</td>\n",
       "      <td>2011</td>\n",
       "      <td>0</td>\n",
       "      <td>False</td>\n",
       "      <td>True</td>\n",
       "      <td>False</td>\n",
       "    </tr>\n",
       "    <tr>\n",
       "      <th>14969</th>\n",
       "      <td>35031112</td>\n",
       "      <td>fleurides cavallini menechino profa</td>\n",
       "      <td>2015</td>\n",
       "      <td>2011</td>\n",
       "      <td>0</td>\n",
       "      <td>False</td>\n",
       "      <td>True</td>\n",
       "      <td>False</td>\n",
       "    </tr>\n",
       "    <tr>\n",
       "      <th>18775</th>\n",
       "      <td>35031112</td>\n",
       "      <td>fleurides cavallini menechino profa</td>\n",
       "      <td>2016</td>\n",
       "      <td>2011</td>\n",
       "      <td>0</td>\n",
       "      <td>False</td>\n",
       "      <td>True</td>\n",
       "      <td>False</td>\n",
       "    </tr>\n",
       "    <tr>\n",
       "      <th>22588</th>\n",
       "      <td>35031112</td>\n",
       "      <td>fleurides cavallini menechino profa</td>\n",
       "      <td>2017</td>\n",
       "      <td>2011</td>\n",
       "      <td>0</td>\n",
       "      <td>False</td>\n",
       "      <td>True</td>\n",
       "      <td>False</td>\n",
       "    </tr>\n",
       "    <tr>\n",
       "      <th>26411</th>\n",
       "      <td>35031112</td>\n",
       "      <td>fleurides cavallini menechino profa</td>\n",
       "      <td>2018</td>\n",
       "      <td>2011</td>\n",
       "      <td>0</td>\n",
       "      <td>False</td>\n",
       "      <td>True</td>\n",
       "      <td>False</td>\n",
       "    </tr>\n",
       "  </tbody>\n",
       "</table>\n",
       "</div>"
      ],
      "text/plain": [
       "       codigo_escola                          nome_escola  ano_censo  \\\n",
       "2           35031112  fleurides cavallini menechino profa       2011   \n",
       "3661        35031112  fleurides cavallini menechino profa       2012   \n",
       "7424        35031112  fleurides cavallini menechino profa       2013   \n",
       "11190       35031112  fleurides cavallini menechino profa       2014   \n",
       "14969       35031112  fleurides cavallini menechino profa       2015   \n",
       "18775       35031112  fleurides cavallini menechino profa       2016   \n",
       "22588       35031112  fleurides cavallini menechino profa       2017   \n",
       "26411       35031112  fleurides cavallini menechino profa       2018   \n",
       "\n",
       "      anos_integral_medio  qtd_matriculas_medio_integral  \\\n",
       "2                    2011                              1   \n",
       "3661                 2011                              0   \n",
       "7424                 2011                              0   \n",
       "11190                2011                              0   \n",
       "14969                2011                              0   \n",
       "18775                2011                              0   \n",
       "22588                2011                              0   \n",
       "26411                2011                              0   \n",
       "\n",
       "       possui_integral_medio  is_PEI  is_PEI_and_possui_medio_integral  \n",
       "2                       True    True                              True  \n",
       "3661                   False    True                             False  \n",
       "7424                   False    True                             False  \n",
       "11190                  False    True                             False  \n",
       "14969                  False    True                             False  \n",
       "18775                  False    True                             False  \n",
       "22588                  False    True                             False  \n",
       "26411                  False    True                             False  "
      ]
     },
     "execution_count": 33,
     "metadata": {},
     "output_type": "execute_result"
    }
   ],
   "source": [
    "df[df['codigo_escola']==35031112][['codigo_escola', 'nome_escola', 'ano_censo', 'anos_integral_medio','qtd_matriculas_medio_integral', 'possui_integral_medio', 'is_PEI', 'is_PEI_and_possui_medio_integral']]"
   ]
  },
  {
   "cell_type": "code",
   "execution_count": 34,
   "id": "97845171",
   "metadata": {},
   "outputs": [],
   "source": [
    "def escola_com_integral_periodo_todo(df):\n",
    "\n",
    "    escolas = df['codigo_escola'].unique()\n",
    "    df['ofertou_integral_de_forma_continua'] = False\n",
    "    for escola in escolas:\n",
    "        ids_escola = df[df['codigo_escola'] == escola].index\n",
    "        df_escola = df[df['codigo_escola'] == escola]\n",
    "        if df_escola['possui_integral_medio'].max():\n",
    "            primeiro_ano = int(df_escola['primeiro_ano_integral_medio'].unique()[0])\n",
    "            \n",
    "\n",
    "            ultimo_ano = int(df_escola['ultimo_ano_integral_medio'].unique()[0])\n",
    "            anos = df_escola['anos_integral_medio'].unique()[0].split(',')\n",
    "            anos = [int(ano) for ano in anos]\n",
    "\n",
    "            # a escola que ofertou apenas em 2011 nao pode ser considerada como ofertando de forma continua\n",
    "            if len(anos)==1 and primeiro_ano==2011:\n",
    "                continue\n",
    "\n",
    "            #ajustar o primeiro ano para nao considerar 2011 pois em 2011 nao existia o PEI\n",
    "            if primeiro_ano == 2011:\n",
    "                anos.remove(2011)\n",
    "                primeiro_ano = min(anos)\n",
    "\n",
    "            continuo = anos == list(range(primeiro_ano, ultimo_ano + 1))\n",
    "            df.loc[ids_escola, 'ofertou_integral_de_forma_continua'] = continuo\n",
    "    return df\n"
   ]
  },
  {
   "cell_type": "code",
   "execution_count": 35,
   "id": "81e1afcc",
   "metadata": {},
   "outputs": [
    {
     "data": {
      "text/plain": [
       "np.int64(6608)"
      ]
     },
     "execution_count": 35,
     "metadata": {},
     "output_type": "execute_result"
    }
   ],
   "source": [
    "df = escola_com_integral_periodo_todo(df)\n",
    "df['ofertou_integral_de_forma_continua'].sum()"
   ]
  },
  {
   "cell_type": "code",
   "execution_count": 36,
   "id": "d0559c2c",
   "metadata": {},
   "outputs": [
    {
     "data": {
      "text/plain": [
       "np.float64(0.21872103799814643)"
      ]
     },
     "execution_count": 36,
     "metadata": {},
     "output_type": "execute_result"
    }
   ],
   "source": [
    "df['ofertou_integral_de_forma_continua'].mean()"
   ]
  },
  {
   "cell_type": "code",
   "execution_count": 37,
   "id": "f4ca0e43",
   "metadata": {},
   "outputs": [
    {
     "data": {
      "text/plain": [
       "0.212771327612317"
      ]
     },
     "execution_count": 37,
     "metadata": {},
     "output_type": "execute_result"
    }
   ],
   "source": [
    "df[df['ofertou_integral_de_forma_continua']]['codigo_escola'].nunique() / df['codigo_escola'].nunique()"
   ]
  },
  {
   "cell_type": "code",
   "execution_count": 38,
   "id": "c36b4137",
   "metadata": {},
   "outputs": [
    {
     "data": {
      "text/plain": [
       "0.4352090862157976"
      ]
     },
     "execution_count": 38,
     "metadata": {},
     "output_type": "execute_result"
    }
   ],
   "source": [
    "df[df['ofertou_integral_de_forma_continua']]['codigo_escola'].nunique()/df[df['is_PEI']]['codigo_escola'].nunique()"
   ]
  },
  {
   "cell_type": "code",
   "execution_count": 39,
   "id": "0b0ca350",
   "metadata": {},
   "outputs": [
    {
     "data": {
      "text/plain": [
       "0.8121387283236994"
      ]
     },
     "execution_count": 39,
     "metadata": {},
     "output_type": "execute_result"
    }
   ],
   "source": [
    "df[df['ofertou_integral_de_forma_continua']]['codigo_escola'].nunique()/df[df['possui_integral_medio']]['codigo_escola'].nunique()"
   ]
  },
  {
   "cell_type": "markdown",
   "id": "9404577c",
   "metadata": {},
   "source": [
    "### Tratamento:\n",
    "\n",
    "Escolas que estão marcadas como PEI e que ofertaram o integral de forma contínua nesse período até 2018"
   ]
  },
  {
   "cell_type": "code",
   "execution_count": 40,
   "id": "e376b2fd",
   "metadata": {},
   "outputs": [],
   "source": [
    "df['ofertou_integral_ate_2018'] = df['ultimo_ano_integral_medio'].apply(lambda x: int(x) if x else 999999) <= 2018"
   ]
  },
  {
   "cell_type": "code",
   "execution_count": 41,
   "id": "3ac9eaaf",
   "metadata": {},
   "outputs": [],
   "source": [
    "df['tratamento'] = df['ofertou_integral_de_forma_continua'] & df['is_PEI_and_possui_medio_integral'] & df['ofertou_integral_ate_2018']"
   ]
  },
  {
   "cell_type": "markdown",
   "id": "68dd860f",
   "metadata": {},
   "source": [
    "Ao todo são 498 escolas com tratamento. O que represena 4% dos registros e 12% das escolas únicas."
   ]
  },
  {
   "cell_type": "code",
   "execution_count": 42,
   "id": "9af9195f",
   "metadata": {},
   "outputs": [
    {
     "data": {
      "text/plain": [
       "498"
      ]
     },
     "execution_count": 42,
     "metadata": {},
     "output_type": "execute_result"
    }
   ],
   "source": [
    "df[df['tratamento']]['codigo_escola'].nunique()"
   ]
  },
  {
   "cell_type": "code",
   "execution_count": 43,
   "id": "caa52884",
   "metadata": {},
   "outputs": [
    {
     "data": {
      "text/plain": [
       "0.12569409389197375"
      ]
     },
     "execution_count": 43,
     "metadata": {},
     "output_type": "execute_result"
    }
   ],
   "source": [
    "df[df['tratamento']]['codigo_escola'].nunique()/ df['codigo_escola'].nunique()"
   ]
  },
  {
   "cell_type": "code",
   "execution_count": 44,
   "id": "8fe4beba",
   "metadata": {},
   "outputs": [
    {
     "data": {
      "text/plain": [
       "np.float64(0.043161657619488945)"
      ]
     },
     "execution_count": 44,
     "metadata": {},
     "output_type": "execute_result"
    }
   ],
   "source": [
    "df['tratamento'].mean()"
   ]
  },
  {
   "cell_type": "code",
   "execution_count": 45,
   "id": "5ba85034",
   "metadata": {},
   "outputs": [
    {
     "data": {
      "text/html": [
       "<div>\n",
       "<style scoped>\n",
       "    .dataframe tbody tr th:only-of-type {\n",
       "        vertical-align: middle;\n",
       "    }\n",
       "\n",
       "    .dataframe tbody tr th {\n",
       "        vertical-align: top;\n",
       "    }\n",
       "\n",
       "    .dataframe thead th {\n",
       "        text-align: right;\n",
       "    }\n",
       "</style>\n",
       "<table border=\"1\" class=\"dataframe\">\n",
       "  <thead>\n",
       "    <tr style=\"text-align: right;\">\n",
       "      <th></th>\n",
       "      <th>codigo_escola</th>\n",
       "      <th>nome_escola</th>\n",
       "    </tr>\n",
       "  </thead>\n",
       "  <tbody>\n",
       "    <tr>\n",
       "      <th>27007</th>\n",
       "      <td>35009854</td>\n",
       "      <td>willian rodrigues rebua professor</td>\n",
       "    </tr>\n",
       "    <tr>\n",
       "      <th>28167</th>\n",
       "      <td>35041497</td>\n",
       "      <td>carlos lima dias doutor</td>\n",
       "    </tr>\n",
       "    <tr>\n",
       "      <th>29794</th>\n",
       "      <td>35923527</td>\n",
       "      <td>luciane do espirito santo profa</td>\n",
       "    </tr>\n",
       "    <tr>\n",
       "      <th>21641</th>\n",
       "      <td>35001363</td>\n",
       "      <td>sao paulo</td>\n",
       "    </tr>\n",
       "    <tr>\n",
       "      <th>756</th>\n",
       "      <td>35924436</td>\n",
       "      <td>rodolfo jose da costa e silva</td>\n",
       "    </tr>\n",
       "    <tr>\n",
       "      <th>20881</th>\n",
       "      <td>35021064</td>\n",
       "      <td>jeronymo gallo monsenhor</td>\n",
       "    </tr>\n",
       "    <tr>\n",
       "      <th>10509</th>\n",
       "      <td>35037710</td>\n",
       "      <td>milton da silva rodrigues professor</td>\n",
       "    </tr>\n",
       "    <tr>\n",
       "      <th>14843</th>\n",
       "      <td>35014175</td>\n",
       "      <td>amador bueno da veiga</td>\n",
       "    </tr>\n",
       "    <tr>\n",
       "      <th>16860</th>\n",
       "      <td>35049712</td>\n",
       "      <td>dalva vieira itavo professora</td>\n",
       "    </tr>\n",
       "    <tr>\n",
       "      <th>20187</th>\n",
       "      <td>35015702</td>\n",
       "      <td>antonio berreta prof</td>\n",
       "    </tr>\n",
       "  </tbody>\n",
       "</table>\n",
       "</div>"
      ],
      "text/plain": [
       "       codigo_escola                          nome_escola\n",
       "27007       35009854    willian rodrigues rebua professor\n",
       "28167       35041497              carlos lima dias doutor\n",
       "29794       35923527      luciane do espirito santo profa\n",
       "21641       35001363                            sao paulo\n",
       "756         35924436        rodolfo jose da costa e silva\n",
       "20881       35021064             jeronymo gallo monsenhor\n",
       "10509       35037710  milton da silva rodrigues professor\n",
       "14843       35014175                amador bueno da veiga\n",
       "16860       35049712        dalva vieira itavo professora\n",
       "20187       35015702                 antonio berreta prof"
      ]
     },
     "execution_count": 45,
     "metadata": {},
     "output_type": "execute_result"
    }
   ],
   "source": [
    "df[df['tratamento']][['codigo_escola', 'nome_escola']].sample(10)"
   ]
  },
  {
   "cell_type": "markdown",
   "id": "5305df38",
   "metadata": {},
   "source": [
    "### excluir contaminações\n",
    "\n",
    "\n",
    "Escolas que fazem parte do PEI hoje e que ofertaram integral durante o período mas não ofertaram até 2018 tme um indicativo de que entraram no PEI e saíram.\n",
    "\n",
    "O mesmo vale para escolas que porventura entraram no PEI, ofereceram integral mas em algum ano no meio não ofereceram.\n",
    "\n",
    "Isso contamina o estudo. Temos que remover essas escolas."
   ]
  },
  {
   "cell_type": "markdown",
   "id": "156ef5fa",
   "metadata": {},
   "source": [
    "df['contaminado_porque_saiu'] = df['ofertou_integral_de_forma_continua'] & df['is_PEI_and_possui_medio_integral'] & ~df['ofertou_integral_ate_2018']"
   ]
  },
  {
   "cell_type": "code",
   "execution_count": 46,
   "id": "6eac6f77",
   "metadata": {},
   "outputs": [],
   "source": [
    "df['contaminado_porque_saiu'] = df['ofertou_integral_de_forma_continua'] & df['is_PEI_and_possui_medio_integral'] & ~df['ofertou_integral_ate_2018']"
   ]
  },
  {
   "cell_type": "markdown",
   "id": "d78b8ebd",
   "metadata": {},
   "source": [
    "como podemos constatar, ninguém saiu do PEI"
   ]
  },
  {
   "cell_type": "code",
   "execution_count": 47,
   "id": "f56838ef",
   "metadata": {},
   "outputs": [
    {
     "data": {
      "text/plain": [
       "np.False_"
      ]
     },
     "execution_count": 47,
     "metadata": {},
     "output_type": "execute_result"
    }
   ],
   "source": [
    "df['contaminado_porque_saiu'].any()"
   ]
  },
  {
   "cell_type": "code",
   "execution_count": 48,
   "id": "4b5b299f",
   "metadata": {},
   "outputs": [],
   "source": [
    "df['contaminado_porque_nao_teve_consistencia'] = df['is_PEI_and_possui_medio_integral'] & ~df['ofertou_integral_de_forma_continua']"
   ]
  },
  {
   "cell_type": "code",
   "execution_count": 49,
   "id": "4c60c623",
   "metadata": {},
   "outputs": [
    {
     "data": {
      "text/plain": [
       "np.True_"
      ]
     },
     "execution_count": 49,
     "metadata": {},
     "output_type": "execute_result"
    }
   ],
   "source": [
    "df['contaminado_porque_nao_teve_consistencia'].any()"
   ]
  },
  {
   "cell_type": "code",
   "execution_count": 50,
   "id": "c89bc60f",
   "metadata": {},
   "outputs": [
    {
     "data": {
      "text/plain": [
       "np.int64(189)"
      ]
     },
     "execution_count": 50,
     "metadata": {},
     "output_type": "execute_result"
    }
   ],
   "source": [
    "df['contaminado_porque_nao_teve_consistencia'].sum()"
   ]
  },
  {
   "cell_type": "code",
   "execution_count": 51,
   "id": "88e43c5d",
   "metadata": {},
   "outputs": [
    {
     "data": {
      "text/plain": [
       "82"
      ]
     },
     "execution_count": 51,
     "metadata": {},
     "output_type": "execute_result"
    }
   ],
   "source": [
    "df[df['contaminado_porque_nao_teve_consistencia']]['codigo_escola'].nunique()"
   ]
  },
  {
   "cell_type": "code",
   "execution_count": 52,
   "id": "59533d2e",
   "metadata": {},
   "outputs": [],
   "source": [
    "escolas_contaminadas = df[df['contaminado_porque_nao_teve_consistencia']]['codigo_escola'].unique()"
   ]
  },
  {
   "cell_type": "code",
   "execution_count": 53,
   "id": "de3581ad",
   "metadata": {},
   "outputs": [],
   "source": [
    "pd.set_option('display.max_rows', None)"
   ]
  },
  {
   "cell_type": "code",
   "execution_count": 54,
   "id": "6a01d53a",
   "metadata": {},
   "outputs": [
    {
     "data": {
      "text/plain": [
       "Index(['ano_censo', 'sigla_uf', 'nome_municipio', 'codigo_municipio',\n",
       "       'codigo_escola', 'nome_escola', 'qtd_turmas_ed_basica',\n",
       "       'qtd_matr_ed_basica', 'qtd_matr_medio', 'qtd_matr_fundamental',\n",
       "       'qtd_matr_ed_basica_nao_declarada', 'qtd_matr_ed_basica_branca',\n",
       "       'qtd_matr_ed_basica_preta', 'qtd_matr_ed_basica_parda',\n",
       "       'qtd_matr_ed_basica_amarela', 'qtd_matr_ed_basica_indigena',\n",
       "       'qtd_matriculas_fundamental_integral',\n",
       "       'qtd_matriculas_fundamental_anos_iniciais_integral',\n",
       "       'qtd_matriculas_fundamental_anos_finais_integral',\n",
       "       'qtd_matriculas_medio_integral', 'coordenadas', 'is_PEI', '_merge',\n",
       "       'total_matriculas_basica_integral', 'possui_integral',\n",
       "       'total_matriculas_fundamental_integral', 'possui_integral_medio',\n",
       "       'is_PEI_and_possui_medio_integral', 'primeiro_ano_integral_medio',\n",
       "       'ultimo_ano_integral_medio', 'anos_integral_medio',\n",
       "       'ofertou_integral_de_forma_continua', 'ofertou_integral_ate_2018',\n",
       "       'tratamento', 'contaminado_porque_saiu',\n",
       "       'contaminado_porque_nao_teve_consistencia'],\n",
       "      dtype='object')"
      ]
     },
     "execution_count": 54,
     "metadata": {},
     "output_type": "execute_result"
    }
   ],
   "source": [
    "df.columns"
   ]
  },
  {
   "cell_type": "code",
   "execution_count": 55,
   "id": "fa88dacc",
   "metadata": {},
   "outputs": [
    {
     "data": {
      "text/html": [
       "<div>\n",
       "<style scoped>\n",
       "    .dataframe tbody tr th:only-of-type {\n",
       "        vertical-align: middle;\n",
       "    }\n",
       "\n",
       "    .dataframe tbody tr th {\n",
       "        vertical-align: top;\n",
       "    }\n",
       "\n",
       "    .dataframe thead th {\n",
       "        text-align: right;\n",
       "    }\n",
       "</style>\n",
       "<table border=\"1\" class=\"dataframe\">\n",
       "  <thead>\n",
       "    <tr style=\"text-align: right;\">\n",
       "      <th></th>\n",
       "      <th>primeiro_ano_integral_medio</th>\n",
       "      <th>ultimo_ano_integral_medio</th>\n",
       "      <th>anos_integral_medio</th>\n",
       "      <th>ofertou_integral_de_forma_continua</th>\n",
       "      <th>ofertou_integral_ate_2018</th>\n",
       "      <th>tratamento</th>\n",
       "    </tr>\n",
       "  </thead>\n",
       "  <tbody>\n",
       "    <tr>\n",
       "      <th>2</th>\n",
       "      <td>2011</td>\n",
       "      <td>2011</td>\n",
       "      <td>2011</td>\n",
       "      <td>False</td>\n",
       "      <td>True</td>\n",
       "      <td>False</td>\n",
       "    </tr>\n",
       "    <tr>\n",
       "      <th>23</th>\n",
       "      <td>2013</td>\n",
       "      <td>2015</td>\n",
       "      <td>2013,2015</td>\n",
       "      <td>False</td>\n",
       "      <td>True</td>\n",
       "      <td>False</td>\n",
       "    </tr>\n",
       "    <tr>\n",
       "      <th>181</th>\n",
       "      <td>2011</td>\n",
       "      <td>2011</td>\n",
       "      <td>2011</td>\n",
       "      <td>False</td>\n",
       "      <td>True</td>\n",
       "      <td>False</td>\n",
       "    </tr>\n",
       "    <tr>\n",
       "      <th>196</th>\n",
       "      <td>2011</td>\n",
       "      <td>2011</td>\n",
       "      <td>2011</td>\n",
       "      <td>False</td>\n",
       "      <td>True</td>\n",
       "      <td>False</td>\n",
       "    </tr>\n",
       "    <tr>\n",
       "      <th>198</th>\n",
       "      <td>2011</td>\n",
       "      <td>2011</td>\n",
       "      <td>2011</td>\n",
       "      <td>False</td>\n",
       "      <td>True</td>\n",
       "      <td>False</td>\n",
       "    </tr>\n",
       "    <tr>\n",
       "      <th>199</th>\n",
       "      <td>2011</td>\n",
       "      <td>2011</td>\n",
       "      <td>2011</td>\n",
       "      <td>False</td>\n",
       "      <td>True</td>\n",
       "      <td>False</td>\n",
       "    </tr>\n",
       "    <tr>\n",
       "      <th>243</th>\n",
       "      <td>2012</td>\n",
       "      <td>2018</td>\n",
       "      <td>2012,2014,2015,2016,2017,2018</td>\n",
       "      <td>False</td>\n",
       "      <td>True</td>\n",
       "      <td>False</td>\n",
       "    </tr>\n",
       "    <tr>\n",
       "      <th>266</th>\n",
       "      <td>2011</td>\n",
       "      <td>2011</td>\n",
       "      <td>2011</td>\n",
       "      <td>False</td>\n",
       "      <td>True</td>\n",
       "      <td>False</td>\n",
       "    </tr>\n",
       "    <tr>\n",
       "      <th>274</th>\n",
       "      <td>2011</td>\n",
       "      <td>2011</td>\n",
       "      <td>2011</td>\n",
       "      <td>False</td>\n",
       "      <td>True</td>\n",
       "      <td>False</td>\n",
       "    </tr>\n",
       "    <tr>\n",
       "      <th>322</th>\n",
       "      <td>2011</td>\n",
       "      <td>2011</td>\n",
       "      <td>2011</td>\n",
       "      <td>False</td>\n",
       "      <td>True</td>\n",
       "      <td>False</td>\n",
       "    </tr>\n",
       "    <tr>\n",
       "      <th>433</th>\n",
       "      <td>2011</td>\n",
       "      <td>2011</td>\n",
       "      <td>2011</td>\n",
       "      <td>False</td>\n",
       "      <td>True</td>\n",
       "      <td>False</td>\n",
       "    </tr>\n",
       "    <tr>\n",
       "      <th>543</th>\n",
       "      <td>2011</td>\n",
       "      <td>2011</td>\n",
       "      <td>2011</td>\n",
       "      <td>False</td>\n",
       "      <td>True</td>\n",
       "      <td>False</td>\n",
       "    </tr>\n",
       "    <tr>\n",
       "      <th>663</th>\n",
       "      <td>2013</td>\n",
       "      <td>2018</td>\n",
       "      <td>2013,2018</td>\n",
       "      <td>False</td>\n",
       "      <td>True</td>\n",
       "      <td>False</td>\n",
       "    </tr>\n",
       "    <tr>\n",
       "      <th>743</th>\n",
       "      <td>2011</td>\n",
       "      <td>2011</td>\n",
       "      <td>2011</td>\n",
       "      <td>False</td>\n",
       "      <td>True</td>\n",
       "      <td>False</td>\n",
       "    </tr>\n",
       "    <tr>\n",
       "      <th>824</th>\n",
       "      <td>2012</td>\n",
       "      <td>2017</td>\n",
       "      <td>2012,2016,2017</td>\n",
       "      <td>False</td>\n",
       "      <td>True</td>\n",
       "      <td>False</td>\n",
       "    </tr>\n",
       "    <tr>\n",
       "      <th>952</th>\n",
       "      <td>2015</td>\n",
       "      <td>2018</td>\n",
       "      <td>2015,2018</td>\n",
       "      <td>False</td>\n",
       "      <td>True</td>\n",
       "      <td>False</td>\n",
       "    </tr>\n",
       "    <tr>\n",
       "      <th>965</th>\n",
       "      <td>2011</td>\n",
       "      <td>2011</td>\n",
       "      <td>2011</td>\n",
       "      <td>False</td>\n",
       "      <td>True</td>\n",
       "      <td>False</td>\n",
       "    </tr>\n",
       "    <tr>\n",
       "      <th>974</th>\n",
       "      <td>2011</td>\n",
       "      <td>2011</td>\n",
       "      <td>2011</td>\n",
       "      <td>False</td>\n",
       "      <td>True</td>\n",
       "      <td>False</td>\n",
       "    </tr>\n",
       "    <tr>\n",
       "      <th>991</th>\n",
       "      <td>2011</td>\n",
       "      <td>2011</td>\n",
       "      <td>2011</td>\n",
       "      <td>False</td>\n",
       "      <td>True</td>\n",
       "      <td>False</td>\n",
       "    </tr>\n",
       "    <tr>\n",
       "      <th>1155</th>\n",
       "      <td>2011</td>\n",
       "      <td>2011</td>\n",
       "      <td>2011</td>\n",
       "      <td>False</td>\n",
       "      <td>True</td>\n",
       "      <td>False</td>\n",
       "    </tr>\n",
       "    <tr>\n",
       "      <th>1162</th>\n",
       "      <td>2012</td>\n",
       "      <td>2018</td>\n",
       "      <td>2012,2017,2018</td>\n",
       "      <td>False</td>\n",
       "      <td>True</td>\n",
       "      <td>False</td>\n",
       "    </tr>\n",
       "    <tr>\n",
       "      <th>1182</th>\n",
       "      <td>2012</td>\n",
       "      <td>2018</td>\n",
       "      <td>2012,2014,2015,2016,2017,2018</td>\n",
       "      <td>False</td>\n",
       "      <td>True</td>\n",
       "      <td>False</td>\n",
       "    </tr>\n",
       "    <tr>\n",
       "      <th>1185</th>\n",
       "      <td>2012</td>\n",
       "      <td>2018</td>\n",
       "      <td>2012,2018</td>\n",
       "      <td>False</td>\n",
       "      <td>True</td>\n",
       "      <td>False</td>\n",
       "    </tr>\n",
       "    <tr>\n",
       "      <th>1221</th>\n",
       "      <td>2011</td>\n",
       "      <td>2018</td>\n",
       "      <td>2011,2014,2016,2017,2018</td>\n",
       "      <td>False</td>\n",
       "      <td>True</td>\n",
       "      <td>False</td>\n",
       "    </tr>\n",
       "    <tr>\n",
       "      <th>1222</th>\n",
       "      <td>2015</td>\n",
       "      <td>2017</td>\n",
       "      <td>2015,2017</td>\n",
       "      <td>False</td>\n",
       "      <td>True</td>\n",
       "      <td>False</td>\n",
       "    </tr>\n",
       "    <tr>\n",
       "      <th>1294</th>\n",
       "      <td>2014</td>\n",
       "      <td>2018</td>\n",
       "      <td>2014,2018</td>\n",
       "      <td>False</td>\n",
       "      <td>True</td>\n",
       "      <td>False</td>\n",
       "    </tr>\n",
       "    <tr>\n",
       "      <th>1406</th>\n",
       "      <td>2011</td>\n",
       "      <td>2011</td>\n",
       "      <td>2011</td>\n",
       "      <td>False</td>\n",
       "      <td>True</td>\n",
       "      <td>False</td>\n",
       "    </tr>\n",
       "    <tr>\n",
       "      <th>1408</th>\n",
       "      <td>2011</td>\n",
       "      <td>2011</td>\n",
       "      <td>2011</td>\n",
       "      <td>False</td>\n",
       "      <td>True</td>\n",
       "      <td>False</td>\n",
       "    </tr>\n",
       "    <tr>\n",
       "      <th>1410</th>\n",
       "      <td>2011</td>\n",
       "      <td>2011</td>\n",
       "      <td>2011</td>\n",
       "      <td>False</td>\n",
       "      <td>True</td>\n",
       "      <td>False</td>\n",
       "    </tr>\n",
       "    <tr>\n",
       "      <th>1411</th>\n",
       "      <td>2011</td>\n",
       "      <td>2011</td>\n",
       "      <td>2011</td>\n",
       "      <td>False</td>\n",
       "      <td>True</td>\n",
       "      <td>False</td>\n",
       "    </tr>\n",
       "    <tr>\n",
       "      <th>1415</th>\n",
       "      <td>2011</td>\n",
       "      <td>2011</td>\n",
       "      <td>2011</td>\n",
       "      <td>False</td>\n",
       "      <td>True</td>\n",
       "      <td>False</td>\n",
       "    </tr>\n",
       "    <tr>\n",
       "      <th>1416</th>\n",
       "      <td>2011</td>\n",
       "      <td>2011</td>\n",
       "      <td>2011</td>\n",
       "      <td>False</td>\n",
       "      <td>True</td>\n",
       "      <td>False</td>\n",
       "    </tr>\n",
       "    <tr>\n",
       "      <th>1419</th>\n",
       "      <td>2011</td>\n",
       "      <td>2011</td>\n",
       "      <td>2011</td>\n",
       "      <td>False</td>\n",
       "      <td>True</td>\n",
       "      <td>False</td>\n",
       "    </tr>\n",
       "    <tr>\n",
       "      <th>1422</th>\n",
       "      <td>2014</td>\n",
       "      <td>2018</td>\n",
       "      <td>2014,2018</td>\n",
       "      <td>False</td>\n",
       "      <td>True</td>\n",
       "      <td>False</td>\n",
       "    </tr>\n",
       "    <tr>\n",
       "      <th>1543</th>\n",
       "      <td>2011</td>\n",
       "      <td>2011</td>\n",
       "      <td>2011</td>\n",
       "      <td>False</td>\n",
       "      <td>True</td>\n",
       "      <td>False</td>\n",
       "    </tr>\n",
       "    <tr>\n",
       "      <th>1544</th>\n",
       "      <td>2013</td>\n",
       "      <td>2016</td>\n",
       "      <td>2013,2014,2016</td>\n",
       "      <td>False</td>\n",
       "      <td>True</td>\n",
       "      <td>False</td>\n",
       "    </tr>\n",
       "    <tr>\n",
       "      <th>1586</th>\n",
       "      <td>2011</td>\n",
       "      <td>2011</td>\n",
       "      <td>2011</td>\n",
       "      <td>False</td>\n",
       "      <td>True</td>\n",
       "      <td>False</td>\n",
       "    </tr>\n",
       "    <tr>\n",
       "      <th>1646</th>\n",
       "      <td>2013</td>\n",
       "      <td>2018</td>\n",
       "      <td>2013,2018</td>\n",
       "      <td>False</td>\n",
       "      <td>True</td>\n",
       "      <td>False</td>\n",
       "    </tr>\n",
       "    <tr>\n",
       "      <th>1659</th>\n",
       "      <td>2011</td>\n",
       "      <td>2018</td>\n",
       "      <td>2011,2014,2016,2017,2018</td>\n",
       "      <td>False</td>\n",
       "      <td>True</td>\n",
       "      <td>False</td>\n",
       "    </tr>\n",
       "    <tr>\n",
       "      <th>1663</th>\n",
       "      <td>2013</td>\n",
       "      <td>2016</td>\n",
       "      <td>2013,2016</td>\n",
       "      <td>False</td>\n",
       "      <td>True</td>\n",
       "      <td>False</td>\n",
       "    </tr>\n",
       "    <tr>\n",
       "      <th>1742</th>\n",
       "      <td>2015</td>\n",
       "      <td>2018</td>\n",
       "      <td>2015,2017,2018</td>\n",
       "      <td>False</td>\n",
       "      <td>True</td>\n",
       "      <td>False</td>\n",
       "    </tr>\n",
       "    <tr>\n",
       "      <th>1822</th>\n",
       "      <td>2015</td>\n",
       "      <td>2018</td>\n",
       "      <td>2015,2018</td>\n",
       "      <td>False</td>\n",
       "      <td>True</td>\n",
       "      <td>False</td>\n",
       "    </tr>\n",
       "    <tr>\n",
       "      <th>1878</th>\n",
       "      <td>2016</td>\n",
       "      <td>2018</td>\n",
       "      <td>2016,2018</td>\n",
       "      <td>False</td>\n",
       "      <td>True</td>\n",
       "      <td>False</td>\n",
       "    </tr>\n",
       "    <tr>\n",
       "      <th>1958</th>\n",
       "      <td>2013</td>\n",
       "      <td>2018</td>\n",
       "      <td>2013,2018</td>\n",
       "      <td>False</td>\n",
       "      <td>True</td>\n",
       "      <td>False</td>\n",
       "    </tr>\n",
       "    <tr>\n",
       "      <th>1962</th>\n",
       "      <td>2014</td>\n",
       "      <td>2018</td>\n",
       "      <td>2014,2018</td>\n",
       "      <td>False</td>\n",
       "      <td>True</td>\n",
       "      <td>False</td>\n",
       "    </tr>\n",
       "    <tr>\n",
       "      <th>2086</th>\n",
       "      <td>2014</td>\n",
       "      <td>2016</td>\n",
       "      <td>2014,2016</td>\n",
       "      <td>False</td>\n",
       "      <td>True</td>\n",
       "      <td>False</td>\n",
       "    </tr>\n",
       "    <tr>\n",
       "      <th>2166</th>\n",
       "      <td>2016</td>\n",
       "      <td>2018</td>\n",
       "      <td>2016,2018</td>\n",
       "      <td>False</td>\n",
       "      <td>True</td>\n",
       "      <td>False</td>\n",
       "    </tr>\n",
       "    <tr>\n",
       "      <th>2268</th>\n",
       "      <td>2011</td>\n",
       "      <td>2011</td>\n",
       "      <td>2011</td>\n",
       "      <td>False</td>\n",
       "      <td>True</td>\n",
       "      <td>False</td>\n",
       "    </tr>\n",
       "    <tr>\n",
       "      <th>2460</th>\n",
       "      <td>2012</td>\n",
       "      <td>2018</td>\n",
       "      <td>2012,2014,2015,2016,2017,2018</td>\n",
       "      <td>False</td>\n",
       "      <td>True</td>\n",
       "      <td>False</td>\n",
       "    </tr>\n",
       "    <tr>\n",
       "      <th>2529</th>\n",
       "      <td>2012</td>\n",
       "      <td>2018</td>\n",
       "      <td>2012,2016,2017,2018</td>\n",
       "      <td>False</td>\n",
       "      <td>True</td>\n",
       "      <td>False</td>\n",
       "    </tr>\n",
       "    <tr>\n",
       "      <th>2585</th>\n",
       "      <td>2011</td>\n",
       "      <td>2011</td>\n",
       "      <td>2011</td>\n",
       "      <td>False</td>\n",
       "      <td>True</td>\n",
       "      <td>False</td>\n",
       "    </tr>\n",
       "    <tr>\n",
       "      <th>2592</th>\n",
       "      <td>2011</td>\n",
       "      <td>2017</td>\n",
       "      <td>2011,2012,2016,2017</td>\n",
       "      <td>False</td>\n",
       "      <td>True</td>\n",
       "      <td>False</td>\n",
       "    </tr>\n",
       "    <tr>\n",
       "      <th>2613</th>\n",
       "      <td>2013</td>\n",
       "      <td>2018</td>\n",
       "      <td>2013,2014,2016,2017,2018</td>\n",
       "      <td>False</td>\n",
       "      <td>True</td>\n",
       "      <td>False</td>\n",
       "    </tr>\n",
       "    <tr>\n",
       "      <th>2615</th>\n",
       "      <td>2013</td>\n",
       "      <td>2018</td>\n",
       "      <td>2013,2014,2016,2017,2018</td>\n",
       "      <td>False</td>\n",
       "      <td>True</td>\n",
       "      <td>False</td>\n",
       "    </tr>\n",
       "    <tr>\n",
       "      <th>2626</th>\n",
       "      <td>2013</td>\n",
       "      <td>2018</td>\n",
       "      <td>2013,2014,2016,2017,2018</td>\n",
       "      <td>False</td>\n",
       "      <td>True</td>\n",
       "      <td>False</td>\n",
       "    </tr>\n",
       "    <tr>\n",
       "      <th>2628</th>\n",
       "      <td>2013</td>\n",
       "      <td>2018</td>\n",
       "      <td>2013,2014,2016,2017,2018</td>\n",
       "      <td>False</td>\n",
       "      <td>True</td>\n",
       "      <td>False</td>\n",
       "    </tr>\n",
       "    <tr>\n",
       "      <th>2641</th>\n",
       "      <td>2013</td>\n",
       "      <td>2018</td>\n",
       "      <td>2013,2014,2016,2017,2018</td>\n",
       "      <td>False</td>\n",
       "      <td>True</td>\n",
       "      <td>False</td>\n",
       "    </tr>\n",
       "    <tr>\n",
       "      <th>2647</th>\n",
       "      <td>2013</td>\n",
       "      <td>2018</td>\n",
       "      <td>2013,2014,2016,2017,2018</td>\n",
       "      <td>False</td>\n",
       "      <td>True</td>\n",
       "      <td>False</td>\n",
       "    </tr>\n",
       "    <tr>\n",
       "      <th>2648</th>\n",
       "      <td>2013</td>\n",
       "      <td>2018</td>\n",
       "      <td>2013,2014,2016,2017,2018</td>\n",
       "      <td>False</td>\n",
       "      <td>True</td>\n",
       "      <td>False</td>\n",
       "    </tr>\n",
       "    <tr>\n",
       "      <th>2726</th>\n",
       "      <td>2011</td>\n",
       "      <td>2011</td>\n",
       "      <td>2011</td>\n",
       "      <td>False</td>\n",
       "      <td>True</td>\n",
       "      <td>False</td>\n",
       "    </tr>\n",
       "    <tr>\n",
       "      <th>2740</th>\n",
       "      <td>2011</td>\n",
       "      <td>2011</td>\n",
       "      <td>2011</td>\n",
       "      <td>False</td>\n",
       "      <td>True</td>\n",
       "      <td>False</td>\n",
       "    </tr>\n",
       "    <tr>\n",
       "      <th>2783</th>\n",
       "      <td>2011</td>\n",
       "      <td>2011</td>\n",
       "      <td>2011</td>\n",
       "      <td>False</td>\n",
       "      <td>True</td>\n",
       "      <td>False</td>\n",
       "    </tr>\n",
       "    <tr>\n",
       "      <th>2785</th>\n",
       "      <td>2015</td>\n",
       "      <td>2018</td>\n",
       "      <td>2015,2018</td>\n",
       "      <td>False</td>\n",
       "      <td>True</td>\n",
       "      <td>False</td>\n",
       "    </tr>\n",
       "    <tr>\n",
       "      <th>2809</th>\n",
       "      <td>2015</td>\n",
       "      <td>2017</td>\n",
       "      <td>2015,2017</td>\n",
       "      <td>False</td>\n",
       "      <td>True</td>\n",
       "      <td>False</td>\n",
       "    </tr>\n",
       "    <tr>\n",
       "      <th>2854</th>\n",
       "      <td>2011</td>\n",
       "      <td>2011</td>\n",
       "      <td>2011</td>\n",
       "      <td>False</td>\n",
       "      <td>True</td>\n",
       "      <td>False</td>\n",
       "    </tr>\n",
       "    <tr>\n",
       "      <th>2875</th>\n",
       "      <td>2012</td>\n",
       "      <td>2017</td>\n",
       "      <td>2012,2017</td>\n",
       "      <td>False</td>\n",
       "      <td>True</td>\n",
       "      <td>False</td>\n",
       "    </tr>\n",
       "    <tr>\n",
       "      <th>2881</th>\n",
       "      <td>2013</td>\n",
       "      <td>2015</td>\n",
       "      <td>2013,2015</td>\n",
       "      <td>False</td>\n",
       "      <td>True</td>\n",
       "      <td>False</td>\n",
       "    </tr>\n",
       "    <tr>\n",
       "      <th>2910</th>\n",
       "      <td>2014</td>\n",
       "      <td>2018</td>\n",
       "      <td>2014,2018</td>\n",
       "      <td>False</td>\n",
       "      <td>True</td>\n",
       "      <td>False</td>\n",
       "    </tr>\n",
       "    <tr>\n",
       "      <th>2918</th>\n",
       "      <td>2012</td>\n",
       "      <td>2017</td>\n",
       "      <td>2012,2016,2017</td>\n",
       "      <td>False</td>\n",
       "      <td>True</td>\n",
       "      <td>False</td>\n",
       "    </tr>\n",
       "    <tr>\n",
       "      <th>2933</th>\n",
       "      <td>2012</td>\n",
       "      <td>2015</td>\n",
       "      <td>2012,2015</td>\n",
       "      <td>False</td>\n",
       "      <td>True</td>\n",
       "      <td>False</td>\n",
       "    </tr>\n",
       "    <tr>\n",
       "      <th>2946</th>\n",
       "      <td>2015</td>\n",
       "      <td>2018</td>\n",
       "      <td>2015,2016,2018</td>\n",
       "      <td>False</td>\n",
       "      <td>True</td>\n",
       "      <td>False</td>\n",
       "    </tr>\n",
       "    <tr>\n",
       "      <th>2952</th>\n",
       "      <td>2011</td>\n",
       "      <td>2018</td>\n",
       "      <td>2011,2014,2018</td>\n",
       "      <td>False</td>\n",
       "      <td>True</td>\n",
       "      <td>False</td>\n",
       "    </tr>\n",
       "    <tr>\n",
       "      <th>2982</th>\n",
       "      <td>2011</td>\n",
       "      <td>2015</td>\n",
       "      <td>2011,2012,2015</td>\n",
       "      <td>False</td>\n",
       "      <td>True</td>\n",
       "      <td>False</td>\n",
       "    </tr>\n",
       "    <tr>\n",
       "      <th>3094</th>\n",
       "      <td>2011</td>\n",
       "      <td>2017</td>\n",
       "      <td>2011,2015,2017</td>\n",
       "      <td>False</td>\n",
       "      <td>True</td>\n",
       "      <td>False</td>\n",
       "    </tr>\n",
       "    <tr>\n",
       "      <th>3125</th>\n",
       "      <td>2016</td>\n",
       "      <td>2018</td>\n",
       "      <td>2016,2018</td>\n",
       "      <td>False</td>\n",
       "      <td>True</td>\n",
       "      <td>False</td>\n",
       "    </tr>\n",
       "    <tr>\n",
       "      <th>3173</th>\n",
       "      <td>2011</td>\n",
       "      <td>2018</td>\n",
       "      <td>2011,2016,2018</td>\n",
       "      <td>False</td>\n",
       "      <td>True</td>\n",
       "      <td>False</td>\n",
       "    </tr>\n",
       "    <tr>\n",
       "      <th>3213</th>\n",
       "      <td>2013</td>\n",
       "      <td>2018</td>\n",
       "      <td>2013,2015,2016,2017,2018</td>\n",
       "      <td>False</td>\n",
       "      <td>True</td>\n",
       "      <td>False</td>\n",
       "    </tr>\n",
       "    <tr>\n",
       "      <th>3214</th>\n",
       "      <td>2015</td>\n",
       "      <td>2018</td>\n",
       "      <td>2015,2018</td>\n",
       "      <td>False</td>\n",
       "      <td>True</td>\n",
       "      <td>False</td>\n",
       "    </tr>\n",
       "    <tr>\n",
       "      <th>3255</th>\n",
       "      <td>2014</td>\n",
       "      <td>2017</td>\n",
       "      <td>2014,2015,2017</td>\n",
       "      <td>False</td>\n",
       "      <td>True</td>\n",
       "      <td>False</td>\n",
       "    </tr>\n",
       "    <tr>\n",
       "      <th>3258</th>\n",
       "      <td>2013</td>\n",
       "      <td>2017</td>\n",
       "      <td>2013,2017</td>\n",
       "      <td>False</td>\n",
       "      <td>True</td>\n",
       "      <td>False</td>\n",
       "    </tr>\n",
       "    <tr>\n",
       "      <th>3336</th>\n",
       "      <td>2011</td>\n",
       "      <td>2011</td>\n",
       "      <td>2011</td>\n",
       "      <td>False</td>\n",
       "      <td>True</td>\n",
       "      <td>False</td>\n",
       "    </tr>\n",
       "    <tr>\n",
       "      <th>3564</th>\n",
       "      <td>2011</td>\n",
       "      <td>2011</td>\n",
       "      <td>2011</td>\n",
       "      <td>False</td>\n",
       "      <td>True</td>\n",
       "      <td>False</td>\n",
       "    </tr>\n",
       "  </tbody>\n",
       "</table>\n",
       "</div>"
      ],
      "text/plain": [
       "     primeiro_ano_integral_medio ultimo_ano_integral_medio  \\\n",
       "2                           2011                      2011   \n",
       "23                          2013                      2015   \n",
       "181                         2011                      2011   \n",
       "196                         2011                      2011   \n",
       "198                         2011                      2011   \n",
       "199                         2011                      2011   \n",
       "243                         2012                      2018   \n",
       "266                         2011                      2011   \n",
       "274                         2011                      2011   \n",
       "322                         2011                      2011   \n",
       "433                         2011                      2011   \n",
       "543                         2011                      2011   \n",
       "663                         2013                      2018   \n",
       "743                         2011                      2011   \n",
       "824                         2012                      2017   \n",
       "952                         2015                      2018   \n",
       "965                         2011                      2011   \n",
       "974                         2011                      2011   \n",
       "991                         2011                      2011   \n",
       "1155                        2011                      2011   \n",
       "1162                        2012                      2018   \n",
       "1182                        2012                      2018   \n",
       "1185                        2012                      2018   \n",
       "1221                        2011                      2018   \n",
       "1222                        2015                      2017   \n",
       "1294                        2014                      2018   \n",
       "1406                        2011                      2011   \n",
       "1408                        2011                      2011   \n",
       "1410                        2011                      2011   \n",
       "1411                        2011                      2011   \n",
       "1415                        2011                      2011   \n",
       "1416                        2011                      2011   \n",
       "1419                        2011                      2011   \n",
       "1422                        2014                      2018   \n",
       "1543                        2011                      2011   \n",
       "1544                        2013                      2016   \n",
       "1586                        2011                      2011   \n",
       "1646                        2013                      2018   \n",
       "1659                        2011                      2018   \n",
       "1663                        2013                      2016   \n",
       "1742                        2015                      2018   \n",
       "1822                        2015                      2018   \n",
       "1878                        2016                      2018   \n",
       "1958                        2013                      2018   \n",
       "1962                        2014                      2018   \n",
       "2086                        2014                      2016   \n",
       "2166                        2016                      2018   \n",
       "2268                        2011                      2011   \n",
       "2460                        2012                      2018   \n",
       "2529                        2012                      2018   \n",
       "2585                        2011                      2011   \n",
       "2592                        2011                      2017   \n",
       "2613                        2013                      2018   \n",
       "2615                        2013                      2018   \n",
       "2626                        2013                      2018   \n",
       "2628                        2013                      2018   \n",
       "2641                        2013                      2018   \n",
       "2647                        2013                      2018   \n",
       "2648                        2013                      2018   \n",
       "2726                        2011                      2011   \n",
       "2740                        2011                      2011   \n",
       "2783                        2011                      2011   \n",
       "2785                        2015                      2018   \n",
       "2809                        2015                      2017   \n",
       "2854                        2011                      2011   \n",
       "2875                        2012                      2017   \n",
       "2881                        2013                      2015   \n",
       "2910                        2014                      2018   \n",
       "2918                        2012                      2017   \n",
       "2933                        2012                      2015   \n",
       "2946                        2015                      2018   \n",
       "2952                        2011                      2018   \n",
       "2982                        2011                      2015   \n",
       "3094                        2011                      2017   \n",
       "3125                        2016                      2018   \n",
       "3173                        2011                      2018   \n",
       "3213                        2013                      2018   \n",
       "3214                        2015                      2018   \n",
       "3255                        2014                      2017   \n",
       "3258                        2013                      2017   \n",
       "3336                        2011                      2011   \n",
       "3564                        2011                      2011   \n",
       "\n",
       "                anos_integral_medio  ofertou_integral_de_forma_continua  \\\n",
       "2                              2011                               False   \n",
       "23                        2013,2015                               False   \n",
       "181                            2011                               False   \n",
       "196                            2011                               False   \n",
       "198                            2011                               False   \n",
       "199                            2011                               False   \n",
       "243   2012,2014,2015,2016,2017,2018                               False   \n",
       "266                            2011                               False   \n",
       "274                            2011                               False   \n",
       "322                            2011                               False   \n",
       "433                            2011                               False   \n",
       "543                            2011                               False   \n",
       "663                       2013,2018                               False   \n",
       "743                            2011                               False   \n",
       "824                  2012,2016,2017                               False   \n",
       "952                       2015,2018                               False   \n",
       "965                            2011                               False   \n",
       "974                            2011                               False   \n",
       "991                            2011                               False   \n",
       "1155                           2011                               False   \n",
       "1162                 2012,2017,2018                               False   \n",
       "1182  2012,2014,2015,2016,2017,2018                               False   \n",
       "1185                      2012,2018                               False   \n",
       "1221       2011,2014,2016,2017,2018                               False   \n",
       "1222                      2015,2017                               False   \n",
       "1294                      2014,2018                               False   \n",
       "1406                           2011                               False   \n",
       "1408                           2011                               False   \n",
       "1410                           2011                               False   \n",
       "1411                           2011                               False   \n",
       "1415                           2011                               False   \n",
       "1416                           2011                               False   \n",
       "1419                           2011                               False   \n",
       "1422                      2014,2018                               False   \n",
       "1543                           2011                               False   \n",
       "1544                 2013,2014,2016                               False   \n",
       "1586                           2011                               False   \n",
       "1646                      2013,2018                               False   \n",
       "1659       2011,2014,2016,2017,2018                               False   \n",
       "1663                      2013,2016                               False   \n",
       "1742                 2015,2017,2018                               False   \n",
       "1822                      2015,2018                               False   \n",
       "1878                      2016,2018                               False   \n",
       "1958                      2013,2018                               False   \n",
       "1962                      2014,2018                               False   \n",
       "2086                      2014,2016                               False   \n",
       "2166                      2016,2018                               False   \n",
       "2268                           2011                               False   \n",
       "2460  2012,2014,2015,2016,2017,2018                               False   \n",
       "2529            2012,2016,2017,2018                               False   \n",
       "2585                           2011                               False   \n",
       "2592            2011,2012,2016,2017                               False   \n",
       "2613       2013,2014,2016,2017,2018                               False   \n",
       "2615       2013,2014,2016,2017,2018                               False   \n",
       "2626       2013,2014,2016,2017,2018                               False   \n",
       "2628       2013,2014,2016,2017,2018                               False   \n",
       "2641       2013,2014,2016,2017,2018                               False   \n",
       "2647       2013,2014,2016,2017,2018                               False   \n",
       "2648       2013,2014,2016,2017,2018                               False   \n",
       "2726                           2011                               False   \n",
       "2740                           2011                               False   \n",
       "2783                           2011                               False   \n",
       "2785                      2015,2018                               False   \n",
       "2809                      2015,2017                               False   \n",
       "2854                           2011                               False   \n",
       "2875                      2012,2017                               False   \n",
       "2881                      2013,2015                               False   \n",
       "2910                      2014,2018                               False   \n",
       "2918                 2012,2016,2017                               False   \n",
       "2933                      2012,2015                               False   \n",
       "2946                 2015,2016,2018                               False   \n",
       "2952                 2011,2014,2018                               False   \n",
       "2982                 2011,2012,2015                               False   \n",
       "3094                 2011,2015,2017                               False   \n",
       "3125                      2016,2018                               False   \n",
       "3173                 2011,2016,2018                               False   \n",
       "3213       2013,2015,2016,2017,2018                               False   \n",
       "3214                      2015,2018                               False   \n",
       "3255                 2014,2015,2017                               False   \n",
       "3258                      2013,2017                               False   \n",
       "3336                           2011                               False   \n",
       "3564                           2011                               False   \n",
       "\n",
       "      ofertou_integral_ate_2018  tratamento  \n",
       "2                          True       False  \n",
       "23                         True       False  \n",
       "181                        True       False  \n",
       "196                        True       False  \n",
       "198                        True       False  \n",
       "199                        True       False  \n",
       "243                        True       False  \n",
       "266                        True       False  \n",
       "274                        True       False  \n",
       "322                        True       False  \n",
       "433                        True       False  \n",
       "543                        True       False  \n",
       "663                        True       False  \n",
       "743                        True       False  \n",
       "824                        True       False  \n",
       "952                        True       False  \n",
       "965                        True       False  \n",
       "974                        True       False  \n",
       "991                        True       False  \n",
       "1155                       True       False  \n",
       "1162                       True       False  \n",
       "1182                       True       False  \n",
       "1185                       True       False  \n",
       "1221                       True       False  \n",
       "1222                       True       False  \n",
       "1294                       True       False  \n",
       "1406                       True       False  \n",
       "1408                       True       False  \n",
       "1410                       True       False  \n",
       "1411                       True       False  \n",
       "1415                       True       False  \n",
       "1416                       True       False  \n",
       "1419                       True       False  \n",
       "1422                       True       False  \n",
       "1543                       True       False  \n",
       "1544                       True       False  \n",
       "1586                       True       False  \n",
       "1646                       True       False  \n",
       "1659                       True       False  \n",
       "1663                       True       False  \n",
       "1742                       True       False  \n",
       "1822                       True       False  \n",
       "1878                       True       False  \n",
       "1958                       True       False  \n",
       "1962                       True       False  \n",
       "2086                       True       False  \n",
       "2166                       True       False  \n",
       "2268                       True       False  \n",
       "2460                       True       False  \n",
       "2529                       True       False  \n",
       "2585                       True       False  \n",
       "2592                       True       False  \n",
       "2613                       True       False  \n",
       "2615                       True       False  \n",
       "2626                       True       False  \n",
       "2628                       True       False  \n",
       "2641                       True       False  \n",
       "2647                       True       False  \n",
       "2648                       True       False  \n",
       "2726                       True       False  \n",
       "2740                       True       False  \n",
       "2783                       True       False  \n",
       "2785                       True       False  \n",
       "2809                       True       False  \n",
       "2854                       True       False  \n",
       "2875                       True       False  \n",
       "2881                       True       False  \n",
       "2910                       True       False  \n",
       "2918                       True       False  \n",
       "2933                       True       False  \n",
       "2946                       True       False  \n",
       "2952                       True       False  \n",
       "2982                       True       False  \n",
       "3094                       True       False  \n",
       "3125                       True       False  \n",
       "3173                       True       False  \n",
       "3213                       True       False  \n",
       "3214                       True       False  \n",
       "3255                       True       False  \n",
       "3258                       True       False  \n",
       "3336                       True       False  \n",
       "3564                       True       False  "
      ]
     },
     "execution_count": 55,
     "metadata": {},
     "output_type": "execute_result"
    }
   ],
   "source": [
    "df_contaminadas = df[df['codigo_escola'].isin(escolas_contaminadas)].copy()\n",
    "df_contaminadas.drop_duplicates(subset=['codigo_escola'], inplace=True)\n",
    "df_contaminadas[['primeiro_ano_integral_medio',\n",
    "       'ultimo_ano_integral_medio', 'anos_integral_medio',\n",
    "       'ofertou_integral_de_forma_continua', 'ofertou_integral_ate_2018',\n",
    "       'tratamento']]"
   ]
  },
  {
   "cell_type": "markdown",
   "id": "59ca25b7",
   "metadata": {},
   "source": [
    "Removendo as contaminadas"
   ]
  },
  {
   "cell_type": "code",
   "execution_count": 56,
   "id": "d13c3103",
   "metadata": {},
   "outputs": [],
   "source": [
    "df = df[~df['codigo_escola'].isin(escolas_contaminadas)].copy()"
   ]
  },
  {
   "cell_type": "code",
   "execution_count": 57,
   "id": "cbbc3171",
   "metadata": {},
   "outputs": [
    {
     "data": {
      "text/plain": [
       "Index(['ano_censo', 'sigla_uf', 'nome_municipio', 'codigo_municipio',\n",
       "       'codigo_escola', 'nome_escola', 'qtd_turmas_ed_basica',\n",
       "       'qtd_matr_ed_basica', 'qtd_matr_medio', 'qtd_matr_fundamental',\n",
       "       'qtd_matr_ed_basica_nao_declarada', 'qtd_matr_ed_basica_branca',\n",
       "       'qtd_matr_ed_basica_preta', 'qtd_matr_ed_basica_parda',\n",
       "       'qtd_matr_ed_basica_amarela', 'qtd_matr_ed_basica_indigena',\n",
       "       'qtd_matriculas_fundamental_integral',\n",
       "       'qtd_matriculas_fundamental_anos_iniciais_integral',\n",
       "       'qtd_matriculas_fundamental_anos_finais_integral',\n",
       "       'qtd_matriculas_medio_integral', 'coordenadas', 'is_PEI', '_merge',\n",
       "       'total_matriculas_basica_integral', 'possui_integral',\n",
       "       'total_matriculas_fundamental_integral', 'possui_integral_medio',\n",
       "       'is_PEI_and_possui_medio_integral', 'primeiro_ano_integral_medio',\n",
       "       'ultimo_ano_integral_medio', 'anos_integral_medio',\n",
       "       'ofertou_integral_de_forma_continua', 'ofertou_integral_ate_2018',\n",
       "       'tratamento', 'contaminado_porque_saiu',\n",
       "       'contaminado_porque_nao_teve_consistencia'],\n",
       "      dtype='object')"
      ]
     },
     "execution_count": 57,
     "metadata": {},
     "output_type": "execute_result"
    }
   ],
   "source": [
    "df.columns"
   ]
  },
  {
   "cell_type": "code",
   "execution_count": 58,
   "id": "1fd6e3e0",
   "metadata": {},
   "outputs": [
    {
     "data": {
      "text/plain": [
       "np.False_"
      ]
     },
     "execution_count": 58,
     "metadata": {},
     "output_type": "execute_result"
    }
   ],
   "source": [
    "df['contaminado_porque_saiu'].any()"
   ]
  },
  {
   "cell_type": "code",
   "execution_count": 59,
   "id": "855ac124",
   "metadata": {},
   "outputs": [
    {
     "data": {
      "text/plain": [
       "np.False_"
      ]
     },
     "execution_count": 59,
     "metadata": {},
     "output_type": "execute_result"
    }
   ],
   "source": [
    "df['contaminado_porque_nao_teve_consistencia'].any()"
   ]
  },
  {
   "cell_type": "code",
   "execution_count": 60,
   "id": "2e19c7c1",
   "metadata": {},
   "outputs": [
    {
     "data": {
      "text/plain": [
       "Index(['ano_censo', 'sigla_uf', 'nome_municipio', 'codigo_municipio',\n",
       "       'codigo_escola', 'nome_escola', 'qtd_turmas_ed_basica',\n",
       "       'qtd_matr_ed_basica', 'qtd_matr_medio', 'qtd_matr_fundamental',\n",
       "       'qtd_matr_ed_basica_nao_declarada', 'qtd_matr_ed_basica_branca',\n",
       "       'qtd_matr_ed_basica_preta', 'qtd_matr_ed_basica_parda',\n",
       "       'qtd_matr_ed_basica_amarela', 'qtd_matr_ed_basica_indigena',\n",
       "       'qtd_matriculas_fundamental_integral',\n",
       "       'qtd_matriculas_fundamental_anos_iniciais_integral',\n",
       "       'qtd_matriculas_fundamental_anos_finais_integral',\n",
       "       'qtd_matriculas_medio_integral', 'coordenadas', 'is_PEI', '_merge',\n",
       "       'total_matriculas_basica_integral', 'possui_integral',\n",
       "       'total_matriculas_fundamental_integral', 'possui_integral_medio',\n",
       "       'is_PEI_and_possui_medio_integral', 'primeiro_ano_integral_medio',\n",
       "       'ultimo_ano_integral_medio', 'anos_integral_medio',\n",
       "       'ofertou_integral_de_forma_continua', 'ofertou_integral_ate_2018',\n",
       "       'tratamento'],\n",
       "      dtype='object')"
      ]
     },
     "execution_count": 60,
     "metadata": {},
     "output_type": "execute_result"
    }
   ],
   "source": [
    "remover_colunas = ['contaminado_porque_nao_teve_consistencia', 'contaminado_porque_saiu']\n",
    "df.drop(columns=remover_colunas, inplace=True)\n",
    "df.columns"
   ]
  },
  {
   "cell_type": "code",
   "execution_count": 61,
   "id": "6b202d3a",
   "metadata": {},
   "outputs": [
    {
     "data": {
      "text/plain": [
       "0.1283505154639175"
      ]
     },
     "execution_count": 61,
     "metadata": {},
     "output_type": "execute_result"
    }
   ],
   "source": [
    "df[df['tratamento']]['codigo_escola'].nunique() / df['codigo_escola'].nunique()"
   ]
  },
  {
   "cell_type": "code",
   "execution_count": 62,
   "id": "1c8d4047",
   "metadata": {},
   "outputs": [
    {
     "data": {
      "text/plain": [
       "0.5209205020920502"
      ]
     },
     "execution_count": 62,
     "metadata": {},
     "output_type": "execute_result"
    }
   ],
   "source": [
    "df[df['tratamento']]['codigo_escola'].nunique() / df[df['possui_integral_medio']]['codigo_escola'].nunique()"
   ]
  },
  {
   "cell_type": "code",
   "execution_count": 63,
   "id": "c6e44929",
   "metadata": {},
   "outputs": [
    {
     "data": {
      "text/plain": [
       "0.5907473309608541"
      ]
     },
     "execution_count": 63,
     "metadata": {},
     "output_type": "execute_result"
    }
   ],
   "source": [
    "df[df['tratamento']]['codigo_escola'].nunique() / df[df['ofertou_integral_de_forma_continua']]['codigo_escola'].nunique()"
   ]
  },
  {
   "cell_type": "code",
   "execution_count": 65,
   "id": "bdf289d2",
   "metadata": {},
   "outputs": [
    {
     "name": "stdout",
     "output_type": "stream",
     "text": [
      "Data saved to data/dados_limpos.csv\n"
     ]
    }
   ],
   "source": [
    "from utils.save_csv import save_csv\n",
    "save_csv(df, 'dados_limpos.csv')"
   ]
  },
  {
   "cell_type": "code",
   "execution_count": null,
   "id": "f46b4981",
   "metadata": {},
   "outputs": [],
   "source": []
  }
 ],
 "metadata": {
  "kernelspec": {
   "display_name": "venv",
   "language": "python",
   "name": "python3"
  },
  "language_info": {
   "codemirror_mode": {
    "name": "ipython",
    "version": 3
   },
   "file_extension": ".py",
   "mimetype": "text/x-python",
   "name": "python",
   "nbconvert_exporter": "python",
   "pygments_lexer": "ipython3",
   "version": "3.12.3"
  }
 },
 "nbformat": 4,
 "nbformat_minor": 5
}
