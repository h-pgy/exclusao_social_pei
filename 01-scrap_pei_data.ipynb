{
 "cells": [
  {
   "cell_type": "markdown",
   "id": "3a63114a",
   "metadata": {},
   "source": [
    "## Extração da identificação das escolas que fazem parte do PEI\n",
    "\n",
    "O Governo do Estado fornece os dados das escolas que fazem parte do PEI em seu portal.\n",
    "\n",
    "Os dados podem ser acessados em: https://transparencia.educacao.sp.gov.br/Home/DetalhesPrograma?programa=1027\n",
    "\n",
    "Nesse notebook, realizamos o webscrapping desses dados, emulando a requisição de pesquisa que a interface de usuário faz (requisição post)."
   ]
  },
  {
   "cell_type": "code",
   "execution_count": 1,
   "id": "02b1edc0",
   "metadata": {},
   "outputs": [],
   "source": [
    "import requests\n",
    "from bs4 import BeautifulSoup\n",
    "import pandas as pd"
   ]
  },
  {
   "cell_type": "code",
   "execution_count": 2,
   "id": "5740711a",
   "metadata": {},
   "outputs": [
    {
     "data": {
      "text/plain": [
       "'https://transparencia.educacao.sp.gov.br/Home/conteudoTabelaPrograma'"
      ]
     },
     "execution_count": 2,
     "metadata": {},
     "output_type": "execute_result"
    }
   ],
   "source": [
    "URL_POST_ESCOLAS_PEI = 'https://transparencia.educacao.sp.gov.br/Home/conteudoTabelaPrograma'\n",
    "URL_POST_ESCOLAS_PEI"
   ]
  },
  {
   "cell_type": "code",
   "execution_count": 3,
   "id": "35786b8e",
   "metadata": {},
   "outputs": [],
   "source": [
    "PAYLOAD_BUSCA = dict(\n",
    "    tipo=1,\n",
    "    #diretoria=,\n",
    "    #escola=,\n",
    "    #municipio=,\n",
    "    #endereco=,\n",
    "    programa=27 #id do programa PEI\n",
    ")"
   ]
  },
  {
   "cell_type": "code",
   "execution_count": 4,
   "id": "20c89295",
   "metadata": {},
   "outputs": [],
   "source": [
    "def get_table_from_pei_website():\n",
    "    \"\"\"\n",
    "    Fetches the PEI data from the website and returns its html.\n",
    "    \"\"\"\n",
    "    with requests.post(URL_POST_ESCOLAS_PEI, data=PAYLOAD_BUSCA) as response:\n",
    "        if response.status_code == 200:\n",
    "            table = response.text\n",
    "            return table\n",
    "        else:\n",
    "            print('Error:', response.status_code, response.text)\n"
   ]
  },
  {
   "cell_type": "code",
   "execution_count": 5,
   "id": "59dbe97d",
   "metadata": {},
   "outputs": [
    {
     "data": {
      "text/plain": [
       "'\\r\\n\\r\\n<section class=\"container_maps\">\\r\\n    <div class=\"maps\" style=\"width:904px; height:500px\" id=\"ma'"
      ]
     },
     "execution_count": 5,
     "metadata": {},
     "output_type": "execute_result"
    }
   ],
   "source": [
    "html_table = get_table_from_pei_website()\n",
    "html_table[:100]"
   ]
  },
  {
   "cell_type": "code",
   "execution_count": 6,
   "id": "79b95c22",
   "metadata": {},
   "outputs": [],
   "source": [
    "def get_table_element(html_table):\n",
    "    \"\"\"\n",
    "    Parses the HTML table and returns the table element.\n",
    "    \"\"\"\n",
    "    soup = BeautifulSoup(html_table, 'html.parser')\n",
    "    table = soup.find('table')\n",
    "    \n",
    "    return table"
   ]
  },
  {
   "cell_type": "code",
   "execution_count": 7,
   "id": "6f11d683",
   "metadata": {},
   "outputs": [],
   "source": [
    "table = get_table_element(html_table)"
   ]
  },
  {
   "cell_type": "code",
   "execution_count": 8,
   "id": "3e6a0804",
   "metadata": {},
   "outputs": [
    {
     "data": {
      "text/plain": [
       "[<th>Escola</th>,\n",
       " <th>Diretoria de Ensino</th>,\n",
       " <th>Município</th>,\n",
       " <th>Ações</th>]"
      ]
     },
     "execution_count": 8,
     "metadata": {},
     "output_type": "execute_result"
    }
   ],
   "source": [
    "#colunas\n",
    "table.find_all('tr')[0].find_all('th')"
   ]
  },
  {
   "cell_type": "code",
   "execution_count": 9,
   "id": "9970de66",
   "metadata": {},
   "outputs": [
    {
     "data": {
      "text/plain": [
       "[<td>\n",
       " <a class=\"text-captalize\" href=\"/Home/DetalhesEscola?codesc=926085\" id=\"NomeEscola\">bairro da bocaina</a>\n",
       " </td>,\n",
       " <td><span class=\"text-captalize\" id=\"diretoriaEnsino\">guaratingueta</span></td>,\n",
       " <td><span class=\"text-captalize\" id=\"municipio\">cunha</span></td>,\n",
       " <td class=\"icones-acoes\">\n",
       " <a data-tooltip=\"Rota da Escola\" href=\"https://www.google.com/maps/dir//-23.0361,-44.9253/@-23.0361,-44.9253,17z/data=!3m1!4b1\" id=\"btnRota\" target=\"_blank\">\n",
       " <img alt=\"\" src=\"/Contents/img/icones/icon-trajeto.svg\"/>\n",
       " </a> \n",
       "                     <a data-tooltip=\"Informações da Escola\" href=\"/Home/DetalhesEscola?codesc=926085\" id=\"btnDetalhesEscola\">\n",
       " <img alt=\"\" src=\"/Contents/img/icones/icon-detalhes.svg\"/>\n",
       " </a>\n",
       " </td>]"
      ]
     },
     "execution_count": 9,
     "metadata": {},
     "output_type": "execute_result"
    }
   ],
   "source": [
    "#primeira linha\n",
    "table.find_all('tr')[1].find_all('td')"
   ]
  },
  {
   "cell_type": "code",
   "execution_count": 10,
   "id": "5bee05db",
   "metadata": {},
   "outputs": [],
   "source": [
    "def get_colls(table):\n",
    "    return [th.text.strip() for th in table.find_all('tr')[0].find_all('th')]"
   ]
  },
  {
   "cell_type": "code",
   "execution_count": 11,
   "id": "07689d6d",
   "metadata": {},
   "outputs": [
    {
     "data": {
      "text/plain": [
       "['Escola', 'Diretoria de Ensino', 'Município', 'Ações']"
      ]
     },
     "execution_count": 11,
     "metadata": {},
     "output_type": "execute_result"
    }
   ],
   "source": [
    "cols = get_colls(table)\n",
    "cols"
   ]
  },
  {
   "cell_type": "code",
   "execution_count": 12,
   "id": "e305b6f7",
   "metadata": {},
   "outputs": [
    {
     "data": {
      "text/plain": [
       "<td class=\"icones-acoes\">\n",
       "<a data-tooltip=\"Rota da Escola\" href=\"https://www.google.com/maps/dir//-23.0361,-44.9253/@-23.0361,-44.9253,17z/data=!3m1!4b1\" id=\"btnRota\" target=\"_blank\">\n",
       "<img alt=\"\" src=\"/Contents/img/icones/icon-trajeto.svg\"/>\n",
       "</a> \n",
       "                    <a data-tooltip=\"Informações da Escola\" href=\"/Home/DetalhesEscola?codesc=926085\" id=\"btnDetalhesEscola\">\n",
       "<img alt=\"\" src=\"/Contents/img/icones/icon-detalhes.svg\"/>\n",
       "</a>\n",
       "</td>"
      ]
     },
     "execution_count": 12,
     "metadata": {},
     "output_type": "execute_result"
    }
   ],
   "source": [
    "#ultima coluna - dados com links para parsear\n",
    "exemplo_ultima_coluna = table.find_all('tr')[1].find_all('td')[-1]\n",
    "exemplo_ultima_coluna"
   ]
  },
  {
   "cell_type": "code",
   "execution_count": 13,
   "id": "09cbcce3",
   "metadata": {},
   "outputs": [
    {
     "data": {
      "text/plain": [
       "'https://www.google.com/maps/dir//-23.0361,-44.9253/@-23.0361,-44.9253,17z/data=!3m1!4b1'"
      ]
     },
     "execution_count": 13,
     "metadata": {},
     "output_type": "execute_result"
    }
   ],
   "source": [
    "links = exemplo_ultima_coluna.find_all('a')\n",
    "link_google = links[0]['href']\n",
    "link_google"
   ]
  },
  {
   "cell_type": "code",
   "execution_count": 14,
   "id": "25c1a4ed",
   "metadata": {},
   "outputs": [
    {
     "data": {
      "text/plain": [
       "'/Home/DetalhesEscola?codesc=926085'"
      ]
     },
     "execution_count": 14,
     "metadata": {},
     "output_type": "execute_result"
    }
   ],
   "source": [
    "link_detalhes = links[1]['href']\n",
    "link_detalhes"
   ]
  },
  {
   "cell_type": "code",
   "execution_count": 15,
   "id": "1f5e5116",
   "metadata": {},
   "outputs": [],
   "source": [
    "#extrai as coordenadas do link do google maps\n",
    "def parse_coords_link_google(link_google):\n",
    "    return link_google.split('/')[-3].split(',')"
   ]
  },
  {
   "cell_type": "code",
   "execution_count": 16,
   "id": "1f4a4661",
   "metadata": {},
   "outputs": [
    {
     "data": {
      "text/plain": [
       "['-23.0361', '-44.9253']"
      ]
     },
     "execution_count": 16,
     "metadata": {},
     "output_type": "execute_result"
    }
   ],
   "source": [
    "parse_coords_link_google(link_google)"
   ]
  },
  {
   "cell_type": "code",
   "execution_count": 17,
   "id": "42f44967",
   "metadata": {},
   "outputs": [],
   "source": [
    "# extrai o id da escola do link para mais detalhes\n",
    "def parse_id_escola(link_detalhes):\n",
    "    return link_detalhes.split('?')[-1].replace('codesc=', '')"
   ]
  },
  {
   "cell_type": "code",
   "execution_count": 18,
   "id": "b9f57eb3",
   "metadata": {},
   "outputs": [
    {
     "data": {
      "text/plain": [
       "'926085'"
      ]
     },
     "execution_count": 18,
     "metadata": {},
     "output_type": "execute_result"
    }
   ],
   "source": [
    "parse_id_escola(link_detalhes)"
   ]
  },
  {
   "cell_type": "code",
   "execution_count": 19,
   "id": "43227770",
   "metadata": {},
   "outputs": [],
   "source": [
    "#outras colunas sao mais simples, só pegar o texto\n",
    "def parse_normal_data(td):\n",
    "    \"\"\"\n",
    "    Parses a table cell that contains normal text data.\n",
    "    \"\"\"\n",
    "    return td.text.strip()"
   ]
  },
  {
   "cell_type": "code",
   "execution_count": 20,
   "id": "dcacbd8d",
   "metadata": {},
   "outputs": [
    {
     "data": {
      "text/plain": [
       "['bairro da bocaina', 'guaratingueta', 'cunha']"
      ]
     },
     "execution_count": 20,
     "metadata": {},
     "output_type": "execute_result"
    }
   ],
   "source": [
    "[parse_normal_data(td) for td in table.find_all('tr')[1].find_all('td')[:-1]]"
   ]
  },
  {
   "cell_type": "code",
   "execution_count": null,
   "id": "5838284c",
   "metadata": {},
   "outputs": [],
   "source": [
    "# essa classe implementa todo o pipeline e retorna um dataframe\n",
    "# vou salvar ela como um modulo python para poder reutilizar posteriorment\n",
    "\n",
    "import requests\n",
    "from bs4 import BeautifulSoup\n",
    "import pandas as pd\n",
    "\n",
    "class PEITableParser:\n",
    "\n",
    "    URL_POST_ESCOLAS_PEI = 'https://transparencia.educacao.sp.gov.br/Home/conteudoTabelaPrograma'\n",
    "\n",
    "    PAYLOAD_BUSCA = dict(\n",
    "    tipo=1,\n",
    "    #diretoria=,\n",
    "    #escola=,\n",
    "    #municipio=,\n",
    "    #endereco=,\n",
    "    programa=27 #id do programa PEI\n",
    "    )\n",
    "\n",
    "    def get_table_from_pei_website(self) ->str:\n",
    "        \"\"\"\n",
    "        Fetches the PEI data from the website and returns its html.\n",
    "        \"\"\"\n",
    "        with requests.post(self.URL_POST_ESCOLAS_PEI, data=self.PAYLOAD_BUSCA) as response:\n",
    "            if response.status_code == 200:\n",
    "                table = response.text\n",
    "                return table\n",
    "            else:\n",
    "                error_msg = f'Falha ao buscar a tabela. Error code: {response.status_code}. Error msg: {response.text}'\n",
    "                raise RuntimeError(error_msg)\n",
    "\n",
    "    def get_table_element(self, html_table):\n",
    "        \"\"\"\n",
    "        Parses the HTML table and returns the table element.\n",
    "        \"\"\"\n",
    "        soup = BeautifulSoup(html_table, 'html.parser')\n",
    "        table = soup.find('table')\n",
    "        \n",
    "        if not table:\n",
    "            raise ValueError(\"No table found in the HTML content.\")\n",
    "\n",
    "        return table\n",
    "\n",
    "    def get_cols(self, table) -> list[str]:\n",
    "        return [th.text.strip() for th in table.find_all('tr')[0].find_all('th')]\n",
    "    \n",
    "    \n",
    "    #extrai as coordenadas do link do google maps\n",
    "    def parse_coords_link_google(self, link_google)->list[str]:\n",
    "        return link_google.split('/')[-3].split(',')\n",
    "    \n",
    "    # extrai o id da escola do link para mais detalhes\n",
    "    def parse_id_escola(self, link_detalhes: str) -> str:\n",
    "        return link_detalhes.split('?')[-1].replace('codesc=', '')\n",
    "    \n",
    "    def parse_normal_data(self, td) -> str:\n",
    "        \"\"\"\n",
    "        Parses a table cell that contains normal text data.\n",
    "        \"\"\"\n",
    "        return td.text.strip()\n",
    "    \n",
    "    def get_links_from_last_column(self, cells)->list[str]:\n",
    "\n",
    "        last_col_data = cells[-1]\n",
    "\n",
    "        link_data = last_col_data.find_all('a') if last_col_data else []\n",
    "        actual_links = [link['href'] for link in link_data if 'href' in link.attrs]\n",
    "\n",
    "        return actual_links\n",
    "\n",
    "    def parse_table(self, table) -> pd.DataFrame:\n",
    "        \"\"\"\n",
    "        Parses the HTML table and returns a DataFrame.\n",
    "        \"\"\"\n",
    "        cols = self.get_cols(table)\n",
    "        cols.remove('Ações')  # Remove the last column header as it contains links\n",
    "        cols.append('Coordenadas')\n",
    "        cols.append('ID Escola')\n",
    "        data = []\n",
    "\n",
    "        for row in table.find_all('tr')[1:]:\n",
    "            cells = row.find_all('td')\n",
    "            row_data = [self.parse_normal_data(td) for td in cells[:-1]]\n",
    "            links = self.get_links_from_last_column(cells)\n",
    "            coords = self.parse_coords_link_google(links[0])\n",
    "            id_escola = self.parse_id_escola(links[1])\n",
    "            row_data.append(coords)\n",
    "            row_data.append(id_escola)\n",
    "\n",
    "            data.append(row_data)\n",
    "\n",
    "        return pd.DataFrame(data, columns=cols)\n",
    "    \n",
    "    def pipeline(self) -> pd.DataFrame:\n",
    "        \"\"\"\n",
    "        Main pipeline to fetch, parse and return the PEI data as a DataFrame.\n",
    "        \"\"\"\n",
    "        html_table = self.get_table_from_pei_website()\n",
    "        table = self.get_table_element(html_table)\n",
    "        df = self.parse_table(table)\n",
    "        return df\n",
    "    \n",
    "    def __call__(self) -> pd.DataFrame:\n",
    "        \"\"\"\n",
    "        Allows the class instance to be called as a function to get the DataFrame.\n",
    "        \"\"\"\n",
    "        return self.pipeline()\n"
   ]
  },
  {
   "cell_type": "code",
   "execution_count": 22,
   "id": "8e79adb0",
   "metadata": {},
   "outputs": [],
   "source": [
    "parse_pei_table = PEITableParser()"
   ]
  },
  {
   "cell_type": "code",
   "execution_count": 23,
   "id": "3d909ac1",
   "metadata": {},
   "outputs": [
    {
     "data": {
      "text/html": [
       "<div>\n",
       "<style scoped>\n",
       "    .dataframe tbody tr th:only-of-type {\n",
       "        vertical-align: middle;\n",
       "    }\n",
       "\n",
       "    .dataframe tbody tr th {\n",
       "        vertical-align: top;\n",
       "    }\n",
       "\n",
       "    .dataframe thead th {\n",
       "        text-align: right;\n",
       "    }\n",
       "</style>\n",
       "<table border=\"1\" class=\"dataframe\">\n",
       "  <thead>\n",
       "    <tr style=\"text-align: right;\">\n",
       "      <th></th>\n",
       "      <th>Escola</th>\n",
       "      <th>Diretoria de Ensino</th>\n",
       "      <th>Município</th>\n",
       "      <th>Coordenadas</th>\n",
       "      <th>ID Escola</th>\n",
       "    </tr>\n",
       "  </thead>\n",
       "  <tbody>\n",
       "    <tr>\n",
       "      <th>0</th>\n",
       "      <td>bairro da bocaina</td>\n",
       "      <td>guaratingueta</td>\n",
       "      <td>cunha</td>\n",
       "      <td>[-23.0361, -44.9253]</td>\n",
       "      <td>926085</td>\n",
       "    </tr>\n",
       "    <tr>\n",
       "      <th>1</th>\n",
       "      <td>aldeia karugwa</td>\n",
       "      <td>itarare</td>\n",
       "      <td>barao de antonina</td>\n",
       "      <td>[-23.6028, -49.5874]</td>\n",
       "      <td>268574</td>\n",
       "    </tr>\n",
       "    <tr>\n",
       "      <th>2</th>\n",
       "      <td>india maria rosa</td>\n",
       "      <td>penapolis</td>\n",
       "      <td>brauna</td>\n",
       "      <td>[-21.5656, -50.3173]</td>\n",
       "      <td>395365</td>\n",
       "    </tr>\n",
       "    <tr>\n",
       "      <th>3</th>\n",
       "      <td>joao alfredo da silva</td>\n",
       "      <td>presidente prudente</td>\n",
       "      <td>presidente prudente</td>\n",
       "      <td>[-21.9093, -51.3003]</td>\n",
       "      <td>31756</td>\n",
       "    </tr>\n",
       "    <tr>\n",
       "      <th>4</th>\n",
       "      <td>bairro pe da serra</td>\n",
       "      <td>miracatu</td>\n",
       "      <td>iguape</td>\n",
       "      <td>[-24.3801, -47.5179]</td>\n",
       "      <td>918052</td>\n",
       "    </tr>\n",
       "  </tbody>\n",
       "</table>\n",
       "</div>"
      ],
      "text/plain": [
       "                  Escola  Diretoria de Ensino            Município  \\\n",
       "0      bairro da bocaina        guaratingueta                cunha   \n",
       "1         aldeia karugwa              itarare    barao de antonina   \n",
       "2       india maria rosa            penapolis               brauna   \n",
       "3  joao alfredo da silva  presidente prudente  presidente prudente   \n",
       "4     bairro pe da serra             miracatu               iguape   \n",
       "\n",
       "            Coordenadas ID Escola  \n",
       "0  [-23.0361, -44.9253]    926085  \n",
       "1  [-23.6028, -49.5874]    268574  \n",
       "2  [-21.5656, -50.3173]    395365  \n",
       "3  [-21.9093, -51.3003]     31756  \n",
       "4  [-24.3801, -47.5179]    918052  "
      ]
     },
     "execution_count": 23,
     "metadata": {},
     "output_type": "execute_result"
    }
   ],
   "source": [
    "df = parse_pei_table()\n",
    "df.head()"
   ]
  },
  {
   "cell_type": "code",
   "execution_count": 24,
   "id": "bcbc4cb8",
   "metadata": {},
   "outputs": [
    {
     "name": "stdout",
     "output_type": "stream",
     "text": [
      "Data saved to data/pei_escolas_original.csv\n"
     ]
    }
   ],
   "source": [
    "from utils.save_csv import save_csv\n",
    "\n",
    "save_csv(df, 'pei_escolas_original.csv')"
   ]
  }
 ],
 "metadata": {
  "kernelspec": {
   "display_name": "venv",
   "language": "python",
   "name": "python3"
  },
  "language_info": {
   "codemirror_mode": {
    "name": "ipython",
    "version": 3
   },
   "file_extension": ".py",
   "mimetype": "text/x-python",
   "name": "python",
   "nbconvert_exporter": "python",
   "pygments_lexer": "ipython3",
   "version": "3.12.3"
  }
 },
 "nbformat": 4,
 "nbformat_minor": 5
}
