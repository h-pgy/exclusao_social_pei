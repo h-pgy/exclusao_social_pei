{
 "cells": [
  {
   "cell_type": "markdown",
   "id": "182aa50b",
   "metadata": {},
   "source": [
    "## Join data\n",
    "\n",
    "Esse notebook faz o join entre os dados do portal da transparência do Estado, que identificam as escolas participantes do PEI - Programa de Ensino Integral - e os microdados do censo escolar."
   ]
  },
  {
   "cell_type": "code",
   "execution_count": 1,
   "id": "4c8d631b",
   "metadata": {},
   "outputs": [],
   "source": [
    "import pandas as pd\n",
    "\n",
    "from utils.load_csv import load_csv\n",
    "from utils.save_csv import save_csv"
   ]
  },
  {
   "cell_type": "code",
   "execution_count": 2,
   "id": "c33b2cf5",
   "metadata": {},
   "outputs": [],
   "source": [
    "df_pei = load_csv('pei_escolas_original.csv')\n",
    "df_censo = load_csv('microdados_censo_limpo.csv')"
   ]
  },
  {
   "cell_type": "code",
   "execution_count": 3,
   "id": "f4b9e064",
   "metadata": {},
   "outputs": [
    {
     "data": {
      "text/plain": [
       "Index(['Escola', 'Diretoria de Ensino', 'Município', 'Coordenadas',\n",
       "       'ID Escola'],\n",
       "      dtype='object')"
      ]
     },
     "execution_count": 3,
     "metadata": {},
     "output_type": "execute_result"
    }
   ],
   "source": [
    "df_pei.columns"
   ]
  },
  {
   "cell_type": "code",
   "execution_count": 4,
   "id": "c88a7c33",
   "metadata": {},
   "outputs": [
    {
     "data": {
      "text/html": [
       "<div>\n",
       "<style scoped>\n",
       "    .dataframe tbody tr th:only-of-type {\n",
       "        vertical-align: middle;\n",
       "    }\n",
       "\n",
       "    .dataframe tbody tr th {\n",
       "        vertical-align: top;\n",
       "    }\n",
       "\n",
       "    .dataframe thead th {\n",
       "        text-align: right;\n",
       "    }\n",
       "</style>\n",
       "<table border=\"1\" class=\"dataframe\">\n",
       "  <thead>\n",
       "    <tr style=\"text-align: right;\">\n",
       "      <th></th>\n",
       "      <th>Escola</th>\n",
       "      <th>Diretoria de Ensino</th>\n",
       "      <th>Município</th>\n",
       "      <th>Coordenadas</th>\n",
       "      <th>ID Escola</th>\n",
       "    </tr>\n",
       "  </thead>\n",
       "  <tbody>\n",
       "    <tr>\n",
       "      <th>0</th>\n",
       "      <td>bairro da bocaina</td>\n",
       "      <td>guaratingueta</td>\n",
       "      <td>cunha</td>\n",
       "      <td>['-23.0361', '-44.9253']</td>\n",
       "      <td>926085</td>\n",
       "    </tr>\n",
       "    <tr>\n",
       "      <th>1</th>\n",
       "      <td>aldeia karugwa</td>\n",
       "      <td>itarare</td>\n",
       "      <td>barao de antonina</td>\n",
       "      <td>['-23.6028', '-49.5874']</td>\n",
       "      <td>268574</td>\n",
       "    </tr>\n",
       "    <tr>\n",
       "      <th>2</th>\n",
       "      <td>india maria rosa</td>\n",
       "      <td>penapolis</td>\n",
       "      <td>brauna</td>\n",
       "      <td>['-21.5656', '-50.3173']</td>\n",
       "      <td>395365</td>\n",
       "    </tr>\n",
       "    <tr>\n",
       "      <th>3</th>\n",
       "      <td>joao alfredo da silva</td>\n",
       "      <td>presidente prudente</td>\n",
       "      <td>presidente prudente</td>\n",
       "      <td>['-21.9093', '-51.3003']</td>\n",
       "      <td>31756</td>\n",
       "    </tr>\n",
       "    <tr>\n",
       "      <th>4</th>\n",
       "      <td>bairro pe da serra</td>\n",
       "      <td>miracatu</td>\n",
       "      <td>iguape</td>\n",
       "      <td>['-24.3801', '-47.5179']</td>\n",
       "      <td>918052</td>\n",
       "    </tr>\n",
       "  </tbody>\n",
       "</table>\n",
       "</div>"
      ],
      "text/plain": [
       "                  Escola  Diretoria de Ensino            Município  \\\n",
       "0      bairro da bocaina        guaratingueta                cunha   \n",
       "1         aldeia karugwa              itarare    barao de antonina   \n",
       "2       india maria rosa            penapolis               brauna   \n",
       "3  joao alfredo da silva  presidente prudente  presidente prudente   \n",
       "4     bairro pe da serra             miracatu               iguape   \n",
       "\n",
       "                Coordenadas  ID Escola  \n",
       "0  ['-23.0361', '-44.9253']     926085  \n",
       "1  ['-23.6028', '-49.5874']     268574  \n",
       "2  ['-21.5656', '-50.3173']     395365  \n",
       "3  ['-21.9093', '-51.3003']      31756  \n",
       "4  ['-24.3801', '-47.5179']     918052  "
      ]
     },
     "execution_count": 4,
     "metadata": {},
     "output_type": "execute_result"
    }
   ],
   "source": [
    "df_pei.head()"
   ]
  },
  {
   "cell_type": "code",
   "execution_count": 5,
   "id": "af1da246",
   "metadata": {},
   "outputs": [],
   "source": [
    "mapper_pei = {\n",
    "    'Escola': 'nome_escola',\n",
    "    'Diretoria de Ensino': 'nome_dre',\n",
    "    'Município': 'nome_municipio',\n",
    "    'Coordenadas': 'coordenadas',\n",
    "    'ID Escola': 'id_escola'\n",
    "}\n",
    "\n",
    "df_pei = df_pei.rename(columns=mapper_pei)"
   ]
  },
  {
   "cell_type": "code",
   "execution_count": 6,
   "id": "aa6634d7",
   "metadata": {},
   "outputs": [
    {
     "data": {
      "text/html": [
       "<div>\n",
       "<style scoped>\n",
       "    .dataframe tbody tr th:only-of-type {\n",
       "        vertical-align: middle;\n",
       "    }\n",
       "\n",
       "    .dataframe tbody tr th {\n",
       "        vertical-align: top;\n",
       "    }\n",
       "\n",
       "    .dataframe thead th {\n",
       "        text-align: right;\n",
       "    }\n",
       "</style>\n",
       "<table border=\"1\" class=\"dataframe\">\n",
       "  <thead>\n",
       "    <tr style=\"text-align: right;\">\n",
       "      <th></th>\n",
       "      <th>nome_escola</th>\n",
       "      <th>nome_dre</th>\n",
       "      <th>nome_municipio</th>\n",
       "      <th>coordenadas</th>\n",
       "      <th>id_escola</th>\n",
       "    </tr>\n",
       "  </thead>\n",
       "  <tbody>\n",
       "    <tr>\n",
       "      <th>0</th>\n",
       "      <td>bairro da bocaina</td>\n",
       "      <td>guaratingueta</td>\n",
       "      <td>cunha</td>\n",
       "      <td>['-23.0361', '-44.9253']</td>\n",
       "      <td>926085</td>\n",
       "    </tr>\n",
       "    <tr>\n",
       "      <th>1</th>\n",
       "      <td>aldeia karugwa</td>\n",
       "      <td>itarare</td>\n",
       "      <td>barao de antonina</td>\n",
       "      <td>['-23.6028', '-49.5874']</td>\n",
       "      <td>268574</td>\n",
       "    </tr>\n",
       "    <tr>\n",
       "      <th>2</th>\n",
       "      <td>india maria rosa</td>\n",
       "      <td>penapolis</td>\n",
       "      <td>brauna</td>\n",
       "      <td>['-21.5656', '-50.3173']</td>\n",
       "      <td>395365</td>\n",
       "    </tr>\n",
       "    <tr>\n",
       "      <th>3</th>\n",
       "      <td>joao alfredo da silva</td>\n",
       "      <td>presidente prudente</td>\n",
       "      <td>presidente prudente</td>\n",
       "      <td>['-21.9093', '-51.3003']</td>\n",
       "      <td>31756</td>\n",
       "    </tr>\n",
       "    <tr>\n",
       "      <th>4</th>\n",
       "      <td>bairro pe da serra</td>\n",
       "      <td>miracatu</td>\n",
       "      <td>iguape</td>\n",
       "      <td>['-24.3801', '-47.5179']</td>\n",
       "      <td>918052</td>\n",
       "    </tr>\n",
       "  </tbody>\n",
       "</table>\n",
       "</div>"
      ],
      "text/plain": [
       "             nome_escola             nome_dre       nome_municipio  \\\n",
       "0      bairro da bocaina        guaratingueta                cunha   \n",
       "1         aldeia karugwa              itarare    barao de antonina   \n",
       "2       india maria rosa            penapolis               brauna   \n",
       "3  joao alfredo da silva  presidente prudente  presidente prudente   \n",
       "4     bairro pe da serra             miracatu               iguape   \n",
       "\n",
       "                coordenadas  id_escola  \n",
       "0  ['-23.0361', '-44.9253']     926085  \n",
       "1  ['-23.6028', '-49.5874']     268574  \n",
       "2  ['-21.5656', '-50.3173']     395365  \n",
       "3  ['-21.9093', '-51.3003']      31756  \n",
       "4  ['-24.3801', '-47.5179']     918052  "
      ]
     },
     "execution_count": 6,
     "metadata": {},
     "output_type": "execute_result"
    }
   ],
   "source": [
    "df_pei.head()"
   ]
  },
  {
   "cell_type": "code",
   "execution_count": 7,
   "id": "47e91ff7",
   "metadata": {},
   "outputs": [
    {
     "data": {
      "text/plain": [
       "Index(['ano_censo', 'sigla_uf', 'nome_municipio', 'codigo_municipio',\n",
       "       'codigo_escola', 'nome_escola', 'qtd_turmas_ed_basica',\n",
       "       'qtd_matr_ed_basica', 'qtd_matr_medio', 'qtd_matr_fundamental',\n",
       "       'qtd_matr_ed_basica_nao_declarada', 'qtd_matr_ed_basica_branca',\n",
       "       'qtd_matr_ed_basica_preta', 'qtd_matr_ed_basica_parda',\n",
       "       'qtd_matr_ed_basica_amarela', 'qtd_matr_ed_basica_indigena',\n",
       "       'qtd_matriculas_infantil_integral',\n",
       "       'qtd_matriculas_infantil_creche_integral',\n",
       "       'qtd_matriculas_infantil_pre_escolar_integral',\n",
       "       'qtd_matriculas_fundamental_integral',\n",
       "       'qtd_matriculas_fundamental_anos_iniciais_integral',\n",
       "       'qtd_matriculas_fundamental_anos_finais_integral',\n",
       "       'qtd_matriculas_medio_integral'],\n",
       "      dtype='object')"
      ]
     },
     "execution_count": 7,
     "metadata": {},
     "output_type": "execute_result"
    }
   ],
   "source": [
    "df_censo.columns"
   ]
  },
  {
   "cell_type": "code",
   "execution_count": 8,
   "id": "b0b9a07e",
   "metadata": {},
   "outputs": [
    {
     "data": {
      "text/html": [
       "<div>\n",
       "<style scoped>\n",
       "    .dataframe tbody tr th:only-of-type {\n",
       "        vertical-align: middle;\n",
       "    }\n",
       "\n",
       "    .dataframe tbody tr th {\n",
       "        vertical-align: top;\n",
       "    }\n",
       "\n",
       "    .dataframe thead th {\n",
       "        text-align: right;\n",
       "    }\n",
       "</style>\n",
       "<table border=\"1\" class=\"dataframe\">\n",
       "  <thead>\n",
       "    <tr style=\"text-align: right;\">\n",
       "      <th></th>\n",
       "      <th>ano_censo</th>\n",
       "      <th>sigla_uf</th>\n",
       "      <th>nome_municipio</th>\n",
       "      <th>codigo_municipio</th>\n",
       "      <th>codigo_escola</th>\n",
       "      <th>nome_escola</th>\n",
       "      <th>qtd_turmas_ed_basica</th>\n",
       "      <th>qtd_matr_ed_basica</th>\n",
       "      <th>qtd_matr_medio</th>\n",
       "      <th>qtd_matr_fundamental</th>\n",
       "      <th>...</th>\n",
       "      <th>qtd_matr_ed_basica_parda</th>\n",
       "      <th>qtd_matr_ed_basica_amarela</th>\n",
       "      <th>qtd_matr_ed_basica_indigena</th>\n",
       "      <th>qtd_matriculas_infantil_integral</th>\n",
       "      <th>qtd_matriculas_infantil_creche_integral</th>\n",
       "      <th>qtd_matriculas_infantil_pre_escolar_integral</th>\n",
       "      <th>qtd_matriculas_fundamental_integral</th>\n",
       "      <th>qtd_matriculas_fundamental_anos_iniciais_integral</th>\n",
       "      <th>qtd_matriculas_fundamental_anos_finais_integral</th>\n",
       "      <th>qtd_matriculas_medio_integral</th>\n",
       "    </tr>\n",
       "  </thead>\n",
       "  <tbody>\n",
       "    <tr>\n",
       "      <th>0</th>\n",
       "      <td>2011</td>\n",
       "      <td>SP</td>\n",
       "      <td>Adamantina</td>\n",
       "      <td>3500105</td>\n",
       "      <td>35030806</td>\n",
       "      <td>HELEN KELLER</td>\n",
       "      <td>25</td>\n",
       "      <td>830</td>\n",
       "      <td>447</td>\n",
       "      <td>303</td>\n",
       "      <td>...</td>\n",
       "      <td>225</td>\n",
       "      <td>2</td>\n",
       "      <td>2</td>\n",
       "      <td>0</td>\n",
       "      <td>0</td>\n",
       "      <td>0</td>\n",
       "      <td>303</td>\n",
       "      <td>0</td>\n",
       "      <td>303</td>\n",
       "      <td>0</td>\n",
       "    </tr>\n",
       "    <tr>\n",
       "      <th>1</th>\n",
       "      <td>2011</td>\n",
       "      <td>SP</td>\n",
       "      <td>Adamantina</td>\n",
       "      <td>3500105</td>\n",
       "      <td>35031045</td>\n",
       "      <td>DURVALINO GRION PROF</td>\n",
       "      <td>22</td>\n",
       "      <td>771</td>\n",
       "      <td>275</td>\n",
       "      <td>496</td>\n",
       "      <td>...</td>\n",
       "      <td>210</td>\n",
       "      <td>6</td>\n",
       "      <td>2</td>\n",
       "      <td>0</td>\n",
       "      <td>0</td>\n",
       "      <td>0</td>\n",
       "      <td>0</td>\n",
       "      <td>0</td>\n",
       "      <td>0</td>\n",
       "      <td>0</td>\n",
       "    </tr>\n",
       "    <tr>\n",
       "      <th>2</th>\n",
       "      <td>2011</td>\n",
       "      <td>SP</td>\n",
       "      <td>Adamantina</td>\n",
       "      <td>3500105</td>\n",
       "      <td>35031112</td>\n",
       "      <td>FLEURIDES CAVALLINI MENECHINO PROFA</td>\n",
       "      <td>32</td>\n",
       "      <td>1102</td>\n",
       "      <td>345</td>\n",
       "      <td>757</td>\n",
       "      <td>...</td>\n",
       "      <td>193</td>\n",
       "      <td>11</td>\n",
       "      <td>3</td>\n",
       "      <td>0</td>\n",
       "      <td>0</td>\n",
       "      <td>0</td>\n",
       "      <td>0</td>\n",
       "      <td>0</td>\n",
       "      <td>0</td>\n",
       "      <td>1</td>\n",
       "    </tr>\n",
       "    <tr>\n",
       "      <th>3</th>\n",
       "      <td>2011</td>\n",
       "      <td>SP</td>\n",
       "      <td>Adolfo</td>\n",
       "      <td>3500204</td>\n",
       "      <td>35027352</td>\n",
       "      <td>ODILA BOVOLENTA DE MENDONCA PROFA</td>\n",
       "      <td>6</td>\n",
       "      <td>156</td>\n",
       "      <td>156</td>\n",
       "      <td>0</td>\n",
       "      <td>...</td>\n",
       "      <td>32</td>\n",
       "      <td>0</td>\n",
       "      <td>0</td>\n",
       "      <td>0</td>\n",
       "      <td>0</td>\n",
       "      <td>0</td>\n",
       "      <td>0</td>\n",
       "      <td>0</td>\n",
       "      <td>0</td>\n",
       "      <td>0</td>\n",
       "    </tr>\n",
       "    <tr>\n",
       "      <th>4</th>\n",
       "      <td>2011</td>\n",
       "      <td>SP</td>\n",
       "      <td>Aguaí</td>\n",
       "      <td>3500303</td>\n",
       "      <td>35020527</td>\n",
       "      <td>GERALDO LOURENCO PADRE</td>\n",
       "      <td>33</td>\n",
       "      <td>1106</td>\n",
       "      <td>508</td>\n",
       "      <td>598</td>\n",
       "      <td>...</td>\n",
       "      <td>269</td>\n",
       "      <td>5</td>\n",
       "      <td>5</td>\n",
       "      <td>0</td>\n",
       "      <td>0</td>\n",
       "      <td>0</td>\n",
       "      <td>0</td>\n",
       "      <td>0</td>\n",
       "      <td>0</td>\n",
       "      <td>0</td>\n",
       "    </tr>\n",
       "  </tbody>\n",
       "</table>\n",
       "<p>5 rows × 23 columns</p>\n",
       "</div>"
      ],
      "text/plain": [
       "   ano_censo sigla_uf nome_municipio  codigo_municipio  codigo_escola  \\\n",
       "0       2011       SP     Adamantina           3500105       35030806   \n",
       "1       2011       SP     Adamantina           3500105       35031045   \n",
       "2       2011       SP     Adamantina           3500105       35031112   \n",
       "3       2011       SP         Adolfo           3500204       35027352   \n",
       "4       2011       SP          Aguaí           3500303       35020527   \n",
       "\n",
       "                           nome_escola  qtd_turmas_ed_basica  \\\n",
       "0                         HELEN KELLER                    25   \n",
       "1                 DURVALINO GRION PROF                    22   \n",
       "2  FLEURIDES CAVALLINI MENECHINO PROFA                    32   \n",
       "3    ODILA BOVOLENTA DE MENDONCA PROFA                     6   \n",
       "4               GERALDO LOURENCO PADRE                    33   \n",
       "\n",
       "   qtd_matr_ed_basica  qtd_matr_medio  qtd_matr_fundamental  ...  \\\n",
       "0                 830             447                   303  ...   \n",
       "1                 771             275                   496  ...   \n",
       "2                1102             345                   757  ...   \n",
       "3                 156             156                     0  ...   \n",
       "4                1106             508                   598  ...   \n",
       "\n",
       "   qtd_matr_ed_basica_parda  qtd_matr_ed_basica_amarela  \\\n",
       "0                       225                           2   \n",
       "1                       210                           6   \n",
       "2                       193                          11   \n",
       "3                        32                           0   \n",
       "4                       269                           5   \n",
       "\n",
       "   qtd_matr_ed_basica_indigena  qtd_matriculas_infantil_integral  \\\n",
       "0                            2                                 0   \n",
       "1                            2                                 0   \n",
       "2                            3                                 0   \n",
       "3                            0                                 0   \n",
       "4                            5                                 0   \n",
       "\n",
       "   qtd_matriculas_infantil_creche_integral  \\\n",
       "0                                        0   \n",
       "1                                        0   \n",
       "2                                        0   \n",
       "3                                        0   \n",
       "4                                        0   \n",
       "\n",
       "   qtd_matriculas_infantil_pre_escolar_integral  \\\n",
       "0                                             0   \n",
       "1                                             0   \n",
       "2                                             0   \n",
       "3                                             0   \n",
       "4                                             0   \n",
       "\n",
       "   qtd_matriculas_fundamental_integral  \\\n",
       "0                                  303   \n",
       "1                                    0   \n",
       "2                                    0   \n",
       "3                                    0   \n",
       "4                                    0   \n",
       "\n",
       "   qtd_matriculas_fundamental_anos_iniciais_integral  \\\n",
       "0                                                  0   \n",
       "1                                                  0   \n",
       "2                                                  0   \n",
       "3                                                  0   \n",
       "4                                                  0   \n",
       "\n",
       "   qtd_matriculas_fundamental_anos_finais_integral  \\\n",
       "0                                              303   \n",
       "1                                                0   \n",
       "2                                                0   \n",
       "3                                                0   \n",
       "4                                                0   \n",
       "\n",
       "   qtd_matriculas_medio_integral  \n",
       "0                              0  \n",
       "1                              0  \n",
       "2                              1  \n",
       "3                              0  \n",
       "4                              0  \n",
       "\n",
       "[5 rows x 23 columns]"
      ]
     },
     "execution_count": 8,
     "metadata": {},
     "output_type": "execute_result"
    }
   ],
   "source": [
    "df_censo.head()"
   ]
  },
  {
   "cell_type": "markdown",
   "id": "765bd4a1",
   "metadata": {},
   "source": [
    "#### Checando se os IDs das escolas da base do PEI batem com a base do Censo"
   ]
  },
  {
   "cell_type": "code",
   "execution_count": 9,
   "id": "ce9b0d95",
   "metadata": {},
   "outputs": [
    {
     "data": {
      "text/plain": [
       "2030    65626\n",
       "1111    30752\n",
       "1435    11149\n",
       "Name: id_escola, dtype: int64"
      ]
     },
     "execution_count": 9,
     "metadata": {},
     "output_type": "execute_result"
    }
   ],
   "source": [
    "df_pei['id_escola'].sample(3)"
   ]
  },
  {
   "cell_type": "code",
   "execution_count": 10,
   "id": "2fe01e9b",
   "metadata": {},
   "outputs": [
    {
     "data": {
      "text/plain": [
       "14852    35043916\n",
       "1954     35910132\n",
       "2584     35028708\n",
       "Name: codigo_escola, dtype: int64"
      ]
     },
     "execution_count": 10,
     "metadata": {},
     "output_type": "execute_result"
    }
   ],
   "source": [
    "df_censo['codigo_escola'].sample(3)"
   ]
  },
  {
   "cell_type": "code",
   "execution_count": 11,
   "id": "f470d051",
   "metadata": {},
   "outputs": [
    {
     "data": {
      "text/plain": [
       "array([8])"
      ]
     },
     "execution_count": 11,
     "metadata": {},
     "output_type": "execute_result"
    }
   ],
   "source": [
    "df_censo['codigo_escola'].astype(str).str.len().unique()"
   ]
  },
  {
   "cell_type": "code",
   "execution_count": 12,
   "id": "253bf8fa",
   "metadata": {},
   "outputs": [],
   "source": [
    "df_censo['codigo_escola'] = df_censo['codigo_escola'].astype(str)"
   ]
  },
  {
   "cell_type": "code",
   "execution_count": 13,
   "id": "c470da38",
   "metadata": {},
   "outputs": [
    {
     "data": {
      "text/plain": [
       "dtype('int64')"
      ]
     },
     "execution_count": 13,
     "metadata": {},
     "output_type": "execute_result"
    }
   ],
   "source": [
    "df_pei['id_escola'].dtype"
   ]
  },
  {
   "cell_type": "code",
   "execution_count": 14,
   "id": "88e002fa",
   "metadata": {},
   "outputs": [
    {
     "data": {
      "text/plain": [
       "array([6, 5, 4, 3, 2])"
      ]
     },
     "execution_count": 14,
     "metadata": {},
     "output_type": "execute_result"
    }
   ],
   "source": [
    "#note que se somar os dois caracteres do estado, o id no final fica no tamanho de 8 caracteres do codigo do censo\n",
    "#vou tentar fazer isso para ver se da match\n",
    "df_pei['id_escola'].astype(str).str.len().unique()"
   ]
  },
  {
   "cell_type": "code",
   "execution_count": 15,
   "id": "567167e5",
   "metadata": {},
   "outputs": [
    {
     "data": {
      "text/plain": [
       "<bound method Series.unique of 0       6\n",
       "1       6\n",
       "2       6\n",
       "3       6\n",
       "4       6\n",
       "       ..\n",
       "2326    6\n",
       "2327    6\n",
       "2328    6\n",
       "2329    6\n",
       "2330    6\n",
       "Name: id_escola_treated, Length: 2331, dtype: int64>"
      ]
     },
     "execution_count": 15,
     "metadata": {},
     "output_type": "execute_result"
    }
   ],
   "source": [
    "#primeiro vamos dar um zfill para todos ficarem com 6 caracteres. Depois adicionamos o 35 do estado de SP\n",
    "df_pei['id_escola_treated'] = df_pei['id_escola'].astype(str).str.zfill(6)\n",
    "df_pei['id_escola_treated'].str.len().unique"
   ]
  },
  {
   "cell_type": "code",
   "execution_count": 16,
   "id": "540ad5a8",
   "metadata": {},
   "outputs": [
    {
     "data": {
      "text/plain": [
       "array([8])"
      ]
     },
     "execution_count": 16,
     "metadata": {},
     "output_type": "execute_result"
    }
   ],
   "source": [
    "df_pei['id_escola_treated'] = '35'  + df_pei['id_escola_treated']\n",
    "df_pei['id_escola_treated'].str.len().unique()"
   ]
  },
  {
   "cell_type": "code",
   "execution_count": 17,
   "id": "bfda4726",
   "metadata": {},
   "outputs": [
    {
     "data": {
      "text/plain": [
       "{'35000073',\n",
       " '35000152',\n",
       " '35000310',\n",
       " '35000474',\n",
       " '35000632',\n",
       " '35000656',\n",
       " '35000772',\n",
       " '35000784',\n",
       " '35000863',\n",
       " '35000899',\n",
       " '35001090',\n",
       " '35001211',\n",
       " '35001387',\n",
       " '35001399',\n",
       " '35001485',\n",
       " '35001508',\n",
       " '35001512',\n",
       " '35001545',\n",
       " '35001764',\n",
       " '35001806',\n",
       " '35001818',\n",
       " '35001879',\n",
       " '35001892',\n",
       " '35001922',\n",
       " '35001995',\n",
       " '35002021',\n",
       " '35002045',\n",
       " '35002070',\n",
       " '35002094',\n",
       " '35002124',\n",
       " '35002227',\n",
       " '35002240',\n",
       " '35002355',\n",
       " '35002951',\n",
       " '35003360',\n",
       " '35003448',\n",
       " '35003463',\n",
       " '35003591',\n",
       " '35003612',\n",
       " '35003633',\n",
       " '35003803',\n",
       " '35003815',\n",
       " '35003864',\n",
       " '35003876',\n",
       " '35003897',\n",
       " '35003955',\n",
       " '35003980',\n",
       " '35004078',\n",
       " '35004085',\n",
       " '35004091',\n",
       " '35004133',\n",
       " '35004315',\n",
       " '35004406',\n",
       " '35004443',\n",
       " '35004455',\n",
       " '35004467',\n",
       " '35004509',\n",
       " '35004633',\n",
       " '35004716',\n",
       " '35004765',\n",
       " '35004789',\n",
       " '35004819',\n",
       " '35004856',\n",
       " '35004873',\n",
       " '35004893',\n",
       " '35004935',\n",
       " '35005174',\n",
       " '35005708',\n",
       " '35005800',\n",
       " '35005848',\n",
       " '35005897',\n",
       " '35005898',\n",
       " '35005929',\n",
       " '35005939',\n",
       " '35006105',\n",
       " '35006361',\n",
       " '35006497',\n",
       " '35006658',\n",
       " '35006792',\n",
       " '35006867',\n",
       " '35006900',\n",
       " '35006944',\n",
       " '35007419',\n",
       " '35007730',\n",
       " '35007973',\n",
       " '35008072',\n",
       " '35008138',\n",
       " '35008345',\n",
       " '35008412',\n",
       " '35008461',\n",
       " '35008618',\n",
       " '35008624',\n",
       " '35008631',\n",
       " '35008734',\n",
       " '35009118',\n",
       " '35009313',\n",
       " '35009885',\n",
       " '35010170',\n",
       " '35010509',\n",
       " '35011150',\n",
       " '35011629',\n",
       " '35012798',\n",
       " '35013079',\n",
       " '35013389',\n",
       " '35014631',\n",
       " '35015097',\n",
       " '35015106',\n",
       " '35015192',\n",
       " '35015441',\n",
       " '35016147',\n",
       " '35016196',\n",
       " '35016385',\n",
       " '35016408',\n",
       " '35016861',\n",
       " '35016974',\n",
       " '35016998',\n",
       " '35017000',\n",
       " '35017085',\n",
       " '35017097',\n",
       " '35017115',\n",
       " '35017140',\n",
       " '35017152',\n",
       " '35017164',\n",
       " '35017197',\n",
       " '35017292',\n",
       " '35017322',\n",
       " '35017528',\n",
       " '35017978',\n",
       " '35018582',\n",
       " '35018831',\n",
       " '35019136',\n",
       " '35019159',\n",
       " '35020023',\n",
       " '35020060',\n",
       " '35020084',\n",
       " '35020333',\n",
       " '35020758',\n",
       " '35020761',\n",
       " '35020771',\n",
       " '35020862',\n",
       " '35020886',\n",
       " '35020898',\n",
       " '35020916',\n",
       " '35021027',\n",
       " '35021088',\n",
       " '35021295',\n",
       " '35021465',\n",
       " '35021477',\n",
       " '35021489',\n",
       " '35021573',\n",
       " '35021885',\n",
       " '35021933',\n",
       " '35022073',\n",
       " '35022780',\n",
       " '35022834',\n",
       " '35022895',\n",
       " '35022962',\n",
       " '35023206',\n",
       " '35023875',\n",
       " '35024235',\n",
       " '35024302',\n",
       " '35024491',\n",
       " '35024685',\n",
       " '35024843',\n",
       " '35024983',\n",
       " '35025008',\n",
       " '35025069',\n",
       " '35025227',\n",
       " '35026086',\n",
       " '35026098',\n",
       " '35026165',\n",
       " '35026311',\n",
       " '35026360',\n",
       " '35026463',\n",
       " '35027212',\n",
       " '35027479',\n",
       " '35027510',\n",
       " '35028599',\n",
       " '35028848',\n",
       " '35029269',\n",
       " '35029300',\n",
       " '35029865',\n",
       " '35030089',\n",
       " '35030120',\n",
       " '35030296',\n",
       " '35030466',\n",
       " '35030557',\n",
       " '35030703',\n",
       " '35030776',\n",
       " '35031665',\n",
       " '35031756',\n",
       " '35032311',\n",
       " '35032335',\n",
       " '35032347',\n",
       " '35033613',\n",
       " '35033662',\n",
       " '35033704',\n",
       " '35033716',\n",
       " '35033741',\n",
       " '35033820',\n",
       " '35034198',\n",
       " '35034332',\n",
       " '35034563',\n",
       " '35034599',\n",
       " '35034654',\n",
       " '35034685',\n",
       " '35034757',\n",
       " '35034770',\n",
       " '35035634',\n",
       " '35036250',\n",
       " '35036420',\n",
       " '35036559',\n",
       " '35036808',\n",
       " '35036882',\n",
       " '35036985',\n",
       " '35037047',\n",
       " '35037205',\n",
       " '35037564',\n",
       " '35037631',\n",
       " '35037746',\n",
       " '35037801',\n",
       " '35037928',\n",
       " '35038003',\n",
       " '35038179',\n",
       " '35038209',\n",
       " '35038477',\n",
       " '35038532',\n",
       " '35039135',\n",
       " '35039500',\n",
       " '35039524',\n",
       " '35040861',\n",
       " '35041233',\n",
       " '35041257',\n",
       " '35041646',\n",
       " '35041671',\n",
       " '35041701',\n",
       " '35041907',\n",
       " '35042134',\n",
       " '35042420',\n",
       " '35042481',\n",
       " '35042614',\n",
       " '35042648',\n",
       " '35042705',\n",
       " '35042808',\n",
       " '35043047',\n",
       " '35043308',\n",
       " '35043312',\n",
       " '35043515',\n",
       " '35043679',\n",
       " '35043965',\n",
       " '35044064',\n",
       " '35044350',\n",
       " '35044672',\n",
       " '35045226',\n",
       " '35045251',\n",
       " '35045706',\n",
       " '35045731',\n",
       " '35046036',\n",
       " '35046048',\n",
       " '35046231',\n",
       " '35046395',\n",
       " '35046814',\n",
       " '35047065',\n",
       " '35047181',\n",
       " '35047533',\n",
       " '35047557',\n",
       " '35048355',\n",
       " '35048471',\n",
       " '35048483',\n",
       " '35048586',\n",
       " '35048732',\n",
       " '35049293',\n",
       " '35049955',\n",
       " '35061608',\n",
       " '35070221',\n",
       " '35191255',\n",
       " '35267697',\n",
       " '35268276',\n",
       " '35268574',\n",
       " '35269372',\n",
       " '35269402',\n",
       " '35283885',\n",
       " '35395365',\n",
       " '35407215',\n",
       " '35431597',\n",
       " '35435442',\n",
       " '35446038',\n",
       " '35462688',\n",
       " '35463073',\n",
       " '35474859',\n",
       " '35479329',\n",
       " '35479500',\n",
       " '35483643',\n",
       " '35495311',\n",
       " '35497812',\n",
       " '35498087',\n",
       " '35563146',\n",
       " '35576499',\n",
       " '35577704',\n",
       " '35579476',\n",
       " '35900400',\n",
       " '35900485',\n",
       " '35900497',\n",
       " '35900941',\n",
       " '35900977',\n",
       " '35901052',\n",
       " '35901106',\n",
       " '35901283',\n",
       " '35901672',\n",
       " '35901787',\n",
       " '35902007',\n",
       " '35903280',\n",
       " '35903401',\n",
       " '35903528',\n",
       " '35903589',\n",
       " '35904193',\n",
       " '35904272',\n",
       " '35904338',\n",
       " '35905495',\n",
       " '35905811',\n",
       " '35906347',\n",
       " '35906612',\n",
       " '35906645',\n",
       " '35906670',\n",
       " '35906759',\n",
       " '35906797',\n",
       " '35906979',\n",
       " '35907431',\n",
       " '35907807',\n",
       " '35907819',\n",
       " '35907873',\n",
       " '35908236',\n",
       " '35908629',\n",
       " '35908859',\n",
       " '35909063',\n",
       " '35909312',\n",
       " '35909543',\n",
       " '35909993',\n",
       " '35910089',\n",
       " '35910429',\n",
       " '35911033',\n",
       " '35911203',\n",
       " '35911215',\n",
       " '35911288',\n",
       " '35912177',\n",
       " '35912190',\n",
       " '35912360',\n",
       " '35912712',\n",
       " '35912852',\n",
       " '35913625',\n",
       " '35913741',\n",
       " '35913765',\n",
       " '35914435',\n",
       " '35914629',\n",
       " '35914915',\n",
       " '35915105',\n",
       " '35915282',\n",
       " '35915661',\n",
       " '35915737',\n",
       " '35916080',\n",
       " '35916341',\n",
       " '35916500',\n",
       " '35916651',\n",
       " '35917151',\n",
       " '35917928',\n",
       " '35917953',\n",
       " '35917990',\n",
       " '35918052',\n",
       " '35918489',\n",
       " '35918532',\n",
       " '35918672',\n",
       " '35918817',\n",
       " '35918830',\n",
       " '35919093',\n",
       " '35919160',\n",
       " '35919408',\n",
       " '35919469',\n",
       " '35919779',\n",
       " '35919858',\n",
       " '35920058',\n",
       " '35920770',\n",
       " '35921336',\n",
       " '35921701',\n",
       " '35922024',\n",
       " '35922171',\n",
       " '35922420',\n",
       " '35922444',\n",
       " '35923539',\n",
       " '35923898',\n",
       " '35924192',\n",
       " '35924210',\n",
       " '35925385',\n",
       " '35925767',\n",
       " '35926085'}"
      ]
     },
     "execution_count": 17,
     "metadata": {},
     "output_type": "execute_result"
    }
   ],
   "source": [
    "# Uhul bateu!\n",
    "set(df_pei['id_escola_treated'].unique()) - set(df_censo['codigo_escola'].unique())"
   ]
  },
  {
   "cell_type": "markdown",
   "id": "ab0092d6",
   "metadata": {},
   "source": [
    "#### Escolas não encontradas no PEI\n",
    "\n",
    "Como agora estamos trabalhando com os dados até 2018, então existem escolas que foram abertas nesse período que estão nos dados do PEI (que são de 2025) mas não estão nos dados do Censo. Anteriormente, quando trabalhamos em outra versão com os dados do censo até 2024, todas as escolas do PEI foram encontradas."
   ]
  },
  {
   "cell_type": "markdown",
   "id": "18549aaf",
   "metadata": {},
   "source": [
    "Marcar com uma coluna as escolas que fazem parte do PEI antes do merge"
   ]
  },
  {
   "cell_type": "code",
   "execution_count": 18,
   "id": "b7425cd4",
   "metadata": {},
   "outputs": [],
   "source": [
    "df_pei['is_PEI'] = True"
   ]
  },
  {
   "cell_type": "code",
   "execution_count": 19,
   "id": "282d53a3",
   "metadata": {},
   "outputs": [
    {
     "data": {
      "text/plain": [
       "_merge\n",
       "left_only     15425\n",
       "both          14787\n",
       "right_only        0\n",
       "Name: count, dtype: int64"
      ]
     },
     "execution_count": 19,
     "metadata": {},
     "output_type": "execute_result"
    }
   ],
   "source": [
    "# ao fazer o left join, estamos descartando as poucas escolas que estão no PEI mas não estão no Censo -- pois elas foram criadas depois do período de estudo\n",
    "df = pd.merge(df_censo, df_pei, left_on='codigo_escola', right_on='id_escola_treated', how='left', indicator=True)\n",
    "df['_merge'].value_counts()"
   ]
  },
  {
   "cell_type": "code",
   "execution_count": 20,
   "id": "03190ae5",
   "metadata": {},
   "outputs": [
    {
     "name": "stderr",
     "output_type": "stream",
     "text": [
      "/tmp/ipykernel_60471/1384400185.py:1: FutureWarning: A value is trying to be set on a copy of a DataFrame or Series through chained assignment using an inplace method.\n",
      "The behavior will change in pandas 3.0. This inplace method will never work because the intermediate object on which we are setting values always behaves as a copy.\n",
      "\n",
      "For example, when doing 'df[col].method(value, inplace=True)', try using 'df.method({col: value}, inplace=True)' or df[col] = df[col].method(value) instead, to perform the operation inplace on the original object.\n",
      "\n",
      "\n",
      "  df['is_PEI'].fillna(False, inplace=True)\n",
      "/tmp/ipykernel_60471/1384400185.py:1: FutureWarning: Downcasting object dtype arrays on .fillna, .ffill, .bfill is deprecated and will change in a future version. Call result.infer_objects(copy=False) instead. To opt-in to the future behavior, set `pd.set_option('future.no_silent_downcasting', True)`\n",
      "  df['is_PEI'].fillna(False, inplace=True)\n"
     ]
    }
   ],
   "source": [
    "df['is_PEI'].fillna(False, inplace=True)"
   ]
  },
  {
   "cell_type": "code",
   "execution_count": 21,
   "id": "e6e942d8",
   "metadata": {},
   "outputs": [],
   "source": [
    "del df_pei\n",
    "del df_censo"
   ]
  },
  {
   "cell_type": "code",
   "execution_count": 22,
   "id": "1085af7a",
   "metadata": {},
   "outputs": [
    {
     "data": {
      "text/html": [
       "<div>\n",
       "<style scoped>\n",
       "    .dataframe tbody tr th:only-of-type {\n",
       "        vertical-align: middle;\n",
       "    }\n",
       "\n",
       "    .dataframe tbody tr th {\n",
       "        vertical-align: top;\n",
       "    }\n",
       "\n",
       "    .dataframe thead th {\n",
       "        text-align: right;\n",
       "    }\n",
       "</style>\n",
       "<table border=\"1\" class=\"dataframe\">\n",
       "  <thead>\n",
       "    <tr style=\"text-align: right;\">\n",
       "      <th></th>\n",
       "      <th>ano_censo</th>\n",
       "      <th>sigla_uf</th>\n",
       "      <th>nome_municipio_x</th>\n",
       "      <th>codigo_municipio</th>\n",
       "      <th>codigo_escola</th>\n",
       "      <th>nome_escola_x</th>\n",
       "      <th>qtd_turmas_ed_basica</th>\n",
       "      <th>qtd_matr_ed_basica</th>\n",
       "      <th>qtd_matr_medio</th>\n",
       "      <th>qtd_matr_fundamental</th>\n",
       "      <th>...</th>\n",
       "      <th>qtd_matriculas_fundamental_anos_finais_integral</th>\n",
       "      <th>qtd_matriculas_medio_integral</th>\n",
       "      <th>nome_escola_y</th>\n",
       "      <th>nome_dre</th>\n",
       "      <th>nome_municipio_y</th>\n",
       "      <th>coordenadas</th>\n",
       "      <th>id_escola</th>\n",
       "      <th>id_escola_treated</th>\n",
       "      <th>is_PEI</th>\n",
       "      <th>_merge</th>\n",
       "    </tr>\n",
       "  </thead>\n",
       "  <tbody>\n",
       "    <tr>\n",
       "      <th>0</th>\n",
       "      <td>2011</td>\n",
       "      <td>SP</td>\n",
       "      <td>Adamantina</td>\n",
       "      <td>3500105</td>\n",
       "      <td>35030806</td>\n",
       "      <td>HELEN KELLER</td>\n",
       "      <td>25</td>\n",
       "      <td>830</td>\n",
       "      <td>447</td>\n",
       "      <td>303</td>\n",
       "      <td>...</td>\n",
       "      <td>303</td>\n",
       "      <td>0</td>\n",
       "      <td>helen keller</td>\n",
       "      <td>adamantina</td>\n",
       "      <td>adamantina</td>\n",
       "      <td>['-21.693', '-51.0689']</td>\n",
       "      <td>30806.0</td>\n",
       "      <td>35030806</td>\n",
       "      <td>True</td>\n",
       "      <td>both</td>\n",
       "    </tr>\n",
       "    <tr>\n",
       "      <th>1</th>\n",
       "      <td>2011</td>\n",
       "      <td>SP</td>\n",
       "      <td>Adamantina</td>\n",
       "      <td>3500105</td>\n",
       "      <td>35031045</td>\n",
       "      <td>DURVALINO GRION PROF</td>\n",
       "      <td>22</td>\n",
       "      <td>771</td>\n",
       "      <td>275</td>\n",
       "      <td>496</td>\n",
       "      <td>...</td>\n",
       "      <td>0</td>\n",
       "      <td>0</td>\n",
       "      <td>durvalino grion prof</td>\n",
       "      <td>adamantina</td>\n",
       "      <td>adamantina</td>\n",
       "      <td>['-21.6786', '-51.0769']</td>\n",
       "      <td>31045.0</td>\n",
       "      <td>35031045</td>\n",
       "      <td>True</td>\n",
       "      <td>both</td>\n",
       "    </tr>\n",
       "    <tr>\n",
       "      <th>2</th>\n",
       "      <td>2011</td>\n",
       "      <td>SP</td>\n",
       "      <td>Adamantina</td>\n",
       "      <td>3500105</td>\n",
       "      <td>35031112</td>\n",
       "      <td>FLEURIDES CAVALLINI MENECHINO PROFA</td>\n",
       "      <td>32</td>\n",
       "      <td>1102</td>\n",
       "      <td>345</td>\n",
       "      <td>757</td>\n",
       "      <td>...</td>\n",
       "      <td>0</td>\n",
       "      <td>1</td>\n",
       "      <td>fleurides cavallini menechino profa</td>\n",
       "      <td>adamantina</td>\n",
       "      <td>adamantina</td>\n",
       "      <td>['-21.6928', '-51.0703']</td>\n",
       "      <td>31112.0</td>\n",
       "      <td>35031112</td>\n",
       "      <td>True</td>\n",
       "      <td>both</td>\n",
       "    </tr>\n",
       "    <tr>\n",
       "      <th>3</th>\n",
       "      <td>2011</td>\n",
       "      <td>SP</td>\n",
       "      <td>Adolfo</td>\n",
       "      <td>3500204</td>\n",
       "      <td>35027352</td>\n",
       "      <td>ODILA BOVOLENTA DE MENDONCA PROFA</td>\n",
       "      <td>6</td>\n",
       "      <td>156</td>\n",
       "      <td>156</td>\n",
       "      <td>0</td>\n",
       "      <td>...</td>\n",
       "      <td>0</td>\n",
       "      <td>0</td>\n",
       "      <td>NaN</td>\n",
       "      <td>NaN</td>\n",
       "      <td>NaN</td>\n",
       "      <td>NaN</td>\n",
       "      <td>NaN</td>\n",
       "      <td>NaN</td>\n",
       "      <td>False</td>\n",
       "      <td>left_only</td>\n",
       "    </tr>\n",
       "    <tr>\n",
       "      <th>4</th>\n",
       "      <td>2011</td>\n",
       "      <td>SP</td>\n",
       "      <td>Aguaí</td>\n",
       "      <td>3500303</td>\n",
       "      <td>35020527</td>\n",
       "      <td>GERALDO LOURENCO PADRE</td>\n",
       "      <td>33</td>\n",
       "      <td>1106</td>\n",
       "      <td>508</td>\n",
       "      <td>598</td>\n",
       "      <td>...</td>\n",
       "      <td>0</td>\n",
       "      <td>0</td>\n",
       "      <td>NaN</td>\n",
       "      <td>NaN</td>\n",
       "      <td>NaN</td>\n",
       "      <td>NaN</td>\n",
       "      <td>NaN</td>\n",
       "      <td>NaN</td>\n",
       "      <td>False</td>\n",
       "      <td>left_only</td>\n",
       "    </tr>\n",
       "  </tbody>\n",
       "</table>\n",
       "<p>5 rows × 31 columns</p>\n",
       "</div>"
      ],
      "text/plain": [
       "   ano_censo sigla_uf nome_municipio_x  codigo_municipio codigo_escola  \\\n",
       "0       2011       SP       Adamantina           3500105      35030806   \n",
       "1       2011       SP       Adamantina           3500105      35031045   \n",
       "2       2011       SP       Adamantina           3500105      35031112   \n",
       "3       2011       SP           Adolfo           3500204      35027352   \n",
       "4       2011       SP            Aguaí           3500303      35020527   \n",
       "\n",
       "                         nome_escola_x  qtd_turmas_ed_basica  \\\n",
       "0                         HELEN KELLER                    25   \n",
       "1                 DURVALINO GRION PROF                    22   \n",
       "2  FLEURIDES CAVALLINI MENECHINO PROFA                    32   \n",
       "3    ODILA BOVOLENTA DE MENDONCA PROFA                     6   \n",
       "4               GERALDO LOURENCO PADRE                    33   \n",
       "\n",
       "   qtd_matr_ed_basica  qtd_matr_medio  qtd_matr_fundamental  ...  \\\n",
       "0                 830             447                   303  ...   \n",
       "1                 771             275                   496  ...   \n",
       "2                1102             345                   757  ...   \n",
       "3                 156             156                     0  ...   \n",
       "4                1106             508                   598  ...   \n",
       "\n",
       "   qtd_matriculas_fundamental_anos_finais_integral  \\\n",
       "0                                              303   \n",
       "1                                                0   \n",
       "2                                                0   \n",
       "3                                                0   \n",
       "4                                                0   \n",
       "\n",
       "   qtd_matriculas_medio_integral                        nome_escola_y  \\\n",
       "0                              0                         helen keller   \n",
       "1                              0                 durvalino grion prof   \n",
       "2                              1  fleurides cavallini menechino profa   \n",
       "3                              0                                  NaN   \n",
       "4                              0                                  NaN   \n",
       "\n",
       "     nome_dre  nome_municipio_y               coordenadas  id_escola  \\\n",
       "0  adamantina        adamantina   ['-21.693', '-51.0689']    30806.0   \n",
       "1  adamantina        adamantina  ['-21.6786', '-51.0769']    31045.0   \n",
       "2  adamantina        adamantina  ['-21.6928', '-51.0703']    31112.0   \n",
       "3         NaN               NaN                       NaN        NaN   \n",
       "4         NaN               NaN                       NaN        NaN   \n",
       "\n",
       "   id_escola_treated  is_PEI     _merge  \n",
       "0           35030806    True       both  \n",
       "1           35031045    True       both  \n",
       "2           35031112    True       both  \n",
       "3                NaN   False  left_only  \n",
       "4                NaN   False  left_only  \n",
       "\n",
       "[5 rows x 31 columns]"
      ]
     },
     "execution_count": 22,
     "metadata": {},
     "output_type": "execute_result"
    }
   ],
   "source": [
    "df.head()"
   ]
  },
  {
   "cell_type": "markdown",
   "id": "7e865114",
   "metadata": {},
   "source": [
    "#### Testes de consistência do join\n",
    "\n",
    "Agora vamos testar se o join deu certo comparando os nomes dos municipios e das escolas.\n",
    "\n",
    "#### Nomes municipios"
   ]
  },
  {
   "cell_type": "code",
   "execution_count": 23,
   "id": "5f6fb18f",
   "metadata": {},
   "outputs": [
    {
     "data": {
      "text/plain": [
       "nome_municipio_bate\n",
       "False    0.734145\n",
       "True     0.265855\n",
       "Name: proportion, dtype: float64"
      ]
     },
     "execution_count": 23,
     "metadata": {},
     "output_type": "execute_result"
    }
   ],
   "source": [
    "df['nome_municipio_bate'] = (df['nome_municipio_x'].str.lower() == df['nome_municipio_y'].str.lower())\n",
    "df['nome_municipio_bate'].value_counts(normalize=True)"
   ]
  },
  {
   "cell_type": "code",
   "execution_count": 24,
   "id": "e4fa4abf",
   "metadata": {},
   "outputs": [
    {
     "data": {
      "text/html": [
       "<div>\n",
       "<style scoped>\n",
       "    .dataframe tbody tr th:only-of-type {\n",
       "        vertical-align: middle;\n",
       "    }\n",
       "\n",
       "    .dataframe tbody tr th {\n",
       "        vertical-align: top;\n",
       "    }\n",
       "\n",
       "    .dataframe thead th {\n",
       "        text-align: right;\n",
       "    }\n",
       "</style>\n",
       "<table border=\"1\" class=\"dataframe\">\n",
       "  <thead>\n",
       "    <tr style=\"text-align: right;\">\n",
       "      <th></th>\n",
       "      <th>nome_municipio_x</th>\n",
       "      <th>nome_municipio_y</th>\n",
       "    </tr>\n",
       "  </thead>\n",
       "  <tbody>\n",
       "    <tr>\n",
       "      <th>21858</th>\n",
       "      <td>São Paulo</td>\n",
       "      <td>NaN</td>\n",
       "    </tr>\n",
       "    <tr>\n",
       "      <th>18553</th>\n",
       "      <td>Suzano</td>\n",
       "      <td>NaN</td>\n",
       "    </tr>\n",
       "    <tr>\n",
       "      <th>18867</th>\n",
       "      <td>Araçatuba</td>\n",
       "      <td>NaN</td>\n",
       "    </tr>\n",
       "    <tr>\n",
       "      <th>10552</th>\n",
       "      <td>São Paulo</td>\n",
       "      <td>NaN</td>\n",
       "    </tr>\n",
       "    <tr>\n",
       "      <th>4196</th>\n",
       "      <td>Cananéia</td>\n",
       "      <td>NaN</td>\n",
       "    </tr>\n",
       "    <tr>\n",
       "      <th>27829</th>\n",
       "      <td>Itupeva</td>\n",
       "      <td>NaN</td>\n",
       "    </tr>\n",
       "    <tr>\n",
       "      <th>1238</th>\n",
       "      <td>Itapevi</td>\n",
       "      <td>NaN</td>\n",
       "    </tr>\n",
       "    <tr>\n",
       "      <th>10602</th>\n",
       "      <td>São Paulo</td>\n",
       "      <td>NaN</td>\n",
       "    </tr>\n",
       "    <tr>\n",
       "      <th>22251</th>\n",
       "      <td>Sebastianópolis do Sul</td>\n",
       "      <td>sebastianopolis do sul</td>\n",
       "    </tr>\n",
       "    <tr>\n",
       "      <th>10030</th>\n",
       "      <td>São Caetano do Sul</td>\n",
       "      <td>sao caetano do sul</td>\n",
       "    </tr>\n",
       "  </tbody>\n",
       "</table>\n",
       "</div>"
      ],
      "text/plain": [
       "             nome_municipio_x        nome_municipio_y\n",
       "21858               São Paulo                     NaN\n",
       "18553                  Suzano                     NaN\n",
       "18867               Araçatuba                     NaN\n",
       "10552               São Paulo                     NaN\n",
       "4196                 Cananéia                     NaN\n",
       "27829                 Itupeva                     NaN\n",
       "1238                  Itapevi                     NaN\n",
       "10602               São Paulo                     NaN\n",
       "22251  Sebastianópolis do Sul  sebastianopolis do sul\n",
       "10030      São Caetano do Sul      sao caetano do sul"
      ]
     },
     "execution_count": 24,
     "metadata": {},
     "output_type": "execute_result"
    }
   ],
   "source": [
    "df[~df['nome_municipio_bate']][['nome_municipio_x', 'nome_municipio_y']].sample(10)"
   ]
  },
  {
   "cell_type": "code",
   "execution_count": 25,
   "id": "ce5289a9",
   "metadata": {},
   "outputs": [],
   "source": [
    "import unicodedata\n",
    "\n",
    "def remover_acentos(texto: str) -> str:\n",
    "    return ''.join(\n",
    "        c for c in unicodedata.normalize('NFKD', texto)\n",
    "        if not unicodedata.combining(c)\n",
    "    )\n"
   ]
  },
  {
   "cell_type": "code",
   "execution_count": 26,
   "id": "d24647b3",
   "metadata": {},
   "outputs": [],
   "source": [
    "df['nome_municipio_x'] = df['nome_municipio_x'].apply(lambda x: x if not pd.isnull(x) else '').str.lower().str.strip().apply(remover_acentos)\n",
    "df['nome_municipio_y'] = df['nome_municipio_y'].apply(lambda x: x if not pd.isnull(x) else '').str.lower().str.strip().apply(remover_acentos)"
   ]
  },
  {
   "cell_type": "code",
   "execution_count": 27,
   "id": "fcafbef7",
   "metadata": {},
   "outputs": [
    {
     "data": {
      "text/plain": [
       "nome_municipio_bate2\n",
       "False    0.510559\n",
       "True     0.489441\n",
       "Name: proportion, dtype: float64"
      ]
     },
     "execution_count": 27,
     "metadata": {},
     "output_type": "execute_result"
    }
   ],
   "source": [
    "df['nome_municipio_bate2'] = (df['nome_municipio_x'].str.lower() == df['nome_municipio_y'].str.lower())\n",
    "df['nome_municipio_bate2'].value_counts(normalize=True)"
   ]
  },
  {
   "cell_type": "code",
   "execution_count": 28,
   "id": "491d5a39",
   "metadata": {},
   "outputs": [
    {
     "data": {
      "text/html": [
       "<div>\n",
       "<style scoped>\n",
       "    .dataframe tbody tr th:only-of-type {\n",
       "        vertical-align: middle;\n",
       "    }\n",
       "\n",
       "    .dataframe tbody tr th {\n",
       "        vertical-align: top;\n",
       "    }\n",
       "\n",
       "    .dataframe thead th {\n",
       "        text-align: right;\n",
       "    }\n",
       "</style>\n",
       "<table border=\"1\" class=\"dataframe\">\n",
       "  <thead>\n",
       "    <tr style=\"text-align: right;\">\n",
       "      <th></th>\n",
       "      <th>nome_municipio_x</th>\n",
       "      <th>nome_municipio_y</th>\n",
       "    </tr>\n",
       "  </thead>\n",
       "  <tbody>\n",
       "    <tr>\n",
       "      <th>17567</th>\n",
       "      <td>sao bernardo do campo</td>\n",
       "      <td></td>\n",
       "    </tr>\n",
       "    <tr>\n",
       "      <th>12953</th>\n",
       "      <td>mogi das cruzes</td>\n",
       "      <td></td>\n",
       "    </tr>\n",
       "    <tr>\n",
       "      <th>29392</th>\n",
       "      <td>sao paulo</td>\n",
       "      <td></td>\n",
       "    </tr>\n",
       "    <tr>\n",
       "      <th>20346</th>\n",
       "      <td>leme</td>\n",
       "      <td></td>\n",
       "    </tr>\n",
       "    <tr>\n",
       "      <th>11040</th>\n",
       "      <td>taquaritinga</td>\n",
       "      <td></td>\n",
       "    </tr>\n",
       "    <tr>\n",
       "      <th>7368</th>\n",
       "      <td>valparaiso</td>\n",
       "      <td></td>\n",
       "    </tr>\n",
       "    <tr>\n",
       "      <th>26478</th>\n",
       "      <td>andradina</td>\n",
       "      <td></td>\n",
       "    </tr>\n",
       "    <tr>\n",
       "      <th>18705</th>\n",
       "      <td>uchoa</td>\n",
       "      <td></td>\n",
       "    </tr>\n",
       "    <tr>\n",
       "      <th>10387</th>\n",
       "      <td>sao paulo</td>\n",
       "      <td></td>\n",
       "    </tr>\n",
       "    <tr>\n",
       "      <th>16604</th>\n",
       "      <td>mairipora</td>\n",
       "      <td></td>\n",
       "    </tr>\n",
       "  </tbody>\n",
       "</table>\n",
       "</div>"
      ],
      "text/plain": [
       "            nome_municipio_x nome_municipio_y\n",
       "17567  sao bernardo do campo                 \n",
       "12953        mogi das cruzes                 \n",
       "29392              sao paulo                 \n",
       "20346                   leme                 \n",
       "11040           taquaritinga                 \n",
       "7368              valparaiso                 \n",
       "26478              andradina                 \n",
       "18705                  uchoa                 \n",
       "10387              sao paulo                 \n",
       "16604              mairipora                 "
      ]
     },
     "execution_count": 28,
     "metadata": {},
     "output_type": "execute_result"
    }
   ],
   "source": [
    "df[~df['nome_municipio_bate2']][['nome_municipio_x', 'nome_municipio_y']].sample(10)"
   ]
  },
  {
   "cell_type": "code",
   "execution_count": 29,
   "id": "a9166f1e",
   "metadata": {},
   "outputs": [
    {
     "data": {
      "text/plain": [
       "nome_municipio_y\n",
       "True    15425\n",
       "Name: count, dtype: int64"
      ]
     },
     "execution_count": 29,
     "metadata": {},
     "output_type": "execute_result"
    }
   ],
   "source": [
    "(df[~df['nome_municipio_bate2']]['nome_municipio_y']=='').value_counts()"
   ]
  },
  {
   "cell_type": "code",
   "execution_count": 30,
   "id": "326e391f",
   "metadata": {},
   "outputs": [
    {
     "data": {
      "text/plain": [
       "nome_municipio_y\n",
       "    15425\n",
       "Name: count, dtype: int64"
      ]
     },
     "execution_count": 30,
     "metadata": {},
     "output_type": "execute_result"
    }
   ],
   "source": [
    "df_mun_nao_bate = df[~df['nome_municipio_bate2']].copy()\n",
    "df_mun_nao_bate['nome_municipio_y'].value_counts()\n"
   ]
  },
  {
   "cell_type": "code",
   "execution_count": 31,
   "id": "35094eee",
   "metadata": {},
   "outputs": [
    {
     "data": {
      "text/html": [
       "<div>\n",
       "<style scoped>\n",
       "    .dataframe tbody tr th:only-of-type {\n",
       "        vertical-align: middle;\n",
       "    }\n",
       "\n",
       "    .dataframe tbody tr th {\n",
       "        vertical-align: top;\n",
       "    }\n",
       "\n",
       "    .dataframe thead th {\n",
       "        text-align: right;\n",
       "    }\n",
       "</style>\n",
       "<table border=\"1\" class=\"dataframe\">\n",
       "  <thead>\n",
       "    <tr style=\"text-align: right;\">\n",
       "      <th></th>\n",
       "      <th>nome_municipio_x</th>\n",
       "      <th>nome_municipio_y</th>\n",
       "    </tr>\n",
       "  </thead>\n",
       "  <tbody>\n",
       "  </tbody>\n",
       "</table>\n",
       "</div>"
      ],
      "text/plain": [
       "Empty DataFrame\n",
       "Columns: [nome_municipio_x, nome_municipio_y]\n",
       "Index: []"
      ]
     },
     "execution_count": 31,
     "metadata": {},
     "output_type": "execute_result"
    }
   ],
   "source": [
    "df_mun_nao_bate[df_mun_nao_bate['nome_municipio_y'] != ''][['nome_municipio_x', 'nome_municipio_y']]"
   ]
  },
  {
   "cell_type": "code",
   "execution_count": 32,
   "id": "37dbb63d",
   "metadata": {},
   "outputs": [],
   "source": [
    "#vamos ficar com a coluna do censo escolar que é mais completa\n",
    "df.drop(columns=['nome_municipio_bate', 'nome_municipio_bate2', 'nome_municipio_y'], inplace=True)\n",
    "df.rename(columns={'nome_municipio_x': 'nome_municipio'}, inplace=True)"
   ]
  },
  {
   "cell_type": "code",
   "execution_count": 33,
   "id": "2d85654f",
   "metadata": {},
   "outputs": [
    {
     "data": {
      "text/plain": [
       "np.False_"
      ]
     },
     "execution_count": 33,
     "metadata": {},
     "output_type": "execute_result"
    }
   ],
   "source": [
    "df['nome_municipio'].isnull().any()"
   ]
  },
  {
   "cell_type": "markdown",
   "id": "66d68690",
   "metadata": {},
   "source": [
    "#### Conclusão:\n",
    "\n",
    "Verificamos que todos os municipios batem, com exceção daqueles que estão com o nome do municipio vazio na base do PEI e de apenas 2 que estão registrados como são sebastião na base do Censo Escolar mas que no PEI entraram como Bertiogo -- que sao municipios vizinhos. Pode ser efeito de uma mudança de limites entre os municipios ao longo dos anos ou um erro simples de cadastro."
   ]
  },
  {
   "cell_type": "markdown",
   "id": "7e4e50f6",
   "metadata": {},
   "source": [
    "#### Nomes das escolas"
   ]
  },
  {
   "cell_type": "code",
   "execution_count": 34,
   "id": "98a38fe9",
   "metadata": {},
   "outputs": [
    {
     "data": {
      "text/plain": [
       "False    1.0\n",
       "Name: proportion, dtype: float64"
      ]
     },
     "execution_count": 34,
     "metadata": {},
     "output_type": "execute_result"
    }
   ],
   "source": [
    "(df['nome_escola_x'] == df['nome_escola_y']).value_counts(normalize=True)"
   ]
  },
  {
   "cell_type": "code",
   "execution_count": 35,
   "id": "cc72a1fc",
   "metadata": {},
   "outputs": [
    {
     "data": {
      "text/plain": [
       "28873           GABRIELA FREIRE LOBO PROFA\n",
       "20990              REYNALDO KUNTZ BUSCH DR\n",
       "26339    FRANCISCO DE PAULA ABREU SODRE DR\n",
       "Name: nome_escola_x, dtype: object"
      ]
     },
     "execution_count": 35,
     "metadata": {},
     "output_type": "execute_result"
    }
   ],
   "source": [
    "df['nome_escola_x'].sample(3)"
   ]
  },
  {
   "cell_type": "code",
   "execution_count": 36,
   "id": "bd8940e9",
   "metadata": {},
   "outputs": [
    {
     "data": {
      "text/plain": [
       "25819    marilsa garbossa francisco professora\n",
       "18558                                      NaN\n",
       "451                    hercy moraes professora\n",
       "Name: nome_escola_y, dtype: object"
      ]
     },
     "execution_count": 36,
     "metadata": {},
     "output_type": "execute_result"
    }
   ],
   "source": [
    "df['nome_escola_y'].sample(3)"
   ]
  },
  {
   "cell_type": "code",
   "execution_count": 37,
   "id": "3f67b5ce",
   "metadata": {},
   "outputs": [],
   "source": [
    "df['nome_escola_y'] = df['nome_escola_y'].apply(lambda x: x if not pd.isnull(x) else '').str.lower().str.strip().apply(remover_acentos)\n",
    "df['nome_escola_x'] = df['nome_escola_x'].apply(lambda x: x if not pd.isnull(x) else '').str.lower().str.strip().apply(remover_acentos)"
   ]
  },
  {
   "cell_type": "code",
   "execution_count": 38,
   "id": "3bbce5e8",
   "metadata": {},
   "outputs": [
    {
     "data": {
      "text/plain": [
       "nome_escola_bate\n",
       "False    0.546372\n",
       "True     0.453628\n",
       "Name: proportion, dtype: float64"
      ]
     },
     "execution_count": 38,
     "metadata": {},
     "output_type": "execute_result"
    }
   ],
   "source": [
    "df['nome_escola_bate'] = (df['nome_escola_x'] == df['nome_escola_y'])\n",
    "df['nome_escola_bate'].value_counts(normalize=True)"
   ]
  },
  {
   "cell_type": "code",
   "execution_count": 39,
   "id": "e3f179f7",
   "metadata": {},
   "outputs": [
    {
     "data": {
      "text/html": [
       "<div>\n",
       "<style scoped>\n",
       "    .dataframe tbody tr th:only-of-type {\n",
       "        vertical-align: middle;\n",
       "    }\n",
       "\n",
       "    .dataframe tbody tr th {\n",
       "        vertical-align: top;\n",
       "    }\n",
       "\n",
       "    .dataframe thead th {\n",
       "        text-align: right;\n",
       "    }\n",
       "</style>\n",
       "<table border=\"1\" class=\"dataframe\">\n",
       "  <thead>\n",
       "    <tr style=\"text-align: right;\">\n",
       "      <th></th>\n",
       "      <th>nome_escola_x</th>\n",
       "      <th>nome_escola_y</th>\n",
       "    </tr>\n",
       "  </thead>\n",
       "  <tbody>\n",
       "    <tr>\n",
       "      <th>4031</th>\n",
       "      <td>heladio correa laurini monsenhor</td>\n",
       "      <td></td>\n",
       "    </tr>\n",
       "    <tr>\n",
       "      <th>25960</th>\n",
       "      <td>roger jules de carvalho mange</td>\n",
       "      <td></td>\n",
       "    </tr>\n",
       "    <tr>\n",
       "      <th>15849</th>\n",
       "      <td>vicente minicucci professor</td>\n",
       "      <td></td>\n",
       "    </tr>\n",
       "    <tr>\n",
       "      <th>21541</th>\n",
       "      <td>maria aparecida verissimo madureira ramos prof...</td>\n",
       "      <td></td>\n",
       "    </tr>\n",
       "    <tr>\n",
       "      <th>29121</th>\n",
       "      <td>oscar de barros serra doria doutor</td>\n",
       "      <td></td>\n",
       "    </tr>\n",
       "    <tr>\n",
       "      <th>21376</th>\n",
       "      <td>jose fornari doutor</td>\n",
       "      <td></td>\n",
       "    </tr>\n",
       "    <tr>\n",
       "      <th>5785</th>\n",
       "      <td>batuira</td>\n",
       "      <td></td>\n",
       "    </tr>\n",
       "    <tr>\n",
       "      <th>4000</th>\n",
       "      <td>parque residencial 24 de maio</td>\n",
       "      <td>manoel patricio do nascimento professor</td>\n",
       "    </tr>\n",
       "    <tr>\n",
       "      <th>18197</th>\n",
       "      <td>centro de atend socioeduc ao adolesc nova vida ui</td>\n",
       "      <td></td>\n",
       "    </tr>\n",
       "    <tr>\n",
       "      <th>7019</th>\n",
       "      <td>cleise marisa siqueira profa</td>\n",
       "      <td></td>\n",
       "    </tr>\n",
       "  </tbody>\n",
       "</table>\n",
       "</div>"
      ],
      "text/plain": [
       "                                           nome_escola_x  \\\n",
       "4031                    heladio correa laurini monsenhor   \n",
       "25960                      roger jules de carvalho mange   \n",
       "15849                        vicente minicucci professor   \n",
       "21541  maria aparecida verissimo madureira ramos prof...   \n",
       "29121                 oscar de barros serra doria doutor   \n",
       "21376                                jose fornari doutor   \n",
       "5785                                             batuira   \n",
       "4000                       parque residencial 24 de maio   \n",
       "18197  centro de atend socioeduc ao adolesc nova vida ui   \n",
       "7019                        cleise marisa siqueira profa   \n",
       "\n",
       "                                 nome_escola_y  \n",
       "4031                                            \n",
       "25960                                           \n",
       "15849                                           \n",
       "21541                                           \n",
       "29121                                           \n",
       "21376                                           \n",
       "5785                                            \n",
       "4000   manoel patricio do nascimento professor  \n",
       "18197                                           \n",
       "7019                                            "
      ]
     },
     "execution_count": 39,
     "metadata": {},
     "output_type": "execute_result"
    }
   ],
   "source": [
    "df_nome_escola_nao_bate = df[~df['nome_escola_bate']].copy()\n",
    "df_nome_escola_nao_bate[['nome_escola_x', 'nome_escola_y']].sample(10)"
   ]
  },
  {
   "cell_type": "code",
   "execution_count": 40,
   "id": "e32b9cf4",
   "metadata": {},
   "outputs": [
    {
     "data": {
      "text/plain": [
       "escola_y_vazia\n",
       "True     0.934452\n",
       "False    0.065548\n",
       "Name: proportion, dtype: float64"
      ]
     },
     "execution_count": 40,
     "metadata": {},
     "output_type": "execute_result"
    }
   ],
   "source": [
    "df_nome_escola_nao_bate['escola_y_vazia'] = df_nome_escola_nao_bate['nome_escola_y']==''\n",
    "df_nome_escola_nao_bate['escola_y_vazia'].value_counts(normalize=True)"
   ]
  },
  {
   "cell_type": "code",
   "execution_count": 41,
   "id": "336b85e3",
   "metadata": {},
   "outputs": [
    {
     "data": {
      "text/html": [
       "<div>\n",
       "<style scoped>\n",
       "    .dataframe tbody tr th:only-of-type {\n",
       "        vertical-align: middle;\n",
       "    }\n",
       "\n",
       "    .dataframe tbody tr th {\n",
       "        vertical-align: top;\n",
       "    }\n",
       "\n",
       "    .dataframe thead th {\n",
       "        text-align: right;\n",
       "    }\n",
       "</style>\n",
       "<table border=\"1\" class=\"dataframe\">\n",
       "  <thead>\n",
       "    <tr style=\"text-align: right;\">\n",
       "      <th></th>\n",
       "      <th>nome_escola_x</th>\n",
       "      <th>nome_escola_y</th>\n",
       "    </tr>\n",
       "  </thead>\n",
       "  <tbody>\n",
       "    <tr>\n",
       "      <th>1836</th>\n",
       "      <td>vicente peixoto prof</td>\n",
       "      <td>vicente peixoto professor</td>\n",
       "    </tr>\n",
       "    <tr>\n",
       "      <th>2388</th>\n",
       "      <td>rener caram prof</td>\n",
       "      <td>rener caram professor</td>\n",
       "    </tr>\n",
       "    <tr>\n",
       "      <th>2887</th>\n",
       "      <td>andronico de mello prof</td>\n",
       "      <td>andronico de mello professor</td>\n",
       "    </tr>\n",
       "    <tr>\n",
       "      <th>1802</th>\n",
       "      <td>antonio augusto reis neves dr</td>\n",
       "      <td>antonio augusto reis neves doutor</td>\n",
       "    </tr>\n",
       "    <tr>\n",
       "      <th>967</th>\n",
       "      <td>maria helena barbosa martins profa</td>\n",
       "      <td>maria helena barbosa martins professora</td>\n",
       "    </tr>\n",
       "    <tr>\n",
       "      <th>2592</th>\n",
       "      <td>justino jerry faria prof</td>\n",
       "      <td>justino jerry faria professor</td>\n",
       "    </tr>\n",
       "    <tr>\n",
       "      <th>1978</th>\n",
       "      <td>jose wadie milad prof</td>\n",
       "      <td>jose wadie milad professor</td>\n",
       "    </tr>\n",
       "    <tr>\n",
       "      <th>3195</th>\n",
       "      <td>sumie iwata profa</td>\n",
       "      <td>sumie iwata professora</td>\n",
       "    </tr>\n",
       "    <tr>\n",
       "      <th>27594</th>\n",
       "      <td>bairro agua branca</td>\n",
       "      <td>jose antonio sanches gonzalez prof</td>\n",
       "    </tr>\n",
       "    <tr>\n",
       "      <th>2425</th>\n",
       "      <td>gabriel goncalves prof</td>\n",
       "      <td>gabriel goncalves professor</td>\n",
       "    </tr>\n",
       "    <tr>\n",
       "      <th>3644</th>\n",
       "      <td>azarias mendes prof</td>\n",
       "      <td>azarias mendes professor</td>\n",
       "    </tr>\n",
       "    <tr>\n",
       "      <th>3399</th>\n",
       "      <td>gualberto moreira dr</td>\n",
       "      <td>gualberto moreira doutor</td>\n",
       "    </tr>\n",
       "    <tr>\n",
       "      <th>2272</th>\n",
       "      <td>maria jose de aguiar zeppelini profa</td>\n",
       "      <td>maria jose de aguiar zeppelini professora</td>\n",
       "    </tr>\n",
       "    <tr>\n",
       "      <th>3545</th>\n",
       "      <td>antonio de moura abud dr</td>\n",
       "      <td>antonio de moura abud doutor</td>\n",
       "    </tr>\n",
       "    <tr>\n",
       "      <th>7016</th>\n",
       "      <td>ee celia ribeiro landim profa</td>\n",
       "      <td>celia ribeiro landim profa</td>\n",
       "    </tr>\n",
       "    <tr>\n",
       "      <th>5239</th>\n",
       "      <td>celia primo calil profa</td>\n",
       "      <td>ee celia primo calil profa</td>\n",
       "    </tr>\n",
       "    <tr>\n",
       "      <th>2636</th>\n",
       "      <td>nelson do nascimento monteiro prof</td>\n",
       "      <td>nelson do nascimento monteiro professor</td>\n",
       "    </tr>\n",
       "    <tr>\n",
       "      <th>2628</th>\n",
       "      <td>joaquim andrade meirelles prof</td>\n",
       "      <td>joaquim andrade meirelles professor</td>\n",
       "    </tr>\n",
       "    <tr>\n",
       "      <th>2606</th>\n",
       "      <td>octacilio alves de almeida prof</td>\n",
       "      <td>octacilio alves de almeida professor</td>\n",
       "    </tr>\n",
       "    <tr>\n",
       "      <th>23385</th>\n",
       "      <td>chb embu n ii</td>\n",
       "      <td>joao luiz de oliveira professor</td>\n",
       "    </tr>\n",
       "  </tbody>\n",
       "</table>\n",
       "</div>"
      ],
      "text/plain": [
       "                              nome_escola_x  \\\n",
       "1836                   vicente peixoto prof   \n",
       "2388                       rener caram prof   \n",
       "2887                andronico de mello prof   \n",
       "1802          antonio augusto reis neves dr   \n",
       "967      maria helena barbosa martins profa   \n",
       "2592               justino jerry faria prof   \n",
       "1978                  jose wadie milad prof   \n",
       "3195                      sumie iwata profa   \n",
       "27594                    bairro agua branca   \n",
       "2425                 gabriel goncalves prof   \n",
       "3644                    azarias mendes prof   \n",
       "3399                   gualberto moreira dr   \n",
       "2272   maria jose de aguiar zeppelini profa   \n",
       "3545               antonio de moura abud dr   \n",
       "7016          ee celia ribeiro landim profa   \n",
       "5239                celia primo calil profa   \n",
       "2636     nelson do nascimento monteiro prof   \n",
       "2628         joaquim andrade meirelles prof   \n",
       "2606        octacilio alves de almeida prof   \n",
       "23385                         chb embu n ii   \n",
       "\n",
       "                                   nome_escola_y  \n",
       "1836                   vicente peixoto professor  \n",
       "2388                       rener caram professor  \n",
       "2887                andronico de mello professor  \n",
       "1802           antonio augusto reis neves doutor  \n",
       "967      maria helena barbosa martins professora  \n",
       "2592               justino jerry faria professor  \n",
       "1978                  jose wadie milad professor  \n",
       "3195                      sumie iwata professora  \n",
       "27594         jose antonio sanches gonzalez prof  \n",
       "2425                 gabriel goncalves professor  \n",
       "3644                    azarias mendes professor  \n",
       "3399                    gualberto moreira doutor  \n",
       "2272   maria jose de aguiar zeppelini professora  \n",
       "3545                antonio de moura abud doutor  \n",
       "7016                  celia ribeiro landim profa  \n",
       "5239                  ee celia primo calil profa  \n",
       "2636     nelson do nascimento monteiro professor  \n",
       "2628         joaquim andrade meirelles professor  \n",
       "2606        octacilio alves de almeida professor  \n",
       "23385            joao luiz de oliveira professor  "
      ]
     },
     "execution_count": 41,
     "metadata": {},
     "output_type": "execute_result"
    }
   ],
   "source": [
    "df_nome_escola_nao_bate[df_nome_escola_nao_bate['escola_y_vazia']==False][['nome_escola_x', 'nome_escola_y']].sample(20)"
   ]
  },
  {
   "cell_type": "markdown",
   "id": "9ddb0246",
   "metadata": {},
   "source": [
    "#### Conclusão:\n",
    "\n",
    "Há algumas diferenças nos nomes das escolas que não são motivadas apenas pelo nome estar vazio na base do PEI. Como se pode ver pela amostra acima, isso ocorre por pequenas diferenças na grafia (p. ex., \"Professora Fulana\" e \"Prof. Fulana\") ou então provavelmente por que a escola mudou de nome ao longo do tempo. Note-se no entanto que é pouco mais de 1% dos casos de não-match. "
   ]
  },
  {
   "cell_type": "code",
   "execution_count": 42,
   "id": "1722c419",
   "metadata": {},
   "outputs": [
    {
     "data": {
      "text/plain": [
       "np.False_"
      ]
     },
     "execution_count": 42,
     "metadata": {},
     "output_type": "execute_result"
    }
   ],
   "source": [
    "#vamos novamente manter os dados do censo escolar que sao mais completos\n",
    "\n",
    "df.drop(columns=['nome_escola_bate', 'nome_escola_y'], inplace=True)\n",
    "df.rename(columns={'nome_escola_x': 'nome_escola'}, inplace=True)\n",
    "df['nome_escola'].isnull().any()"
   ]
  },
  {
   "cell_type": "code",
   "execution_count": 43,
   "id": "7c8bbfcb",
   "metadata": {},
   "outputs": [
    {
     "data": {
      "text/plain": [
       "Index(['ano_censo', 'sigla_uf', 'nome_municipio', 'codigo_municipio',\n",
       "       'codigo_escola', 'nome_escola', 'qtd_turmas_ed_basica',\n",
       "       'qtd_matr_ed_basica', 'qtd_matr_medio', 'qtd_matr_fundamental',\n",
       "       'qtd_matr_ed_basica_nao_declarada', 'qtd_matr_ed_basica_branca',\n",
       "       'qtd_matr_ed_basica_preta', 'qtd_matr_ed_basica_parda',\n",
       "       'qtd_matr_ed_basica_amarela', 'qtd_matr_ed_basica_indigena',\n",
       "       'qtd_matriculas_infantil_integral',\n",
       "       'qtd_matriculas_infantil_creche_integral',\n",
       "       'qtd_matriculas_infantil_pre_escolar_integral',\n",
       "       'qtd_matriculas_fundamental_integral',\n",
       "       'qtd_matriculas_fundamental_anos_iniciais_integral',\n",
       "       'qtd_matriculas_fundamental_anos_finais_integral',\n",
       "       'qtd_matriculas_medio_integral', 'nome_dre', 'coordenadas', 'id_escola',\n",
       "       'id_escola_treated', 'is_PEI', '_merge'],\n",
       "      dtype='object')"
      ]
     },
     "execution_count": 43,
     "metadata": {},
     "output_type": "execute_result"
    }
   ],
   "source": [
    "df.columns"
   ]
  },
  {
   "cell_type": "code",
   "execution_count": 44,
   "id": "22575f7b",
   "metadata": {},
   "outputs": [],
   "source": [
    "df.drop(['id_escola', 'id_escola_treated', 'nome_dre'], axis=1, inplace=True)"
   ]
  },
  {
   "cell_type": "code",
   "execution_count": 45,
   "id": "f0d5e4bb",
   "metadata": {},
   "outputs": [
    {
     "name": "stdout",
     "output_type": "stream",
     "text": [
      "Data saved to data/dados_merged.csv\n"
     ]
    }
   ],
   "source": [
    "save_csv(df, 'dados_merged.csv')"
   ]
  }
 ],
 "metadata": {
  "kernelspec": {
   "display_name": "venv",
   "language": "python",
   "name": "python3"
  },
  "language_info": {
   "codemirror_mode": {
    "name": "ipython",
    "version": 3
   },
   "file_extension": ".py",
   "mimetype": "text/x-python",
   "name": "python",
   "nbconvert_exporter": "python",
   "pygments_lexer": "ipython3",
   "version": "3.12.3"
  }
 },
 "nbformat": 4,
 "nbformat_minor": 5
}
