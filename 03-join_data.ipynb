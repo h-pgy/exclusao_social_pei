{
 "cells": [
  {
   "cell_type": "markdown",
   "id": "182aa50b",
   "metadata": {},
   "source": [
    "## Join data\n",
    "\n",
    "Esse notebook faz o join entre os dados do portal da transparência do Estado, que identificam as escolas participantes do PEI - Programa de Ensino Integral - e os microdados do censo escolar."
   ]
  },
  {
   "cell_type": "code",
   "execution_count": 1,
   "id": "4c8d631b",
   "metadata": {},
   "outputs": [],
   "source": [
    "import pandas as pd\n",
    "\n",
    "from utils.load_csv import load_csv\n",
    "from utils.save_csv import save_csv"
   ]
  },
  {
   "cell_type": "code",
   "execution_count": 2,
   "id": "c33b2cf5",
   "metadata": {},
   "outputs": [],
   "source": [
    "df_pei = load_csv('pei_escolas_original.csv')\n",
    "df_censo = load_csv('microdados_censo_limpo.csv')"
   ]
  },
  {
   "cell_type": "code",
   "execution_count": 3,
   "id": "f4b9e064",
   "metadata": {},
   "outputs": [
    {
     "data": {
      "text/plain": [
       "Index(['Escola', 'Diretoria de Ensino', 'Município', 'Coordenadas',\n",
       "       'ID Escola'],\n",
       "      dtype='object')"
      ]
     },
     "execution_count": 3,
     "metadata": {},
     "output_type": "execute_result"
    }
   ],
   "source": [
    "df_pei.columns"
   ]
  },
  {
   "cell_type": "code",
   "execution_count": 4,
   "id": "c88a7c33",
   "metadata": {},
   "outputs": [
    {
     "data": {
      "text/html": [
       "<div>\n",
       "<style scoped>\n",
       "    .dataframe tbody tr th:only-of-type {\n",
       "        vertical-align: middle;\n",
       "    }\n",
       "\n",
       "    .dataframe tbody tr th {\n",
       "        vertical-align: top;\n",
       "    }\n",
       "\n",
       "    .dataframe thead th {\n",
       "        text-align: right;\n",
       "    }\n",
       "</style>\n",
       "<table border=\"1\" class=\"dataframe\">\n",
       "  <thead>\n",
       "    <tr style=\"text-align: right;\">\n",
       "      <th></th>\n",
       "      <th>Escola</th>\n",
       "      <th>Diretoria de Ensino</th>\n",
       "      <th>Município</th>\n",
       "      <th>Coordenadas</th>\n",
       "      <th>ID Escola</th>\n",
       "    </tr>\n",
       "  </thead>\n",
       "  <tbody>\n",
       "    <tr>\n",
       "      <th>0</th>\n",
       "      <td>bairro da bocaina</td>\n",
       "      <td>guaratingueta</td>\n",
       "      <td>cunha</td>\n",
       "      <td>['-23.0361', '-44.9253']</td>\n",
       "      <td>926085</td>\n",
       "    </tr>\n",
       "    <tr>\n",
       "      <th>1</th>\n",
       "      <td>aldeia karugwa</td>\n",
       "      <td>itarare</td>\n",
       "      <td>barao de antonina</td>\n",
       "      <td>['-23.6028', '-49.5874']</td>\n",
       "      <td>268574</td>\n",
       "    </tr>\n",
       "    <tr>\n",
       "      <th>2</th>\n",
       "      <td>india maria rosa</td>\n",
       "      <td>penapolis</td>\n",
       "      <td>brauna</td>\n",
       "      <td>['-21.5656', '-50.3173']</td>\n",
       "      <td>395365</td>\n",
       "    </tr>\n",
       "    <tr>\n",
       "      <th>3</th>\n",
       "      <td>joao alfredo da silva</td>\n",
       "      <td>presidente prudente</td>\n",
       "      <td>presidente prudente</td>\n",
       "      <td>['-21.9093', '-51.3003']</td>\n",
       "      <td>31756</td>\n",
       "    </tr>\n",
       "    <tr>\n",
       "      <th>4</th>\n",
       "      <td>bairro pe da serra</td>\n",
       "      <td>miracatu</td>\n",
       "      <td>iguape</td>\n",
       "      <td>['-24.3801', '-47.5179']</td>\n",
       "      <td>918052</td>\n",
       "    </tr>\n",
       "  </tbody>\n",
       "</table>\n",
       "</div>"
      ],
      "text/plain": [
       "                  Escola  Diretoria de Ensino            Município  \\\n",
       "0      bairro da bocaina        guaratingueta                cunha   \n",
       "1         aldeia karugwa              itarare    barao de antonina   \n",
       "2       india maria rosa            penapolis               brauna   \n",
       "3  joao alfredo da silva  presidente prudente  presidente prudente   \n",
       "4     bairro pe da serra             miracatu               iguape   \n",
       "\n",
       "                Coordenadas  ID Escola  \n",
       "0  ['-23.0361', '-44.9253']     926085  \n",
       "1  ['-23.6028', '-49.5874']     268574  \n",
       "2  ['-21.5656', '-50.3173']     395365  \n",
       "3  ['-21.9093', '-51.3003']      31756  \n",
       "4  ['-24.3801', '-47.5179']     918052  "
      ]
     },
     "execution_count": 4,
     "metadata": {},
     "output_type": "execute_result"
    }
   ],
   "source": [
    "df_pei.head()"
   ]
  },
  {
   "cell_type": "code",
   "execution_count": 5,
   "id": "af1da246",
   "metadata": {},
   "outputs": [],
   "source": [
    "mapper_pei = {\n",
    "    'Escola': 'nome_escola',\n",
    "    'Diretoria de Ensino': 'nome_dre',\n",
    "    'Município': 'nome_municipio',\n",
    "    'Coordenadas': 'coordenadas',\n",
    "    'ID Escola': 'id_escola'\n",
    "}\n",
    "\n",
    "df_pei = df_pei.rename(columns=mapper_pei)"
   ]
  },
  {
   "cell_type": "code",
   "execution_count": 6,
   "id": "aa6634d7",
   "metadata": {},
   "outputs": [
    {
     "data": {
      "text/html": [
       "<div>\n",
       "<style scoped>\n",
       "    .dataframe tbody tr th:only-of-type {\n",
       "        vertical-align: middle;\n",
       "    }\n",
       "\n",
       "    .dataframe tbody tr th {\n",
       "        vertical-align: top;\n",
       "    }\n",
       "\n",
       "    .dataframe thead th {\n",
       "        text-align: right;\n",
       "    }\n",
       "</style>\n",
       "<table border=\"1\" class=\"dataframe\">\n",
       "  <thead>\n",
       "    <tr style=\"text-align: right;\">\n",
       "      <th></th>\n",
       "      <th>nome_escola</th>\n",
       "      <th>nome_dre</th>\n",
       "      <th>nome_municipio</th>\n",
       "      <th>coordenadas</th>\n",
       "      <th>id_escola</th>\n",
       "    </tr>\n",
       "  </thead>\n",
       "  <tbody>\n",
       "    <tr>\n",
       "      <th>0</th>\n",
       "      <td>bairro da bocaina</td>\n",
       "      <td>guaratingueta</td>\n",
       "      <td>cunha</td>\n",
       "      <td>['-23.0361', '-44.9253']</td>\n",
       "      <td>926085</td>\n",
       "    </tr>\n",
       "    <tr>\n",
       "      <th>1</th>\n",
       "      <td>aldeia karugwa</td>\n",
       "      <td>itarare</td>\n",
       "      <td>barao de antonina</td>\n",
       "      <td>['-23.6028', '-49.5874']</td>\n",
       "      <td>268574</td>\n",
       "    </tr>\n",
       "    <tr>\n",
       "      <th>2</th>\n",
       "      <td>india maria rosa</td>\n",
       "      <td>penapolis</td>\n",
       "      <td>brauna</td>\n",
       "      <td>['-21.5656', '-50.3173']</td>\n",
       "      <td>395365</td>\n",
       "    </tr>\n",
       "    <tr>\n",
       "      <th>3</th>\n",
       "      <td>joao alfredo da silva</td>\n",
       "      <td>presidente prudente</td>\n",
       "      <td>presidente prudente</td>\n",
       "      <td>['-21.9093', '-51.3003']</td>\n",
       "      <td>31756</td>\n",
       "    </tr>\n",
       "    <tr>\n",
       "      <th>4</th>\n",
       "      <td>bairro pe da serra</td>\n",
       "      <td>miracatu</td>\n",
       "      <td>iguape</td>\n",
       "      <td>['-24.3801', '-47.5179']</td>\n",
       "      <td>918052</td>\n",
       "    </tr>\n",
       "  </tbody>\n",
       "</table>\n",
       "</div>"
      ],
      "text/plain": [
       "             nome_escola             nome_dre       nome_municipio  \\\n",
       "0      bairro da bocaina        guaratingueta                cunha   \n",
       "1         aldeia karugwa              itarare    barao de antonina   \n",
       "2       india maria rosa            penapolis               brauna   \n",
       "3  joao alfredo da silva  presidente prudente  presidente prudente   \n",
       "4     bairro pe da serra             miracatu               iguape   \n",
       "\n",
       "                coordenadas  id_escola  \n",
       "0  ['-23.0361', '-44.9253']     926085  \n",
       "1  ['-23.6028', '-49.5874']     268574  \n",
       "2  ['-21.5656', '-50.3173']     395365  \n",
       "3  ['-21.9093', '-51.3003']      31756  \n",
       "4  ['-24.3801', '-47.5179']     918052  "
      ]
     },
     "execution_count": 6,
     "metadata": {},
     "output_type": "execute_result"
    }
   ],
   "source": [
    "df_pei.head()"
   ]
  },
  {
   "cell_type": "code",
   "execution_count": 7,
   "id": "47e91ff7",
   "metadata": {},
   "outputs": [
    {
     "data": {
      "text/plain": [
       "Index(['ano_censo', 'sigla_uf', 'nome_municipio', 'codigo_municipio',\n",
       "       'codigo_escola', 'nome_escola', 'qtd_turmas_ed_basica',\n",
       "       'qtd_matr_ed_basica', 'qtd_matr_ed_basica_nao_declarada',\n",
       "       'qtd_matr_ed_basica_branca', 'qtd_matr_ed_basica_preta',\n",
       "       'qtd_matr_ed_basica_parda', 'qtd_matr_ed_basica_amarela',\n",
       "       'qtd_matr_ed_basica_indigena', 'qtd_matriculas_infantil_integral',\n",
       "       'qtd_matriculas_infantil_creche_integral',\n",
       "       'qtd_matriculas_infantil_pre_escolar_integral',\n",
       "       'qtd_matriculas_fundamental_integral',\n",
       "       'qtd_matriculas_fundamental_anos_iniciais_integral',\n",
       "       'qtd_matriculas_fundamental_anos_finais_integral',\n",
       "       'qtd_matriculas_medio_integral'],\n",
       "      dtype='object')"
      ]
     },
     "execution_count": 7,
     "metadata": {},
     "output_type": "execute_result"
    }
   ],
   "source": [
    "df_censo.columns"
   ]
  },
  {
   "cell_type": "code",
   "execution_count": 8,
   "id": "b0b9a07e",
   "metadata": {},
   "outputs": [
    {
     "data": {
      "text/html": [
       "<div>\n",
       "<style scoped>\n",
       "    .dataframe tbody tr th:only-of-type {\n",
       "        vertical-align: middle;\n",
       "    }\n",
       "\n",
       "    .dataframe tbody tr th {\n",
       "        vertical-align: top;\n",
       "    }\n",
       "\n",
       "    .dataframe thead th {\n",
       "        text-align: right;\n",
       "    }\n",
       "</style>\n",
       "<table border=\"1\" class=\"dataframe\">\n",
       "  <thead>\n",
       "    <tr style=\"text-align: right;\">\n",
       "      <th></th>\n",
       "      <th>ano_censo</th>\n",
       "      <th>sigla_uf</th>\n",
       "      <th>nome_municipio</th>\n",
       "      <th>codigo_municipio</th>\n",
       "      <th>codigo_escola</th>\n",
       "      <th>nome_escola</th>\n",
       "      <th>qtd_turmas_ed_basica</th>\n",
       "      <th>qtd_matr_ed_basica</th>\n",
       "      <th>qtd_matr_ed_basica_nao_declarada</th>\n",
       "      <th>qtd_matr_ed_basica_branca</th>\n",
       "      <th>...</th>\n",
       "      <th>qtd_matr_ed_basica_parda</th>\n",
       "      <th>qtd_matr_ed_basica_amarela</th>\n",
       "      <th>qtd_matr_ed_basica_indigena</th>\n",
       "      <th>qtd_matriculas_infantil_integral</th>\n",
       "      <th>qtd_matriculas_infantil_creche_integral</th>\n",
       "      <th>qtd_matriculas_infantil_pre_escolar_integral</th>\n",
       "      <th>qtd_matriculas_fundamental_integral</th>\n",
       "      <th>qtd_matriculas_fundamental_anos_iniciais_integral</th>\n",
       "      <th>qtd_matriculas_fundamental_anos_finais_integral</th>\n",
       "      <th>qtd_matriculas_medio_integral</th>\n",
       "    </tr>\n",
       "  </thead>\n",
       "  <tbody>\n",
       "    <tr>\n",
       "      <th>0</th>\n",
       "      <td>2011</td>\n",
       "      <td>SP</td>\n",
       "      <td>Adamantina</td>\n",
       "      <td>3500105</td>\n",
       "      <td>35030806</td>\n",
       "      <td>HELEN KELLER</td>\n",
       "      <td>25</td>\n",
       "      <td>830</td>\n",
       "      <td>133</td>\n",
       "      <td>455</td>\n",
       "      <td>...</td>\n",
       "      <td>225</td>\n",
       "      <td>2</td>\n",
       "      <td>2</td>\n",
       "      <td>0</td>\n",
       "      <td>0</td>\n",
       "      <td>0</td>\n",
       "      <td>303</td>\n",
       "      <td>0</td>\n",
       "      <td>303</td>\n",
       "      <td>0</td>\n",
       "    </tr>\n",
       "    <tr>\n",
       "      <th>1</th>\n",
       "      <td>2011</td>\n",
       "      <td>SP</td>\n",
       "      <td>Adamantina</td>\n",
       "      <td>3500105</td>\n",
       "      <td>35031045</td>\n",
       "      <td>DURVALINO GRION PROF</td>\n",
       "      <td>22</td>\n",
       "      <td>771</td>\n",
       "      <td>94</td>\n",
       "      <td>446</td>\n",
       "      <td>...</td>\n",
       "      <td>210</td>\n",
       "      <td>6</td>\n",
       "      <td>2</td>\n",
       "      <td>0</td>\n",
       "      <td>0</td>\n",
       "      <td>0</td>\n",
       "      <td>0</td>\n",
       "      <td>0</td>\n",
       "      <td>0</td>\n",
       "      <td>0</td>\n",
       "    </tr>\n",
       "    <tr>\n",
       "      <th>2</th>\n",
       "      <td>2011</td>\n",
       "      <td>SP</td>\n",
       "      <td>Adamantina</td>\n",
       "      <td>3500105</td>\n",
       "      <td>35031082</td>\n",
       "      <td>EUDECIO LUIZ VICENTE PROF ETE</td>\n",
       "      <td>22</td>\n",
       "      <td>762</td>\n",
       "      <td>111</td>\n",
       "      <td>498</td>\n",
       "      <td>...</td>\n",
       "      <td>133</td>\n",
       "      <td>18</td>\n",
       "      <td>1</td>\n",
       "      <td>0</td>\n",
       "      <td>0</td>\n",
       "      <td>0</td>\n",
       "      <td>0</td>\n",
       "      <td>0</td>\n",
       "      <td>0</td>\n",
       "      <td>0</td>\n",
       "    </tr>\n",
       "    <tr>\n",
       "      <th>3</th>\n",
       "      <td>2011</td>\n",
       "      <td>SP</td>\n",
       "      <td>Adamantina</td>\n",
       "      <td>3500105</td>\n",
       "      <td>35031100</td>\n",
       "      <td>HERVAL BELLUSCI ENGENHEIRO ETE</td>\n",
       "      <td>10</td>\n",
       "      <td>267</td>\n",
       "      <td>73</td>\n",
       "      <td>135</td>\n",
       "      <td>...</td>\n",
       "      <td>54</td>\n",
       "      <td>1</td>\n",
       "      <td>0</td>\n",
       "      <td>0</td>\n",
       "      <td>0</td>\n",
       "      <td>0</td>\n",
       "      <td>0</td>\n",
       "      <td>0</td>\n",
       "      <td>0</td>\n",
       "      <td>78</td>\n",
       "    </tr>\n",
       "    <tr>\n",
       "      <th>4</th>\n",
       "      <td>2011</td>\n",
       "      <td>SP</td>\n",
       "      <td>Adamantina</td>\n",
       "      <td>3500105</td>\n",
       "      <td>35031112</td>\n",
       "      <td>FLEURIDES CAVALLINI MENECHINO PROFA</td>\n",
       "      <td>32</td>\n",
       "      <td>1102</td>\n",
       "      <td>61</td>\n",
       "      <td>829</td>\n",
       "      <td>...</td>\n",
       "      <td>193</td>\n",
       "      <td>11</td>\n",
       "      <td>3</td>\n",
       "      <td>0</td>\n",
       "      <td>0</td>\n",
       "      <td>0</td>\n",
       "      <td>0</td>\n",
       "      <td>0</td>\n",
       "      <td>0</td>\n",
       "      <td>1</td>\n",
       "    </tr>\n",
       "  </tbody>\n",
       "</table>\n",
       "<p>5 rows × 21 columns</p>\n",
       "</div>"
      ],
      "text/plain": [
       "   ano_censo sigla_uf nome_municipio  codigo_municipio  codigo_escola  \\\n",
       "0       2011       SP     Adamantina           3500105       35030806   \n",
       "1       2011       SP     Adamantina           3500105       35031045   \n",
       "2       2011       SP     Adamantina           3500105       35031082   \n",
       "3       2011       SP     Adamantina           3500105       35031100   \n",
       "4       2011       SP     Adamantina           3500105       35031112   \n",
       "\n",
       "                           nome_escola  qtd_turmas_ed_basica  \\\n",
       "0                         HELEN KELLER                    25   \n",
       "1                 DURVALINO GRION PROF                    22   \n",
       "2        EUDECIO LUIZ VICENTE PROF ETE                    22   \n",
       "3       HERVAL BELLUSCI ENGENHEIRO ETE                    10   \n",
       "4  FLEURIDES CAVALLINI MENECHINO PROFA                    32   \n",
       "\n",
       "   qtd_matr_ed_basica  qtd_matr_ed_basica_nao_declarada  \\\n",
       "0                 830                               133   \n",
       "1                 771                                94   \n",
       "2                 762                               111   \n",
       "3                 267                                73   \n",
       "4                1102                                61   \n",
       "\n",
       "   qtd_matr_ed_basica_branca  ...  qtd_matr_ed_basica_parda  \\\n",
       "0                        455  ...                       225   \n",
       "1                        446  ...                       210   \n",
       "2                        498  ...                       133   \n",
       "3                        135  ...                        54   \n",
       "4                        829  ...                       193   \n",
       "\n",
       "   qtd_matr_ed_basica_amarela  qtd_matr_ed_basica_indigena  \\\n",
       "0                           2                            2   \n",
       "1                           6                            2   \n",
       "2                          18                            1   \n",
       "3                           1                            0   \n",
       "4                          11                            3   \n",
       "\n",
       "   qtd_matriculas_infantil_integral  qtd_matriculas_infantil_creche_integral  \\\n",
       "0                                 0                                        0   \n",
       "1                                 0                                        0   \n",
       "2                                 0                                        0   \n",
       "3                                 0                                        0   \n",
       "4                                 0                                        0   \n",
       "\n",
       "   qtd_matriculas_infantil_pre_escolar_integral  \\\n",
       "0                                             0   \n",
       "1                                             0   \n",
       "2                                             0   \n",
       "3                                             0   \n",
       "4                                             0   \n",
       "\n",
       "   qtd_matriculas_fundamental_integral  \\\n",
       "0                                  303   \n",
       "1                                    0   \n",
       "2                                    0   \n",
       "3                                    0   \n",
       "4                                    0   \n",
       "\n",
       "   qtd_matriculas_fundamental_anos_iniciais_integral  \\\n",
       "0                                                  0   \n",
       "1                                                  0   \n",
       "2                                                  0   \n",
       "3                                                  0   \n",
       "4                                                  0   \n",
       "\n",
       "   qtd_matriculas_fundamental_anos_finais_integral  \\\n",
       "0                                              303   \n",
       "1                                                0   \n",
       "2                                                0   \n",
       "3                                                0   \n",
       "4                                                0   \n",
       "\n",
       "   qtd_matriculas_medio_integral  \n",
       "0                              0  \n",
       "1                              0  \n",
       "2                              0  \n",
       "3                             78  \n",
       "4                              1  \n",
       "\n",
       "[5 rows x 21 columns]"
      ]
     },
     "execution_count": 8,
     "metadata": {},
     "output_type": "execute_result"
    }
   ],
   "source": [
    "df_censo.head()"
   ]
  },
  {
   "cell_type": "markdown",
   "id": "765bd4a1",
   "metadata": {},
   "source": [
    "#### Checando se os IDs das escolas da base do PEI batem com a base do Censo"
   ]
  },
  {
   "cell_type": "code",
   "execution_count": 9,
   "id": "ce9b0d95",
   "metadata": {},
   "outputs": [
    {
     "data": {
      "text/plain": [
       "2319    37618\n",
       "1642    23541\n",
       "1687    15957\n",
       "Name: id_escola, dtype: int64"
      ]
     },
     "execution_count": 9,
     "metadata": {},
     "output_type": "execute_result"
    }
   ],
   "source": [
    "df_pei['id_escola'].sample(3)"
   ]
  },
  {
   "cell_type": "code",
   "execution_count": 10,
   "id": "2fe01e9b",
   "metadata": {},
   "outputs": [
    {
     "data": {
      "text/plain": [
       "32947    35008655\n",
       "40019    35284324\n",
       "42416    35479329\n",
       "Name: codigo_escola, dtype: int64"
      ]
     },
     "execution_count": 10,
     "metadata": {},
     "output_type": "execute_result"
    }
   ],
   "source": [
    "df_censo['codigo_escola'].sample(3)"
   ]
  },
  {
   "cell_type": "code",
   "execution_count": 11,
   "id": "f470d051",
   "metadata": {},
   "outputs": [
    {
     "data": {
      "text/plain": [
       "array([8])"
      ]
     },
     "execution_count": 11,
     "metadata": {},
     "output_type": "execute_result"
    }
   ],
   "source": [
    "df_censo['codigo_escola'].astype(str).str.len().unique()"
   ]
  },
  {
   "cell_type": "code",
   "execution_count": 12,
   "id": "253bf8fa",
   "metadata": {},
   "outputs": [],
   "source": [
    "df_censo['codigo_escola'] = df_censo['codigo_escola'].astype(str)"
   ]
  },
  {
   "cell_type": "code",
   "execution_count": 13,
   "id": "c470da38",
   "metadata": {},
   "outputs": [
    {
     "data": {
      "text/plain": [
       "dtype('int64')"
      ]
     },
     "execution_count": 13,
     "metadata": {},
     "output_type": "execute_result"
    }
   ],
   "source": [
    "df_pei['id_escola'].dtype"
   ]
  },
  {
   "cell_type": "code",
   "execution_count": 14,
   "id": "88e002fa",
   "metadata": {},
   "outputs": [
    {
     "data": {
      "text/plain": [
       "array([6, 5, 4, 3, 2])"
      ]
     },
     "execution_count": 14,
     "metadata": {},
     "output_type": "execute_result"
    }
   ],
   "source": [
    "#note que se somar os dois caracteres do estado, o id no final fica no tamanho de 8 caracteres do codigo do censo\n",
    "#vou tentar fazer isso para ver se da match\n",
    "df_pei['id_escola'].astype(str).str.len().unique()"
   ]
  },
  {
   "cell_type": "code",
   "execution_count": 15,
   "id": "567167e5",
   "metadata": {},
   "outputs": [
    {
     "data": {
      "text/plain": [
       "<bound method Series.unique of 0       6\n",
       "1       6\n",
       "2       6\n",
       "3       6\n",
       "4       6\n",
       "       ..\n",
       "2326    6\n",
       "2327    6\n",
       "2328    6\n",
       "2329    6\n",
       "2330    6\n",
       "Name: id_escola_treated, Length: 2331, dtype: int64>"
      ]
     },
     "execution_count": 15,
     "metadata": {},
     "output_type": "execute_result"
    }
   ],
   "source": [
    "#primeiro vamos dar um zfill para todos ficarem com 6 caracteres. Depois adicionamos o 35 do estado de SP\n",
    "df_pei['id_escola_treated'] = df_pei['id_escola'].astype(str).str.zfill(6)\n",
    "df_pei['id_escola_treated'].str.len().unique"
   ]
  },
  {
   "cell_type": "code",
   "execution_count": 16,
   "id": "540ad5a8",
   "metadata": {},
   "outputs": [
    {
     "data": {
      "text/plain": [
       "array([8])"
      ]
     },
     "execution_count": 16,
     "metadata": {},
     "output_type": "execute_result"
    }
   ],
   "source": [
    "df_pei['id_escola_treated'] = '35'  + df_pei['id_escola_treated']\n",
    "df_pei['id_escola_treated'].str.len().unique()"
   ]
  },
  {
   "cell_type": "code",
   "execution_count": 17,
   "id": "bfda4726",
   "metadata": {},
   "outputs": [
    {
     "data": {
      "text/plain": [
       "{'35004633', '35005898', '35005929', '35006792', '35006867', '35006900'}"
      ]
     },
     "execution_count": 17,
     "metadata": {},
     "output_type": "execute_result"
    }
   ],
   "source": [
    "# Uhul bateu!\n",
    "set(df_pei['id_escola_treated'].unique()) - set(df_censo['codigo_escola'].unique())"
   ]
  },
  {
   "cell_type": "markdown",
   "id": "ab0092d6",
   "metadata": {},
   "source": [
    "#### Escolas não encontradas no PEI\n",
    "\n",
    "Como agora estamos trabalhando com os dados até 2018, então existem escolas que foram abertas nesse período que estão nos dados do PEI (que são de 2025) mas não estão nos dados do Censo. Anteriormente, quando trabalhamos em outra versão com os dados do censo até 2024, todas as escolas do PEI foram encontradas."
   ]
  },
  {
   "cell_type": "markdown",
   "id": "18549aaf",
   "metadata": {},
   "source": [
    "Marcar com uma coluna as escolas que fazem parte do PEI antes do merge"
   ]
  },
  {
   "cell_type": "code",
   "execution_count": 18,
   "id": "b7425cd4",
   "metadata": {},
   "outputs": [],
   "source": [
    "df_pei['is_PEI'] = True"
   ]
  },
  {
   "cell_type": "code",
   "execution_count": 19,
   "id": "282d53a3",
   "metadata": {},
   "outputs": [
    {
     "data": {
      "text/plain": [
       "_merge\n",
       "left_only     28560\n",
       "both          18287\n",
       "right_only        0\n",
       "Name: count, dtype: int64"
      ]
     },
     "execution_count": 19,
     "metadata": {},
     "output_type": "execute_result"
    }
   ],
   "source": [
    "# ao fazer o left join, estamos descartando as poucas escolas que estão no PEI mas não estão no Censo -- pois elas foram criadas depois do período de estudo\n",
    "df = pd.merge(df_censo, df_pei, left_on='codigo_escola', right_on='id_escola_treated', how='left', indicator=True)\n",
    "df['_merge'].value_counts()"
   ]
  },
  {
   "cell_type": "code",
   "execution_count": 20,
   "id": "03190ae5",
   "metadata": {},
   "outputs": [
    {
     "name": "stderr",
     "output_type": "stream",
     "text": [
      "/tmp/ipykernel_23706/1384400185.py:1: FutureWarning: A value is trying to be set on a copy of a DataFrame or Series through chained assignment using an inplace method.\n",
      "The behavior will change in pandas 3.0. This inplace method will never work because the intermediate object on which we are setting values always behaves as a copy.\n",
      "\n",
      "For example, when doing 'df[col].method(value, inplace=True)', try using 'df.method({col: value}, inplace=True)' or df[col] = df[col].method(value) instead, to perform the operation inplace on the original object.\n",
      "\n",
      "\n",
      "  df['is_PEI'].fillna(False, inplace=True)\n",
      "/tmp/ipykernel_23706/1384400185.py:1: FutureWarning: Downcasting object dtype arrays on .fillna, .ffill, .bfill is deprecated and will change in a future version. Call result.infer_objects(copy=False) instead. To opt-in to the future behavior, set `pd.set_option('future.no_silent_downcasting', True)`\n",
      "  df['is_PEI'].fillna(False, inplace=True)\n"
     ]
    }
   ],
   "source": [
    "df['is_PEI'].fillna(False, inplace=True)"
   ]
  },
  {
   "cell_type": "code",
   "execution_count": 21,
   "id": "e6e942d8",
   "metadata": {},
   "outputs": [],
   "source": [
    "del df_pei\n",
    "del df_censo"
   ]
  },
  {
   "cell_type": "code",
   "execution_count": 22,
   "id": "1085af7a",
   "metadata": {},
   "outputs": [
    {
     "data": {
      "text/html": [
       "<div>\n",
       "<style scoped>\n",
       "    .dataframe tbody tr th:only-of-type {\n",
       "        vertical-align: middle;\n",
       "    }\n",
       "\n",
       "    .dataframe tbody tr th {\n",
       "        vertical-align: top;\n",
       "    }\n",
       "\n",
       "    .dataframe thead th {\n",
       "        text-align: right;\n",
       "    }\n",
       "</style>\n",
       "<table border=\"1\" class=\"dataframe\">\n",
       "  <thead>\n",
       "    <tr style=\"text-align: right;\">\n",
       "      <th></th>\n",
       "      <th>ano_censo</th>\n",
       "      <th>sigla_uf</th>\n",
       "      <th>nome_municipio_x</th>\n",
       "      <th>codigo_municipio</th>\n",
       "      <th>codigo_escola</th>\n",
       "      <th>nome_escola_x</th>\n",
       "      <th>qtd_turmas_ed_basica</th>\n",
       "      <th>qtd_matr_ed_basica</th>\n",
       "      <th>qtd_matr_ed_basica_nao_declarada</th>\n",
       "      <th>qtd_matr_ed_basica_branca</th>\n",
       "      <th>...</th>\n",
       "      <th>qtd_matriculas_fundamental_anos_finais_integral</th>\n",
       "      <th>qtd_matriculas_medio_integral</th>\n",
       "      <th>nome_escola_y</th>\n",
       "      <th>nome_dre</th>\n",
       "      <th>nome_municipio_y</th>\n",
       "      <th>coordenadas</th>\n",
       "      <th>id_escola</th>\n",
       "      <th>id_escola_treated</th>\n",
       "      <th>is_PEI</th>\n",
       "      <th>_merge</th>\n",
       "    </tr>\n",
       "  </thead>\n",
       "  <tbody>\n",
       "    <tr>\n",
       "      <th>0</th>\n",
       "      <td>2011</td>\n",
       "      <td>SP</td>\n",
       "      <td>Adamantina</td>\n",
       "      <td>3500105</td>\n",
       "      <td>35030806</td>\n",
       "      <td>HELEN KELLER</td>\n",
       "      <td>25</td>\n",
       "      <td>830</td>\n",
       "      <td>133</td>\n",
       "      <td>455</td>\n",
       "      <td>...</td>\n",
       "      <td>303</td>\n",
       "      <td>0</td>\n",
       "      <td>helen keller</td>\n",
       "      <td>adamantina</td>\n",
       "      <td>adamantina</td>\n",
       "      <td>['-21.693', '-51.0689']</td>\n",
       "      <td>30806.0</td>\n",
       "      <td>35030806</td>\n",
       "      <td>True</td>\n",
       "      <td>both</td>\n",
       "    </tr>\n",
       "    <tr>\n",
       "      <th>1</th>\n",
       "      <td>2011</td>\n",
       "      <td>SP</td>\n",
       "      <td>Adamantina</td>\n",
       "      <td>3500105</td>\n",
       "      <td>35031045</td>\n",
       "      <td>DURVALINO GRION PROF</td>\n",
       "      <td>22</td>\n",
       "      <td>771</td>\n",
       "      <td>94</td>\n",
       "      <td>446</td>\n",
       "      <td>...</td>\n",
       "      <td>0</td>\n",
       "      <td>0</td>\n",
       "      <td>durvalino grion prof</td>\n",
       "      <td>adamantina</td>\n",
       "      <td>adamantina</td>\n",
       "      <td>['-21.6786', '-51.0769']</td>\n",
       "      <td>31045.0</td>\n",
       "      <td>35031045</td>\n",
       "      <td>True</td>\n",
       "      <td>both</td>\n",
       "    </tr>\n",
       "    <tr>\n",
       "      <th>2</th>\n",
       "      <td>2011</td>\n",
       "      <td>SP</td>\n",
       "      <td>Adamantina</td>\n",
       "      <td>3500105</td>\n",
       "      <td>35031082</td>\n",
       "      <td>EUDECIO LUIZ VICENTE PROF ETE</td>\n",
       "      <td>22</td>\n",
       "      <td>762</td>\n",
       "      <td>111</td>\n",
       "      <td>498</td>\n",
       "      <td>...</td>\n",
       "      <td>0</td>\n",
       "      <td>0</td>\n",
       "      <td>NaN</td>\n",
       "      <td>NaN</td>\n",
       "      <td>NaN</td>\n",
       "      <td>NaN</td>\n",
       "      <td>NaN</td>\n",
       "      <td>NaN</td>\n",
       "      <td>False</td>\n",
       "      <td>left_only</td>\n",
       "    </tr>\n",
       "    <tr>\n",
       "      <th>3</th>\n",
       "      <td>2011</td>\n",
       "      <td>SP</td>\n",
       "      <td>Adamantina</td>\n",
       "      <td>3500105</td>\n",
       "      <td>35031100</td>\n",
       "      <td>HERVAL BELLUSCI ENGENHEIRO ETE</td>\n",
       "      <td>10</td>\n",
       "      <td>267</td>\n",
       "      <td>73</td>\n",
       "      <td>135</td>\n",
       "      <td>...</td>\n",
       "      <td>0</td>\n",
       "      <td>78</td>\n",
       "      <td>NaN</td>\n",
       "      <td>NaN</td>\n",
       "      <td>NaN</td>\n",
       "      <td>NaN</td>\n",
       "      <td>NaN</td>\n",
       "      <td>NaN</td>\n",
       "      <td>False</td>\n",
       "      <td>left_only</td>\n",
       "    </tr>\n",
       "    <tr>\n",
       "      <th>4</th>\n",
       "      <td>2011</td>\n",
       "      <td>SP</td>\n",
       "      <td>Adamantina</td>\n",
       "      <td>3500105</td>\n",
       "      <td>35031112</td>\n",
       "      <td>FLEURIDES CAVALLINI MENECHINO PROFA</td>\n",
       "      <td>32</td>\n",
       "      <td>1102</td>\n",
       "      <td>61</td>\n",
       "      <td>829</td>\n",
       "      <td>...</td>\n",
       "      <td>0</td>\n",
       "      <td>1</td>\n",
       "      <td>fleurides cavallini menechino profa</td>\n",
       "      <td>adamantina</td>\n",
       "      <td>adamantina</td>\n",
       "      <td>['-21.6928', '-51.0703']</td>\n",
       "      <td>31112.0</td>\n",
       "      <td>35031112</td>\n",
       "      <td>True</td>\n",
       "      <td>both</td>\n",
       "    </tr>\n",
       "  </tbody>\n",
       "</table>\n",
       "<p>5 rows × 29 columns</p>\n",
       "</div>"
      ],
      "text/plain": [
       "   ano_censo sigla_uf nome_municipio_x  codigo_municipio codigo_escola  \\\n",
       "0       2011       SP       Adamantina           3500105      35030806   \n",
       "1       2011       SP       Adamantina           3500105      35031045   \n",
       "2       2011       SP       Adamantina           3500105      35031082   \n",
       "3       2011       SP       Adamantina           3500105      35031100   \n",
       "4       2011       SP       Adamantina           3500105      35031112   \n",
       "\n",
       "                         nome_escola_x  qtd_turmas_ed_basica  \\\n",
       "0                         HELEN KELLER                    25   \n",
       "1                 DURVALINO GRION PROF                    22   \n",
       "2        EUDECIO LUIZ VICENTE PROF ETE                    22   \n",
       "3       HERVAL BELLUSCI ENGENHEIRO ETE                    10   \n",
       "4  FLEURIDES CAVALLINI MENECHINO PROFA                    32   \n",
       "\n",
       "   qtd_matr_ed_basica  qtd_matr_ed_basica_nao_declarada  \\\n",
       "0                 830                               133   \n",
       "1                 771                                94   \n",
       "2                 762                               111   \n",
       "3                 267                                73   \n",
       "4                1102                                61   \n",
       "\n",
       "   qtd_matr_ed_basica_branca  ...  \\\n",
       "0                        455  ...   \n",
       "1                        446  ...   \n",
       "2                        498  ...   \n",
       "3                        135  ...   \n",
       "4                        829  ...   \n",
       "\n",
       "   qtd_matriculas_fundamental_anos_finais_integral  \\\n",
       "0                                              303   \n",
       "1                                                0   \n",
       "2                                                0   \n",
       "3                                                0   \n",
       "4                                                0   \n",
       "\n",
       "   qtd_matriculas_medio_integral                        nome_escola_y  \\\n",
       "0                              0                         helen keller   \n",
       "1                              0                 durvalino grion prof   \n",
       "2                              0                                  NaN   \n",
       "3                             78                                  NaN   \n",
       "4                              1  fleurides cavallini menechino profa   \n",
       "\n",
       "     nome_dre  nome_municipio_y               coordenadas  id_escola  \\\n",
       "0  adamantina        adamantina   ['-21.693', '-51.0689']    30806.0   \n",
       "1  adamantina        adamantina  ['-21.6786', '-51.0769']    31045.0   \n",
       "2         NaN               NaN                       NaN        NaN   \n",
       "3         NaN               NaN                       NaN        NaN   \n",
       "4  adamantina        adamantina  ['-21.6928', '-51.0703']    31112.0   \n",
       "\n",
       "   id_escola_treated  is_PEI     _merge  \n",
       "0           35030806    True       both  \n",
       "1           35031045    True       both  \n",
       "2                NaN   False  left_only  \n",
       "3                NaN   False  left_only  \n",
       "4           35031112    True       both  \n",
       "\n",
       "[5 rows x 29 columns]"
      ]
     },
     "execution_count": 22,
     "metadata": {},
     "output_type": "execute_result"
    }
   ],
   "source": [
    "df.head()"
   ]
  },
  {
   "cell_type": "markdown",
   "id": "7e865114",
   "metadata": {},
   "source": [
    "#### Testes de consistência do join\n",
    "\n",
    "Agora vamos testar se o join deu certo comparando os nomes dos municipios e das escolas.\n",
    "\n",
    "#### Nomes municipios"
   ]
  },
  {
   "cell_type": "code",
   "execution_count": 23,
   "id": "5f6fb18f",
   "metadata": {},
   "outputs": [
    {
     "data": {
      "text/plain": [
       "nome_municipio_bate\n",
       "False    0.794885\n",
       "True     0.205115\n",
       "Name: proportion, dtype: float64"
      ]
     },
     "execution_count": 23,
     "metadata": {},
     "output_type": "execute_result"
    }
   ],
   "source": [
    "df['nome_municipio_bate'] = (df['nome_municipio_x'].str.lower() == df['nome_municipio_y'].str.lower())\n",
    "df['nome_municipio_bate'].value_counts(normalize=True)"
   ]
  },
  {
   "cell_type": "code",
   "execution_count": 24,
   "id": "e4fa4abf",
   "metadata": {},
   "outputs": [
    {
     "data": {
      "text/html": [
       "<div>\n",
       "<style scoped>\n",
       "    .dataframe tbody tr th:only-of-type {\n",
       "        vertical-align: middle;\n",
       "    }\n",
       "\n",
       "    .dataframe tbody tr th {\n",
       "        vertical-align: top;\n",
       "    }\n",
       "\n",
       "    .dataframe thead th {\n",
       "        text-align: right;\n",
       "    }\n",
       "</style>\n",
       "<table border=\"1\" class=\"dataframe\">\n",
       "  <thead>\n",
       "    <tr style=\"text-align: right;\">\n",
       "      <th></th>\n",
       "      <th>nome_municipio_x</th>\n",
       "      <th>nome_municipio_y</th>\n",
       "    </tr>\n",
       "  </thead>\n",
       "  <tbody>\n",
       "    <tr>\n",
       "      <th>36019</th>\n",
       "      <td>Carapicuíba</td>\n",
       "      <td>NaN</td>\n",
       "    </tr>\n",
       "    <tr>\n",
       "      <th>23156</th>\n",
       "      <td>Ubatuba</td>\n",
       "      <td>NaN</td>\n",
       "    </tr>\n",
       "    <tr>\n",
       "      <th>20107</th>\n",
       "      <td>Mongaguá</td>\n",
       "      <td>NaN</td>\n",
       "    </tr>\n",
       "    <tr>\n",
       "      <th>3915</th>\n",
       "      <td>São José dos Campos</td>\n",
       "      <td>NaN</td>\n",
       "    </tr>\n",
       "    <tr>\n",
       "      <th>26094</th>\n",
       "      <td>Olímpia</td>\n",
       "      <td>NaN</td>\n",
       "    </tr>\n",
       "    <tr>\n",
       "      <th>5001</th>\n",
       "      <td>São Paulo</td>\n",
       "      <td>NaN</td>\n",
       "    </tr>\n",
       "    <tr>\n",
       "      <th>33803</th>\n",
       "      <td>São Paulo</td>\n",
       "      <td>sao paulo</td>\n",
       "    </tr>\n",
       "    <tr>\n",
       "      <th>16464</th>\n",
       "      <td>São Paulo</td>\n",
       "      <td>NaN</td>\n",
       "    </tr>\n",
       "    <tr>\n",
       "      <th>26785</th>\n",
       "      <td>Rio Claro</td>\n",
       "      <td>NaN</td>\n",
       "    </tr>\n",
       "    <tr>\n",
       "      <th>5005</th>\n",
       "      <td>São Paulo</td>\n",
       "      <td>sao paulo</td>\n",
       "    </tr>\n",
       "  </tbody>\n",
       "</table>\n",
       "</div>"
      ],
      "text/plain": [
       "          nome_municipio_x nome_municipio_y\n",
       "36019          Carapicuíba              NaN\n",
       "23156              Ubatuba              NaN\n",
       "20107             Mongaguá              NaN\n",
       "3915   São José dos Campos              NaN\n",
       "26094              Olímpia              NaN\n",
       "5001             São Paulo              NaN\n",
       "33803            São Paulo        sao paulo\n",
       "16464            São Paulo              NaN\n",
       "26785            Rio Claro              NaN\n",
       "5005             São Paulo        sao paulo"
      ]
     },
     "execution_count": 24,
     "metadata": {},
     "output_type": "execute_result"
    }
   ],
   "source": [
    "df[~df['nome_municipio_bate']][['nome_municipio_x', 'nome_municipio_y']].sample(10)"
   ]
  },
  {
   "cell_type": "code",
   "execution_count": 25,
   "id": "ce5289a9",
   "metadata": {},
   "outputs": [],
   "source": [
    "import unicodedata\n",
    "\n",
    "def remover_acentos(texto: str) -> str:\n",
    "    return ''.join(\n",
    "        c for c in unicodedata.normalize('NFKD', texto)\n",
    "        if not unicodedata.combining(c)\n",
    "    )\n"
   ]
  },
  {
   "cell_type": "code",
   "execution_count": 26,
   "id": "d24647b3",
   "metadata": {},
   "outputs": [],
   "source": [
    "df['nome_municipio_x'] = df['nome_municipio_x'].apply(lambda x: x if not pd.isnull(x) else '').str.lower().str.strip().apply(remover_acentos)\n",
    "df['nome_municipio_y'] = df['nome_municipio_y'].apply(lambda x: x if not pd.isnull(x) else '').str.lower().str.strip().apply(remover_acentos)"
   ]
  },
  {
   "cell_type": "code",
   "execution_count": 27,
   "id": "fcafbef7",
   "metadata": {},
   "outputs": [
    {
     "data": {
      "text/plain": [
       "nome_municipio_bate2\n",
       "False    0.609644\n",
       "True     0.390356\n",
       "Name: proportion, dtype: float64"
      ]
     },
     "execution_count": 27,
     "metadata": {},
     "output_type": "execute_result"
    }
   ],
   "source": [
    "df['nome_municipio_bate2'] = (df['nome_municipio_x'].str.lower() == df['nome_municipio_y'].str.lower())\n",
    "df['nome_municipio_bate2'].value_counts(normalize=True)"
   ]
  },
  {
   "cell_type": "code",
   "execution_count": 28,
   "id": "491d5a39",
   "metadata": {},
   "outputs": [
    {
     "data": {
      "text/html": [
       "<div>\n",
       "<style scoped>\n",
       "    .dataframe tbody tr th:only-of-type {\n",
       "        vertical-align: middle;\n",
       "    }\n",
       "\n",
       "    .dataframe tbody tr th {\n",
       "        vertical-align: top;\n",
       "    }\n",
       "\n",
       "    .dataframe thead th {\n",
       "        text-align: right;\n",
       "    }\n",
       "</style>\n",
       "<table border=\"1\" class=\"dataframe\">\n",
       "  <thead>\n",
       "    <tr style=\"text-align: right;\">\n",
       "      <th></th>\n",
       "      <th>nome_municipio_x</th>\n",
       "      <th>nome_municipio_y</th>\n",
       "    </tr>\n",
       "  </thead>\n",
       "  <tbody>\n",
       "    <tr>\n",
       "      <th>23215</th>\n",
       "      <td>vera cruz</td>\n",
       "      <td></td>\n",
       "    </tr>\n",
       "    <tr>\n",
       "      <th>36790</th>\n",
       "      <td>guarulhos</td>\n",
       "      <td></td>\n",
       "    </tr>\n",
       "    <tr>\n",
       "      <th>10301</th>\n",
       "      <td>sao paulo</td>\n",
       "      <td></td>\n",
       "    </tr>\n",
       "    <tr>\n",
       "      <th>14080</th>\n",
       "      <td>maua</td>\n",
       "      <td></td>\n",
       "    </tr>\n",
       "    <tr>\n",
       "      <th>3752</th>\n",
       "      <td>sao bernardo do campo</td>\n",
       "      <td></td>\n",
       "    </tr>\n",
       "    <tr>\n",
       "      <th>12196</th>\n",
       "      <td>campinas</td>\n",
       "      <td></td>\n",
       "    </tr>\n",
       "    <tr>\n",
       "      <th>23378</th>\n",
       "      <td>apiai</td>\n",
       "      <td></td>\n",
       "    </tr>\n",
       "    <tr>\n",
       "      <th>3576</th>\n",
       "      <td>santo andre</td>\n",
       "      <td></td>\n",
       "    </tr>\n",
       "    <tr>\n",
       "      <th>2563</th>\n",
       "      <td>mogi das cruzes</td>\n",
       "      <td></td>\n",
       "    </tr>\n",
       "    <tr>\n",
       "      <th>33576</th>\n",
       "      <td>sao paulo</td>\n",
       "      <td></td>\n",
       "    </tr>\n",
       "  </tbody>\n",
       "</table>\n",
       "</div>"
      ],
      "text/plain": [
       "            nome_municipio_x nome_municipio_y\n",
       "23215              vera cruz                 \n",
       "36790              guarulhos                 \n",
       "10301              sao paulo                 \n",
       "14080                   maua                 \n",
       "3752   sao bernardo do campo                 \n",
       "12196               campinas                 \n",
       "23378                  apiai                 \n",
       "3576             santo andre                 \n",
       "2563         mogi das cruzes                 \n",
       "33576              sao paulo                 "
      ]
     },
     "execution_count": 28,
     "metadata": {},
     "output_type": "execute_result"
    }
   ],
   "source": [
    "df[~df['nome_municipio_bate2']][['nome_municipio_x', 'nome_municipio_y']].sample(10)"
   ]
  },
  {
   "cell_type": "code",
   "execution_count": 29,
   "id": "a9166f1e",
   "metadata": {},
   "outputs": [
    {
     "data": {
      "text/plain": [
       "nome_municipio_y\n",
       "True    28560\n",
       "Name: count, dtype: int64"
      ]
     },
     "execution_count": 29,
     "metadata": {},
     "output_type": "execute_result"
    }
   ],
   "source": [
    "(df[~df['nome_municipio_bate2']]['nome_municipio_y']=='').value_counts()"
   ]
  },
  {
   "cell_type": "code",
   "execution_count": 30,
   "id": "326e391f",
   "metadata": {},
   "outputs": [
    {
     "data": {
      "text/plain": [
       "nome_municipio_y\n",
       "    28560\n",
       "Name: count, dtype: int64"
      ]
     },
     "execution_count": 30,
     "metadata": {},
     "output_type": "execute_result"
    }
   ],
   "source": [
    "df_mun_nao_bate = df[~df['nome_municipio_bate2']].copy()\n",
    "df_mun_nao_bate['nome_municipio_y'].value_counts()\n"
   ]
  },
  {
   "cell_type": "code",
   "execution_count": 31,
   "id": "35094eee",
   "metadata": {},
   "outputs": [
    {
     "data": {
      "text/html": [
       "<div>\n",
       "<style scoped>\n",
       "    .dataframe tbody tr th:only-of-type {\n",
       "        vertical-align: middle;\n",
       "    }\n",
       "\n",
       "    .dataframe tbody tr th {\n",
       "        vertical-align: top;\n",
       "    }\n",
       "\n",
       "    .dataframe thead th {\n",
       "        text-align: right;\n",
       "    }\n",
       "</style>\n",
       "<table border=\"1\" class=\"dataframe\">\n",
       "  <thead>\n",
       "    <tr style=\"text-align: right;\">\n",
       "      <th></th>\n",
       "      <th>nome_municipio_x</th>\n",
       "      <th>nome_municipio_y</th>\n",
       "    </tr>\n",
       "  </thead>\n",
       "  <tbody>\n",
       "  </tbody>\n",
       "</table>\n",
       "</div>"
      ],
      "text/plain": [
       "Empty DataFrame\n",
       "Columns: [nome_municipio_x, nome_municipio_y]\n",
       "Index: []"
      ]
     },
     "execution_count": 31,
     "metadata": {},
     "output_type": "execute_result"
    }
   ],
   "source": [
    "df_mun_nao_bate[df_mun_nao_bate['nome_municipio_y'] != ''][['nome_municipio_x', 'nome_municipio_y']]"
   ]
  },
  {
   "cell_type": "code",
   "execution_count": 32,
   "id": "37dbb63d",
   "metadata": {},
   "outputs": [],
   "source": [
    "#vamos ficar com a coluna do censo escolar que é mais completa\n",
    "df.drop(columns=['nome_municipio_bate', 'nome_municipio_bate2', 'nome_municipio_y'], inplace=True)\n",
    "df.rename(columns={'nome_municipio_x': 'nome_municipio'}, inplace=True)"
   ]
  },
  {
   "cell_type": "code",
   "execution_count": 33,
   "id": "2d85654f",
   "metadata": {},
   "outputs": [
    {
     "data": {
      "text/plain": [
       "np.False_"
      ]
     },
     "execution_count": 33,
     "metadata": {},
     "output_type": "execute_result"
    }
   ],
   "source": [
    "df['nome_municipio'].isnull().any()"
   ]
  },
  {
   "cell_type": "markdown",
   "id": "66d68690",
   "metadata": {},
   "source": [
    "#### Conclusão:\n",
    "\n",
    "Verificamos que todos os municipios batem, com exceção daqueles que estão com o nome do municipio vazio na base do PEI e de apenas 2 que estão registrados como são sebastião na base do Censo Escolar mas que no PEI entraram como Bertiogo -- que sao municipios vizinhos. Pode ser efeito de uma mudança de limites entre os municipios ao longo dos anos ou um erro simples de cadastro."
   ]
  },
  {
   "cell_type": "markdown",
   "id": "7e4e50f6",
   "metadata": {},
   "source": [
    "#### Nomes das escolas"
   ]
  },
  {
   "cell_type": "code",
   "execution_count": 34,
   "id": "98a38fe9",
   "metadata": {},
   "outputs": [
    {
     "data": {
      "text/plain": [
       "False    1.0\n",
       "Name: proportion, dtype: float64"
      ]
     },
     "execution_count": 34,
     "metadata": {},
     "output_type": "execute_result"
    }
   ],
   "source": [
    "(df['nome_escola_x'] == df['nome_escola_y']).value_counts(normalize=True)"
   ]
  },
  {
   "cell_type": "code",
   "execution_count": 35,
   "id": "cc72a1fc",
   "metadata": {},
   "outputs": [
    {
     "data": {
      "text/plain": [
       "3973     ANA HERONDINA SOARES SCHYCHOF PROFA\n",
       "5681                 EVILAZIO DE GOES VIEIRA\n",
       "20258               JOSE AMBROSIO DOS SANTOS\n",
       "Name: nome_escola_x, dtype: object"
      ]
     },
     "execution_count": 35,
     "metadata": {},
     "output_type": "execute_result"
    }
   ],
   "source": [
    "df['nome_escola_x'].sample(3)"
   ]
  },
  {
   "cell_type": "code",
   "execution_count": 36,
   "id": "bd8940e9",
   "metadata": {},
   "outputs": [
    {
     "data": {
      "text/plain": [
       "14220                     NaN\n",
       "25727    geraldo zancope prof\n",
       "37227                     NaN\n",
       "Name: nome_escola_y, dtype: object"
      ]
     },
     "execution_count": 36,
     "metadata": {},
     "output_type": "execute_result"
    }
   ],
   "source": [
    "df['nome_escola_y'].sample(3)"
   ]
  },
  {
   "cell_type": "code",
   "execution_count": 37,
   "id": "3f67b5ce",
   "metadata": {},
   "outputs": [],
   "source": [
    "df['nome_escola_y'] = df['nome_escola_y'].apply(lambda x: x if not pd.isnull(x) else '').str.lower().str.strip().apply(remover_acentos)\n",
    "df['nome_escola_x'] = df['nome_escola_x'].apply(lambda x: x if not pd.isnull(x) else '').str.lower().str.strip().apply(remover_acentos)"
   ]
  },
  {
   "cell_type": "code",
   "execution_count": 38,
   "id": "3bbce5e8",
   "metadata": {},
   "outputs": [
    {
     "data": {
      "text/plain": [
       "nome_escola_bate\n",
       "False    0.638013\n",
       "True     0.361987\n",
       "Name: proportion, dtype: float64"
      ]
     },
     "execution_count": 38,
     "metadata": {},
     "output_type": "execute_result"
    }
   ],
   "source": [
    "df['nome_escola_bate'] = (df['nome_escola_x'] == df['nome_escola_y'])\n",
    "df['nome_escola_bate'].value_counts(normalize=True)"
   ]
  },
  {
   "cell_type": "code",
   "execution_count": 39,
   "id": "e3f179f7",
   "metadata": {},
   "outputs": [
    {
     "data": {
      "text/html": [
       "<div>\n",
       "<style scoped>\n",
       "    .dataframe tbody tr th:only-of-type {\n",
       "        vertical-align: middle;\n",
       "    }\n",
       "\n",
       "    .dataframe tbody tr th {\n",
       "        vertical-align: top;\n",
       "    }\n",
       "\n",
       "    .dataframe thead th {\n",
       "        text-align: right;\n",
       "    }\n",
       "</style>\n",
       "<table border=\"1\" class=\"dataframe\">\n",
       "  <thead>\n",
       "    <tr style=\"text-align: right;\">\n",
       "      <th></th>\n",
       "      <th>nome_escola_x</th>\n",
       "      <th>nome_escola_y</th>\n",
       "    </tr>\n",
       "  </thead>\n",
       "  <tbody>\n",
       "    <tr>\n",
       "      <th>33896</th>\n",
       "      <td>francisco joao de azevedo padre</td>\n",
       "      <td></td>\n",
       "    </tr>\n",
       "    <tr>\n",
       "      <th>43071</th>\n",
       "      <td>cel jto a ee henrique lespinasse prof</td>\n",
       "      <td></td>\n",
       "    </tr>\n",
       "    <tr>\n",
       "      <th>45183</th>\n",
       "      <td>toledo barbosa</td>\n",
       "      <td></td>\n",
       "    </tr>\n",
       "    <tr>\n",
       "      <th>11631</th>\n",
       "      <td>joao carreira</td>\n",
       "      <td></td>\n",
       "    </tr>\n",
       "    <tr>\n",
       "      <th>45194</th>\n",
       "      <td>herois da feb</td>\n",
       "      <td></td>\n",
       "    </tr>\n",
       "    <tr>\n",
       "      <th>7219</th>\n",
       "      <td>maria angelica soave professora</td>\n",
       "      <td></td>\n",
       "    </tr>\n",
       "    <tr>\n",
       "      <th>27169</th>\n",
       "      <td>sao pedro</td>\n",
       "      <td></td>\n",
       "    </tr>\n",
       "    <tr>\n",
       "      <th>10530</th>\n",
       "      <td>frederico mariano</td>\n",
       "      <td></td>\n",
       "    </tr>\n",
       "    <tr>\n",
       "      <th>11100</th>\n",
       "      <td>acacio de vasconcellos camargo professor</td>\n",
       "      <td>accacio de vasconcellos camargo professor</td>\n",
       "    </tr>\n",
       "    <tr>\n",
       "      <th>3636</th>\n",
       "      <td>paulo emilio salles gomes</td>\n",
       "      <td></td>\n",
       "    </tr>\n",
       "  </tbody>\n",
       "</table>\n",
       "</div>"
      ],
      "text/plain": [
       "                                  nome_escola_x  \\\n",
       "33896           francisco joao de azevedo padre   \n",
       "43071     cel jto a ee henrique lespinasse prof   \n",
       "45183                            toledo barbosa   \n",
       "11631                             joao carreira   \n",
       "45194                             herois da feb   \n",
       "7219            maria angelica soave professora   \n",
       "27169                                 sao pedro   \n",
       "10530                         frederico mariano   \n",
       "11100  acacio de vasconcellos camargo professor   \n",
       "3636                  paulo emilio salles gomes   \n",
       "\n",
       "                                   nome_escola_y  \n",
       "33896                                             \n",
       "43071                                             \n",
       "45183                                             \n",
       "11631                                             \n",
       "45194                                             \n",
       "7219                                              \n",
       "27169                                             \n",
       "10530                                             \n",
       "11100  accacio de vasconcellos camargo professor  \n",
       "3636                                              "
      ]
     },
     "execution_count": 39,
     "metadata": {},
     "output_type": "execute_result"
    }
   ],
   "source": [
    "df_nome_escola_nao_bate = df[~df['nome_escola_bate']].copy()\n",
    "df_nome_escola_nao_bate[['nome_escola_x', 'nome_escola_y']].sample(10)"
   ]
  },
  {
   "cell_type": "code",
   "execution_count": 40,
   "id": "e32b9cf4",
   "metadata": {},
   "outputs": [
    {
     "data": {
      "text/plain": [
       "escola_y_vazia\n",
       "True     0.955535\n",
       "False    0.044465\n",
       "Name: proportion, dtype: float64"
      ]
     },
     "execution_count": 40,
     "metadata": {},
     "output_type": "execute_result"
    }
   ],
   "source": [
    "df_nome_escola_nao_bate['escola_y_vazia'] = df_nome_escola_nao_bate['nome_escola_y']==''\n",
    "df_nome_escola_nao_bate['escola_y_vazia'].value_counts(normalize=True)"
   ]
  },
  {
   "cell_type": "code",
   "execution_count": 41,
   "id": "336b85e3",
   "metadata": {},
   "outputs": [
    {
     "data": {
      "text/html": [
       "<div>\n",
       "<style scoped>\n",
       "    .dataframe tbody tr th:only-of-type {\n",
       "        vertical-align: middle;\n",
       "    }\n",
       "\n",
       "    .dataframe tbody tr th {\n",
       "        vertical-align: top;\n",
       "    }\n",
       "\n",
       "    .dataframe thead th {\n",
       "        text-align: right;\n",
       "    }\n",
       "</style>\n",
       "<table border=\"1\" class=\"dataframe\">\n",
       "  <thead>\n",
       "    <tr style=\"text-align: right;\">\n",
       "      <th></th>\n",
       "      <th>nome_escola_x</th>\n",
       "      <th>nome_escola_y</th>\n",
       "    </tr>\n",
       "  </thead>\n",
       "  <tbody>\n",
       "    <tr>\n",
       "      <th>554</th>\n",
       "      <td>ruth sa profa</td>\n",
       "      <td>ruth sa professora</td>\n",
       "    </tr>\n",
       "    <tr>\n",
       "      <th>43890</th>\n",
       "      <td>recanto dos passaros</td>\n",
       "      <td>professor norival vieira da silva</td>\n",
       "    </tr>\n",
       "    <tr>\n",
       "      <th>6445</th>\n",
       "      <td>jardim santa clara</td>\n",
       "      <td>benito juarez de souza</td>\n",
       "    </tr>\n",
       "    <tr>\n",
       "      <th>1953</th>\n",
       "      <td>octavio de almeida bueno prof</td>\n",
       "      <td>octavio de almeida bueno professor</td>\n",
       "    </tr>\n",
       "    <tr>\n",
       "      <th>156</th>\n",
       "      <td>maria angelica baillot profa</td>\n",
       "      <td>maria angelica baillot professora</td>\n",
       "    </tr>\n",
       "    <tr>\n",
       "      <th>17684</th>\n",
       "      <td>aldeia pyhau</td>\n",
       "      <td>aldeia karugwa</td>\n",
       "    </tr>\n",
       "    <tr>\n",
       "      <th>938</th>\n",
       "      <td>benedito dutra teixeira prof</td>\n",
       "      <td>benedito dutra teixeira professor</td>\n",
       "    </tr>\n",
       "    <tr>\n",
       "      <th>5508</th>\n",
       "      <td>jose aparecido castelucci prof</td>\n",
       "      <td>jose aparecido castelucci professor</td>\n",
       "    </tr>\n",
       "    <tr>\n",
       "      <th>18284</th>\n",
       "      <td>vila santa luzia</td>\n",
       "      <td>alice maria da silva ferreira</td>\n",
       "    </tr>\n",
       "    <tr>\n",
       "      <th>290</th>\n",
       "      <td>paulo araujo novaes dr</td>\n",
       "      <td>paulo araujo novaes doutor</td>\n",
       "    </tr>\n",
       "    <tr>\n",
       "      <th>5678</th>\n",
       "      <td>pedro augusto rangel filho prof</td>\n",
       "      <td>pedro augusto rangel filho professor</td>\n",
       "    </tr>\n",
       "    <tr>\n",
       "      <th>2698</th>\n",
       "      <td>presciliano pinto de oliveira dr</td>\n",
       "      <td>presciliano pinto de oliveira doutor</td>\n",
       "    </tr>\n",
       "    <tr>\n",
       "      <th>5257</th>\n",
       "      <td>antonio furlan junior dr</td>\n",
       "      <td>antonio furlan junior doutor</td>\n",
       "    </tr>\n",
       "    <tr>\n",
       "      <th>3002</th>\n",
       "      <td>olivia bianco profa</td>\n",
       "      <td>olivia bianco professora</td>\n",
       "    </tr>\n",
       "    <tr>\n",
       "      <th>2897</th>\n",
       "      <td>carlos sampaio filho dr</td>\n",
       "      <td>carlos sampaio filho doutor</td>\n",
       "    </tr>\n",
       "    <tr>\n",
       "      <th>3348</th>\n",
       "      <td>jardim orestes lopes de camargo</td>\n",
       "      <td>professora sueli terezinha danhone</td>\n",
       "    </tr>\n",
       "    <tr>\n",
       "      <th>3645</th>\n",
       "      <td>attilio tognato</td>\n",
       "      <td>atillio tognato</td>\n",
       "    </tr>\n",
       "    <tr>\n",
       "      <th>23541</th>\n",
       "      <td>jardim imperial</td>\n",
       "      <td>julio cesar florido rafaeli professor</td>\n",
       "    </tr>\n",
       "    <tr>\n",
       "      <th>6019</th>\n",
       "      <td>aldeia pyhau</td>\n",
       "      <td>aldeia karugwa</td>\n",
       "    </tr>\n",
       "    <tr>\n",
       "      <th>44111</th>\n",
       "      <td>bairro santo antonio</td>\n",
       "      <td>ee prof? wilsa aparecida gomes vasconcellos</td>\n",
       "    </tr>\n",
       "  </tbody>\n",
       "</table>\n",
       "</div>"
      ],
      "text/plain": [
       "                          nome_escola_x  \\\n",
       "554                       ruth sa profa   \n",
       "43890              recanto dos passaros   \n",
       "6445                 jardim santa clara   \n",
       "1953      octavio de almeida bueno prof   \n",
       "156        maria angelica baillot profa   \n",
       "17684                      aldeia pyhau   \n",
       "938        benedito dutra teixeira prof   \n",
       "5508     jose aparecido castelucci prof   \n",
       "18284                  vila santa luzia   \n",
       "290              paulo araujo novaes dr   \n",
       "5678    pedro augusto rangel filho prof   \n",
       "2698   presciliano pinto de oliveira dr   \n",
       "5257           antonio furlan junior dr   \n",
       "3002                olivia bianco profa   \n",
       "2897            carlos sampaio filho dr   \n",
       "3348    jardim orestes lopes de camargo   \n",
       "3645                    attilio tognato   \n",
       "23541                   jardim imperial   \n",
       "6019                       aldeia pyhau   \n",
       "44111              bairro santo antonio   \n",
       "\n",
       "                                     nome_escola_y  \n",
       "554                             ruth sa professora  \n",
       "43890            professor norival vieira da silva  \n",
       "6445                        benito juarez de souza  \n",
       "1953            octavio de almeida bueno professor  \n",
       "156              maria angelica baillot professora  \n",
       "17684                               aldeia karugwa  \n",
       "938              benedito dutra teixeira professor  \n",
       "5508           jose aparecido castelucci professor  \n",
       "18284                alice maria da silva ferreira  \n",
       "290                     paulo araujo novaes doutor  \n",
       "5678          pedro augusto rangel filho professor  \n",
       "2698          presciliano pinto de oliveira doutor  \n",
       "5257                  antonio furlan junior doutor  \n",
       "3002                      olivia bianco professora  \n",
       "2897                   carlos sampaio filho doutor  \n",
       "3348            professora sueli terezinha danhone  \n",
       "3645                               atillio tognato  \n",
       "23541        julio cesar florido rafaeli professor  \n",
       "6019                                aldeia karugwa  \n",
       "44111  ee prof? wilsa aparecida gomes vasconcellos  "
      ]
     },
     "execution_count": 41,
     "metadata": {},
     "output_type": "execute_result"
    }
   ],
   "source": [
    "df_nome_escola_nao_bate[df_nome_escola_nao_bate['escola_y_vazia']==False][['nome_escola_x', 'nome_escola_y']].sample(20)"
   ]
  },
  {
   "cell_type": "markdown",
   "id": "9ddb0246",
   "metadata": {},
   "source": [
    "#### Conclusão:\n",
    "\n",
    "Há algumas diferenças nos nomes das escolas que não são motivadas apenas pelo nome estar vazio na base do PEI. Como se pode ver pela amostra acima, isso ocorre por pequenas diferenças na grafia (p. ex., \"Professora Fulana\" e \"Prof. Fulana\") ou então provavelmente por que a escola mudou de nome ao longo do tempo. Note-se no entanto que é pouco mais de 1% dos casos de não-match. "
   ]
  },
  {
   "cell_type": "code",
   "execution_count": 42,
   "id": "1722c419",
   "metadata": {},
   "outputs": [
    {
     "data": {
      "text/plain": [
       "np.False_"
      ]
     },
     "execution_count": 42,
     "metadata": {},
     "output_type": "execute_result"
    }
   ],
   "source": [
    "#vamos novamente manter os dados do censo escolar que sao mais completos\n",
    "\n",
    "df.drop(columns=['nome_escola_bate', 'nome_escola_y'], inplace=True)\n",
    "df.rename(columns={'nome_escola_x': 'nome_escola'}, inplace=True)\n",
    "df['nome_escola'].isnull().any()"
   ]
  },
  {
   "cell_type": "code",
   "execution_count": 43,
   "id": "7c8bbfcb",
   "metadata": {},
   "outputs": [
    {
     "data": {
      "text/plain": [
       "Index(['ano_censo', 'sigla_uf', 'nome_municipio', 'codigo_municipio',\n",
       "       'codigo_escola', 'nome_escola', 'qtd_turmas_ed_basica',\n",
       "       'qtd_matr_ed_basica', 'qtd_matr_ed_basica_nao_declarada',\n",
       "       'qtd_matr_ed_basica_branca', 'qtd_matr_ed_basica_preta',\n",
       "       'qtd_matr_ed_basica_parda', 'qtd_matr_ed_basica_amarela',\n",
       "       'qtd_matr_ed_basica_indigena', 'qtd_matriculas_infantil_integral',\n",
       "       'qtd_matriculas_infantil_creche_integral',\n",
       "       'qtd_matriculas_infantil_pre_escolar_integral',\n",
       "       'qtd_matriculas_fundamental_integral',\n",
       "       'qtd_matriculas_fundamental_anos_iniciais_integral',\n",
       "       'qtd_matriculas_fundamental_anos_finais_integral',\n",
       "       'qtd_matriculas_medio_integral', 'nome_dre', 'coordenadas', 'id_escola',\n",
       "       'id_escola_treated', 'is_PEI', '_merge'],\n",
       "      dtype='object')"
      ]
     },
     "execution_count": 43,
     "metadata": {},
     "output_type": "execute_result"
    }
   ],
   "source": [
    "df.columns"
   ]
  },
  {
   "cell_type": "code",
   "execution_count": 44,
   "id": "22575f7b",
   "metadata": {},
   "outputs": [],
   "source": [
    "df.drop(['id_escola', 'id_escola_treated', 'nome_dre'], axis=1, inplace=True)"
   ]
  },
  {
   "cell_type": "code",
   "execution_count": 45,
   "id": "f0d5e4bb",
   "metadata": {},
   "outputs": [
    {
     "name": "stdout",
     "output_type": "stream",
     "text": [
      "Data saved to data/dados_merged.csv\n"
     ]
    }
   ],
   "source": [
    "save_csv(df, 'dados_merged.csv')"
   ]
  }
 ],
 "metadata": {
  "kernelspec": {
   "display_name": "venv",
   "language": "python",
   "name": "python3"
  },
  "language_info": {
   "codemirror_mode": {
    "name": "ipython",
    "version": 3
   },
   "file_extension": ".py",
   "mimetype": "text/x-python",
   "name": "python",
   "nbconvert_exporter": "python",
   "pygments_lexer": "ipython3",
   "version": "3.12.3"
  }
 },
 "nbformat": 4,
 "nbformat_minor": 5
}
