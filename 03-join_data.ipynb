{
 "cells": [
  {
   "cell_type": "markdown",
   "id": "182aa50b",
   "metadata": {},
   "source": [
    "## Join data\n",
    "\n",
    "Esse notebook faz o join entre os dados do portal da transparência do Estado, que identificam as escolas participantes do PEI - Programa de Ensino Integral - e os microdados do censo escolar."
   ]
  },
  {
   "cell_type": "code",
   "execution_count": 1,
   "id": "4c8d631b",
   "metadata": {},
   "outputs": [],
   "source": [
    "import pandas as pd\n",
    "\n",
    "from utils.load_csv import load_csv\n",
    "from utils.save_csv import save_csv"
   ]
  },
  {
   "cell_type": "code",
   "execution_count": 2,
   "id": "c33b2cf5",
   "metadata": {},
   "outputs": [],
   "source": [
    "df_pei = load_csv('pei_escolas_original.csv')\n",
    "df_censo = load_csv('microdados_censo_limpo.csv')"
   ]
  },
  {
   "cell_type": "code",
   "execution_count": 3,
   "id": "f4b9e064",
   "metadata": {},
   "outputs": [
    {
     "data": {
      "text/plain": [
       "Index(['Escola', 'Diretoria de Ensino', 'Município', 'Coordenadas',\n",
       "       'ID Escola'],\n",
       "      dtype='object')"
      ]
     },
     "execution_count": 3,
     "metadata": {},
     "output_type": "execute_result"
    }
   ],
   "source": [
    "df_pei.columns"
   ]
  },
  {
   "cell_type": "code",
   "execution_count": 4,
   "id": "c88a7c33",
   "metadata": {},
   "outputs": [
    {
     "data": {
      "text/html": [
       "<div>\n",
       "<style scoped>\n",
       "    .dataframe tbody tr th:only-of-type {\n",
       "        vertical-align: middle;\n",
       "    }\n",
       "\n",
       "    .dataframe tbody tr th {\n",
       "        vertical-align: top;\n",
       "    }\n",
       "\n",
       "    .dataframe thead th {\n",
       "        text-align: right;\n",
       "    }\n",
       "</style>\n",
       "<table border=\"1\" class=\"dataframe\">\n",
       "  <thead>\n",
       "    <tr style=\"text-align: right;\">\n",
       "      <th></th>\n",
       "      <th>Escola</th>\n",
       "      <th>Diretoria de Ensino</th>\n",
       "      <th>Município</th>\n",
       "      <th>Coordenadas</th>\n",
       "      <th>ID Escola</th>\n",
       "    </tr>\n",
       "  </thead>\n",
       "  <tbody>\n",
       "    <tr>\n",
       "      <th>0</th>\n",
       "      <td>bairro da bocaina</td>\n",
       "      <td>guaratingueta</td>\n",
       "      <td>cunha</td>\n",
       "      <td>['-23.0361', '-44.9253']</td>\n",
       "      <td>926085</td>\n",
       "    </tr>\n",
       "    <tr>\n",
       "      <th>1</th>\n",
       "      <td>aldeia karugwa</td>\n",
       "      <td>itarare</td>\n",
       "      <td>barao de antonina</td>\n",
       "      <td>['-23.6028', '-49.5874']</td>\n",
       "      <td>268574</td>\n",
       "    </tr>\n",
       "    <tr>\n",
       "      <th>2</th>\n",
       "      <td>india maria rosa</td>\n",
       "      <td>penapolis</td>\n",
       "      <td>brauna</td>\n",
       "      <td>['-21.5656', '-50.3173']</td>\n",
       "      <td>395365</td>\n",
       "    </tr>\n",
       "    <tr>\n",
       "      <th>3</th>\n",
       "      <td>joao alfredo da silva</td>\n",
       "      <td>presidente prudente</td>\n",
       "      <td>presidente prudente</td>\n",
       "      <td>['-21.9093', '-51.3003']</td>\n",
       "      <td>31756</td>\n",
       "    </tr>\n",
       "    <tr>\n",
       "      <th>4</th>\n",
       "      <td>bairro pe da serra</td>\n",
       "      <td>miracatu</td>\n",
       "      <td>iguape</td>\n",
       "      <td>['-24.3801', '-47.5179']</td>\n",
       "      <td>918052</td>\n",
       "    </tr>\n",
       "  </tbody>\n",
       "</table>\n",
       "</div>"
      ],
      "text/plain": [
       "                  Escola  Diretoria de Ensino            Município  \\\n",
       "0      bairro da bocaina        guaratingueta                cunha   \n",
       "1         aldeia karugwa              itarare    barao de antonina   \n",
       "2       india maria rosa            penapolis               brauna   \n",
       "3  joao alfredo da silva  presidente prudente  presidente prudente   \n",
       "4     bairro pe da serra             miracatu               iguape   \n",
       "\n",
       "                Coordenadas  ID Escola  \n",
       "0  ['-23.0361', '-44.9253']     926085  \n",
       "1  ['-23.6028', '-49.5874']     268574  \n",
       "2  ['-21.5656', '-50.3173']     395365  \n",
       "3  ['-21.9093', '-51.3003']      31756  \n",
       "4  ['-24.3801', '-47.5179']     918052  "
      ]
     },
     "execution_count": 4,
     "metadata": {},
     "output_type": "execute_result"
    }
   ],
   "source": [
    "df_pei.head()"
   ]
  },
  {
   "cell_type": "code",
   "execution_count": 5,
   "id": "af1da246",
   "metadata": {},
   "outputs": [],
   "source": [
    "mapper_pei = {\n",
    "    'Escola': 'nome_escola',\n",
    "    'Diretoria de Ensino': 'nome_dre',\n",
    "    'Município': 'nome_municipio',\n",
    "    'Coordenadas': 'coordenadas',\n",
    "    'ID Escola': 'id_escola'\n",
    "}\n",
    "\n",
    "df_pei = df_pei.rename(columns=mapper_pei)"
   ]
  },
  {
   "cell_type": "code",
   "execution_count": 6,
   "id": "aa6634d7",
   "metadata": {},
   "outputs": [
    {
     "data": {
      "text/html": [
       "<div>\n",
       "<style scoped>\n",
       "    .dataframe tbody tr th:only-of-type {\n",
       "        vertical-align: middle;\n",
       "    }\n",
       "\n",
       "    .dataframe tbody tr th {\n",
       "        vertical-align: top;\n",
       "    }\n",
       "\n",
       "    .dataframe thead th {\n",
       "        text-align: right;\n",
       "    }\n",
       "</style>\n",
       "<table border=\"1\" class=\"dataframe\">\n",
       "  <thead>\n",
       "    <tr style=\"text-align: right;\">\n",
       "      <th></th>\n",
       "      <th>nome_escola</th>\n",
       "      <th>nome_dre</th>\n",
       "      <th>nome_municipio</th>\n",
       "      <th>coordenadas</th>\n",
       "      <th>id_escola</th>\n",
       "    </tr>\n",
       "  </thead>\n",
       "  <tbody>\n",
       "    <tr>\n",
       "      <th>0</th>\n",
       "      <td>bairro da bocaina</td>\n",
       "      <td>guaratingueta</td>\n",
       "      <td>cunha</td>\n",
       "      <td>['-23.0361', '-44.9253']</td>\n",
       "      <td>926085</td>\n",
       "    </tr>\n",
       "    <tr>\n",
       "      <th>1</th>\n",
       "      <td>aldeia karugwa</td>\n",
       "      <td>itarare</td>\n",
       "      <td>barao de antonina</td>\n",
       "      <td>['-23.6028', '-49.5874']</td>\n",
       "      <td>268574</td>\n",
       "    </tr>\n",
       "    <tr>\n",
       "      <th>2</th>\n",
       "      <td>india maria rosa</td>\n",
       "      <td>penapolis</td>\n",
       "      <td>brauna</td>\n",
       "      <td>['-21.5656', '-50.3173']</td>\n",
       "      <td>395365</td>\n",
       "    </tr>\n",
       "    <tr>\n",
       "      <th>3</th>\n",
       "      <td>joao alfredo da silva</td>\n",
       "      <td>presidente prudente</td>\n",
       "      <td>presidente prudente</td>\n",
       "      <td>['-21.9093', '-51.3003']</td>\n",
       "      <td>31756</td>\n",
       "    </tr>\n",
       "    <tr>\n",
       "      <th>4</th>\n",
       "      <td>bairro pe da serra</td>\n",
       "      <td>miracatu</td>\n",
       "      <td>iguape</td>\n",
       "      <td>['-24.3801', '-47.5179']</td>\n",
       "      <td>918052</td>\n",
       "    </tr>\n",
       "  </tbody>\n",
       "</table>\n",
       "</div>"
      ],
      "text/plain": [
       "             nome_escola             nome_dre       nome_municipio  \\\n",
       "0      bairro da bocaina        guaratingueta                cunha   \n",
       "1         aldeia karugwa              itarare    barao de antonina   \n",
       "2       india maria rosa            penapolis               brauna   \n",
       "3  joao alfredo da silva  presidente prudente  presidente prudente   \n",
       "4     bairro pe da serra             miracatu               iguape   \n",
       "\n",
       "                coordenadas  id_escola  \n",
       "0  ['-23.0361', '-44.9253']     926085  \n",
       "1  ['-23.6028', '-49.5874']     268574  \n",
       "2  ['-21.5656', '-50.3173']     395365  \n",
       "3  ['-21.9093', '-51.3003']      31756  \n",
       "4  ['-24.3801', '-47.5179']     918052  "
      ]
     },
     "execution_count": 6,
     "metadata": {},
     "output_type": "execute_result"
    }
   ],
   "source": [
    "df_pei.head()"
   ]
  },
  {
   "cell_type": "code",
   "execution_count": 7,
   "id": "47e91ff7",
   "metadata": {},
   "outputs": [
    {
     "data": {
      "text/plain": [
       "Index(['ano_censo', 'sigla_uf', 'nome_municipio', 'codigo_municipio',\n",
       "       'codigo_escola', 'nome_escola', 'qtd_turmas_ed_basica',\n",
       "       'qtd_matr_ed_basica', 'qtd_matr_ed_basica_nao_declarada',\n",
       "       'qtd_matr_ed_basica_branca', 'qtd_matr_ed_basica_preta',\n",
       "       'qtd_matr_ed_basica_parda', 'qtd_matr_ed_basica_amarela',\n",
       "       'qtd_matr_ed_basica_indigena', 'qtd_matriculas_infantil_integral',\n",
       "       'qtd_matriculas_infantil_creche_integral',\n",
       "       'qtd_matriculas_infantil_pre_escolar_integral',\n",
       "       'qtd_matriculas_fundamental_integral',\n",
       "       'qtd_matriculas_fundamental_anos_iniciais_integral',\n",
       "       'qtd_matriculas_fundamental_anos_finais_integral',\n",
       "       'qtd_matriculas_medio_integral'],\n",
       "      dtype='object')"
      ]
     },
     "execution_count": 7,
     "metadata": {},
     "output_type": "execute_result"
    }
   ],
   "source": [
    "df_censo.columns"
   ]
  },
  {
   "cell_type": "code",
   "execution_count": 8,
   "id": "b0b9a07e",
   "metadata": {},
   "outputs": [
    {
     "data": {
      "text/html": [
       "<div>\n",
       "<style scoped>\n",
       "    .dataframe tbody tr th:only-of-type {\n",
       "        vertical-align: middle;\n",
       "    }\n",
       "\n",
       "    .dataframe tbody tr th {\n",
       "        vertical-align: top;\n",
       "    }\n",
       "\n",
       "    .dataframe thead th {\n",
       "        text-align: right;\n",
       "    }\n",
       "</style>\n",
       "<table border=\"1\" class=\"dataframe\">\n",
       "  <thead>\n",
       "    <tr style=\"text-align: right;\">\n",
       "      <th></th>\n",
       "      <th>ano_censo</th>\n",
       "      <th>sigla_uf</th>\n",
       "      <th>nome_municipio</th>\n",
       "      <th>codigo_municipio</th>\n",
       "      <th>codigo_escola</th>\n",
       "      <th>nome_escola</th>\n",
       "      <th>qtd_turmas_ed_basica</th>\n",
       "      <th>qtd_matr_ed_basica</th>\n",
       "      <th>qtd_matr_ed_basica_nao_declarada</th>\n",
       "      <th>qtd_matr_ed_basica_branca</th>\n",
       "      <th>...</th>\n",
       "      <th>qtd_matr_ed_basica_parda</th>\n",
       "      <th>qtd_matr_ed_basica_amarela</th>\n",
       "      <th>qtd_matr_ed_basica_indigena</th>\n",
       "      <th>qtd_matriculas_infantil_integral</th>\n",
       "      <th>qtd_matriculas_infantil_creche_integral</th>\n",
       "      <th>qtd_matriculas_infantil_pre_escolar_integral</th>\n",
       "      <th>qtd_matriculas_fundamental_integral</th>\n",
       "      <th>qtd_matriculas_fundamental_anos_iniciais_integral</th>\n",
       "      <th>qtd_matriculas_fundamental_anos_finais_integral</th>\n",
       "      <th>qtd_matriculas_medio_integral</th>\n",
       "    </tr>\n",
       "  </thead>\n",
       "  <tbody>\n",
       "    <tr>\n",
       "      <th>0</th>\n",
       "      <td>2011</td>\n",
       "      <td>SP</td>\n",
       "      <td>Adamantina</td>\n",
       "      <td>3500105</td>\n",
       "      <td>35030806</td>\n",
       "      <td>HELEN KELLER</td>\n",
       "      <td>25</td>\n",
       "      <td>830</td>\n",
       "      <td>133</td>\n",
       "      <td>455</td>\n",
       "      <td>...</td>\n",
       "      <td>225</td>\n",
       "      <td>2</td>\n",
       "      <td>2</td>\n",
       "      <td>0</td>\n",
       "      <td>0</td>\n",
       "      <td>0</td>\n",
       "      <td>303</td>\n",
       "      <td>0</td>\n",
       "      <td>303</td>\n",
       "      <td>0</td>\n",
       "    </tr>\n",
       "    <tr>\n",
       "      <th>1</th>\n",
       "      <td>2011</td>\n",
       "      <td>SP</td>\n",
       "      <td>Adamantina</td>\n",
       "      <td>3500105</td>\n",
       "      <td>35031045</td>\n",
       "      <td>DURVALINO GRION PROF</td>\n",
       "      <td>22</td>\n",
       "      <td>771</td>\n",
       "      <td>94</td>\n",
       "      <td>446</td>\n",
       "      <td>...</td>\n",
       "      <td>210</td>\n",
       "      <td>6</td>\n",
       "      <td>2</td>\n",
       "      <td>0</td>\n",
       "      <td>0</td>\n",
       "      <td>0</td>\n",
       "      <td>0</td>\n",
       "      <td>0</td>\n",
       "      <td>0</td>\n",
       "      <td>0</td>\n",
       "    </tr>\n",
       "    <tr>\n",
       "      <th>2</th>\n",
       "      <td>2011</td>\n",
       "      <td>SP</td>\n",
       "      <td>Adamantina</td>\n",
       "      <td>3500105</td>\n",
       "      <td>35031082</td>\n",
       "      <td>EUDECIO LUIZ VICENTE PROF ETE</td>\n",
       "      <td>22</td>\n",
       "      <td>762</td>\n",
       "      <td>111</td>\n",
       "      <td>498</td>\n",
       "      <td>...</td>\n",
       "      <td>133</td>\n",
       "      <td>18</td>\n",
       "      <td>1</td>\n",
       "      <td>0</td>\n",
       "      <td>0</td>\n",
       "      <td>0</td>\n",
       "      <td>0</td>\n",
       "      <td>0</td>\n",
       "      <td>0</td>\n",
       "      <td>0</td>\n",
       "    </tr>\n",
       "    <tr>\n",
       "      <th>3</th>\n",
       "      <td>2011</td>\n",
       "      <td>SP</td>\n",
       "      <td>Adamantina</td>\n",
       "      <td>3500105</td>\n",
       "      <td>35031100</td>\n",
       "      <td>HERVAL BELLUSCI ENGENHEIRO ETE</td>\n",
       "      <td>10</td>\n",
       "      <td>267</td>\n",
       "      <td>73</td>\n",
       "      <td>135</td>\n",
       "      <td>...</td>\n",
       "      <td>54</td>\n",
       "      <td>1</td>\n",
       "      <td>0</td>\n",
       "      <td>0</td>\n",
       "      <td>0</td>\n",
       "      <td>0</td>\n",
       "      <td>0</td>\n",
       "      <td>0</td>\n",
       "      <td>0</td>\n",
       "      <td>78</td>\n",
       "    </tr>\n",
       "    <tr>\n",
       "      <th>4</th>\n",
       "      <td>2011</td>\n",
       "      <td>SP</td>\n",
       "      <td>Adamantina</td>\n",
       "      <td>3500105</td>\n",
       "      <td>35031112</td>\n",
       "      <td>FLEURIDES CAVALLINI MENECHINO PROFA</td>\n",
       "      <td>32</td>\n",
       "      <td>1102</td>\n",
       "      <td>61</td>\n",
       "      <td>829</td>\n",
       "      <td>...</td>\n",
       "      <td>193</td>\n",
       "      <td>11</td>\n",
       "      <td>3</td>\n",
       "      <td>0</td>\n",
       "      <td>0</td>\n",
       "      <td>0</td>\n",
       "      <td>0</td>\n",
       "      <td>0</td>\n",
       "      <td>0</td>\n",
       "      <td>1</td>\n",
       "    </tr>\n",
       "  </tbody>\n",
       "</table>\n",
       "<p>5 rows × 21 columns</p>\n",
       "</div>"
      ],
      "text/plain": [
       "   ano_censo sigla_uf nome_municipio  codigo_municipio  codigo_escola  \\\n",
       "0       2011       SP     Adamantina           3500105       35030806   \n",
       "1       2011       SP     Adamantina           3500105       35031045   \n",
       "2       2011       SP     Adamantina           3500105       35031082   \n",
       "3       2011       SP     Adamantina           3500105       35031100   \n",
       "4       2011       SP     Adamantina           3500105       35031112   \n",
       "\n",
       "                           nome_escola  qtd_turmas_ed_basica  \\\n",
       "0                         HELEN KELLER                    25   \n",
       "1                 DURVALINO GRION PROF                    22   \n",
       "2        EUDECIO LUIZ VICENTE PROF ETE                    22   \n",
       "3       HERVAL BELLUSCI ENGENHEIRO ETE                    10   \n",
       "4  FLEURIDES CAVALLINI MENECHINO PROFA                    32   \n",
       "\n",
       "   qtd_matr_ed_basica  qtd_matr_ed_basica_nao_declarada  \\\n",
       "0                 830                               133   \n",
       "1                 771                                94   \n",
       "2                 762                               111   \n",
       "3                 267                                73   \n",
       "4                1102                                61   \n",
       "\n",
       "   qtd_matr_ed_basica_branca  ...  qtd_matr_ed_basica_parda  \\\n",
       "0                        455  ...                       225   \n",
       "1                        446  ...                       210   \n",
       "2                        498  ...                       133   \n",
       "3                        135  ...                        54   \n",
       "4                        829  ...                       193   \n",
       "\n",
       "   qtd_matr_ed_basica_amarela  qtd_matr_ed_basica_indigena  \\\n",
       "0                           2                            2   \n",
       "1                           6                            2   \n",
       "2                          18                            1   \n",
       "3                           1                            0   \n",
       "4                          11                            3   \n",
       "\n",
       "   qtd_matriculas_infantil_integral  qtd_matriculas_infantil_creche_integral  \\\n",
       "0                                 0                                        0   \n",
       "1                                 0                                        0   \n",
       "2                                 0                                        0   \n",
       "3                                 0                                        0   \n",
       "4                                 0                                        0   \n",
       "\n",
       "   qtd_matriculas_infantil_pre_escolar_integral  \\\n",
       "0                                             0   \n",
       "1                                             0   \n",
       "2                                             0   \n",
       "3                                             0   \n",
       "4                                             0   \n",
       "\n",
       "   qtd_matriculas_fundamental_integral  \\\n",
       "0                                  303   \n",
       "1                                    0   \n",
       "2                                    0   \n",
       "3                                    0   \n",
       "4                                    0   \n",
       "\n",
       "   qtd_matriculas_fundamental_anos_iniciais_integral  \\\n",
       "0                                                  0   \n",
       "1                                                  0   \n",
       "2                                                  0   \n",
       "3                                                  0   \n",
       "4                                                  0   \n",
       "\n",
       "   qtd_matriculas_fundamental_anos_finais_integral  \\\n",
       "0                                              303   \n",
       "1                                                0   \n",
       "2                                                0   \n",
       "3                                                0   \n",
       "4                                                0   \n",
       "\n",
       "   qtd_matriculas_medio_integral  \n",
       "0                              0  \n",
       "1                              0  \n",
       "2                              0  \n",
       "3                             78  \n",
       "4                              1  \n",
       "\n",
       "[5 rows x 21 columns]"
      ]
     },
     "execution_count": 8,
     "metadata": {},
     "output_type": "execute_result"
    }
   ],
   "source": [
    "df_censo.head()"
   ]
  },
  {
   "cell_type": "markdown",
   "id": "765bd4a1",
   "metadata": {},
   "source": [
    "#### Checando se os IDs das escolas da base do PEI batem com a base do Censo"
   ]
  },
  {
   "cell_type": "code",
   "execution_count": 9,
   "id": "ce9b0d95",
   "metadata": {},
   "outputs": [
    {
     "data": {
      "text/plain": [
       "853      22627\n",
       "2064     37977\n",
       "204     904211\n",
       "Name: id_escola, dtype: int64"
      ]
     },
     "execution_count": 9,
     "metadata": {},
     "output_type": "execute_result"
    }
   ],
   "source": [
    "df_pei['id_escola'].sample(3)"
   ]
  },
  {
   "cell_type": "code",
   "execution_count": 10,
   "id": "2fe01e9b",
   "metadata": {},
   "outputs": [
    {
     "data": {
      "text/plain": [
       "29674    35024843\n",
       "37636    35007729\n",
       "43554    35923746\n",
       "Name: codigo_escola, dtype: int64"
      ]
     },
     "execution_count": 10,
     "metadata": {},
     "output_type": "execute_result"
    }
   ],
   "source": [
    "df_censo['codigo_escola'].sample(3)"
   ]
  },
  {
   "cell_type": "code",
   "execution_count": 11,
   "id": "f470d051",
   "metadata": {},
   "outputs": [
    {
     "data": {
      "text/plain": [
       "array([8])"
      ]
     },
     "execution_count": 11,
     "metadata": {},
     "output_type": "execute_result"
    }
   ],
   "source": [
    "df_censo['codigo_escola'].astype(str).str.len().unique()"
   ]
  },
  {
   "cell_type": "code",
   "execution_count": 12,
   "id": "253bf8fa",
   "metadata": {},
   "outputs": [],
   "source": [
    "df_censo['codigo_escola'] = df_censo['codigo_escola'].astype(str)"
   ]
  },
  {
   "cell_type": "code",
   "execution_count": 13,
   "id": "c470da38",
   "metadata": {},
   "outputs": [
    {
     "data": {
      "text/plain": [
       "dtype('int64')"
      ]
     },
     "execution_count": 13,
     "metadata": {},
     "output_type": "execute_result"
    }
   ],
   "source": [
    "df_pei['id_escola'].dtype"
   ]
  },
  {
   "cell_type": "code",
   "execution_count": 14,
   "id": "88e002fa",
   "metadata": {},
   "outputs": [
    {
     "data": {
      "text/plain": [
       "array([6, 5, 4, 3, 2])"
      ]
     },
     "execution_count": 14,
     "metadata": {},
     "output_type": "execute_result"
    }
   ],
   "source": [
    "#note que se somar os dois caracteres do estado, o id no final fica no tamanho de 8 caracteres do codigo do censo\n",
    "#vou tentar fazer isso para ver se da match\n",
    "df_pei['id_escola'].astype(str).str.len().unique()"
   ]
  },
  {
   "cell_type": "code",
   "execution_count": 15,
   "id": "567167e5",
   "metadata": {},
   "outputs": [
    {
     "data": {
      "text/plain": [
       "<bound method Series.unique of 0       6\n",
       "1       6\n",
       "2       6\n",
       "3       6\n",
       "4       6\n",
       "       ..\n",
       "2326    6\n",
       "2327    6\n",
       "2328    6\n",
       "2329    6\n",
       "2330    6\n",
       "Name: id_escola_treated, Length: 2331, dtype: int64>"
      ]
     },
     "execution_count": 15,
     "metadata": {},
     "output_type": "execute_result"
    }
   ],
   "source": [
    "#primeiro vamos dar um zfill para todos ficarem com 6 caracteres. Depois adicionamos o 35 do estado de SP\n",
    "df_pei['id_escola_treated'] = df_pei['id_escola'].astype(str).str.zfill(6)\n",
    "df_pei['id_escola_treated'].str.len().unique"
   ]
  },
  {
   "cell_type": "code",
   "execution_count": 16,
   "id": "540ad5a8",
   "metadata": {},
   "outputs": [
    {
     "data": {
      "text/plain": [
       "array([8])"
      ]
     },
     "execution_count": 16,
     "metadata": {},
     "output_type": "execute_result"
    }
   ],
   "source": [
    "df_pei['id_escola_treated'] = '35'  + df_pei['id_escola_treated']\n",
    "df_pei['id_escola_treated'].str.len().unique()"
   ]
  },
  {
   "cell_type": "code",
   "execution_count": 17,
   "id": "bfda4726",
   "metadata": {},
   "outputs": [
    {
     "data": {
      "text/plain": [
       "{'35004633', '35005898', '35005929', '35006792', '35006867', '35006900'}"
      ]
     },
     "execution_count": 17,
     "metadata": {},
     "output_type": "execute_result"
    }
   ],
   "source": [
    "# Uhul bateu!\n",
    "set(df_pei['id_escola_treated'].unique()) - set(df_censo['codigo_escola'].unique())"
   ]
  },
  {
   "cell_type": "markdown",
   "id": "ab0092d6",
   "metadata": {},
   "source": [
    "#### Escolas não encontradas no PEI\n",
    "\n",
    "Como agora estamos trabalhando com os dados até 2018, então existem escolas que foram abertas nesse período que estão nos dados do PEI (que são de 2025) mas não estão nos dados do Censo. Anteriormente, quando trabalhamos em outra versão com os dados do censo até 2024, todas as escolas do PEI foram encontradas."
   ]
  },
  {
   "cell_type": "code",
   "execution_count": 18,
   "id": "282d53a3",
   "metadata": {},
   "outputs": [
    {
     "data": {
      "text/plain": [
       "_merge\n",
       "left_only     28560\n",
       "both          18287\n",
       "right_only        0\n",
       "Name: count, dtype: int64"
      ]
     },
     "execution_count": 18,
     "metadata": {},
     "output_type": "execute_result"
    }
   ],
   "source": [
    "# ao fazer o left join, estamos descartando as poucas escolas que estão no PEI mas não estão no Censo -- pois elas foram criadas depois do período de estudo\n",
    "df = pd.merge(df_censo, df_pei, left_on='codigo_escola', right_on='id_escola_treated', how='left', indicator=True)\n",
    "df['_merge'].value_counts()"
   ]
  },
  {
   "cell_type": "code",
   "execution_count": 19,
   "id": "e6e942d8",
   "metadata": {},
   "outputs": [],
   "source": [
    "del df_pei\n",
    "del df_censo"
   ]
  },
  {
   "cell_type": "code",
   "execution_count": 20,
   "id": "1085af7a",
   "metadata": {},
   "outputs": [
    {
     "data": {
      "text/html": [
       "<div>\n",
       "<style scoped>\n",
       "    .dataframe tbody tr th:only-of-type {\n",
       "        vertical-align: middle;\n",
       "    }\n",
       "\n",
       "    .dataframe tbody tr th {\n",
       "        vertical-align: top;\n",
       "    }\n",
       "\n",
       "    .dataframe thead th {\n",
       "        text-align: right;\n",
       "    }\n",
       "</style>\n",
       "<table border=\"1\" class=\"dataframe\">\n",
       "  <thead>\n",
       "    <tr style=\"text-align: right;\">\n",
       "      <th></th>\n",
       "      <th>ano_censo</th>\n",
       "      <th>sigla_uf</th>\n",
       "      <th>nome_municipio_x</th>\n",
       "      <th>codigo_municipio</th>\n",
       "      <th>codigo_escola</th>\n",
       "      <th>nome_escola_x</th>\n",
       "      <th>qtd_turmas_ed_basica</th>\n",
       "      <th>qtd_matr_ed_basica</th>\n",
       "      <th>qtd_matr_ed_basica_nao_declarada</th>\n",
       "      <th>qtd_matr_ed_basica_branca</th>\n",
       "      <th>...</th>\n",
       "      <th>qtd_matriculas_fundamental_anos_iniciais_integral</th>\n",
       "      <th>qtd_matriculas_fundamental_anos_finais_integral</th>\n",
       "      <th>qtd_matriculas_medio_integral</th>\n",
       "      <th>nome_escola_y</th>\n",
       "      <th>nome_dre</th>\n",
       "      <th>nome_municipio_y</th>\n",
       "      <th>coordenadas</th>\n",
       "      <th>id_escola</th>\n",
       "      <th>id_escola_treated</th>\n",
       "      <th>_merge</th>\n",
       "    </tr>\n",
       "  </thead>\n",
       "  <tbody>\n",
       "    <tr>\n",
       "      <th>0</th>\n",
       "      <td>2011</td>\n",
       "      <td>SP</td>\n",
       "      <td>Adamantina</td>\n",
       "      <td>3500105</td>\n",
       "      <td>35030806</td>\n",
       "      <td>HELEN KELLER</td>\n",
       "      <td>25</td>\n",
       "      <td>830</td>\n",
       "      <td>133</td>\n",
       "      <td>455</td>\n",
       "      <td>...</td>\n",
       "      <td>0</td>\n",
       "      <td>303</td>\n",
       "      <td>0</td>\n",
       "      <td>helen keller</td>\n",
       "      <td>adamantina</td>\n",
       "      <td>adamantina</td>\n",
       "      <td>['-21.693', '-51.0689']</td>\n",
       "      <td>30806.0</td>\n",
       "      <td>35030806</td>\n",
       "      <td>both</td>\n",
       "    </tr>\n",
       "    <tr>\n",
       "      <th>1</th>\n",
       "      <td>2011</td>\n",
       "      <td>SP</td>\n",
       "      <td>Adamantina</td>\n",
       "      <td>3500105</td>\n",
       "      <td>35031045</td>\n",
       "      <td>DURVALINO GRION PROF</td>\n",
       "      <td>22</td>\n",
       "      <td>771</td>\n",
       "      <td>94</td>\n",
       "      <td>446</td>\n",
       "      <td>...</td>\n",
       "      <td>0</td>\n",
       "      <td>0</td>\n",
       "      <td>0</td>\n",
       "      <td>durvalino grion prof</td>\n",
       "      <td>adamantina</td>\n",
       "      <td>adamantina</td>\n",
       "      <td>['-21.6786', '-51.0769']</td>\n",
       "      <td>31045.0</td>\n",
       "      <td>35031045</td>\n",
       "      <td>both</td>\n",
       "    </tr>\n",
       "    <tr>\n",
       "      <th>2</th>\n",
       "      <td>2011</td>\n",
       "      <td>SP</td>\n",
       "      <td>Adamantina</td>\n",
       "      <td>3500105</td>\n",
       "      <td>35031082</td>\n",
       "      <td>EUDECIO LUIZ VICENTE PROF ETE</td>\n",
       "      <td>22</td>\n",
       "      <td>762</td>\n",
       "      <td>111</td>\n",
       "      <td>498</td>\n",
       "      <td>...</td>\n",
       "      <td>0</td>\n",
       "      <td>0</td>\n",
       "      <td>0</td>\n",
       "      <td>NaN</td>\n",
       "      <td>NaN</td>\n",
       "      <td>NaN</td>\n",
       "      <td>NaN</td>\n",
       "      <td>NaN</td>\n",
       "      <td>NaN</td>\n",
       "      <td>left_only</td>\n",
       "    </tr>\n",
       "    <tr>\n",
       "      <th>3</th>\n",
       "      <td>2011</td>\n",
       "      <td>SP</td>\n",
       "      <td>Adamantina</td>\n",
       "      <td>3500105</td>\n",
       "      <td>35031100</td>\n",
       "      <td>HERVAL BELLUSCI ENGENHEIRO ETE</td>\n",
       "      <td>10</td>\n",
       "      <td>267</td>\n",
       "      <td>73</td>\n",
       "      <td>135</td>\n",
       "      <td>...</td>\n",
       "      <td>0</td>\n",
       "      <td>0</td>\n",
       "      <td>78</td>\n",
       "      <td>NaN</td>\n",
       "      <td>NaN</td>\n",
       "      <td>NaN</td>\n",
       "      <td>NaN</td>\n",
       "      <td>NaN</td>\n",
       "      <td>NaN</td>\n",
       "      <td>left_only</td>\n",
       "    </tr>\n",
       "    <tr>\n",
       "      <th>4</th>\n",
       "      <td>2011</td>\n",
       "      <td>SP</td>\n",
       "      <td>Adamantina</td>\n",
       "      <td>3500105</td>\n",
       "      <td>35031112</td>\n",
       "      <td>FLEURIDES CAVALLINI MENECHINO PROFA</td>\n",
       "      <td>32</td>\n",
       "      <td>1102</td>\n",
       "      <td>61</td>\n",
       "      <td>829</td>\n",
       "      <td>...</td>\n",
       "      <td>0</td>\n",
       "      <td>0</td>\n",
       "      <td>1</td>\n",
       "      <td>fleurides cavallini menechino profa</td>\n",
       "      <td>adamantina</td>\n",
       "      <td>adamantina</td>\n",
       "      <td>['-21.6928', '-51.0703']</td>\n",
       "      <td>31112.0</td>\n",
       "      <td>35031112</td>\n",
       "      <td>both</td>\n",
       "    </tr>\n",
       "  </tbody>\n",
       "</table>\n",
       "<p>5 rows × 28 columns</p>\n",
       "</div>"
      ],
      "text/plain": [
       "   ano_censo sigla_uf nome_municipio_x  codigo_municipio codigo_escola  \\\n",
       "0       2011       SP       Adamantina           3500105      35030806   \n",
       "1       2011       SP       Adamantina           3500105      35031045   \n",
       "2       2011       SP       Adamantina           3500105      35031082   \n",
       "3       2011       SP       Adamantina           3500105      35031100   \n",
       "4       2011       SP       Adamantina           3500105      35031112   \n",
       "\n",
       "                         nome_escola_x  qtd_turmas_ed_basica  \\\n",
       "0                         HELEN KELLER                    25   \n",
       "1                 DURVALINO GRION PROF                    22   \n",
       "2        EUDECIO LUIZ VICENTE PROF ETE                    22   \n",
       "3       HERVAL BELLUSCI ENGENHEIRO ETE                    10   \n",
       "4  FLEURIDES CAVALLINI MENECHINO PROFA                    32   \n",
       "\n",
       "   qtd_matr_ed_basica  qtd_matr_ed_basica_nao_declarada  \\\n",
       "0                 830                               133   \n",
       "1                 771                                94   \n",
       "2                 762                               111   \n",
       "3                 267                                73   \n",
       "4                1102                                61   \n",
       "\n",
       "   qtd_matr_ed_basica_branca  ...  \\\n",
       "0                        455  ...   \n",
       "1                        446  ...   \n",
       "2                        498  ...   \n",
       "3                        135  ...   \n",
       "4                        829  ...   \n",
       "\n",
       "   qtd_matriculas_fundamental_anos_iniciais_integral  \\\n",
       "0                                                  0   \n",
       "1                                                  0   \n",
       "2                                                  0   \n",
       "3                                                  0   \n",
       "4                                                  0   \n",
       "\n",
       "   qtd_matriculas_fundamental_anos_finais_integral  \\\n",
       "0                                              303   \n",
       "1                                                0   \n",
       "2                                                0   \n",
       "3                                                0   \n",
       "4                                                0   \n",
       "\n",
       "   qtd_matriculas_medio_integral                        nome_escola_y  \\\n",
       "0                              0                         helen keller   \n",
       "1                              0                 durvalino grion prof   \n",
       "2                              0                                  NaN   \n",
       "3                             78                                  NaN   \n",
       "4                              1  fleurides cavallini menechino profa   \n",
       "\n",
       "     nome_dre  nome_municipio_y               coordenadas  id_escola  \\\n",
       "0  adamantina        adamantina   ['-21.693', '-51.0689']    30806.0   \n",
       "1  adamantina        adamantina  ['-21.6786', '-51.0769']    31045.0   \n",
       "2         NaN               NaN                       NaN        NaN   \n",
       "3         NaN               NaN                       NaN        NaN   \n",
       "4  adamantina        adamantina  ['-21.6928', '-51.0703']    31112.0   \n",
       "\n",
       "   id_escola_treated     _merge  \n",
       "0           35030806       both  \n",
       "1           35031045       both  \n",
       "2                NaN  left_only  \n",
       "3                NaN  left_only  \n",
       "4           35031112       both  \n",
       "\n",
       "[5 rows x 28 columns]"
      ]
     },
     "execution_count": 20,
     "metadata": {},
     "output_type": "execute_result"
    }
   ],
   "source": [
    "df.head()"
   ]
  },
  {
   "cell_type": "markdown",
   "id": "7e865114",
   "metadata": {},
   "source": [
    "#### Testes de consistência do join\n",
    "\n",
    "Agora vamos testar se o join deu certo comparando os nomes dos municipios e das escolas.\n",
    "\n",
    "#### Nomes municipios"
   ]
  },
  {
   "cell_type": "code",
   "execution_count": 21,
   "id": "5f6fb18f",
   "metadata": {},
   "outputs": [
    {
     "data": {
      "text/plain": [
       "nome_municipio_bate\n",
       "False    0.794885\n",
       "True     0.205115\n",
       "Name: proportion, dtype: float64"
      ]
     },
     "execution_count": 21,
     "metadata": {},
     "output_type": "execute_result"
    }
   ],
   "source": [
    "df['nome_municipio_bate'] = (df['nome_municipio_x'].str.lower() == df['nome_municipio_y'].str.lower())\n",
    "df['nome_municipio_bate'].value_counts(normalize=True)"
   ]
  },
  {
   "cell_type": "code",
   "execution_count": 22,
   "id": "e4fa4abf",
   "metadata": {},
   "outputs": [
    {
     "data": {
      "text/html": [
       "<div>\n",
       "<style scoped>\n",
       "    .dataframe tbody tr th:only-of-type {\n",
       "        vertical-align: middle;\n",
       "    }\n",
       "\n",
       "    .dataframe tbody tr th {\n",
       "        vertical-align: top;\n",
       "    }\n",
       "\n",
       "    .dataframe thead th {\n",
       "        text-align: right;\n",
       "    }\n",
       "</style>\n",
       "<table border=\"1\" class=\"dataframe\">\n",
       "  <thead>\n",
       "    <tr style=\"text-align: right;\">\n",
       "      <th></th>\n",
       "      <th>nome_municipio_x</th>\n",
       "      <th>nome_municipio_y</th>\n",
       "    </tr>\n",
       "  </thead>\n",
       "  <tbody>\n",
       "    <tr>\n",
       "      <th>10484</th>\n",
       "      <td>São Paulo</td>\n",
       "      <td>sao paulo</td>\n",
       "    </tr>\n",
       "    <tr>\n",
       "      <th>14209</th>\n",
       "      <td>Mogi Guaçu</td>\n",
       "      <td>NaN</td>\n",
       "    </tr>\n",
       "    <tr>\n",
       "      <th>1487</th>\n",
       "      <td>Guarulhos</td>\n",
       "      <td>NaN</td>\n",
       "    </tr>\n",
       "    <tr>\n",
       "      <th>7207</th>\n",
       "      <td>Guarujá</td>\n",
       "      <td>NaN</td>\n",
       "    </tr>\n",
       "    <tr>\n",
       "      <th>46071</th>\n",
       "      <td>São Paulo</td>\n",
       "      <td>NaN</td>\n",
       "    </tr>\n",
       "    <tr>\n",
       "      <th>39356</th>\n",
       "      <td>São Paulo</td>\n",
       "      <td>NaN</td>\n",
       "    </tr>\n",
       "    <tr>\n",
       "      <th>4072</th>\n",
       "      <td>São Paulo</td>\n",
       "      <td>sao paulo</td>\n",
       "    </tr>\n",
       "    <tr>\n",
       "      <th>38127</th>\n",
       "      <td>Peruíbe</td>\n",
       "      <td>NaN</td>\n",
       "    </tr>\n",
       "    <tr>\n",
       "      <th>30335</th>\n",
       "      <td>Dracena</td>\n",
       "      <td>NaN</td>\n",
       "    </tr>\n",
       "    <tr>\n",
       "      <th>7838</th>\n",
       "      <td>Jacareí</td>\n",
       "      <td>jacarei</td>\n",
       "    </tr>\n",
       "  </tbody>\n",
       "</table>\n",
       "</div>"
      ],
      "text/plain": [
       "      nome_municipio_x nome_municipio_y\n",
       "10484        São Paulo        sao paulo\n",
       "14209       Mogi Guaçu              NaN\n",
       "1487         Guarulhos              NaN\n",
       "7207           Guarujá              NaN\n",
       "46071        São Paulo              NaN\n",
       "39356        São Paulo              NaN\n",
       "4072         São Paulo        sao paulo\n",
       "38127          Peruíbe              NaN\n",
       "30335          Dracena              NaN\n",
       "7838           Jacareí          jacarei"
      ]
     },
     "execution_count": 22,
     "metadata": {},
     "output_type": "execute_result"
    }
   ],
   "source": [
    "df[~df['nome_municipio_bate']][['nome_municipio_x', 'nome_municipio_y']].sample(10)"
   ]
  },
  {
   "cell_type": "code",
   "execution_count": 23,
   "id": "ce5289a9",
   "metadata": {},
   "outputs": [],
   "source": [
    "import unicodedata\n",
    "\n",
    "def remover_acentos(texto: str) -> str:\n",
    "    return ''.join(\n",
    "        c for c in unicodedata.normalize('NFKD', texto)\n",
    "        if not unicodedata.combining(c)\n",
    "    )\n"
   ]
  },
  {
   "cell_type": "code",
   "execution_count": 24,
   "id": "d24647b3",
   "metadata": {},
   "outputs": [],
   "source": [
    "df['nome_municipio_x'] = df['nome_municipio_x'].apply(lambda x: x if not pd.isnull(x) else '').str.lower().str.strip().apply(remover_acentos)\n",
    "df['nome_municipio_y'] = df['nome_municipio_y'].apply(lambda x: x if not pd.isnull(x) else '').str.lower().str.strip().apply(remover_acentos)"
   ]
  },
  {
   "cell_type": "code",
   "execution_count": 25,
   "id": "fcafbef7",
   "metadata": {},
   "outputs": [
    {
     "data": {
      "text/plain": [
       "nome_municipio_bate2\n",
       "False    0.609644\n",
       "True     0.390356\n",
       "Name: proportion, dtype: float64"
      ]
     },
     "execution_count": 25,
     "metadata": {},
     "output_type": "execute_result"
    }
   ],
   "source": [
    "df['nome_municipio_bate2'] = (df['nome_municipio_x'].str.lower() == df['nome_municipio_y'].str.lower())\n",
    "df['nome_municipio_bate2'].value_counts(normalize=True)"
   ]
  },
  {
   "cell_type": "code",
   "execution_count": 26,
   "id": "491d5a39",
   "metadata": {},
   "outputs": [
    {
     "data": {
      "text/html": [
       "<div>\n",
       "<style scoped>\n",
       "    .dataframe tbody tr th:only-of-type {\n",
       "        vertical-align: middle;\n",
       "    }\n",
       "\n",
       "    .dataframe tbody tr th {\n",
       "        vertical-align: top;\n",
       "    }\n",
       "\n",
       "    .dataframe thead th {\n",
       "        text-align: right;\n",
       "    }\n",
       "</style>\n",
       "<table border=\"1\" class=\"dataframe\">\n",
       "  <thead>\n",
       "    <tr style=\"text-align: right;\">\n",
       "      <th></th>\n",
       "      <th>nome_municipio_x</th>\n",
       "      <th>nome_municipio_y</th>\n",
       "    </tr>\n",
       "  </thead>\n",
       "  <tbody>\n",
       "    <tr>\n",
       "      <th>8862</th>\n",
       "      <td>poa</td>\n",
       "      <td></td>\n",
       "    </tr>\n",
       "    <tr>\n",
       "      <th>42429</th>\n",
       "      <td>guapiara</td>\n",
       "      <td></td>\n",
       "    </tr>\n",
       "    <tr>\n",
       "      <th>8198</th>\n",
       "      <td>maua</td>\n",
       "      <td></td>\n",
       "    </tr>\n",
       "    <tr>\n",
       "      <th>15278</th>\n",
       "      <td>santo andre</td>\n",
       "      <td></td>\n",
       "    </tr>\n",
       "    <tr>\n",
       "      <th>26190</th>\n",
       "      <td>ouroeste</td>\n",
       "      <td></td>\n",
       "    </tr>\n",
       "    <tr>\n",
       "      <th>2898</th>\n",
       "      <td>penapolis</td>\n",
       "      <td></td>\n",
       "    </tr>\n",
       "    <tr>\n",
       "      <th>28266</th>\n",
       "      <td>sao paulo</td>\n",
       "      <td></td>\n",
       "    </tr>\n",
       "    <tr>\n",
       "      <th>31408</th>\n",
       "      <td>jau</td>\n",
       "      <td></td>\n",
       "    </tr>\n",
       "    <tr>\n",
       "      <th>998</th>\n",
       "      <td>cruzeiro</td>\n",
       "      <td></td>\n",
       "    </tr>\n",
       "    <tr>\n",
       "      <th>27278</th>\n",
       "      <td>sao jose do rio preto</td>\n",
       "      <td></td>\n",
       "    </tr>\n",
       "  </tbody>\n",
       "</table>\n",
       "</div>"
      ],
      "text/plain": [
       "            nome_municipio_x nome_municipio_y\n",
       "8862                     poa                 \n",
       "42429               guapiara                 \n",
       "8198                    maua                 \n",
       "15278            santo andre                 \n",
       "26190               ouroeste                 \n",
       "2898               penapolis                 \n",
       "28266              sao paulo                 \n",
       "31408                    jau                 \n",
       "998                 cruzeiro                 \n",
       "27278  sao jose do rio preto                 "
      ]
     },
     "execution_count": 26,
     "metadata": {},
     "output_type": "execute_result"
    }
   ],
   "source": [
    "df[~df['nome_municipio_bate2']][['nome_municipio_x', 'nome_municipio_y']].sample(10)"
   ]
  },
  {
   "cell_type": "code",
   "execution_count": 27,
   "id": "a9166f1e",
   "metadata": {},
   "outputs": [
    {
     "data": {
      "text/plain": [
       "nome_municipio_y\n",
       "True    28560\n",
       "Name: count, dtype: int64"
      ]
     },
     "execution_count": 27,
     "metadata": {},
     "output_type": "execute_result"
    }
   ],
   "source": [
    "(df[~df['nome_municipio_bate2']]['nome_municipio_y']=='').value_counts()"
   ]
  },
  {
   "cell_type": "code",
   "execution_count": 28,
   "id": "326e391f",
   "metadata": {},
   "outputs": [
    {
     "data": {
      "text/plain": [
       "nome_municipio_y\n",
       "    28560\n",
       "Name: count, dtype: int64"
      ]
     },
     "execution_count": 28,
     "metadata": {},
     "output_type": "execute_result"
    }
   ],
   "source": [
    "df_mun_nao_bate = df[~df['nome_municipio_bate2']].copy()\n",
    "df_mun_nao_bate['nome_municipio_y'].value_counts()\n"
   ]
  },
  {
   "cell_type": "code",
   "execution_count": 29,
   "id": "35094eee",
   "metadata": {},
   "outputs": [
    {
     "data": {
      "text/html": [
       "<div>\n",
       "<style scoped>\n",
       "    .dataframe tbody tr th:only-of-type {\n",
       "        vertical-align: middle;\n",
       "    }\n",
       "\n",
       "    .dataframe tbody tr th {\n",
       "        vertical-align: top;\n",
       "    }\n",
       "\n",
       "    .dataframe thead th {\n",
       "        text-align: right;\n",
       "    }\n",
       "</style>\n",
       "<table border=\"1\" class=\"dataframe\">\n",
       "  <thead>\n",
       "    <tr style=\"text-align: right;\">\n",
       "      <th></th>\n",
       "      <th>nome_municipio_x</th>\n",
       "      <th>nome_municipio_y</th>\n",
       "    </tr>\n",
       "  </thead>\n",
       "  <tbody>\n",
       "  </tbody>\n",
       "</table>\n",
       "</div>"
      ],
      "text/plain": [
       "Empty DataFrame\n",
       "Columns: [nome_municipio_x, nome_municipio_y]\n",
       "Index: []"
      ]
     },
     "execution_count": 29,
     "metadata": {},
     "output_type": "execute_result"
    }
   ],
   "source": [
    "df_mun_nao_bate[df_mun_nao_bate['nome_municipio_y'] != ''][['nome_municipio_x', 'nome_municipio_y']]"
   ]
  },
  {
   "cell_type": "code",
   "execution_count": 30,
   "id": "37dbb63d",
   "metadata": {},
   "outputs": [],
   "source": [
    "#vamos ficar com a coluna do censo escolar que é mais completa\n",
    "df.drop(columns=['nome_municipio_bate', 'nome_municipio_bate2', 'nome_municipio_y'], inplace=True)\n",
    "df.rename(columns={'nome_municipio_x': 'nome_municipio'}, inplace=True)"
   ]
  },
  {
   "cell_type": "code",
   "execution_count": 31,
   "id": "2d85654f",
   "metadata": {},
   "outputs": [
    {
     "data": {
      "text/plain": [
       "np.False_"
      ]
     },
     "execution_count": 31,
     "metadata": {},
     "output_type": "execute_result"
    }
   ],
   "source": [
    "df['nome_municipio'].isnull().any()"
   ]
  },
  {
   "cell_type": "markdown",
   "id": "66d68690",
   "metadata": {},
   "source": [
    "#### Conclusão:\n",
    "\n",
    "Verificamos que todos os municipios batem, com exceção daqueles que estão com o nome do municipio vazio na base do PEI e de apenas 2 que estão registrados como são sebastião na base do Censo Escolar mas que no PEI entraram como Bertiogo -- que sao municipios vizinhos. Pode ser efeito de uma mudança de limites entre os municipios ao longo dos anos ou um erro simples de cadastro."
   ]
  },
  {
   "cell_type": "markdown",
   "id": "7e4e50f6",
   "metadata": {},
   "source": [
    "#### Nomes das escolas"
   ]
  },
  {
   "cell_type": "code",
   "execution_count": 32,
   "id": "98a38fe9",
   "metadata": {},
   "outputs": [
    {
     "data": {
      "text/plain": [
       "False    1.0\n",
       "Name: proportion, dtype: float64"
      ]
     },
     "execution_count": 32,
     "metadata": {},
     "output_type": "execute_result"
    }
   ],
   "source": [
    "(df['nome_escola_x'] == df['nome_escola_y']).value_counts(normalize=True)"
   ]
  },
  {
   "cell_type": "code",
   "execution_count": 33,
   "id": "cc72a1fc",
   "metadata": {},
   "outputs": [
    {
     "data": {
      "text/plain": [
       "29844    DJALMA OCTAVIANO PROFESSOR\n",
       "2041     PERY GUARANY BLACKMAN PROF\n",
       "3119       LESBINO DE SOUZA ALKIMIN\n",
       "Name: nome_escola_x, dtype: object"
      ]
     },
     "execution_count": 33,
     "metadata": {},
     "output_type": "execute_result"
    }
   ],
   "source": [
    "df['nome_escola_x'].sample(3)"
   ]
  },
  {
   "cell_type": "code",
   "execution_count": 34,
   "id": "bd8940e9",
   "metadata": {},
   "outputs": [
    {
     "data": {
      "text/plain": [
       "38538                                      NaN\n",
       "3775                                       NaN\n",
       "39600    carlos maximiliano pereira dos santos\n",
       "Name: nome_escola_y, dtype: object"
      ]
     },
     "execution_count": 34,
     "metadata": {},
     "output_type": "execute_result"
    }
   ],
   "source": [
    "df['nome_escola_y'].sample(3)"
   ]
  },
  {
   "cell_type": "code",
   "execution_count": 35,
   "id": "3f67b5ce",
   "metadata": {},
   "outputs": [],
   "source": [
    "df['nome_escola_y'] = df['nome_escola_y'].apply(lambda x: x if not pd.isnull(x) else '').str.lower().str.strip().apply(remover_acentos)\n",
    "df['nome_escola_x'] = df['nome_escola_x'].apply(lambda x: x if not pd.isnull(x) else '').str.lower().str.strip().apply(remover_acentos)"
   ]
  },
  {
   "cell_type": "code",
   "execution_count": 36,
   "id": "3bbce5e8",
   "metadata": {},
   "outputs": [
    {
     "data": {
      "text/plain": [
       "nome_escola_bate\n",
       "False    0.638013\n",
       "True     0.361987\n",
       "Name: proportion, dtype: float64"
      ]
     },
     "execution_count": 36,
     "metadata": {},
     "output_type": "execute_result"
    }
   ],
   "source": [
    "df['nome_escola_bate'] = (df['nome_escola_x'] == df['nome_escola_y'])\n",
    "df['nome_escola_bate'].value_counts(normalize=True)"
   ]
  },
  {
   "cell_type": "code",
   "execution_count": 37,
   "id": "e3f179f7",
   "metadata": {},
   "outputs": [
    {
     "data": {
      "text/html": [
       "<div>\n",
       "<style scoped>\n",
       "    .dataframe tbody tr th:only-of-type {\n",
       "        vertical-align: middle;\n",
       "    }\n",
       "\n",
       "    .dataframe tbody tr th {\n",
       "        vertical-align: top;\n",
       "    }\n",
       "\n",
       "    .dataframe thead th {\n",
       "        text-align: right;\n",
       "    }\n",
       "</style>\n",
       "<table border=\"1\" class=\"dataframe\">\n",
       "  <thead>\n",
       "    <tr style=\"text-align: right;\">\n",
       "      <th></th>\n",
       "      <th>nome_escola_x</th>\n",
       "      <th>nome_escola_y</th>\n",
       "    </tr>\n",
       "  </thead>\n",
       "  <tbody>\n",
       "    <tr>\n",
       "      <th>40072</th>\n",
       "      <td>paulistano etec</td>\n",
       "      <td></td>\n",
       "    </tr>\n",
       "    <tr>\n",
       "      <th>1135</th>\n",
       "      <td>bairro nhunguara</td>\n",
       "      <td></td>\n",
       "    </tr>\n",
       "    <tr>\n",
       "      <th>33996</th>\n",
       "      <td>guilherme giorgi comendador</td>\n",
       "      <td></td>\n",
       "    </tr>\n",
       "    <tr>\n",
       "      <th>19977</th>\n",
       "      <td>jose quirino cavalcante</td>\n",
       "      <td></td>\n",
       "    </tr>\n",
       "    <tr>\n",
       "      <th>34635</th>\n",
       "      <td>maria santana de almeida professora</td>\n",
       "      <td></td>\n",
       "    </tr>\n",
       "    <tr>\n",
       "      <th>26356</th>\n",
       "      <td>elza pecanha de godoy</td>\n",
       "      <td></td>\n",
       "    </tr>\n",
       "    <tr>\n",
       "      <th>39348</th>\n",
       "      <td>luiz amaral wagner prof</td>\n",
       "      <td></td>\n",
       "    </tr>\n",
       "    <tr>\n",
       "      <th>41075</th>\n",
       "      <td>dionysia gerbi beira</td>\n",
       "      <td></td>\n",
       "    </tr>\n",
       "    <tr>\n",
       "      <th>17829</th>\n",
       "      <td>jardim vicente de carvalho</td>\n",
       "      <td></td>\n",
       "    </tr>\n",
       "    <tr>\n",
       "      <th>16273</th>\n",
       "      <td>maria augusta correa professora</td>\n",
       "      <td></td>\n",
       "    </tr>\n",
       "  </tbody>\n",
       "</table>\n",
       "</div>"
      ],
      "text/plain": [
       "                             nome_escola_x nome_escola_y\n",
       "40072                      paulistano etec              \n",
       "1135                      bairro nhunguara              \n",
       "33996          guilherme giorgi comendador              \n",
       "19977              jose quirino cavalcante              \n",
       "34635  maria santana de almeida professora              \n",
       "26356                elza pecanha de godoy              \n",
       "39348              luiz amaral wagner prof              \n",
       "41075                 dionysia gerbi beira              \n",
       "17829           jardim vicente de carvalho              \n",
       "16273      maria augusta correa professora              "
      ]
     },
     "execution_count": 37,
     "metadata": {},
     "output_type": "execute_result"
    }
   ],
   "source": [
    "df_nome_escola_nao_bate = df[~df['nome_escola_bate']].copy()\n",
    "df_nome_escola_nao_bate[['nome_escola_x', 'nome_escola_y']].sample(10)"
   ]
  },
  {
   "cell_type": "code",
   "execution_count": 38,
   "id": "e32b9cf4",
   "metadata": {},
   "outputs": [
    {
     "data": {
      "text/plain": [
       "escola_y_vazia\n",
       "True     0.955535\n",
       "False    0.044465\n",
       "Name: proportion, dtype: float64"
      ]
     },
     "execution_count": 38,
     "metadata": {},
     "output_type": "execute_result"
    }
   ],
   "source": [
    "df_nome_escola_nao_bate['escola_y_vazia'] = df_nome_escola_nao_bate['nome_escola_y']==''\n",
    "df_nome_escola_nao_bate['escola_y_vazia'].value_counts(normalize=True)"
   ]
  },
  {
   "cell_type": "code",
   "execution_count": 39,
   "id": "336b85e3",
   "metadata": {},
   "outputs": [
    {
     "data": {
      "text/html": [
       "<div>\n",
       "<style scoped>\n",
       "    .dataframe tbody tr th:only-of-type {\n",
       "        vertical-align: middle;\n",
       "    }\n",
       "\n",
       "    .dataframe tbody tr th {\n",
       "        vertical-align: top;\n",
       "    }\n",
       "\n",
       "    .dataframe thead th {\n",
       "        text-align: right;\n",
       "    }\n",
       "</style>\n",
       "<table border=\"1\" class=\"dataframe\">\n",
       "  <thead>\n",
       "    <tr style=\"text-align: right;\">\n",
       "      <th></th>\n",
       "      <th>nome_escola_x</th>\n",
       "      <th>nome_escola_y</th>\n",
       "    </tr>\n",
       "  </thead>\n",
       "  <tbody>\n",
       "    <tr>\n",
       "      <th>42665</th>\n",
       "      <td>parque continental gleba i</td>\n",
       "      <td>tomie ohtake</td>\n",
       "    </tr>\n",
       "    <tr>\n",
       "      <th>18111</th>\n",
       "      <td>jardim santa clara</td>\n",
       "      <td>benito juarez de souza</td>\n",
       "    </tr>\n",
       "    <tr>\n",
       "      <th>3393</th>\n",
       "      <td>carolina augusta seraphim profa</td>\n",
       "      <td>carolina augusta seraphim professora</td>\n",
       "    </tr>\n",
       "    <tr>\n",
       "      <th>1791</th>\n",
       "      <td>desolina betti gregorin profa</td>\n",
       "      <td>desolina betti gregorin professora</td>\n",
       "    </tr>\n",
       "    <tr>\n",
       "      <th>3011</th>\n",
       "      <td>abigail de azevedo grillo prof</td>\n",
       "      <td>abigail de azevedo grillo professor</td>\n",
       "    </tr>\n",
       "    <tr>\n",
       "      <th>41152</th>\n",
       "      <td>jardim vale do sol</td>\n",
       "      <td>vereador carlos roberto marques</td>\n",
       "    </tr>\n",
       "    <tr>\n",
       "      <th>1231</th>\n",
       "      <td>antonio tanuri prof</td>\n",
       "      <td>antonio tanuri professor</td>\n",
       "    </tr>\n",
       "    <tr>\n",
       "      <th>3680</th>\n",
       "      <td>antonio ablas filho dr</td>\n",
       "      <td>antonio ablas filho doutor</td>\n",
       "    </tr>\n",
       "    <tr>\n",
       "      <th>3093</th>\n",
       "      <td>elias zugaib prof</td>\n",
       "      <td>elias zugaib professor</td>\n",
       "    </tr>\n",
       "    <tr>\n",
       "      <th>572</th>\n",
       "      <td>fernando magalhaes prof</td>\n",
       "      <td>fernando magalhaes professor</td>\n",
       "    </tr>\n",
       "    <tr>\n",
       "      <th>1529</th>\n",
       "      <td>homero rubens de sa prof</td>\n",
       "      <td>homero rubens de sa professor</td>\n",
       "    </tr>\n",
       "    <tr>\n",
       "      <th>9424</th>\n",
       "      <td>jardim riviera</td>\n",
       "      <td>educador pedro cia</td>\n",
       "    </tr>\n",
       "    <tr>\n",
       "      <th>5162</th>\n",
       "      <td>adelaide rosa fernandes machado de souza profa</td>\n",
       "      <td>adelaide rosa fernandes machado de souza profe...</td>\n",
       "    </tr>\n",
       "    <tr>\n",
       "      <th>2853</th>\n",
       "      <td>maria helena basso antunes profa</td>\n",
       "      <td>maria helena basso antunes professora</td>\n",
       "    </tr>\n",
       "    <tr>\n",
       "      <th>3584</th>\n",
       "      <td>nadir lessa tognini profa</td>\n",
       "      <td>nadir lessa tognini professora</td>\n",
       "    </tr>\n",
       "    <tr>\n",
       "      <th>5593</th>\n",
       "      <td>irene resina migliorucci profa</td>\n",
       "      <td>irene resina migliorucci professora</td>\n",
       "    </tr>\n",
       "    <tr>\n",
       "      <th>3012</th>\n",
       "      <td>dario brasil dr</td>\n",
       "      <td>dario brasil doutor</td>\n",
       "    </tr>\n",
       "    <tr>\n",
       "      <th>2669</th>\n",
       "      <td>nena giannasi buck profa</td>\n",
       "      <td>nena giannasi buck professora</td>\n",
       "    </tr>\n",
       "    <tr>\n",
       "      <th>5392</th>\n",
       "      <td>ana lucia pierini profa</td>\n",
       "      <td>ana lucia pierini professora</td>\n",
       "    </tr>\n",
       "    <tr>\n",
       "      <th>473</th>\n",
       "      <td>olivia angela furlani profa</td>\n",
       "      <td>olivia angela furlani professora</td>\n",
       "    </tr>\n",
       "  </tbody>\n",
       "</table>\n",
       "</div>"
      ],
      "text/plain": [
       "                                        nome_escola_x  \\\n",
       "42665                      parque continental gleba i   \n",
       "18111                              jardim santa clara   \n",
       "3393                  carolina augusta seraphim profa   \n",
       "1791                    desolina betti gregorin profa   \n",
       "3011                   abigail de azevedo grillo prof   \n",
       "41152                              jardim vale do sol   \n",
       "1231                              antonio tanuri prof   \n",
       "3680                           antonio ablas filho dr   \n",
       "3093                                elias zugaib prof   \n",
       "572                           fernando magalhaes prof   \n",
       "1529                         homero rubens de sa prof   \n",
       "9424                                   jardim riviera   \n",
       "5162   adelaide rosa fernandes machado de souza profa   \n",
       "2853                 maria helena basso antunes profa   \n",
       "3584                        nadir lessa tognini profa   \n",
       "5593                   irene resina migliorucci profa   \n",
       "3012                                  dario brasil dr   \n",
       "2669                         nena giannasi buck profa   \n",
       "5392                          ana lucia pierini profa   \n",
       "473                       olivia angela furlani profa   \n",
       "\n",
       "                                           nome_escola_y  \n",
       "42665                                       tomie ohtake  \n",
       "18111                             benito juarez de souza  \n",
       "3393                carolina augusta seraphim professora  \n",
       "1791                  desolina betti gregorin professora  \n",
       "3011                 abigail de azevedo grillo professor  \n",
       "41152                    vereador carlos roberto marques  \n",
       "1231                            antonio tanuri professor  \n",
       "3680                          antonio ablas filho doutor  \n",
       "3093                              elias zugaib professor  \n",
       "572                         fernando magalhaes professor  \n",
       "1529                       homero rubens de sa professor  \n",
       "9424                                  educador pedro cia  \n",
       "5162   adelaide rosa fernandes machado de souza profe...  \n",
       "2853               maria helena basso antunes professora  \n",
       "3584                      nadir lessa tognini professora  \n",
       "5593                 irene resina migliorucci professora  \n",
       "3012                                 dario brasil doutor  \n",
       "2669                       nena giannasi buck professora  \n",
       "5392                        ana lucia pierini professora  \n",
       "473                     olivia angela furlani professora  "
      ]
     },
     "execution_count": 39,
     "metadata": {},
     "output_type": "execute_result"
    }
   ],
   "source": [
    "df_nome_escola_nao_bate[df_nome_escola_nao_bate['escola_y_vazia']==False][['nome_escola_x', 'nome_escola_y']].sample(20)"
   ]
  },
  {
   "cell_type": "markdown",
   "id": "9ddb0246",
   "metadata": {},
   "source": [
    "#### Conclusão:\n",
    "\n",
    "Há algumas diferenças nos nomes das escolas que não são motivadas apenas pelo nome estar vazio na base do PEI. Como se pode ver pela amostra acima, isso ocorre por pequenas diferenças na grafia (p. ex., \"Professora Fulana\" e \"Prof. Fulana\") ou então provavelmente por que a escola mudou de nome ao longo do tempo. Note-se no entanto que é pouco mais de 1% dos casos de não-match. "
   ]
  },
  {
   "cell_type": "code",
   "execution_count": 40,
   "id": "1722c419",
   "metadata": {},
   "outputs": [
    {
     "data": {
      "text/plain": [
       "np.False_"
      ]
     },
     "execution_count": 40,
     "metadata": {},
     "output_type": "execute_result"
    }
   ],
   "source": [
    "#vamos novamente manter os dados do censo escolar que sao mais completos\n",
    "\n",
    "df.drop(columns=['nome_escola_bate', 'nome_escola_y'], inplace=True)\n",
    "df.rename(columns={'nome_escola_x': 'nome_escola'}, inplace=True)\n",
    "df['nome_escola'].isnull().any()"
   ]
  },
  {
   "cell_type": "code",
   "execution_count": 41,
   "id": "7c8bbfcb",
   "metadata": {},
   "outputs": [
    {
     "data": {
      "text/plain": [
       "Index(['ano_censo', 'sigla_uf', 'nome_municipio', 'codigo_municipio',\n",
       "       'codigo_escola', 'nome_escola', 'qtd_turmas_ed_basica',\n",
       "       'qtd_matr_ed_basica', 'qtd_matr_ed_basica_nao_declarada',\n",
       "       'qtd_matr_ed_basica_branca', 'qtd_matr_ed_basica_preta',\n",
       "       'qtd_matr_ed_basica_parda', 'qtd_matr_ed_basica_amarela',\n",
       "       'qtd_matr_ed_basica_indigena', 'qtd_matriculas_infantil_integral',\n",
       "       'qtd_matriculas_infantil_creche_integral',\n",
       "       'qtd_matriculas_infantil_pre_escolar_integral',\n",
       "       'qtd_matriculas_fundamental_integral',\n",
       "       'qtd_matriculas_fundamental_anos_iniciais_integral',\n",
       "       'qtd_matriculas_fundamental_anos_finais_integral',\n",
       "       'qtd_matriculas_medio_integral', 'nome_dre', 'coordenadas', 'id_escola',\n",
       "       'id_escola_treated', '_merge'],\n",
       "      dtype='object')"
      ]
     },
     "execution_count": 41,
     "metadata": {},
     "output_type": "execute_result"
    }
   ],
   "source": [
    "df.columns"
   ]
  },
  {
   "cell_type": "code",
   "execution_count": 42,
   "id": "22575f7b",
   "metadata": {},
   "outputs": [],
   "source": [
    "df.drop(['id_escola', 'id_escola_treated', 'nome_dre'], axis=1, inplace=True)"
   ]
  },
  {
   "cell_type": "code",
   "execution_count": 43,
   "id": "f0d5e4bb",
   "metadata": {},
   "outputs": [
    {
     "name": "stdout",
     "output_type": "stream",
     "text": [
      "Data saved to data/dados_merged.csv\n"
     ]
    }
   ],
   "source": [
    "save_csv(df, 'dados_merged.csv')"
   ]
  }
 ],
 "metadata": {
  "kernelspec": {
   "display_name": "venv",
   "language": "python",
   "name": "python3"
  },
  "language_info": {
   "codemirror_mode": {
    "name": "ipython",
    "version": 3
   },
   "file_extension": ".py",
   "mimetype": "text/x-python",
   "name": "python",
   "nbconvert_exporter": "python",
   "pygments_lexer": "ipython3",
   "version": "3.12.3"
  }
 },
 "nbformat": 4,
 "nbformat_minor": 5
}
