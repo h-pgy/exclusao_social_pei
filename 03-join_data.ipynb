{
 "cells": [
  {
   "cell_type": "markdown",
   "id": "182aa50b",
   "metadata": {},
   "source": [
    "## Join data\n",
    "\n",
    "Esse notebook faz o join entre os dados do portal da transparência do Estado, que identificam as escolas participantes do PEI - Programa de Ensino Integral - e os microdados do censo escolar."
   ]
  },
  {
   "cell_type": "code",
   "execution_count": 1,
   "id": "4c8d631b",
   "metadata": {},
   "outputs": [],
   "source": [
    "import pandas as pd\n",
    "\n",
    "from utils.load_csv import load_csv\n",
    "from utils.save_csv import save_csv"
   ]
  },
  {
   "cell_type": "code",
   "execution_count": 2,
   "id": "c33b2cf5",
   "metadata": {},
   "outputs": [],
   "source": [
    "df_pei = load_csv('pei_escolas_original.csv')\n",
    "df_censo = load_csv('microdados_censo_limpo.csv')"
   ]
  },
  {
   "cell_type": "code",
   "execution_count": 3,
   "id": "f4b9e064",
   "metadata": {},
   "outputs": [
    {
     "data": {
      "text/plain": [
       "Index(['Escola', 'Diretoria de Ensino', 'Município', 'Coordenadas',\n",
       "       'ID Escola'],\n",
       "      dtype='object')"
      ]
     },
     "execution_count": 3,
     "metadata": {},
     "output_type": "execute_result"
    }
   ],
   "source": [
    "df_pei.columns"
   ]
  },
  {
   "cell_type": "code",
   "execution_count": 4,
   "id": "c88a7c33",
   "metadata": {},
   "outputs": [
    {
     "data": {
      "text/html": [
       "<div>\n",
       "<style scoped>\n",
       "    .dataframe tbody tr th:only-of-type {\n",
       "        vertical-align: middle;\n",
       "    }\n",
       "\n",
       "    .dataframe tbody tr th {\n",
       "        vertical-align: top;\n",
       "    }\n",
       "\n",
       "    .dataframe thead th {\n",
       "        text-align: right;\n",
       "    }\n",
       "</style>\n",
       "<table border=\"1\" class=\"dataframe\">\n",
       "  <thead>\n",
       "    <tr style=\"text-align: right;\">\n",
       "      <th></th>\n",
       "      <th>Escola</th>\n",
       "      <th>Diretoria de Ensino</th>\n",
       "      <th>Município</th>\n",
       "      <th>Coordenadas</th>\n",
       "      <th>ID Escola</th>\n",
       "    </tr>\n",
       "  </thead>\n",
       "  <tbody>\n",
       "    <tr>\n",
       "      <th>0</th>\n",
       "      <td>bairro da bocaina</td>\n",
       "      <td>guaratingueta</td>\n",
       "      <td>cunha</td>\n",
       "      <td>['-23.0361', '-44.9253']</td>\n",
       "      <td>926085</td>\n",
       "    </tr>\n",
       "    <tr>\n",
       "      <th>1</th>\n",
       "      <td>aldeia karugwa</td>\n",
       "      <td>itarare</td>\n",
       "      <td>barao de antonina</td>\n",
       "      <td>['-23.6028', '-49.5874']</td>\n",
       "      <td>268574</td>\n",
       "    </tr>\n",
       "    <tr>\n",
       "      <th>2</th>\n",
       "      <td>india maria rosa</td>\n",
       "      <td>penapolis</td>\n",
       "      <td>brauna</td>\n",
       "      <td>['-21.5656', '-50.3173']</td>\n",
       "      <td>395365</td>\n",
       "    </tr>\n",
       "    <tr>\n",
       "      <th>3</th>\n",
       "      <td>joao alfredo da silva</td>\n",
       "      <td>presidente prudente</td>\n",
       "      <td>presidente prudente</td>\n",
       "      <td>['-21.9093', '-51.3003']</td>\n",
       "      <td>31756</td>\n",
       "    </tr>\n",
       "    <tr>\n",
       "      <th>4</th>\n",
       "      <td>bairro pe da serra</td>\n",
       "      <td>miracatu</td>\n",
       "      <td>iguape</td>\n",
       "      <td>['-24.3801', '-47.5179']</td>\n",
       "      <td>918052</td>\n",
       "    </tr>\n",
       "  </tbody>\n",
       "</table>\n",
       "</div>"
      ],
      "text/plain": [
       "                  Escola  Diretoria de Ensino            Município  \\\n",
       "0      bairro da bocaina        guaratingueta                cunha   \n",
       "1         aldeia karugwa              itarare    barao de antonina   \n",
       "2       india maria rosa            penapolis               brauna   \n",
       "3  joao alfredo da silva  presidente prudente  presidente prudente   \n",
       "4     bairro pe da serra             miracatu               iguape   \n",
       "\n",
       "                Coordenadas  ID Escola  \n",
       "0  ['-23.0361', '-44.9253']     926085  \n",
       "1  ['-23.6028', '-49.5874']     268574  \n",
       "2  ['-21.5656', '-50.3173']     395365  \n",
       "3  ['-21.9093', '-51.3003']      31756  \n",
       "4  ['-24.3801', '-47.5179']     918052  "
      ]
     },
     "execution_count": 4,
     "metadata": {},
     "output_type": "execute_result"
    }
   ],
   "source": [
    "df_pei.head()"
   ]
  },
  {
   "cell_type": "code",
   "execution_count": 5,
   "id": "af1da246",
   "metadata": {},
   "outputs": [],
   "source": [
    "mapper_pei = {\n",
    "    'Escola': 'nome_escola',\n",
    "    'Diretoria de Ensino': 'nome_dre',\n",
    "    'Município': 'nome_municipio',\n",
    "    'Coordenadas': 'coordenadas',\n",
    "    'ID Escola': 'id_escola'\n",
    "}\n",
    "\n",
    "df_pei = df_pei.rename(columns=mapper_pei)"
   ]
  },
  {
   "cell_type": "code",
   "execution_count": 6,
   "id": "aa6634d7",
   "metadata": {},
   "outputs": [
    {
     "data": {
      "text/html": [
       "<div>\n",
       "<style scoped>\n",
       "    .dataframe tbody tr th:only-of-type {\n",
       "        vertical-align: middle;\n",
       "    }\n",
       "\n",
       "    .dataframe tbody tr th {\n",
       "        vertical-align: top;\n",
       "    }\n",
       "\n",
       "    .dataframe thead th {\n",
       "        text-align: right;\n",
       "    }\n",
       "</style>\n",
       "<table border=\"1\" class=\"dataframe\">\n",
       "  <thead>\n",
       "    <tr style=\"text-align: right;\">\n",
       "      <th></th>\n",
       "      <th>nome_escola</th>\n",
       "      <th>nome_dre</th>\n",
       "      <th>nome_municipio</th>\n",
       "      <th>coordenadas</th>\n",
       "      <th>id_escola</th>\n",
       "    </tr>\n",
       "  </thead>\n",
       "  <tbody>\n",
       "    <tr>\n",
       "      <th>0</th>\n",
       "      <td>bairro da bocaina</td>\n",
       "      <td>guaratingueta</td>\n",
       "      <td>cunha</td>\n",
       "      <td>['-23.0361', '-44.9253']</td>\n",
       "      <td>926085</td>\n",
       "    </tr>\n",
       "    <tr>\n",
       "      <th>1</th>\n",
       "      <td>aldeia karugwa</td>\n",
       "      <td>itarare</td>\n",
       "      <td>barao de antonina</td>\n",
       "      <td>['-23.6028', '-49.5874']</td>\n",
       "      <td>268574</td>\n",
       "    </tr>\n",
       "    <tr>\n",
       "      <th>2</th>\n",
       "      <td>india maria rosa</td>\n",
       "      <td>penapolis</td>\n",
       "      <td>brauna</td>\n",
       "      <td>['-21.5656', '-50.3173']</td>\n",
       "      <td>395365</td>\n",
       "    </tr>\n",
       "    <tr>\n",
       "      <th>3</th>\n",
       "      <td>joao alfredo da silva</td>\n",
       "      <td>presidente prudente</td>\n",
       "      <td>presidente prudente</td>\n",
       "      <td>['-21.9093', '-51.3003']</td>\n",
       "      <td>31756</td>\n",
       "    </tr>\n",
       "    <tr>\n",
       "      <th>4</th>\n",
       "      <td>bairro pe da serra</td>\n",
       "      <td>miracatu</td>\n",
       "      <td>iguape</td>\n",
       "      <td>['-24.3801', '-47.5179']</td>\n",
       "      <td>918052</td>\n",
       "    </tr>\n",
       "  </tbody>\n",
       "</table>\n",
       "</div>"
      ],
      "text/plain": [
       "             nome_escola             nome_dre       nome_municipio  \\\n",
       "0      bairro da bocaina        guaratingueta                cunha   \n",
       "1         aldeia karugwa              itarare    barao de antonina   \n",
       "2       india maria rosa            penapolis               brauna   \n",
       "3  joao alfredo da silva  presidente prudente  presidente prudente   \n",
       "4     bairro pe da serra             miracatu               iguape   \n",
       "\n",
       "                coordenadas  id_escola  \n",
       "0  ['-23.0361', '-44.9253']     926085  \n",
       "1  ['-23.6028', '-49.5874']     268574  \n",
       "2  ['-21.5656', '-50.3173']     395365  \n",
       "3  ['-21.9093', '-51.3003']      31756  \n",
       "4  ['-24.3801', '-47.5179']     918052  "
      ]
     },
     "execution_count": 6,
     "metadata": {},
     "output_type": "execute_result"
    }
   ],
   "source": [
    "df_pei.head()"
   ]
  },
  {
   "cell_type": "code",
   "execution_count": 7,
   "id": "47e91ff7",
   "metadata": {},
   "outputs": [
    {
     "data": {
      "text/plain": [
       "Index(['ano_censo', 'sigla_uf', 'nome_municipio', 'codigo_municipio',\n",
       "       'codigo_escola', 'nome_escola', 'qtd_turmas_ed_basica',\n",
       "       'qtd_matr_ed_basica', 'qtd_matr_ed_basica_nao_declarada',\n",
       "       'qtd_matr_ed_basica_branca', 'qtd_matr_ed_basica_preta',\n",
       "       'qtd_matr_ed_basica_parda', 'qtd_matr_ed_basica_amarela',\n",
       "       'qtd_matr_ed_basica_indigena', 'qtd_matriculas_infantil_integral',\n",
       "       'qtd_matriculas_infantil_creche_integral',\n",
       "       'qtd_matriculas_infantil_pre_escolar_integral',\n",
       "       'qtd_matriculas_fundamental_integral',\n",
       "       'qtd_matriculas_fundamental_anos_iniciais_integral',\n",
       "       'qtd_matriculas_fundamental_anos_finais_integral',\n",
       "       'qtd_matriculas_medio_integral'],\n",
       "      dtype='object')"
      ]
     },
     "execution_count": 7,
     "metadata": {},
     "output_type": "execute_result"
    }
   ],
   "source": [
    "df_censo.columns"
   ]
  },
  {
   "cell_type": "code",
   "execution_count": 8,
   "id": "b0b9a07e",
   "metadata": {},
   "outputs": [
    {
     "data": {
      "text/html": [
       "<div>\n",
       "<style scoped>\n",
       "    .dataframe tbody tr th:only-of-type {\n",
       "        vertical-align: middle;\n",
       "    }\n",
       "\n",
       "    .dataframe tbody tr th {\n",
       "        vertical-align: top;\n",
       "    }\n",
       "\n",
       "    .dataframe thead th {\n",
       "        text-align: right;\n",
       "    }\n",
       "</style>\n",
       "<table border=\"1\" class=\"dataframe\">\n",
       "  <thead>\n",
       "    <tr style=\"text-align: right;\">\n",
       "      <th></th>\n",
       "      <th>ano_censo</th>\n",
       "      <th>sigla_uf</th>\n",
       "      <th>nome_municipio</th>\n",
       "      <th>codigo_municipio</th>\n",
       "      <th>codigo_escola</th>\n",
       "      <th>nome_escola</th>\n",
       "      <th>qtd_turmas_ed_basica</th>\n",
       "      <th>qtd_matr_ed_basica</th>\n",
       "      <th>qtd_matr_ed_basica_nao_declarada</th>\n",
       "      <th>qtd_matr_ed_basica_branca</th>\n",
       "      <th>...</th>\n",
       "      <th>qtd_matr_ed_basica_parda</th>\n",
       "      <th>qtd_matr_ed_basica_amarela</th>\n",
       "      <th>qtd_matr_ed_basica_indigena</th>\n",
       "      <th>qtd_matriculas_infantil_integral</th>\n",
       "      <th>qtd_matriculas_infantil_creche_integral</th>\n",
       "      <th>qtd_matriculas_infantil_pre_escolar_integral</th>\n",
       "      <th>qtd_matriculas_fundamental_integral</th>\n",
       "      <th>qtd_matriculas_fundamental_anos_iniciais_integral</th>\n",
       "      <th>qtd_matriculas_fundamental_anos_finais_integral</th>\n",
       "      <th>qtd_matriculas_medio_integral</th>\n",
       "    </tr>\n",
       "  </thead>\n",
       "  <tbody>\n",
       "    <tr>\n",
       "      <th>0</th>\n",
       "      <td>2012</td>\n",
       "      <td>SP</td>\n",
       "      <td>Adamantina</td>\n",
       "      <td>3500105</td>\n",
       "      <td>35030806</td>\n",
       "      <td>HELEN KELLER</td>\n",
       "      <td>22.0</td>\n",
       "      <td>654.0</td>\n",
       "      <td>87.0</td>\n",
       "      <td>355.0</td>\n",
       "      <td>...</td>\n",
       "      <td>199.0</td>\n",
       "      <td>1.0</td>\n",
       "      <td>1.0</td>\n",
       "      <td>0.0</td>\n",
       "      <td>0.0</td>\n",
       "      <td>0.0</td>\n",
       "      <td>0.0</td>\n",
       "      <td>0.0</td>\n",
       "      <td>0.0</td>\n",
       "      <td>0.0</td>\n",
       "    </tr>\n",
       "    <tr>\n",
       "      <th>1</th>\n",
       "      <td>2012</td>\n",
       "      <td>SP</td>\n",
       "      <td>Adamantina</td>\n",
       "      <td>3500105</td>\n",
       "      <td>35031045</td>\n",
       "      <td>DURVALINO GRION PROF</td>\n",
       "      <td>24.0</td>\n",
       "      <td>827.0</td>\n",
       "      <td>146.0</td>\n",
       "      <td>439.0</td>\n",
       "      <td>...</td>\n",
       "      <td>224.0</td>\n",
       "      <td>5.0</td>\n",
       "      <td>1.0</td>\n",
       "      <td>0.0</td>\n",
       "      <td>0.0</td>\n",
       "      <td>0.0</td>\n",
       "      <td>0.0</td>\n",
       "      <td>0.0</td>\n",
       "      <td>0.0</td>\n",
       "      <td>0.0</td>\n",
       "    </tr>\n",
       "    <tr>\n",
       "      <th>2</th>\n",
       "      <td>2012</td>\n",
       "      <td>SP</td>\n",
       "      <td>Adamantina</td>\n",
       "      <td>3500105</td>\n",
       "      <td>35031082</td>\n",
       "      <td>EUDECIO LUIZ VICENTE PROF ETE</td>\n",
       "      <td>26.0</td>\n",
       "      <td>883.0</td>\n",
       "      <td>163.0</td>\n",
       "      <td>563.0</td>\n",
       "      <td>...</td>\n",
       "      <td>130.0</td>\n",
       "      <td>21.0</td>\n",
       "      <td>1.0</td>\n",
       "      <td>0.0</td>\n",
       "      <td>0.0</td>\n",
       "      <td>0.0</td>\n",
       "      <td>0.0</td>\n",
       "      <td>0.0</td>\n",
       "      <td>0.0</td>\n",
       "      <td>0.0</td>\n",
       "    </tr>\n",
       "    <tr>\n",
       "      <th>3</th>\n",
       "      <td>2012</td>\n",
       "      <td>SP</td>\n",
       "      <td>Adamantina</td>\n",
       "      <td>3500105</td>\n",
       "      <td>35031100</td>\n",
       "      <td>HERVAL BELLUSCI ENGENHEIRO ETE</td>\n",
       "      <td>12.0</td>\n",
       "      <td>275.0</td>\n",
       "      <td>68.0</td>\n",
       "      <td>140.0</td>\n",
       "      <td>...</td>\n",
       "      <td>62.0</td>\n",
       "      <td>1.0</td>\n",
       "      <td>0.0</td>\n",
       "      <td>0.0</td>\n",
       "      <td>0.0</td>\n",
       "      <td>0.0</td>\n",
       "      <td>0.0</td>\n",
       "      <td>0.0</td>\n",
       "      <td>0.0</td>\n",
       "      <td>68.0</td>\n",
       "    </tr>\n",
       "    <tr>\n",
       "      <th>4</th>\n",
       "      <td>2012</td>\n",
       "      <td>SP</td>\n",
       "      <td>Adamantina</td>\n",
       "      <td>3500105</td>\n",
       "      <td>35031112</td>\n",
       "      <td>FLEURIDES CAVALLINI MENECHINO PROFA</td>\n",
       "      <td>34.0</td>\n",
       "      <td>1041.0</td>\n",
       "      <td>84.0</td>\n",
       "      <td>758.0</td>\n",
       "      <td>...</td>\n",
       "      <td>180.0</td>\n",
       "      <td>11.0</td>\n",
       "      <td>3.0</td>\n",
       "      <td>0.0</td>\n",
       "      <td>0.0</td>\n",
       "      <td>0.0</td>\n",
       "      <td>0.0</td>\n",
       "      <td>0.0</td>\n",
       "      <td>0.0</td>\n",
       "      <td>0.0</td>\n",
       "    </tr>\n",
       "  </tbody>\n",
       "</table>\n",
       "<p>5 rows × 21 columns</p>\n",
       "</div>"
      ],
      "text/plain": [
       "   ano_censo sigla_uf nome_municipio  codigo_municipio  codigo_escola  \\\n",
       "0       2012       SP     Adamantina           3500105       35030806   \n",
       "1       2012       SP     Adamantina           3500105       35031045   \n",
       "2       2012       SP     Adamantina           3500105       35031082   \n",
       "3       2012       SP     Adamantina           3500105       35031100   \n",
       "4       2012       SP     Adamantina           3500105       35031112   \n",
       "\n",
       "                           nome_escola  qtd_turmas_ed_basica  \\\n",
       "0                         HELEN KELLER                  22.0   \n",
       "1                 DURVALINO GRION PROF                  24.0   \n",
       "2        EUDECIO LUIZ VICENTE PROF ETE                  26.0   \n",
       "3       HERVAL BELLUSCI ENGENHEIRO ETE                  12.0   \n",
       "4  FLEURIDES CAVALLINI MENECHINO PROFA                  34.0   \n",
       "\n",
       "   qtd_matr_ed_basica  qtd_matr_ed_basica_nao_declarada  \\\n",
       "0               654.0                              87.0   \n",
       "1               827.0                             146.0   \n",
       "2               883.0                             163.0   \n",
       "3               275.0                              68.0   \n",
       "4              1041.0                              84.0   \n",
       "\n",
       "   qtd_matr_ed_basica_branca  ...  qtd_matr_ed_basica_parda  \\\n",
       "0                      355.0  ...                     199.0   \n",
       "1                      439.0  ...                     224.0   \n",
       "2                      563.0  ...                     130.0   \n",
       "3                      140.0  ...                      62.0   \n",
       "4                      758.0  ...                     180.0   \n",
       "\n",
       "   qtd_matr_ed_basica_amarela  qtd_matr_ed_basica_indigena  \\\n",
       "0                         1.0                          1.0   \n",
       "1                         5.0                          1.0   \n",
       "2                        21.0                          1.0   \n",
       "3                         1.0                          0.0   \n",
       "4                        11.0                          3.0   \n",
       "\n",
       "   qtd_matriculas_infantil_integral  qtd_matriculas_infantil_creche_integral  \\\n",
       "0                               0.0                                      0.0   \n",
       "1                               0.0                                      0.0   \n",
       "2                               0.0                                      0.0   \n",
       "3                               0.0                                      0.0   \n",
       "4                               0.0                                      0.0   \n",
       "\n",
       "   qtd_matriculas_infantil_pre_escolar_integral  \\\n",
       "0                                           0.0   \n",
       "1                                           0.0   \n",
       "2                                           0.0   \n",
       "3                                           0.0   \n",
       "4                                           0.0   \n",
       "\n",
       "   qtd_matriculas_fundamental_integral  \\\n",
       "0                                  0.0   \n",
       "1                                  0.0   \n",
       "2                                  0.0   \n",
       "3                                  0.0   \n",
       "4                                  0.0   \n",
       "\n",
       "   qtd_matriculas_fundamental_anos_iniciais_integral  \\\n",
       "0                                                0.0   \n",
       "1                                                0.0   \n",
       "2                                                0.0   \n",
       "3                                                0.0   \n",
       "4                                                0.0   \n",
       "\n",
       "   qtd_matriculas_fundamental_anos_finais_integral  \\\n",
       "0                                              0.0   \n",
       "1                                              0.0   \n",
       "2                                              0.0   \n",
       "3                                              0.0   \n",
       "4                                              0.0   \n",
       "\n",
       "   qtd_matriculas_medio_integral  \n",
       "0                            0.0  \n",
       "1                            0.0  \n",
       "2                            0.0  \n",
       "3                           68.0  \n",
       "4                            0.0  \n",
       "\n",
       "[5 rows x 21 columns]"
      ]
     },
     "execution_count": 8,
     "metadata": {},
     "output_type": "execute_result"
    }
   ],
   "source": [
    "df_censo.head()"
   ]
  },
  {
   "cell_type": "markdown",
   "id": "765bd4a1",
   "metadata": {},
   "source": [
    "#### Checando se os IDs das escolas da base do PEI batem com a base do Censo"
   ]
  },
  {
   "cell_type": "code",
   "execution_count": 9,
   "id": "ce9b0d95",
   "metadata": {},
   "outputs": [
    {
     "data": {
      "text/plain": [
       "2071     21532\n",
       "2022    914459\n",
       "1193      2045\n",
       "Name: id_escola, dtype: int64"
      ]
     },
     "execution_count": 9,
     "metadata": {},
     "output_type": "execute_result"
    }
   ],
   "source": [
    "df_pei['id_escola'].sample(3)"
   ]
  },
  {
   "cell_type": "code",
   "execution_count": 10,
   "id": "2fe01e9b",
   "metadata": {},
   "outputs": [
    {
     "data": {
      "text/plain": [
       "27374    35042043\n",
       "26151    35006836\n",
       "3533     35045366\n",
       "Name: codigo_escola, dtype: int64"
      ]
     },
     "execution_count": 10,
     "metadata": {},
     "output_type": "execute_result"
    }
   ],
   "source": [
    "df_censo['codigo_escola'].sample(3)"
   ]
  },
  {
   "cell_type": "code",
   "execution_count": 11,
   "id": "f470d051",
   "metadata": {},
   "outputs": [
    {
     "data": {
      "text/plain": [
       "array([8])"
      ]
     },
     "execution_count": 11,
     "metadata": {},
     "output_type": "execute_result"
    }
   ],
   "source": [
    "df_censo['codigo_escola'].astype(str).str.len().unique()"
   ]
  },
  {
   "cell_type": "code",
   "execution_count": 12,
   "id": "253bf8fa",
   "metadata": {},
   "outputs": [],
   "source": [
    "df_censo['codigo_escola'] = df_censo['codigo_escola'].astype(str)"
   ]
  },
  {
   "cell_type": "code",
   "execution_count": 13,
   "id": "c470da38",
   "metadata": {},
   "outputs": [
    {
     "data": {
      "text/plain": [
       "dtype('int64')"
      ]
     },
     "execution_count": 13,
     "metadata": {},
     "output_type": "execute_result"
    }
   ],
   "source": [
    "df_pei['id_escola'].dtype"
   ]
  },
  {
   "cell_type": "code",
   "execution_count": 14,
   "id": "88e002fa",
   "metadata": {},
   "outputs": [
    {
     "data": {
      "text/plain": [
       "array([6, 5, 4, 3, 2])"
      ]
     },
     "execution_count": 14,
     "metadata": {},
     "output_type": "execute_result"
    }
   ],
   "source": [
    "#note que se somar os dois caracteres do estado, o id no final fica no tamanho de 8 caracteres do codigo do censo\n",
    "#vou tentar fazer isso para ver se da match\n",
    "df_pei['id_escola'].astype(str).str.len().unique()"
   ]
  },
  {
   "cell_type": "code",
   "execution_count": 15,
   "id": "567167e5",
   "metadata": {},
   "outputs": [
    {
     "data": {
      "text/plain": [
       "<bound method Series.unique of 0       6\n",
       "1       6\n",
       "2       6\n",
       "3       6\n",
       "4       6\n",
       "       ..\n",
       "2326    6\n",
       "2327    6\n",
       "2328    6\n",
       "2329    6\n",
       "2330    6\n",
       "Name: id_escola_treated, Length: 2331, dtype: int64>"
      ]
     },
     "execution_count": 15,
     "metadata": {},
     "output_type": "execute_result"
    }
   ],
   "source": [
    "#primeiro vamos dar um zfill para todos ficarem com 6 caracteres. Depois adicionamos o 35 do estado de SP\n",
    "df_pei['id_escola_treated'] = df_pei['id_escola'].astype(str).str.zfill(6)\n",
    "df_pei['id_escola_treated'].str.len().unique"
   ]
  },
  {
   "cell_type": "code",
   "execution_count": 16,
   "id": "540ad5a8",
   "metadata": {},
   "outputs": [
    {
     "data": {
      "text/plain": [
       "array([8])"
      ]
     },
     "execution_count": 16,
     "metadata": {},
     "output_type": "execute_result"
    }
   ],
   "source": [
    "df_pei['id_escola_treated'] = '35'  + df_pei['id_escola_treated']\n",
    "df_pei['id_escola_treated'].str.len().unique()"
   ]
  },
  {
   "cell_type": "code",
   "execution_count": 17,
   "id": "bfda4726",
   "metadata": {},
   "outputs": [
    {
     "data": {
      "text/plain": [
       "set()"
      ]
     },
     "execution_count": 17,
     "metadata": {},
     "output_type": "execute_result"
    }
   ],
   "source": [
    "# Uhul bateu!\n",
    "set(df_pei['id_escola_treated'].unique()) - set(df_censo['codigo_escola'].unique())"
   ]
  },
  {
   "cell_type": "code",
   "execution_count": 18,
   "id": "282d53a3",
   "metadata": {},
   "outputs": [
    {
     "data": {
      "text/plain": [
       "_merge\n",
       "left_only     45904\n",
       "both          30024\n",
       "right_only        0\n",
       "Name: count, dtype: int64"
      ]
     },
     "execution_count": 18,
     "metadata": {},
     "output_type": "execute_result"
    }
   ],
   "source": [
    "df = pd.merge(df_censo, df_pei, left_on='codigo_escola', right_on='id_escola_treated', how='left', indicator=True)\n",
    "df['_merge'].value_counts()"
   ]
  },
  {
   "cell_type": "code",
   "execution_count": 19,
   "id": "e6e942d8",
   "metadata": {},
   "outputs": [],
   "source": [
    "del df_pei\n",
    "del df_censo"
   ]
  },
  {
   "cell_type": "code",
   "execution_count": 20,
   "id": "1085af7a",
   "metadata": {},
   "outputs": [
    {
     "data": {
      "text/html": [
       "<div>\n",
       "<style scoped>\n",
       "    .dataframe tbody tr th:only-of-type {\n",
       "        vertical-align: middle;\n",
       "    }\n",
       "\n",
       "    .dataframe tbody tr th {\n",
       "        vertical-align: top;\n",
       "    }\n",
       "\n",
       "    .dataframe thead th {\n",
       "        text-align: right;\n",
       "    }\n",
       "</style>\n",
       "<table border=\"1\" class=\"dataframe\">\n",
       "  <thead>\n",
       "    <tr style=\"text-align: right;\">\n",
       "      <th></th>\n",
       "      <th>ano_censo</th>\n",
       "      <th>sigla_uf</th>\n",
       "      <th>nome_municipio_x</th>\n",
       "      <th>codigo_municipio</th>\n",
       "      <th>codigo_escola</th>\n",
       "      <th>nome_escola_x</th>\n",
       "      <th>qtd_turmas_ed_basica</th>\n",
       "      <th>qtd_matr_ed_basica</th>\n",
       "      <th>qtd_matr_ed_basica_nao_declarada</th>\n",
       "      <th>qtd_matr_ed_basica_branca</th>\n",
       "      <th>...</th>\n",
       "      <th>qtd_matriculas_fundamental_anos_iniciais_integral</th>\n",
       "      <th>qtd_matriculas_fundamental_anos_finais_integral</th>\n",
       "      <th>qtd_matriculas_medio_integral</th>\n",
       "      <th>nome_escola_y</th>\n",
       "      <th>nome_dre</th>\n",
       "      <th>nome_municipio_y</th>\n",
       "      <th>coordenadas</th>\n",
       "      <th>id_escola</th>\n",
       "      <th>id_escola_treated</th>\n",
       "      <th>_merge</th>\n",
       "    </tr>\n",
       "  </thead>\n",
       "  <tbody>\n",
       "    <tr>\n",
       "      <th>0</th>\n",
       "      <td>2012</td>\n",
       "      <td>SP</td>\n",
       "      <td>Adamantina</td>\n",
       "      <td>3500105</td>\n",
       "      <td>35030806</td>\n",
       "      <td>HELEN KELLER</td>\n",
       "      <td>22.0</td>\n",
       "      <td>654.0</td>\n",
       "      <td>87.0</td>\n",
       "      <td>355.0</td>\n",
       "      <td>...</td>\n",
       "      <td>0.0</td>\n",
       "      <td>0.0</td>\n",
       "      <td>0.0</td>\n",
       "      <td>helen keller</td>\n",
       "      <td>adamantina</td>\n",
       "      <td>adamantina</td>\n",
       "      <td>['-21.693', '-51.0689']</td>\n",
       "      <td>30806.0</td>\n",
       "      <td>35030806</td>\n",
       "      <td>both</td>\n",
       "    </tr>\n",
       "    <tr>\n",
       "      <th>1</th>\n",
       "      <td>2012</td>\n",
       "      <td>SP</td>\n",
       "      <td>Adamantina</td>\n",
       "      <td>3500105</td>\n",
       "      <td>35031045</td>\n",
       "      <td>DURVALINO GRION PROF</td>\n",
       "      <td>24.0</td>\n",
       "      <td>827.0</td>\n",
       "      <td>146.0</td>\n",
       "      <td>439.0</td>\n",
       "      <td>...</td>\n",
       "      <td>0.0</td>\n",
       "      <td>0.0</td>\n",
       "      <td>0.0</td>\n",
       "      <td>durvalino grion prof</td>\n",
       "      <td>adamantina</td>\n",
       "      <td>adamantina</td>\n",
       "      <td>['-21.6786', '-51.0769']</td>\n",
       "      <td>31045.0</td>\n",
       "      <td>35031045</td>\n",
       "      <td>both</td>\n",
       "    </tr>\n",
       "    <tr>\n",
       "      <th>2</th>\n",
       "      <td>2012</td>\n",
       "      <td>SP</td>\n",
       "      <td>Adamantina</td>\n",
       "      <td>3500105</td>\n",
       "      <td>35031082</td>\n",
       "      <td>EUDECIO LUIZ VICENTE PROF ETE</td>\n",
       "      <td>26.0</td>\n",
       "      <td>883.0</td>\n",
       "      <td>163.0</td>\n",
       "      <td>563.0</td>\n",
       "      <td>...</td>\n",
       "      <td>0.0</td>\n",
       "      <td>0.0</td>\n",
       "      <td>0.0</td>\n",
       "      <td>NaN</td>\n",
       "      <td>NaN</td>\n",
       "      <td>NaN</td>\n",
       "      <td>NaN</td>\n",
       "      <td>NaN</td>\n",
       "      <td>NaN</td>\n",
       "      <td>left_only</td>\n",
       "    </tr>\n",
       "    <tr>\n",
       "      <th>3</th>\n",
       "      <td>2012</td>\n",
       "      <td>SP</td>\n",
       "      <td>Adamantina</td>\n",
       "      <td>3500105</td>\n",
       "      <td>35031100</td>\n",
       "      <td>HERVAL BELLUSCI ENGENHEIRO ETE</td>\n",
       "      <td>12.0</td>\n",
       "      <td>275.0</td>\n",
       "      <td>68.0</td>\n",
       "      <td>140.0</td>\n",
       "      <td>...</td>\n",
       "      <td>0.0</td>\n",
       "      <td>0.0</td>\n",
       "      <td>68.0</td>\n",
       "      <td>NaN</td>\n",
       "      <td>NaN</td>\n",
       "      <td>NaN</td>\n",
       "      <td>NaN</td>\n",
       "      <td>NaN</td>\n",
       "      <td>NaN</td>\n",
       "      <td>left_only</td>\n",
       "    </tr>\n",
       "    <tr>\n",
       "      <th>4</th>\n",
       "      <td>2012</td>\n",
       "      <td>SP</td>\n",
       "      <td>Adamantina</td>\n",
       "      <td>3500105</td>\n",
       "      <td>35031112</td>\n",
       "      <td>FLEURIDES CAVALLINI MENECHINO PROFA</td>\n",
       "      <td>34.0</td>\n",
       "      <td>1041.0</td>\n",
       "      <td>84.0</td>\n",
       "      <td>758.0</td>\n",
       "      <td>...</td>\n",
       "      <td>0.0</td>\n",
       "      <td>0.0</td>\n",
       "      <td>0.0</td>\n",
       "      <td>fleurides cavallini menechino profa</td>\n",
       "      <td>adamantina</td>\n",
       "      <td>adamantina</td>\n",
       "      <td>['-21.6928', '-51.0703']</td>\n",
       "      <td>31112.0</td>\n",
       "      <td>35031112</td>\n",
       "      <td>both</td>\n",
       "    </tr>\n",
       "  </tbody>\n",
       "</table>\n",
       "<p>5 rows × 28 columns</p>\n",
       "</div>"
      ],
      "text/plain": [
       "   ano_censo sigla_uf nome_municipio_x  codigo_municipio codigo_escola  \\\n",
       "0       2012       SP       Adamantina           3500105      35030806   \n",
       "1       2012       SP       Adamantina           3500105      35031045   \n",
       "2       2012       SP       Adamantina           3500105      35031082   \n",
       "3       2012       SP       Adamantina           3500105      35031100   \n",
       "4       2012       SP       Adamantina           3500105      35031112   \n",
       "\n",
       "                         nome_escola_x  qtd_turmas_ed_basica  \\\n",
       "0                         HELEN KELLER                  22.0   \n",
       "1                 DURVALINO GRION PROF                  24.0   \n",
       "2        EUDECIO LUIZ VICENTE PROF ETE                  26.0   \n",
       "3       HERVAL BELLUSCI ENGENHEIRO ETE                  12.0   \n",
       "4  FLEURIDES CAVALLINI MENECHINO PROFA                  34.0   \n",
       "\n",
       "   qtd_matr_ed_basica  qtd_matr_ed_basica_nao_declarada  \\\n",
       "0               654.0                              87.0   \n",
       "1               827.0                             146.0   \n",
       "2               883.0                             163.0   \n",
       "3               275.0                              68.0   \n",
       "4              1041.0                              84.0   \n",
       "\n",
       "   qtd_matr_ed_basica_branca  ...  \\\n",
       "0                      355.0  ...   \n",
       "1                      439.0  ...   \n",
       "2                      563.0  ...   \n",
       "3                      140.0  ...   \n",
       "4                      758.0  ...   \n",
       "\n",
       "   qtd_matriculas_fundamental_anos_iniciais_integral  \\\n",
       "0                                                0.0   \n",
       "1                                                0.0   \n",
       "2                                                0.0   \n",
       "3                                                0.0   \n",
       "4                                                0.0   \n",
       "\n",
       "   qtd_matriculas_fundamental_anos_finais_integral  \\\n",
       "0                                              0.0   \n",
       "1                                              0.0   \n",
       "2                                              0.0   \n",
       "3                                              0.0   \n",
       "4                                              0.0   \n",
       "\n",
       "   qtd_matriculas_medio_integral                        nome_escola_y  \\\n",
       "0                            0.0                         helen keller   \n",
       "1                            0.0                 durvalino grion prof   \n",
       "2                            0.0                                  NaN   \n",
       "3                           68.0                                  NaN   \n",
       "4                            0.0  fleurides cavallini menechino profa   \n",
       "\n",
       "     nome_dre  nome_municipio_y               coordenadas  id_escola  \\\n",
       "0  adamantina        adamantina   ['-21.693', '-51.0689']    30806.0   \n",
       "1  adamantina        adamantina  ['-21.6786', '-51.0769']    31045.0   \n",
       "2         NaN               NaN                       NaN        NaN   \n",
       "3         NaN               NaN                       NaN        NaN   \n",
       "4  adamantina        adamantina  ['-21.6928', '-51.0703']    31112.0   \n",
       "\n",
       "   id_escola_treated     _merge  \n",
       "0           35030806       both  \n",
       "1           35031045       both  \n",
       "2                NaN  left_only  \n",
       "3                NaN  left_only  \n",
       "4           35031112       both  \n",
       "\n",
       "[5 rows x 28 columns]"
      ]
     },
     "execution_count": 20,
     "metadata": {},
     "output_type": "execute_result"
    }
   ],
   "source": [
    "df.head()"
   ]
  },
  {
   "cell_type": "markdown",
   "id": "7e865114",
   "metadata": {},
   "source": [
    "#### Testes de consistência do join\n",
    "\n",
    "Agora vamos testar se o join deu certo comparando os nomes dos municipios e das escolas.\n",
    "\n",
    "#### Nomes municipios"
   ]
  },
  {
   "cell_type": "code",
   "execution_count": 21,
   "id": "5f6fb18f",
   "metadata": {},
   "outputs": [
    {
     "data": {
      "text/plain": [
       "nome_municipio_bate\n",
       "False    0.791987\n",
       "True     0.208013\n",
       "Name: proportion, dtype: float64"
      ]
     },
     "execution_count": 21,
     "metadata": {},
     "output_type": "execute_result"
    }
   ],
   "source": [
    "df['nome_municipio_bate'] = (df['nome_municipio_x'].str.lower() == df['nome_municipio_y'].str.lower())\n",
    "df['nome_municipio_bate'].value_counts(normalize=True)"
   ]
  },
  {
   "cell_type": "code",
   "execution_count": 22,
   "id": "e4fa4abf",
   "metadata": {},
   "outputs": [
    {
     "data": {
      "text/html": [
       "<div>\n",
       "<style scoped>\n",
       "    .dataframe tbody tr th:only-of-type {\n",
       "        vertical-align: middle;\n",
       "    }\n",
       "\n",
       "    .dataframe tbody tr th {\n",
       "        vertical-align: top;\n",
       "    }\n",
       "\n",
       "    .dataframe thead th {\n",
       "        text-align: right;\n",
       "    }\n",
       "</style>\n",
       "<table border=\"1\" class=\"dataframe\">\n",
       "  <thead>\n",
       "    <tr style=\"text-align: right;\">\n",
       "      <th></th>\n",
       "      <th>nome_municipio_x</th>\n",
       "      <th>nome_municipio_y</th>\n",
       "    </tr>\n",
       "  </thead>\n",
       "  <tbody>\n",
       "    <tr>\n",
       "      <th>13510</th>\n",
       "      <td>Indiana</td>\n",
       "      <td>NaN</td>\n",
       "    </tr>\n",
       "    <tr>\n",
       "      <th>24485</th>\n",
       "      <td>Cotia</td>\n",
       "      <td>NaN</td>\n",
       "    </tr>\n",
       "    <tr>\n",
       "      <th>64973</th>\n",
       "      <td>São Paulo</td>\n",
       "      <td>NaN</td>\n",
       "    </tr>\n",
       "    <tr>\n",
       "      <th>7441</th>\n",
       "      <td>Guarulhos</td>\n",
       "      <td>NaN</td>\n",
       "    </tr>\n",
       "    <tr>\n",
       "      <th>27498</th>\n",
       "      <td>São José do Rio Preto</td>\n",
       "      <td>sao jose do rio preto</td>\n",
       "    </tr>\n",
       "    <tr>\n",
       "      <th>16497</th>\n",
       "      <td>São Paulo</td>\n",
       "      <td>sao paulo</td>\n",
       "    </tr>\n",
       "    <tr>\n",
       "      <th>8610</th>\n",
       "      <td>Nova Odessa</td>\n",
       "      <td>NaN</td>\n",
       "    </tr>\n",
       "    <tr>\n",
       "      <th>11845</th>\n",
       "      <td>Araraquara</td>\n",
       "      <td>NaN</td>\n",
       "    </tr>\n",
       "    <tr>\n",
       "      <th>18739</th>\n",
       "      <td>Elias Fausto</td>\n",
       "      <td>NaN</td>\n",
       "    </tr>\n",
       "    <tr>\n",
       "      <th>65305</th>\n",
       "      <td>São Bernardo do Campo</td>\n",
       "      <td>sao bernardo do campo</td>\n",
       "    </tr>\n",
       "  </tbody>\n",
       "</table>\n",
       "</div>"
      ],
      "text/plain": [
       "            nome_municipio_x       nome_municipio_y\n",
       "13510                Indiana                    NaN\n",
       "24485                  Cotia                    NaN\n",
       "64973              São Paulo                    NaN\n",
       "7441               Guarulhos                    NaN\n",
       "27498  São José do Rio Preto  sao jose do rio preto\n",
       "16497              São Paulo              sao paulo\n",
       "8610             Nova Odessa                    NaN\n",
       "11845             Araraquara                    NaN\n",
       "18739           Elias Fausto                    NaN\n",
       "65305  São Bernardo do Campo  sao bernardo do campo"
      ]
     },
     "execution_count": 22,
     "metadata": {},
     "output_type": "execute_result"
    }
   ],
   "source": [
    "df[~df['nome_municipio_bate']][['nome_municipio_x', 'nome_municipio_y']].sample(10)"
   ]
  },
  {
   "cell_type": "code",
   "execution_count": 23,
   "id": "ce5289a9",
   "metadata": {},
   "outputs": [],
   "source": [
    "import unicodedata\n",
    "\n",
    "def remover_acentos(texto: str) -> str:\n",
    "    return ''.join(\n",
    "        c for c in unicodedata.normalize('NFKD', texto)\n",
    "        if not unicodedata.combining(c)\n",
    "    )\n"
   ]
  },
  {
   "cell_type": "code",
   "execution_count": 24,
   "id": "d24647b3",
   "metadata": {},
   "outputs": [],
   "source": [
    "df['nome_municipio_x'] = df['nome_municipio_x'].apply(lambda x: x if not pd.isnull(x) else '').str.lower().str.strip().apply(remover_acentos)\n",
    "df['nome_municipio_y'] = df['nome_municipio_y'].apply(lambda x: x if not pd.isnull(x) else '').str.lower().str.strip().apply(remover_acentos)"
   ]
  },
  {
   "cell_type": "code",
   "execution_count": 25,
   "id": "fcafbef7",
   "metadata": {},
   "outputs": [
    {
     "data": {
      "text/plain": [
       "nome_municipio_bate2\n",
       "False    0.604599\n",
       "True     0.395401\n",
       "Name: proportion, dtype: float64"
      ]
     },
     "execution_count": 25,
     "metadata": {},
     "output_type": "execute_result"
    }
   ],
   "source": [
    "df['nome_municipio_bate2'] = (df['nome_municipio_x'].str.lower() == df['nome_municipio_y'].str.lower())\n",
    "df['nome_municipio_bate2'].value_counts(normalize=True)"
   ]
  },
  {
   "cell_type": "code",
   "execution_count": 26,
   "id": "491d5a39",
   "metadata": {},
   "outputs": [
    {
     "data": {
      "text/html": [
       "<div>\n",
       "<style scoped>\n",
       "    .dataframe tbody tr th:only-of-type {\n",
       "        vertical-align: middle;\n",
       "    }\n",
       "\n",
       "    .dataframe tbody tr th {\n",
       "        vertical-align: top;\n",
       "    }\n",
       "\n",
       "    .dataframe thead th {\n",
       "        text-align: right;\n",
       "    }\n",
       "</style>\n",
       "<table border=\"1\" class=\"dataframe\">\n",
       "  <thead>\n",
       "    <tr style=\"text-align: right;\">\n",
       "      <th></th>\n",
       "      <th>nome_municipio_x</th>\n",
       "      <th>nome_municipio_y</th>\n",
       "    </tr>\n",
       "  </thead>\n",
       "  <tbody>\n",
       "    <tr>\n",
       "      <th>37855</th>\n",
       "      <td>maua</td>\n",
       "      <td></td>\n",
       "    </tr>\n",
       "    <tr>\n",
       "      <th>65767</th>\n",
       "      <td>salto</td>\n",
       "      <td></td>\n",
       "    </tr>\n",
       "    <tr>\n",
       "      <th>3457</th>\n",
       "      <td>ribeirao preto</td>\n",
       "      <td></td>\n",
       "    </tr>\n",
       "    <tr>\n",
       "      <th>45313</th>\n",
       "      <td>sao paulo</td>\n",
       "      <td></td>\n",
       "    </tr>\n",
       "    <tr>\n",
       "      <th>27786</th>\n",
       "      <td>sao paulo</td>\n",
       "      <td></td>\n",
       "    </tr>\n",
       "    <tr>\n",
       "      <th>33484</th>\n",
       "      <td>sao jose dos campos</td>\n",
       "      <td></td>\n",
       "    </tr>\n",
       "    <tr>\n",
       "      <th>45887</th>\n",
       "      <td>sao paulo</td>\n",
       "      <td></td>\n",
       "    </tr>\n",
       "    <tr>\n",
       "      <th>72118</th>\n",
       "      <td>itapetininga</td>\n",
       "      <td></td>\n",
       "    </tr>\n",
       "    <tr>\n",
       "      <th>72898</th>\n",
       "      <td>mombuca</td>\n",
       "      <td></td>\n",
       "    </tr>\n",
       "    <tr>\n",
       "      <th>20126</th>\n",
       "      <td>maua</td>\n",
       "      <td></td>\n",
       "    </tr>\n",
       "  </tbody>\n",
       "</table>\n",
       "</div>"
      ],
      "text/plain": [
       "          nome_municipio_x nome_municipio_y\n",
       "37855                 maua                 \n",
       "65767                salto                 \n",
       "3457        ribeirao preto                 \n",
       "45313            sao paulo                 \n",
       "27786            sao paulo                 \n",
       "33484  sao jose dos campos                 \n",
       "45887            sao paulo                 \n",
       "72118         itapetininga                 \n",
       "72898              mombuca                 \n",
       "20126                 maua                 "
      ]
     },
     "execution_count": 26,
     "metadata": {},
     "output_type": "execute_result"
    }
   ],
   "source": [
    "df[~df['nome_municipio_bate2']][['nome_municipio_x', 'nome_municipio_y']].sample(10)"
   ]
  },
  {
   "cell_type": "code",
   "execution_count": 27,
   "id": "a9166f1e",
   "metadata": {},
   "outputs": [
    {
     "data": {
      "text/plain": [
       "nome_municipio_y\n",
       "True     45904\n",
       "False        2\n",
       "Name: count, dtype: int64"
      ]
     },
     "execution_count": 27,
     "metadata": {},
     "output_type": "execute_result"
    }
   ],
   "source": [
    "(df[~df['nome_municipio_bate2']]['nome_municipio_y']=='').value_counts()"
   ]
  },
  {
   "cell_type": "code",
   "execution_count": 28,
   "id": "326e391f",
   "metadata": {},
   "outputs": [
    {
     "data": {
      "text/plain": [
       "nome_municipio_y\n",
       "            45904\n",
       "bertioga        2\n",
       "Name: count, dtype: int64"
      ]
     },
     "execution_count": 28,
     "metadata": {},
     "output_type": "execute_result"
    }
   ],
   "source": [
    "df_mun_nao_bate = df[~df['nome_municipio_bate2']].copy()\n",
    "df_mun_nao_bate['nome_municipio_y'].value_counts()\n"
   ]
  },
  {
   "cell_type": "code",
   "execution_count": 29,
   "id": "35094eee",
   "metadata": {},
   "outputs": [
    {
     "data": {
      "text/html": [
       "<div>\n",
       "<style scoped>\n",
       "    .dataframe tbody tr th:only-of-type {\n",
       "        vertical-align: middle;\n",
       "    }\n",
       "\n",
       "    .dataframe tbody tr th {\n",
       "        vertical-align: top;\n",
       "    }\n",
       "\n",
       "    .dataframe thead th {\n",
       "        text-align: right;\n",
       "    }\n",
       "</style>\n",
       "<table border=\"1\" class=\"dataframe\">\n",
       "  <thead>\n",
       "    <tr style=\"text-align: right;\">\n",
       "      <th></th>\n",
       "      <th>nome_municipio_x</th>\n",
       "      <th>nome_municipio_y</th>\n",
       "    </tr>\n",
       "  </thead>\n",
       "  <tbody>\n",
       "    <tr>\n",
       "      <th>63957</th>\n",
       "      <td>sao sebastiao</td>\n",
       "      <td>bertioga</td>\n",
       "    </tr>\n",
       "    <tr>\n",
       "      <th>68256</th>\n",
       "      <td>sao sebastiao</td>\n",
       "      <td>bertioga</td>\n",
       "    </tr>\n",
       "  </tbody>\n",
       "</table>\n",
       "</div>"
      ],
      "text/plain": [
       "      nome_municipio_x nome_municipio_y\n",
       "63957    sao sebastiao         bertioga\n",
       "68256    sao sebastiao         bertioga"
      ]
     },
     "execution_count": 29,
     "metadata": {},
     "output_type": "execute_result"
    }
   ],
   "source": [
    "df_mun_nao_bate[df_mun_nao_bate['nome_municipio_y'] != ''][['nome_municipio_x', 'nome_municipio_y']]"
   ]
  },
  {
   "cell_type": "code",
   "execution_count": 30,
   "id": "37dbb63d",
   "metadata": {},
   "outputs": [],
   "source": [
    "#vamos ficar com a coluna do censo escolar que é mais completa\n",
    "df.drop(columns=['nome_municipio_bate', 'nome_municipio_bate2', 'nome_municipio_y'], inplace=True)\n",
    "df.rename(columns={'nome_municipio_x': 'nome_municipio'}, inplace=True)"
   ]
  },
  {
   "cell_type": "code",
   "execution_count": 31,
   "id": "2d85654f",
   "metadata": {},
   "outputs": [
    {
     "data": {
      "text/plain": [
       "np.False_"
      ]
     },
     "execution_count": 31,
     "metadata": {},
     "output_type": "execute_result"
    }
   ],
   "source": [
    "df['nome_municipio'].isnull().any()"
   ]
  },
  {
   "cell_type": "markdown",
   "id": "66d68690",
   "metadata": {},
   "source": [
    "#### Conclusão:\n",
    "\n",
    "Verificamos que todos os municipios batem, com exceção daqueles que estão com o nome do municipio vazio na base do PEI e de apenas 2 que estão registrados como são sebastião na base do Censo Escolar mas que no PEI entraram como Bertiogo -- que sao municipios vizinhos. Pode ser efeito de uma mudança de limites entre os municipios ao longo dos anos ou um erro simples de cadastro."
   ]
  },
  {
   "cell_type": "markdown",
   "id": "7e4e50f6",
   "metadata": {},
   "source": [
    "#### Nomes das escolas"
   ]
  },
  {
   "cell_type": "code",
   "execution_count": 32,
   "id": "98a38fe9",
   "metadata": {},
   "outputs": [
    {
     "data": {
      "text/plain": [
       "False    1.0\n",
       "Name: proportion, dtype: float64"
      ]
     },
     "execution_count": 32,
     "metadata": {},
     "output_type": "execute_result"
    }
   ],
   "source": [
    "(df['nome_escola_x'] == df['nome_escola_y']).value_counts(normalize=True)"
   ]
  },
  {
   "cell_type": "code",
   "execution_count": 33,
   "id": "cc72a1fc",
   "metadata": {},
   "outputs": [
    {
     "data": {
      "text/plain": [
       "34451    JOSE CAVALCANTI SILVA DESEMBARGADOR\n",
       "8870              JOSE WADIE MILAD PROFESSOR\n",
       "19282               PASCHOAL THOMEU DEPUTADO\n",
       "Name: nome_escola_x, dtype: object"
      ]
     },
     "execution_count": 33,
     "metadata": {},
     "output_type": "execute_result"
    }
   ],
   "source": [
    "df['nome_escola_x'].sample(3)"
   ]
  },
  {
   "cell_type": "code",
   "execution_count": 34,
   "id": "bd8940e9",
   "metadata": {},
   "outputs": [
    {
     "data": {
      "text/plain": [
       "27438    NaN\n",
       "46273    NaN\n",
       "62092    NaN\n",
       "Name: nome_escola_y, dtype: object"
      ]
     },
     "execution_count": 34,
     "metadata": {},
     "output_type": "execute_result"
    }
   ],
   "source": [
    "df['nome_escola_y'].sample(3)"
   ]
  },
  {
   "cell_type": "code",
   "execution_count": 35,
   "id": "3f67b5ce",
   "metadata": {},
   "outputs": [],
   "source": [
    "df['nome_escola_y'] = df['nome_escola_y'].apply(lambda x: x if not pd.isnull(x) else '').str.lower().str.strip().apply(remover_acentos)\n",
    "df['nome_escola_x'] = df['nome_escola_x'].apply(lambda x: x if not pd.isnull(x) else '').str.lower().str.strip().apply(remover_acentos)"
   ]
  },
  {
   "cell_type": "code",
   "execution_count": 36,
   "id": "3bbce5e8",
   "metadata": {},
   "outputs": [
    {
     "data": {
      "text/plain": [
       "nome_escola_bate\n",
       "False    0.611988\n",
       "True     0.388012\n",
       "Name: proportion, dtype: float64"
      ]
     },
     "execution_count": 36,
     "metadata": {},
     "output_type": "execute_result"
    }
   ],
   "source": [
    "df['nome_escola_bate'] = (df['nome_escola_x'] == df['nome_escola_y'])\n",
    "df['nome_escola_bate'].value_counts(normalize=True)"
   ]
  },
  {
   "cell_type": "code",
   "execution_count": 37,
   "id": "e3f179f7",
   "metadata": {},
   "outputs": [
    {
     "data": {
      "text/html": [
       "<div>\n",
       "<style scoped>\n",
       "    .dataframe tbody tr th:only-of-type {\n",
       "        vertical-align: middle;\n",
       "    }\n",
       "\n",
       "    .dataframe tbody tr th {\n",
       "        vertical-align: top;\n",
       "    }\n",
       "\n",
       "    .dataframe thead th {\n",
       "        text-align: right;\n",
       "    }\n",
       "</style>\n",
       "<table border=\"1\" class=\"dataframe\">\n",
       "  <thead>\n",
       "    <tr style=\"text-align: right;\">\n",
       "      <th></th>\n",
       "      <th>nome_escola_x</th>\n",
       "      <th>nome_escola_y</th>\n",
       "    </tr>\n",
       "  </thead>\n",
       "  <tbody>\n",
       "    <tr>\n",
       "      <th>15856</th>\n",
       "      <td>paulo setubal</td>\n",
       "      <td></td>\n",
       "    </tr>\n",
       "    <tr>\n",
       "      <th>14288</th>\n",
       "      <td>matheus leite de abreu prof etec</td>\n",
       "      <td></td>\n",
       "    </tr>\n",
       "    <tr>\n",
       "      <th>8697</th>\n",
       "      <td>jose edson martins gomes professor</td>\n",
       "      <td></td>\n",
       "    </tr>\n",
       "    <tr>\n",
       "      <th>3739</th>\n",
       "      <td>francisca helena furia professora</td>\n",
       "      <td></td>\n",
       "    </tr>\n",
       "    <tr>\n",
       "      <th>56605</th>\n",
       "      <td>visconde de taunay</td>\n",
       "      <td></td>\n",
       "    </tr>\n",
       "    <tr>\n",
       "      <th>53541</th>\n",
       "      <td>anibal de freitas professor</td>\n",
       "      <td></td>\n",
       "    </tr>\n",
       "    <tr>\n",
       "      <th>46040</th>\n",
       "      <td>cicero canuto de lima pastor</td>\n",
       "      <td></td>\n",
       "    </tr>\n",
       "    <tr>\n",
       "      <th>56797</th>\n",
       "      <td>gabriel felix do amaral professor</td>\n",
       "      <td></td>\n",
       "    </tr>\n",
       "    <tr>\n",
       "      <th>46053</th>\n",
       "      <td>thayane luzimara costa valcacer professora</td>\n",
       "      <td></td>\n",
       "    </tr>\n",
       "    <tr>\n",
       "      <th>34075</th>\n",
       "      <td>miguel oliva feitosa professor</td>\n",
       "      <td></td>\n",
       "    </tr>\n",
       "  </tbody>\n",
       "</table>\n",
       "</div>"
      ],
      "text/plain": [
       "                                    nome_escola_x nome_escola_y\n",
       "15856                               paulo setubal              \n",
       "14288            matheus leite de abreu prof etec              \n",
       "8697           jose edson martins gomes professor              \n",
       "3739            francisca helena furia professora              \n",
       "56605                          visconde de taunay              \n",
       "53541                 anibal de freitas professor              \n",
       "46040                cicero canuto de lima pastor              \n",
       "56797           gabriel felix do amaral professor              \n",
       "46053  thayane luzimara costa valcacer professora              \n",
       "34075              miguel oliva feitosa professor              "
      ]
     },
     "execution_count": 37,
     "metadata": {},
     "output_type": "execute_result"
    }
   ],
   "source": [
    "df_nome_escola_nao_bate = df[~df['nome_escola_bate']].copy()\n",
    "df_nome_escola_nao_bate[['nome_escola_x', 'nome_escola_y']].sample(10)"
   ]
  },
  {
   "cell_type": "code",
   "execution_count": 38,
   "id": "e32b9cf4",
   "metadata": {},
   "outputs": [
    {
     "data": {
      "text/plain": [
       "escola_y_vazia\n",
       "True     0.987884\n",
       "False    0.012116\n",
       "Name: proportion, dtype: float64"
      ]
     },
     "execution_count": 38,
     "metadata": {},
     "output_type": "execute_result"
    }
   ],
   "source": [
    "df_nome_escola_nao_bate['escola_y_vazia'] = df_nome_escola_nao_bate['nome_escola_y']==''\n",
    "df_nome_escola_nao_bate['escola_y_vazia'].value_counts(normalize=True)"
   ]
  },
  {
   "cell_type": "code",
   "execution_count": 39,
   "id": "336b85e3",
   "metadata": {},
   "outputs": [
    {
     "data": {
      "text/html": [
       "<div>\n",
       "<style scoped>\n",
       "    .dataframe tbody tr th:only-of-type {\n",
       "        vertical-align: middle;\n",
       "    }\n",
       "\n",
       "    .dataframe tbody tr th {\n",
       "        vertical-align: top;\n",
       "    }\n",
       "\n",
       "    .dataframe thead th {\n",
       "        text-align: right;\n",
       "    }\n",
       "</style>\n",
       "<table border=\"1\" class=\"dataframe\">\n",
       "  <thead>\n",
       "    <tr style=\"text-align: right;\">\n",
       "      <th></th>\n",
       "      <th>nome_escola_x</th>\n",
       "      <th>nome_escola_y</th>\n",
       "    </tr>\n",
       "  </thead>\n",
       "  <tbody>\n",
       "    <tr>\n",
       "      <th>35763</th>\n",
       "      <td>txeru ba e kua - i</td>\n",
       "      <td>txeru ba  e kua  i</td>\n",
       "    </tr>\n",
       "    <tr>\n",
       "      <th>21398</th>\n",
       "      <td>escola estadual jardim dos cisnes</td>\n",
       "      <td>professor jose maria priante</td>\n",
       "    </tr>\n",
       "    <tr>\n",
       "      <th>12899</th>\n",
       "      <td>bairro dos penteados</td>\n",
       "      <td>levi pereira martins professor</td>\n",
       "    </tr>\n",
       "    <tr>\n",
       "      <th>49057</th>\n",
       "      <td>jardim santa rita ii</td>\n",
       "      <td>prof maria da conceicao sanches do nascimento</td>\n",
       "    </tr>\n",
       "    <tr>\n",
       "      <th>42210</th>\n",
       "      <td>paulo virginio</td>\n",
       "      <td>paulo virginio cunha</td>\n",
       "    </tr>\n",
       "    <tr>\n",
       "      <th>53349</th>\n",
       "      <td>txeru ba e kua i</td>\n",
       "      <td>txeru ba  e kua  i</td>\n",
       "    </tr>\n",
       "    <tr>\n",
       "      <th>44236</th>\n",
       "      <td>escola estadual professor elias de mello ayres</td>\n",
       "      <td>elias de mello ayres professor</td>\n",
       "    </tr>\n",
       "    <tr>\n",
       "      <th>23075</th>\n",
       "      <td>bairro do eden</td>\n",
       "      <td>elzide celestina souza pacheco tunuchi profa</td>\n",
       "    </tr>\n",
       "    <tr>\n",
       "      <th>9136</th>\n",
       "      <td>jardim bela vista</td>\n",
       "      <td>moacyr miranda pinto professor doutor</td>\n",
       "    </tr>\n",
       "    <tr>\n",
       "      <th>53632</th>\n",
       "      <td>jardim santa clara</td>\n",
       "      <td>benito juarez de souza</td>\n",
       "    </tr>\n",
       "    <tr>\n",
       "      <th>34903</th>\n",
       "      <td>professora maria ondina andrade</td>\n",
       "      <td>maria ondina andrade prof?</td>\n",
       "    </tr>\n",
       "    <tr>\n",
       "      <th>16678</th>\n",
       "      <td>jardim nossa senhora aparecida ii</td>\n",
       "      <td>cynira stocco fausto professora</td>\n",
       "    </tr>\n",
       "    <tr>\n",
       "      <th>32876</th>\n",
       "      <td>jardim paiva ii</td>\n",
       "      <td>professor paulo cesar carniel giovannetti</td>\n",
       "    </tr>\n",
       "    <tr>\n",
       "      <th>43114</th>\n",
       "      <td>agrovila i</td>\n",
       "      <td>ee idalicio mendes  lima o sr baiano da agrovi...</td>\n",
       "    </tr>\n",
       "    <tr>\n",
       "      <th>42341</th>\n",
       "      <td>chb embu n ii</td>\n",
       "      <td>joao luiz de oliveira professor</td>\n",
       "    </tr>\n",
       "    <tr>\n",
       "      <th>29917</th>\n",
       "      <td>jose pedretti netto prof</td>\n",
       "      <td>jose pedretti neto prof</td>\n",
       "    </tr>\n",
       "    <tr>\n",
       "      <th>11112</th>\n",
       "      <td>raul cortez - raul cristiano machado cortez</td>\n",
       "      <td>raul cortez  raul cristiano machado cortez</td>\n",
       "    </tr>\n",
       "    <tr>\n",
       "      <th>28743</th>\n",
       "      <td>cohab inacio monteiro iii</td>\n",
       "      <td>paulo rolim rosa prof</td>\n",
       "    </tr>\n",
       "    <tr>\n",
       "      <th>58063</th>\n",
       "      <td>cohab inacio monteiro iii</td>\n",
       "      <td>paulo rolim rosa prof</td>\n",
       "    </tr>\n",
       "    <tr>\n",
       "      <th>25189</th>\n",
       "      <td>residencial jardim bambi</td>\n",
       "      <td>maestro joao carlos martins</td>\n",
       "    </tr>\n",
       "  </tbody>\n",
       "</table>\n",
       "</div>"
      ],
      "text/plain": [
       "                                        nome_escola_x  \\\n",
       "35763                              txeru ba e kua - i   \n",
       "21398               escola estadual jardim dos cisnes   \n",
       "12899                            bairro dos penteados   \n",
       "49057                            jardim santa rita ii   \n",
       "42210                                  paulo virginio   \n",
       "53349                                txeru ba e kua i   \n",
       "44236  escola estadual professor elias de mello ayres   \n",
       "23075                                  bairro do eden   \n",
       "9136                                jardim bela vista   \n",
       "53632                              jardim santa clara   \n",
       "34903                 professora maria ondina andrade   \n",
       "16678               jardim nossa senhora aparecida ii   \n",
       "32876                                 jardim paiva ii   \n",
       "43114                                      agrovila i   \n",
       "42341                                   chb embu n ii   \n",
       "29917                        jose pedretti netto prof   \n",
       "11112     raul cortez - raul cristiano machado cortez   \n",
       "28743                       cohab inacio monteiro iii   \n",
       "58063                       cohab inacio monteiro iii   \n",
       "25189                        residencial jardim bambi   \n",
       "\n",
       "                                           nome_escola_y  \n",
       "35763                                 txeru ba  e kua  i  \n",
       "21398                       professor jose maria priante  \n",
       "12899                     levi pereira martins professor  \n",
       "49057      prof maria da conceicao sanches do nascimento  \n",
       "42210                               paulo virginio cunha  \n",
       "53349                                 txeru ba  e kua  i  \n",
       "44236                     elias de mello ayres professor  \n",
       "23075       elzide celestina souza pacheco tunuchi profa  \n",
       "9136               moacyr miranda pinto professor doutor  \n",
       "53632                             benito juarez de souza  \n",
       "34903                         maria ondina andrade prof?  \n",
       "16678                    cynira stocco fausto professora  \n",
       "32876          professor paulo cesar carniel giovannetti  \n",
       "43114  ee idalicio mendes  lima o sr baiano da agrovi...  \n",
       "42341                    joao luiz de oliveira professor  \n",
       "29917                            jose pedretti neto prof  \n",
       "11112         raul cortez  raul cristiano machado cortez  \n",
       "28743                              paulo rolim rosa prof  \n",
       "58063                              paulo rolim rosa prof  \n",
       "25189                        maestro joao carlos martins  "
      ]
     },
     "execution_count": 39,
     "metadata": {},
     "output_type": "execute_result"
    }
   ],
   "source": [
    "df_nome_escola_nao_bate[df_nome_escola_nao_bate['escola_y_vazia']==False][['nome_escola_x', 'nome_escola_y']].sample(20)"
   ]
  },
  {
   "cell_type": "markdown",
   "id": "9ddb0246",
   "metadata": {},
   "source": [
    "#### Conclusão:\n",
    "\n",
    "Há algumas diferenças nos nomes das escolas que não são motivadas apenas pelo nome estar vazio na base do PEI. Como se pode ver pela amostra acima, isso ocorre por pequenas diferenças na grafia (p. ex., \"Professora Fulana\" e \"Prof. Fulana\") ou então provavelmente por que a escola mudou de nome ao longo do tempo. Note-se no entanto que é pouco mais de 1% dos casos de não-match. "
   ]
  },
  {
   "cell_type": "code",
   "execution_count": 40,
   "id": "1722c419",
   "metadata": {},
   "outputs": [
    {
     "data": {
      "text/plain": [
       "np.False_"
      ]
     },
     "execution_count": 40,
     "metadata": {},
     "output_type": "execute_result"
    }
   ],
   "source": [
    "#vamos novamente manter os dados do censo escolar que sao mais completos\n",
    "\n",
    "df.drop(columns=['nome_escola_bate', 'nome_escola_y'], inplace=True)\n",
    "df.rename(columns={'nome_escola_x': 'nome_escola'}, inplace=True)\n",
    "df['nome_escola'].isnull().any()"
   ]
  },
  {
   "cell_type": "code",
   "execution_count": 41,
   "id": "7c8bbfcb",
   "metadata": {},
   "outputs": [
    {
     "data": {
      "text/plain": [
       "Index(['ano_censo', 'sigla_uf', 'nome_municipio', 'codigo_municipio',\n",
       "       'codigo_escola', 'nome_escola', 'qtd_turmas_ed_basica',\n",
       "       'qtd_matr_ed_basica', 'qtd_matr_ed_basica_nao_declarada',\n",
       "       'qtd_matr_ed_basica_branca', 'qtd_matr_ed_basica_preta',\n",
       "       'qtd_matr_ed_basica_parda', 'qtd_matr_ed_basica_amarela',\n",
       "       'qtd_matr_ed_basica_indigena', 'qtd_matriculas_infantil_integral',\n",
       "       'qtd_matriculas_infantil_creche_integral',\n",
       "       'qtd_matriculas_infantil_pre_escolar_integral',\n",
       "       'qtd_matriculas_fundamental_integral',\n",
       "       'qtd_matriculas_fundamental_anos_iniciais_integral',\n",
       "       'qtd_matriculas_fundamental_anos_finais_integral',\n",
       "       'qtd_matriculas_medio_integral', 'nome_dre', 'coordenadas', 'id_escola',\n",
       "       'id_escola_treated', '_merge'],\n",
       "      dtype='object')"
      ]
     },
     "execution_count": 41,
     "metadata": {},
     "output_type": "execute_result"
    }
   ],
   "source": [
    "df.columns"
   ]
  },
  {
   "cell_type": "code",
   "execution_count": 42,
   "id": "22575f7b",
   "metadata": {},
   "outputs": [],
   "source": [
    "df.drop(['id_escola', 'id_escola_treated', 'nome_dre'], axis=1, inplace=True)"
   ]
  },
  {
   "cell_type": "code",
   "execution_count": 43,
   "id": "f0d5e4bb",
   "metadata": {},
   "outputs": [
    {
     "name": "stdout",
     "output_type": "stream",
     "text": [
      "Data saved to data/dados_merged.csv\n"
     ]
    }
   ],
   "source": [
    "save_csv(df, 'dados_merged.csv')"
   ]
  }
 ],
 "metadata": {
  "kernelspec": {
   "display_name": "venv",
   "language": "python",
   "name": "python3"
  },
  "language_info": {
   "codemirror_mode": {
    "name": "ipython",
    "version": 3
   },
   "file_extension": ".py",
   "mimetype": "text/x-python",
   "name": "python",
   "nbconvert_exporter": "python",
   "pygments_lexer": "ipython3",
   "version": "3.12.3"
  }
 },
 "nbformat": 4,
 "nbformat_minor": 5
}
